version https://git-lfs.github.com/spec/v1
oid sha256:af2db6d1e83ad1e2a6651e64e1f12eae2e6ea94de2ec0e90bcde696a961c18e5
size 551387
