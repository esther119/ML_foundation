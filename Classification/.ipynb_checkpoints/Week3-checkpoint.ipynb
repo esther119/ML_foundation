{
 "cells": [
  {
   "cell_type": "code",
   "execution_count": 2,
   "metadata": {
    "collapsed": true
   },
   "outputs": [],
   "source": [
    "import graphlab"
   ]
  },
  {
   "cell_type": "code",
   "execution_count": 3,
   "metadata": {
    "collapsed": false
   },
   "outputs": [
    {
     "name": "stderr",
     "output_type": "stream",
     "text": [
      "[INFO] graphlab.cython.cy_server: GraphLab Create v2.1 started. Logging: /tmp/graphlab_server_1563701129.log\n"
     ]
    },
    {
     "name": "stdout",
     "output_type": "stream",
     "text": [
      "This non-commercial license of GraphLab Create for academic use is assigned to yung-hsuan@minerva.kgi.edu and will expire on July 06, 2020.\n"
     ]
    },
    {
     "data": {
      "text/html": [
       "<div style=\"max-height:1000px;max-width:1500px;overflow:auto;\"><table frame=\"box\" rules=\"cols\">\n",
       "    <tr>\n",
       "        <th style=\"padding-left: 1em; padding-right: 1em; text-align: center\">name</th>\n",
       "        <th style=\"padding-left: 1em; padding-right: 1em; text-align: center\">review</th>\n",
       "        <th style=\"padding-left: 1em; padding-right: 1em; text-align: center\">rating</th>\n",
       "    </tr>\n",
       "    <tr>\n",
       "        <td style=\"padding-left: 1em; padding-right: 1em; text-align: center; vertical-align: top\">Planetwise Flannel Wipes</td>\n",
       "        <td style=\"padding-left: 1em; padding-right: 1em; text-align: center; vertical-align: top\">These flannel wipes are<br>OK, but in my opinion ...</td>\n",
       "        <td style=\"padding-left: 1em; padding-right: 1em; text-align: center; vertical-align: top\">3.0</td>\n",
       "    </tr>\n",
       "    <tr>\n",
       "        <td style=\"padding-left: 1em; padding-right: 1em; text-align: center; vertical-align: top\">Planetwise Wipe Pouch</td>\n",
       "        <td style=\"padding-left: 1em; padding-right: 1em; text-align: center; vertical-align: top\">it came early and was not<br>disappointed. i love ...</td>\n",
       "        <td style=\"padding-left: 1em; padding-right: 1em; text-align: center; vertical-align: top\">5.0</td>\n",
       "    </tr>\n",
       "    <tr>\n",
       "        <td style=\"padding-left: 1em; padding-right: 1em; text-align: center; vertical-align: top\">Annas Dream Full Quilt<br>with 2 Shams ...</td>\n",
       "        <td style=\"padding-left: 1em; padding-right: 1em; text-align: center; vertical-align: top\">Very soft and comfortable<br>and warmer than it ...</td>\n",
       "        <td style=\"padding-left: 1em; padding-right: 1em; text-align: center; vertical-align: top\">5.0</td>\n",
       "    </tr>\n",
       "    <tr>\n",
       "        <td style=\"padding-left: 1em; padding-right: 1em; text-align: center; vertical-align: top\">Stop Pacifier Sucking<br>without tears with ...</td>\n",
       "        <td style=\"padding-left: 1em; padding-right: 1em; text-align: center; vertical-align: top\">This is a product well<br>worth the purchase.  I ...</td>\n",
       "        <td style=\"padding-left: 1em; padding-right: 1em; text-align: center; vertical-align: top\">5.0</td>\n",
       "    </tr>\n",
       "    <tr>\n",
       "        <td style=\"padding-left: 1em; padding-right: 1em; text-align: center; vertical-align: top\">Stop Pacifier Sucking<br>without tears with ...</td>\n",
       "        <td style=\"padding-left: 1em; padding-right: 1em; text-align: center; vertical-align: top\">All of my kids have cried<br>non-stop when I tried to ...</td>\n",
       "        <td style=\"padding-left: 1em; padding-right: 1em; text-align: center; vertical-align: top\">5.0</td>\n",
       "    </tr>\n",
       "    <tr>\n",
       "        <td style=\"padding-left: 1em; padding-right: 1em; text-align: center; vertical-align: top\">Stop Pacifier Sucking<br>without tears with ...</td>\n",
       "        <td style=\"padding-left: 1em; padding-right: 1em; text-align: center; vertical-align: top\">When the Binky Fairy came<br>to our house, we didn't ...</td>\n",
       "        <td style=\"padding-left: 1em; padding-right: 1em; text-align: center; vertical-align: top\">5.0</td>\n",
       "    </tr>\n",
       "    <tr>\n",
       "        <td style=\"padding-left: 1em; padding-right: 1em; text-align: center; vertical-align: top\">A Tale of Baby's Days<br>with Peter Rabbit ...</td>\n",
       "        <td style=\"padding-left: 1em; padding-right: 1em; text-align: center; vertical-align: top\">Lovely book, it's bound<br>tightly so you may no ...</td>\n",
       "        <td style=\"padding-left: 1em; padding-right: 1em; text-align: center; vertical-align: top\">4.0</td>\n",
       "    </tr>\n",
       "    <tr>\n",
       "        <td style=\"padding-left: 1em; padding-right: 1em; text-align: center; vertical-align: top\">Baby Tracker&amp;reg; - Daily<br>Childcare Journal, ...</td>\n",
       "        <td style=\"padding-left: 1em; padding-right: 1em; text-align: center; vertical-align: top\">Perfect for new parents.<br>We were able to keep ...</td>\n",
       "        <td style=\"padding-left: 1em; padding-right: 1em; text-align: center; vertical-align: top\">5.0</td>\n",
       "    </tr>\n",
       "    <tr>\n",
       "        <td style=\"padding-left: 1em; padding-right: 1em; text-align: center; vertical-align: top\">Baby Tracker&amp;reg; - Daily<br>Childcare Journal, ...</td>\n",
       "        <td style=\"padding-left: 1em; padding-right: 1em; text-align: center; vertical-align: top\">A friend of mine pinned<br>this product on Pinte ...</td>\n",
       "        <td style=\"padding-left: 1em; padding-right: 1em; text-align: center; vertical-align: top\">5.0</td>\n",
       "    </tr>\n",
       "    <tr>\n",
       "        <td style=\"padding-left: 1em; padding-right: 1em; text-align: center; vertical-align: top\">Baby Tracker&amp;reg; - Daily<br>Childcare Journal, ...</td>\n",
       "        <td style=\"padding-left: 1em; padding-right: 1em; text-align: center; vertical-align: top\">This has been an easy way<br>for my nanny to record ...</td>\n",
       "        <td style=\"padding-left: 1em; padding-right: 1em; text-align: center; vertical-align: top\">4.0</td>\n",
       "    </tr>\n",
       "</table>\n",
       "[10 rows x 3 columns]<br/>\n",
       "</div>"
      ],
      "text/plain": [
       "Columns:\n",
       "\tname\tstr\n",
       "\treview\tstr\n",
       "\trating\tfloat\n",
       "\n",
       "Rows: 10\n",
       "\n",
       "Data:\n",
       "+-------------------------------+-------------------------------+--------+\n",
       "|              name             |             review            | rating |\n",
       "+-------------------------------+-------------------------------+--------+\n",
       "|    Planetwise Flannel Wipes   | These flannel wipes are OK... |  3.0   |\n",
       "|     Planetwise Wipe Pouch     | it came early and was not ... |  5.0   |\n",
       "| Annas Dream Full Quilt wit... | Very soft and comfortable ... |  5.0   |\n",
       "| Stop Pacifier Sucking with... | This is a product well wor... |  5.0   |\n",
       "| Stop Pacifier Sucking with... | All of my kids have cried ... |  5.0   |\n",
       "| Stop Pacifier Sucking with... | When the Binky Fairy came ... |  5.0   |\n",
       "| A Tale of Baby's Days with... | Lovely book, it's bound ti... |  4.0   |\n",
       "| Baby Tracker&reg; - Daily ... | Perfect for new parents. W... |  5.0   |\n",
       "| Baby Tracker&reg; - Daily ... | A friend of mine pinned th... |  5.0   |\n",
       "| Baby Tracker&reg; - Daily ... | This has been an easy way ... |  4.0   |\n",
       "+-------------------------------+-------------------------------+--------+\n",
       "[10 rows x 3 columns]"
      ]
     },
     "execution_count": 3,
     "metadata": {},
     "output_type": "execute_result"
    }
   ],
   "source": [
    "product = graphlab.SFrame(\"amazon_baby.gl\")\n",
    "product.head()"
   ]
  },
  {
   "cell_type": "code",
   "execution_count": 4,
   "metadata": {
    "collapsed": true
   },
   "outputs": [],
   "source": [
    "graphlab.canvas.set_target(\"ipynb\")"
   ]
  },
  {
   "cell_type": "markdown",
   "metadata": {},
   "source": [
    "## Count the selected words in review\n",
    "1. Build a function that when text comes in, it will count how many awesome there is. \n",
    "2. iterate the list\n",
    "3. make it a dictionay \n",
    "4. insert into the column"
   ]
  },
  {
   "cell_type": "code",
   "execution_count": 5,
   "metadata": {
    "collapsed": false
   },
   "outputs": [
    {
     "data": {
      "text/html": [
       "<div style=\"max-height:1000px;max-width:1500px;overflow:auto;\"><table frame=\"box\" rules=\"cols\">\n",
       "    <tr>\n",
       "        <th style=\"padding-left: 1em; padding-right: 1em; text-align: center\">name</th>\n",
       "        <th style=\"padding-left: 1em; padding-right: 1em; text-align: center\">review</th>\n",
       "        <th style=\"padding-left: 1em; padding-right: 1em; text-align: center\">rating</th>\n",
       "        <th style=\"padding-left: 1em; padding-right: 1em; text-align: center\">word_count</th>\n",
       "    </tr>\n",
       "    <tr>\n",
       "        <td style=\"padding-left: 1em; padding-right: 1em; text-align: center; vertical-align: top\">Planetwise Flannel Wipes</td>\n",
       "        <td style=\"padding-left: 1em; padding-right: 1em; text-align: center; vertical-align: top\">These flannel wipes are<br>OK, but in my opinion ...</td>\n",
       "        <td style=\"padding-left: 1em; padding-right: 1em; text-align: center; vertical-align: top\">3.0</td>\n",
       "        <td style=\"padding-left: 1em; padding-right: 1em; text-align: center; vertical-align: top\">{'great': 0, 'love': 0,<br>'hate': 0, 'awesome': 0, ...</td>\n",
       "    </tr>\n",
       "    <tr>\n",
       "        <td style=\"padding-left: 1em; padding-right: 1em; text-align: center; vertical-align: top\">Planetwise Wipe Pouch</td>\n",
       "        <td style=\"padding-left: 1em; padding-right: 1em; text-align: center; vertical-align: top\">it came early and was not<br>disappointed. i love ...</td>\n",
       "        <td style=\"padding-left: 1em; padding-right: 1em; text-align: center; vertical-align: top\">5.0</td>\n",
       "        <td style=\"padding-left: 1em; padding-right: 1em; text-align: center; vertical-align: top\">{'great': 0, 'love': 1,<br>'hate': 0, 'awesome': 0, ...</td>\n",
       "    </tr>\n",
       "    <tr>\n",
       "        <td style=\"padding-left: 1em; padding-right: 1em; text-align: center; vertical-align: top\">Annas Dream Full Quilt<br>with 2 Shams ...</td>\n",
       "        <td style=\"padding-left: 1em; padding-right: 1em; text-align: center; vertical-align: top\">Very soft and comfortable<br>and warmer than it ...</td>\n",
       "        <td style=\"padding-left: 1em; padding-right: 1em; text-align: center; vertical-align: top\">5.0</td>\n",
       "        <td style=\"padding-left: 1em; padding-right: 1em; text-align: center; vertical-align: top\">{'great': 0, 'love': 0,<br>'hate': 0, 'awesome': 0, ...</td>\n",
       "    </tr>\n",
       "    <tr>\n",
       "        <td style=\"padding-left: 1em; padding-right: 1em; text-align: center; vertical-align: top\">Stop Pacifier Sucking<br>without tears with ...</td>\n",
       "        <td style=\"padding-left: 1em; padding-right: 1em; text-align: center; vertical-align: top\">This is a product well<br>worth the purchase.  I ...</td>\n",
       "        <td style=\"padding-left: 1em; padding-right: 1em; text-align: center; vertical-align: top\">5.0</td>\n",
       "        <td style=\"padding-left: 1em; padding-right: 1em; text-align: center; vertical-align: top\">{'great': 0, 'love': 3,<br>'hate': 0, 'awesome': 0, ...</td>\n",
       "    </tr>\n",
       "    <tr>\n",
       "        <td style=\"padding-left: 1em; padding-right: 1em; text-align: center; vertical-align: top\">Stop Pacifier Sucking<br>without tears with ...</td>\n",
       "        <td style=\"padding-left: 1em; padding-right: 1em; text-align: center; vertical-align: top\">All of my kids have cried<br>non-stop when I tried to ...</td>\n",
       "        <td style=\"padding-left: 1em; padding-right: 1em; text-align: center; vertical-align: top\">5.0</td>\n",
       "        <td style=\"padding-left: 1em; padding-right: 1em; text-align: center; vertical-align: top\">{'great': 1, 'love': 0,<br>'hate': 0, 'awesome': 0, ...</td>\n",
       "    </tr>\n",
       "    <tr>\n",
       "        <td style=\"padding-left: 1em; padding-right: 1em; text-align: center; vertical-align: top\">Stop Pacifier Sucking<br>without tears with ...</td>\n",
       "        <td style=\"padding-left: 1em; padding-right: 1em; text-align: center; vertical-align: top\">When the Binky Fairy came<br>to our house, we didn't ...</td>\n",
       "        <td style=\"padding-left: 1em; padding-right: 1em; text-align: center; vertical-align: top\">5.0</td>\n",
       "        <td style=\"padding-left: 1em; padding-right: 1em; text-align: center; vertical-align: top\">{'great': 1, 'love': 0,<br>'hate': 0, 'awesome': 0, ...</td>\n",
       "    </tr>\n",
       "    <tr>\n",
       "        <td style=\"padding-left: 1em; padding-right: 1em; text-align: center; vertical-align: top\">A Tale of Baby's Days<br>with Peter Rabbit ...</td>\n",
       "        <td style=\"padding-left: 1em; padding-right: 1em; text-align: center; vertical-align: top\">Lovely book, it's bound<br>tightly so you may no ...</td>\n",
       "        <td style=\"padding-left: 1em; padding-right: 1em; text-align: center; vertical-align: top\">4.0</td>\n",
       "        <td style=\"padding-left: 1em; padding-right: 1em; text-align: center; vertical-align: top\">{'great': 0, 'love': 0,<br>'hate': 0, 'awesome': 0, ...</td>\n",
       "    </tr>\n",
       "    <tr>\n",
       "        <td style=\"padding-left: 1em; padding-right: 1em; text-align: center; vertical-align: top\">Baby Tracker&amp;reg; - Daily<br>Childcare Journal, ...</td>\n",
       "        <td style=\"padding-left: 1em; padding-right: 1em; text-align: center; vertical-align: top\">Perfect for new parents.<br>We were able to keep ...</td>\n",
       "        <td style=\"padding-left: 1em; padding-right: 1em; text-align: center; vertical-align: top\">5.0</td>\n",
       "        <td style=\"padding-left: 1em; padding-right: 1em; text-align: center; vertical-align: top\">{'great': 0, 'love': 0,<br>'hate': 0, 'awesome': 0, ...</td>\n",
       "    </tr>\n",
       "    <tr>\n",
       "        <td style=\"padding-left: 1em; padding-right: 1em; text-align: center; vertical-align: top\">Baby Tracker&amp;reg; - Daily<br>Childcare Journal, ...</td>\n",
       "        <td style=\"padding-left: 1em; padding-right: 1em; text-align: center; vertical-align: top\">A friend of mine pinned<br>this product on Pinte ...</td>\n",
       "        <td style=\"padding-left: 1em; padding-right: 1em; text-align: center; vertical-align: top\">5.0</td>\n",
       "        <td style=\"padding-left: 1em; padding-right: 1em; text-align: center; vertical-align: top\">{'great': 0, 'love': 0,<br>'hate': 0, 'awesome': 0, ...</td>\n",
       "    </tr>\n",
       "    <tr>\n",
       "        <td style=\"padding-left: 1em; padding-right: 1em; text-align: center; vertical-align: top\">Baby Tracker&amp;reg; - Daily<br>Childcare Journal, ...</td>\n",
       "        <td style=\"padding-left: 1em; padding-right: 1em; text-align: center; vertical-align: top\">This has been an easy way<br>for my nanny to record ...</td>\n",
       "        <td style=\"padding-left: 1em; padding-right: 1em; text-align: center; vertical-align: top\">4.0</td>\n",
       "        <td style=\"padding-left: 1em; padding-right: 1em; text-align: center; vertical-align: top\">{'great': 0, 'love': 0,<br>'hate': 0, 'awesome': 0, ...</td>\n",
       "    </tr>\n",
       "</table>\n",
       "[10 rows x 4 columns]<br/>\n",
       "</div>"
      ],
      "text/plain": [
       "Columns:\n",
       "\tname\tstr\n",
       "\treview\tstr\n",
       "\trating\tfloat\n",
       "\tword_count\tdict\n",
       "\n",
       "Rows: 10\n",
       "\n",
       "Data:\n",
       "+-------------------------------+-------------------------------+--------+\n",
       "|              name             |             review            | rating |\n",
       "+-------------------------------+-------------------------------+--------+\n",
       "|    Planetwise Flannel Wipes   | These flannel wipes are OK... |  3.0   |\n",
       "|     Planetwise Wipe Pouch     | it came early and was not ... |  5.0   |\n",
       "| Annas Dream Full Quilt wit... | Very soft and comfortable ... |  5.0   |\n",
       "| Stop Pacifier Sucking with... | This is a product well wor... |  5.0   |\n",
       "| Stop Pacifier Sucking with... | All of my kids have cried ... |  5.0   |\n",
       "| Stop Pacifier Sucking with... | When the Binky Fairy came ... |  5.0   |\n",
       "| A Tale of Baby's Days with... | Lovely book, it's bound ti... |  4.0   |\n",
       "| Baby Tracker&reg; - Daily ... | Perfect for new parents. W... |  5.0   |\n",
       "| Baby Tracker&reg; - Daily ... | A friend of mine pinned th... |  5.0   |\n",
       "| Baby Tracker&reg; - Daily ... | This has been an easy way ... |  4.0   |\n",
       "+-------------------------------+-------------------------------+--------+\n",
       "+-------------------------------+\n",
       "|           word_count          |\n",
       "+-------------------------------+\n",
       "| {'great': 0, 'love': 0, 'h... |\n",
       "| {'great': 0, 'love': 1, 'h... |\n",
       "| {'great': 0, 'love': 0, 'h... |\n",
       "| {'great': 0, 'love': 3, 'h... |\n",
       "| {'great': 1, 'love': 0, 'h... |\n",
       "| {'great': 1, 'love': 0, 'h... |\n",
       "| {'great': 0, 'love': 0, 'h... |\n",
       "| {'great': 0, 'love': 0, 'h... |\n",
       "| {'great': 0, 'love': 0, 'h... |\n",
       "| {'great': 0, 'love': 0, 'h... |\n",
       "+-------------------------------+\n",
       "[10 rows x 4 columns]"
      ]
     },
     "execution_count": 5,
     "metadata": {},
     "output_type": "execute_result"
    }
   ],
   "source": [
    "selected_words = ['awesome', 'great', 'fantastic', 'amazing', 'love', 'horrible', 'bad', 'terrible', 'awful', 'wow', 'hate']\n",
    "def count_list(text):\n",
    "    count_dict = {}\n",
    "    for i in selected_words:\n",
    "        count_dict[i] = text.count(i)\n",
    "    return count_dict\n",
    "    \n",
    "product[\"word_count\"] = product[\"review\"].apply(count_list)\n",
    "product.head()"
   ]
  },
  {
   "cell_type": "code",
   "execution_count": 6,
   "metadata": {
    "collapsed": false
   },
   "outputs": [
    {
     "data": {
      "text/html": [
       "<div style=\"max-height:1000px;max-width:1500px;overflow:auto;\"><table frame=\"box\" rules=\"cols\">\n",
       "    <tr>\n",
       "        <th style=\"padding-left: 1em; padding-right: 1em; text-align: center\">name</th>\n",
       "        <th style=\"padding-left: 1em; padding-right: 1em; text-align: center\">review</th>\n",
       "        <th style=\"padding-left: 1em; padding-right: 1em; text-align: center\">rating</th>\n",
       "        <th style=\"padding-left: 1em; padding-right: 1em; text-align: center\">word_count</th>\n",
       "        <th style=\"padding-left: 1em; padding-right: 1em; text-align: center\">awesome</th>\n",
       "        <th style=\"padding-left: 1em; padding-right: 1em; text-align: center\">great</th>\n",
       "        <th style=\"padding-left: 1em; padding-right: 1em; text-align: center\">fantastic</th>\n",
       "    </tr>\n",
       "    <tr>\n",
       "        <td style=\"padding-left: 1em; padding-right: 1em; text-align: center; vertical-align: top\">Planetwise Flannel Wipes</td>\n",
       "        <td style=\"padding-left: 1em; padding-right: 1em; text-align: center; vertical-align: top\">These flannel wipes are<br>OK, but in my opinion ...</td>\n",
       "        <td style=\"padding-left: 1em; padding-right: 1em; text-align: center; vertical-align: top\">3.0</td>\n",
       "        <td style=\"padding-left: 1em; padding-right: 1em; text-align: center; vertical-align: top\">{'great': 0, 'love': 0,<br>'hate': 0, 'awesome': 0, ...</td>\n",
       "        <td style=\"padding-left: 1em; padding-right: 1em; text-align: center; vertical-align: top\">0</td>\n",
       "        <td style=\"padding-left: 1em; padding-right: 1em; text-align: center; vertical-align: top\">0</td>\n",
       "        <td style=\"padding-left: 1em; padding-right: 1em; text-align: center; vertical-align: top\">0</td>\n",
       "    </tr>\n",
       "    <tr>\n",
       "        <td style=\"padding-left: 1em; padding-right: 1em; text-align: center; vertical-align: top\">Planetwise Wipe Pouch</td>\n",
       "        <td style=\"padding-left: 1em; padding-right: 1em; text-align: center; vertical-align: top\">it came early and was not<br>disappointed. i love ...</td>\n",
       "        <td style=\"padding-left: 1em; padding-right: 1em; text-align: center; vertical-align: top\">5.0</td>\n",
       "        <td style=\"padding-left: 1em; padding-right: 1em; text-align: center; vertical-align: top\">{'great': 0, 'love': 1,<br>'hate': 0, 'awesome': 0, ...</td>\n",
       "        <td style=\"padding-left: 1em; padding-right: 1em; text-align: center; vertical-align: top\">0</td>\n",
       "        <td style=\"padding-left: 1em; padding-right: 1em; text-align: center; vertical-align: top\">0</td>\n",
       "        <td style=\"padding-left: 1em; padding-right: 1em; text-align: center; vertical-align: top\">0</td>\n",
       "    </tr>\n",
       "    <tr>\n",
       "        <td style=\"padding-left: 1em; padding-right: 1em; text-align: center; vertical-align: top\">Annas Dream Full Quilt<br>with 2 Shams ...</td>\n",
       "        <td style=\"padding-left: 1em; padding-right: 1em; text-align: center; vertical-align: top\">Very soft and comfortable<br>and warmer than it ...</td>\n",
       "        <td style=\"padding-left: 1em; padding-right: 1em; text-align: center; vertical-align: top\">5.0</td>\n",
       "        <td style=\"padding-left: 1em; padding-right: 1em; text-align: center; vertical-align: top\">{'great': 0, 'love': 0,<br>'hate': 0, 'awesome': 0, ...</td>\n",
       "        <td style=\"padding-left: 1em; padding-right: 1em; text-align: center; vertical-align: top\">0</td>\n",
       "        <td style=\"padding-left: 1em; padding-right: 1em; text-align: center; vertical-align: top\">0</td>\n",
       "        <td style=\"padding-left: 1em; padding-right: 1em; text-align: center; vertical-align: top\">0</td>\n",
       "    </tr>\n",
       "    <tr>\n",
       "        <td style=\"padding-left: 1em; padding-right: 1em; text-align: center; vertical-align: top\">Stop Pacifier Sucking<br>without tears with ...</td>\n",
       "        <td style=\"padding-left: 1em; padding-right: 1em; text-align: center; vertical-align: top\">This is a product well<br>worth the purchase.  I ...</td>\n",
       "        <td style=\"padding-left: 1em; padding-right: 1em; text-align: center; vertical-align: top\">5.0</td>\n",
       "        <td style=\"padding-left: 1em; padding-right: 1em; text-align: center; vertical-align: top\">{'great': 0, 'love': 3,<br>'hate': 0, 'awesome': 0, ...</td>\n",
       "        <td style=\"padding-left: 1em; padding-right: 1em; text-align: center; vertical-align: top\">0</td>\n",
       "        <td style=\"padding-left: 1em; padding-right: 1em; text-align: center; vertical-align: top\">0</td>\n",
       "        <td style=\"padding-left: 1em; padding-right: 1em; text-align: center; vertical-align: top\">0</td>\n",
       "    </tr>\n",
       "    <tr>\n",
       "        <td style=\"padding-left: 1em; padding-right: 1em; text-align: center; vertical-align: top\">Stop Pacifier Sucking<br>without tears with ...</td>\n",
       "        <td style=\"padding-left: 1em; padding-right: 1em; text-align: center; vertical-align: top\">All of my kids have cried<br>non-stop when I tried to ...</td>\n",
       "        <td style=\"padding-left: 1em; padding-right: 1em; text-align: center; vertical-align: top\">5.0</td>\n",
       "        <td style=\"padding-left: 1em; padding-right: 1em; text-align: center; vertical-align: top\">{'great': 1, 'love': 0,<br>'hate': 0, 'awesome': 0, ...</td>\n",
       "        <td style=\"padding-left: 1em; padding-right: 1em; text-align: center; vertical-align: top\">0</td>\n",
       "        <td style=\"padding-left: 1em; padding-right: 1em; text-align: center; vertical-align: top\">1</td>\n",
       "        <td style=\"padding-left: 1em; padding-right: 1em; text-align: center; vertical-align: top\">0</td>\n",
       "    </tr>\n",
       "    <tr>\n",
       "        <td style=\"padding-left: 1em; padding-right: 1em; text-align: center; vertical-align: top\">Stop Pacifier Sucking<br>without tears with ...</td>\n",
       "        <td style=\"padding-left: 1em; padding-right: 1em; text-align: center; vertical-align: top\">When the Binky Fairy came<br>to our house, we didn't ...</td>\n",
       "        <td style=\"padding-left: 1em; padding-right: 1em; text-align: center; vertical-align: top\">5.0</td>\n",
       "        <td style=\"padding-left: 1em; padding-right: 1em; text-align: center; vertical-align: top\">{'great': 1, 'love': 0,<br>'hate': 0, 'awesome': 0, ...</td>\n",
       "        <td style=\"padding-left: 1em; padding-right: 1em; text-align: center; vertical-align: top\">0</td>\n",
       "        <td style=\"padding-left: 1em; padding-right: 1em; text-align: center; vertical-align: top\">1</td>\n",
       "        <td style=\"padding-left: 1em; padding-right: 1em; text-align: center; vertical-align: top\">0</td>\n",
       "    </tr>\n",
       "    <tr>\n",
       "        <td style=\"padding-left: 1em; padding-right: 1em; text-align: center; vertical-align: top\">A Tale of Baby's Days<br>with Peter Rabbit ...</td>\n",
       "        <td style=\"padding-left: 1em; padding-right: 1em; text-align: center; vertical-align: top\">Lovely book, it's bound<br>tightly so you may no ...</td>\n",
       "        <td style=\"padding-left: 1em; padding-right: 1em; text-align: center; vertical-align: top\">4.0</td>\n",
       "        <td style=\"padding-left: 1em; padding-right: 1em; text-align: center; vertical-align: top\">{'great': 0, 'love': 0,<br>'hate': 0, 'awesome': 0, ...</td>\n",
       "        <td style=\"padding-left: 1em; padding-right: 1em; text-align: center; vertical-align: top\">0</td>\n",
       "        <td style=\"padding-left: 1em; padding-right: 1em; text-align: center; vertical-align: top\">0</td>\n",
       "        <td style=\"padding-left: 1em; padding-right: 1em; text-align: center; vertical-align: top\">0</td>\n",
       "    </tr>\n",
       "    <tr>\n",
       "        <td style=\"padding-left: 1em; padding-right: 1em; text-align: center; vertical-align: top\">Baby Tracker&amp;reg; - Daily<br>Childcare Journal, ...</td>\n",
       "        <td style=\"padding-left: 1em; padding-right: 1em; text-align: center; vertical-align: top\">Perfect for new parents.<br>We were able to keep ...</td>\n",
       "        <td style=\"padding-left: 1em; padding-right: 1em; text-align: center; vertical-align: top\">5.0</td>\n",
       "        <td style=\"padding-left: 1em; padding-right: 1em; text-align: center; vertical-align: top\">{'great': 0, 'love': 0,<br>'hate': 0, 'awesome': 0, ...</td>\n",
       "        <td style=\"padding-left: 1em; padding-right: 1em; text-align: center; vertical-align: top\">0</td>\n",
       "        <td style=\"padding-left: 1em; padding-right: 1em; text-align: center; vertical-align: top\">0</td>\n",
       "        <td style=\"padding-left: 1em; padding-right: 1em; text-align: center; vertical-align: top\">0</td>\n",
       "    </tr>\n",
       "    <tr>\n",
       "        <td style=\"padding-left: 1em; padding-right: 1em; text-align: center; vertical-align: top\">Baby Tracker&amp;reg; - Daily<br>Childcare Journal, ...</td>\n",
       "        <td style=\"padding-left: 1em; padding-right: 1em; text-align: center; vertical-align: top\">A friend of mine pinned<br>this product on Pinte ...</td>\n",
       "        <td style=\"padding-left: 1em; padding-right: 1em; text-align: center; vertical-align: top\">5.0</td>\n",
       "        <td style=\"padding-left: 1em; padding-right: 1em; text-align: center; vertical-align: top\">{'great': 0, 'love': 0,<br>'hate': 0, 'awesome': 0, ...</td>\n",
       "        <td style=\"padding-left: 1em; padding-right: 1em; text-align: center; vertical-align: top\">0</td>\n",
       "        <td style=\"padding-left: 1em; padding-right: 1em; text-align: center; vertical-align: top\">0</td>\n",
       "        <td style=\"padding-left: 1em; padding-right: 1em; text-align: center; vertical-align: top\">1</td>\n",
       "    </tr>\n",
       "    <tr>\n",
       "        <td style=\"padding-left: 1em; padding-right: 1em; text-align: center; vertical-align: top\">Baby Tracker&amp;reg; - Daily<br>Childcare Journal, ...</td>\n",
       "        <td style=\"padding-left: 1em; padding-right: 1em; text-align: center; vertical-align: top\">This has been an easy way<br>for my nanny to record ...</td>\n",
       "        <td style=\"padding-left: 1em; padding-right: 1em; text-align: center; vertical-align: top\">4.0</td>\n",
       "        <td style=\"padding-left: 1em; padding-right: 1em; text-align: center; vertical-align: top\">{'great': 0, 'love': 0,<br>'hate': 0, 'awesome': 0, ...</td>\n",
       "        <td style=\"padding-left: 1em; padding-right: 1em; text-align: center; vertical-align: top\">0</td>\n",
       "        <td style=\"padding-left: 1em; padding-right: 1em; text-align: center; vertical-align: top\">0</td>\n",
       "        <td style=\"padding-left: 1em; padding-right: 1em; text-align: center; vertical-align: top\">0</td>\n",
       "    </tr>\n",
       "</table>\n",
       "<table frame=\"box\" rules=\"cols\">\n",
       "    <tr>\n",
       "        <th style=\"padding-left: 1em; padding-right: 1em; text-align: center\">amazing</th>\n",
       "        <th style=\"padding-left: 1em; padding-right: 1em; text-align: center\">love</th>\n",
       "        <th style=\"padding-left: 1em; padding-right: 1em; text-align: center\">horrible</th>\n",
       "        <th style=\"padding-left: 1em; padding-right: 1em; text-align: center\">bad</th>\n",
       "        <th style=\"padding-left: 1em; padding-right: 1em; text-align: center\">terrible</th>\n",
       "        <th style=\"padding-left: 1em; padding-right: 1em; text-align: center\">awful</th>\n",
       "        <th style=\"padding-left: 1em; padding-right: 1em; text-align: center\">wow</th>\n",
       "        <th style=\"padding-left: 1em; padding-right: 1em; text-align: center\">hate</th>\n",
       "    </tr>\n",
       "    <tr>\n",
       "        <td style=\"padding-left: 1em; padding-right: 1em; text-align: center; vertical-align: top\">0</td>\n",
       "        <td style=\"padding-left: 1em; padding-right: 1em; text-align: center; vertical-align: top\">0</td>\n",
       "        <td style=\"padding-left: 1em; padding-right: 1em; text-align: center; vertical-align: top\">0</td>\n",
       "        <td style=\"padding-left: 1em; padding-right: 1em; text-align: center; vertical-align: top\">0</td>\n",
       "        <td style=\"padding-left: 1em; padding-right: 1em; text-align: center; vertical-align: top\">0</td>\n",
       "        <td style=\"padding-left: 1em; padding-right: 1em; text-align: center; vertical-align: top\">0</td>\n",
       "        <td style=\"padding-left: 1em; padding-right: 1em; text-align: center; vertical-align: top\">0</td>\n",
       "        <td style=\"padding-left: 1em; padding-right: 1em; text-align: center; vertical-align: top\">0</td>\n",
       "    </tr>\n",
       "    <tr>\n",
       "        <td style=\"padding-left: 1em; padding-right: 1em; text-align: center; vertical-align: top\">0</td>\n",
       "        <td style=\"padding-left: 1em; padding-right: 1em; text-align: center; vertical-align: top\">1</td>\n",
       "        <td style=\"padding-left: 1em; padding-right: 1em; text-align: center; vertical-align: top\">0</td>\n",
       "        <td style=\"padding-left: 1em; padding-right: 1em; text-align: center; vertical-align: top\">0</td>\n",
       "        <td style=\"padding-left: 1em; padding-right: 1em; text-align: center; vertical-align: top\">0</td>\n",
       "        <td style=\"padding-left: 1em; padding-right: 1em; text-align: center; vertical-align: top\">0</td>\n",
       "        <td style=\"padding-left: 1em; padding-right: 1em; text-align: center; vertical-align: top\">0</td>\n",
       "        <td style=\"padding-left: 1em; padding-right: 1em; text-align: center; vertical-align: top\">0</td>\n",
       "    </tr>\n",
       "    <tr>\n",
       "        <td style=\"padding-left: 1em; padding-right: 1em; text-align: center; vertical-align: top\">0</td>\n",
       "        <td style=\"padding-left: 1em; padding-right: 1em; text-align: center; vertical-align: top\">0</td>\n",
       "        <td style=\"padding-left: 1em; padding-right: 1em; text-align: center; vertical-align: top\">0</td>\n",
       "        <td style=\"padding-left: 1em; padding-right: 1em; text-align: center; vertical-align: top\">0</td>\n",
       "        <td style=\"padding-left: 1em; padding-right: 1em; text-align: center; vertical-align: top\">0</td>\n",
       "        <td style=\"padding-left: 1em; padding-right: 1em; text-align: center; vertical-align: top\">0</td>\n",
       "        <td style=\"padding-left: 1em; padding-right: 1em; text-align: center; vertical-align: top\">0</td>\n",
       "        <td style=\"padding-left: 1em; padding-right: 1em; text-align: center; vertical-align: top\">0</td>\n",
       "    </tr>\n",
       "    <tr>\n",
       "        <td style=\"padding-left: 1em; padding-right: 1em; text-align: center; vertical-align: top\">0</td>\n",
       "        <td style=\"padding-left: 1em; padding-right: 1em; text-align: center; vertical-align: top\">3</td>\n",
       "        <td style=\"padding-left: 1em; padding-right: 1em; text-align: center; vertical-align: top\">0</td>\n",
       "        <td style=\"padding-left: 1em; padding-right: 1em; text-align: center; vertical-align: top\">0</td>\n",
       "        <td style=\"padding-left: 1em; padding-right: 1em; text-align: center; vertical-align: top\">0</td>\n",
       "        <td style=\"padding-left: 1em; padding-right: 1em; text-align: center; vertical-align: top\">0</td>\n",
       "        <td style=\"padding-left: 1em; padding-right: 1em; text-align: center; vertical-align: top\">0</td>\n",
       "        <td style=\"padding-left: 1em; padding-right: 1em; text-align: center; vertical-align: top\">0</td>\n",
       "    </tr>\n",
       "    <tr>\n",
       "        <td style=\"padding-left: 1em; padding-right: 1em; text-align: center; vertical-align: top\">0</td>\n",
       "        <td style=\"padding-left: 1em; padding-right: 1em; text-align: center; vertical-align: top\">0</td>\n",
       "        <td style=\"padding-left: 1em; padding-right: 1em; text-align: center; vertical-align: top\">0</td>\n",
       "        <td style=\"padding-left: 1em; padding-right: 1em; text-align: center; vertical-align: top\">0</td>\n",
       "        <td style=\"padding-left: 1em; padding-right: 1em; text-align: center; vertical-align: top\">0</td>\n",
       "        <td style=\"padding-left: 1em; padding-right: 1em; text-align: center; vertical-align: top\">0</td>\n",
       "        <td style=\"padding-left: 1em; padding-right: 1em; text-align: center; vertical-align: top\">0</td>\n",
       "        <td style=\"padding-left: 1em; padding-right: 1em; text-align: center; vertical-align: top\">0</td>\n",
       "    </tr>\n",
       "    <tr>\n",
       "        <td style=\"padding-left: 1em; padding-right: 1em; text-align: center; vertical-align: top\">0</td>\n",
       "        <td style=\"padding-left: 1em; padding-right: 1em; text-align: center; vertical-align: top\">0</td>\n",
       "        <td style=\"padding-left: 1em; padding-right: 1em; text-align: center; vertical-align: top\">0</td>\n",
       "        <td style=\"padding-left: 1em; padding-right: 1em; text-align: center; vertical-align: top\">0</td>\n",
       "        <td style=\"padding-left: 1em; padding-right: 1em; text-align: center; vertical-align: top\">0</td>\n",
       "        <td style=\"padding-left: 1em; padding-right: 1em; text-align: center; vertical-align: top\">0</td>\n",
       "        <td style=\"padding-left: 1em; padding-right: 1em; text-align: center; vertical-align: top\">0</td>\n",
       "        <td style=\"padding-left: 1em; padding-right: 1em; text-align: center; vertical-align: top\">0</td>\n",
       "    </tr>\n",
       "    <tr>\n",
       "        <td style=\"padding-left: 1em; padding-right: 1em; text-align: center; vertical-align: top\">0</td>\n",
       "        <td style=\"padding-left: 1em; padding-right: 1em; text-align: center; vertical-align: top\">0</td>\n",
       "        <td style=\"padding-left: 1em; padding-right: 1em; text-align: center; vertical-align: top\">0</td>\n",
       "        <td style=\"padding-left: 1em; padding-right: 1em; text-align: center; vertical-align: top\">0</td>\n",
       "        <td style=\"padding-left: 1em; padding-right: 1em; text-align: center; vertical-align: top\">0</td>\n",
       "        <td style=\"padding-left: 1em; padding-right: 1em; text-align: center; vertical-align: top\">0</td>\n",
       "        <td style=\"padding-left: 1em; padding-right: 1em; text-align: center; vertical-align: top\">0</td>\n",
       "        <td style=\"padding-left: 1em; padding-right: 1em; text-align: center; vertical-align: top\">0</td>\n",
       "    </tr>\n",
       "    <tr>\n",
       "        <td style=\"padding-left: 1em; padding-right: 1em; text-align: center; vertical-align: top\">0</td>\n",
       "        <td style=\"padding-left: 1em; padding-right: 1em; text-align: center; vertical-align: top\">0</td>\n",
       "        <td style=\"padding-left: 1em; padding-right: 1em; text-align: center; vertical-align: top\">0</td>\n",
       "        <td style=\"padding-left: 1em; padding-right: 1em; text-align: center; vertical-align: top\">0</td>\n",
       "        <td style=\"padding-left: 1em; padding-right: 1em; text-align: center; vertical-align: top\">0</td>\n",
       "        <td style=\"padding-left: 1em; padding-right: 1em; text-align: center; vertical-align: top\">0</td>\n",
       "        <td style=\"padding-left: 1em; padding-right: 1em; text-align: center; vertical-align: top\">0</td>\n",
       "        <td style=\"padding-left: 1em; padding-right: 1em; text-align: center; vertical-align: top\">0</td>\n",
       "    </tr>\n",
       "    <tr>\n",
       "        <td style=\"padding-left: 1em; padding-right: 1em; text-align: center; vertical-align: top\">0</td>\n",
       "        <td style=\"padding-left: 1em; padding-right: 1em; text-align: center; vertical-align: top\">0</td>\n",
       "        <td style=\"padding-left: 1em; padding-right: 1em; text-align: center; vertical-align: top\">0</td>\n",
       "        <td style=\"padding-left: 1em; padding-right: 1em; text-align: center; vertical-align: top\">0</td>\n",
       "        <td style=\"padding-left: 1em; padding-right: 1em; text-align: center; vertical-align: top\">0</td>\n",
       "        <td style=\"padding-left: 1em; padding-right: 1em; text-align: center; vertical-align: top\">0</td>\n",
       "        <td style=\"padding-left: 1em; padding-right: 1em; text-align: center; vertical-align: top\">0</td>\n",
       "        <td style=\"padding-left: 1em; padding-right: 1em; text-align: center; vertical-align: top\">0</td>\n",
       "    </tr>\n",
       "    <tr>\n",
       "        <td style=\"padding-left: 1em; padding-right: 1em; text-align: center; vertical-align: top\">0</td>\n",
       "        <td style=\"padding-left: 1em; padding-right: 1em; text-align: center; vertical-align: top\">0</td>\n",
       "        <td style=\"padding-left: 1em; padding-right: 1em; text-align: center; vertical-align: top\">0</td>\n",
       "        <td style=\"padding-left: 1em; padding-right: 1em; text-align: center; vertical-align: top\">0</td>\n",
       "        <td style=\"padding-left: 1em; padding-right: 1em; text-align: center; vertical-align: top\">0</td>\n",
       "        <td style=\"padding-left: 1em; padding-right: 1em; text-align: center; vertical-align: top\">0</td>\n",
       "        <td style=\"padding-left: 1em; padding-right: 1em; text-align: center; vertical-align: top\">0</td>\n",
       "        <td style=\"padding-left: 1em; padding-right: 1em; text-align: center; vertical-align: top\">0</td>\n",
       "    </tr>\n",
       "</table>\n",
       "[10 rows x 15 columns]<br/>\n",
       "</div>"
      ],
      "text/plain": [
       "Columns:\n",
       "\tname\tstr\n",
       "\treview\tstr\n",
       "\trating\tfloat\n",
       "\tword_count\tdict\n",
       "\tawesome\tint\n",
       "\tgreat\tint\n",
       "\tfantastic\tint\n",
       "\tamazing\tint\n",
       "\tlove\tint\n",
       "\thorrible\tint\n",
       "\tbad\tint\n",
       "\tterrible\tint\n",
       "\tawful\tint\n",
       "\twow\tint\n",
       "\thate\tint\n",
       "\n",
       "Rows: 10\n",
       "\n",
       "Data:\n",
       "+-------------------------------+-------------------------------+--------+\n",
       "|              name             |             review            | rating |\n",
       "+-------------------------------+-------------------------------+--------+\n",
       "|    Planetwise Flannel Wipes   | These flannel wipes are OK... |  3.0   |\n",
       "|     Planetwise Wipe Pouch     | it came early and was not ... |  5.0   |\n",
       "| Annas Dream Full Quilt wit... | Very soft and comfortable ... |  5.0   |\n",
       "| Stop Pacifier Sucking with... | This is a product well wor... |  5.0   |\n",
       "| Stop Pacifier Sucking with... | All of my kids have cried ... |  5.0   |\n",
       "| Stop Pacifier Sucking with... | When the Binky Fairy came ... |  5.0   |\n",
       "| A Tale of Baby's Days with... | Lovely book, it's bound ti... |  4.0   |\n",
       "| Baby Tracker&reg; - Daily ... | Perfect for new parents. W... |  5.0   |\n",
       "| Baby Tracker&reg; - Daily ... | A friend of mine pinned th... |  5.0   |\n",
       "| Baby Tracker&reg; - Daily ... | This has been an easy way ... |  4.0   |\n",
       "+-------------------------------+-------------------------------+--------+\n",
       "+-------------------------------+---------+-------+-----------+---------+------+\n",
       "|           word_count          | awesome | great | fantastic | amazing | love |\n",
       "+-------------------------------+---------+-------+-----------+---------+------+\n",
       "| {'great': 0, 'love': 0, 'h... |    0    |   0   |     0     |    0    |  0   |\n",
       "| {'great': 0, 'love': 1, 'h... |    0    |   0   |     0     |    0    |  1   |\n",
       "| {'great': 0, 'love': 0, 'h... |    0    |   0   |     0     |    0    |  0   |\n",
       "| {'great': 0, 'love': 3, 'h... |    0    |   0   |     0     |    0    |  3   |\n",
       "| {'great': 1, 'love': 0, 'h... |    0    |   1   |     0     |    0    |  0   |\n",
       "| {'great': 1, 'love': 0, 'h... |    0    |   1   |     0     |    0    |  0   |\n",
       "| {'great': 0, 'love': 0, 'h... |    0    |   0   |     0     |    0    |  0   |\n",
       "| {'great': 0, 'love': 0, 'h... |    0    |   0   |     0     |    0    |  0   |\n",
       "| {'great': 0, 'love': 0, 'h... |    0    |   0   |     1     |    0    |  0   |\n",
       "| {'great': 0, 'love': 0, 'h... |    0    |   0   |     0     |    0    |  0   |\n",
       "+-------------------------------+---------+-------+-----------+---------+------+\n",
       "+----------+-----+----------+-------+-----+------+\n",
       "| horrible | bad | terrible | awful | wow | hate |\n",
       "+----------+-----+----------+-------+-----+------+\n",
       "|    0     |  0  |    0     |   0   |  0  |  0   |\n",
       "|    0     |  0  |    0     |   0   |  0  |  0   |\n",
       "|    0     |  0  |    0     |   0   |  0  |  0   |\n",
       "|    0     |  0  |    0     |   0   |  0  |  0   |\n",
       "|    0     |  0  |    0     |   0   |  0  |  0   |\n",
       "|    0     |  0  |    0     |   0   |  0  |  0   |\n",
       "|    0     |  0  |    0     |   0   |  0  |  0   |\n",
       "|    0     |  0  |    0     |   0   |  0  |  0   |\n",
       "|    0     |  0  |    0     |   0   |  0  |  0   |\n",
       "|    0     |  0  |    0     |   0   |  0  |  0   |\n",
       "+----------+-----+----------+-------+-----+------+\n",
       "[10 rows x 15 columns]"
      ]
     },
     "execution_count": 6,
     "metadata": {},
     "output_type": "execute_result"
    }
   ],
   "source": [
    "#find sum of a specific word in the dictionary\n",
    "for word in selected_words:\n",
    "    product[word] = product[\"word_count\"].apply(lambda x:x[word])\n",
    "product.head()"
   ]
  },
  {
   "cell_type": "markdown",
   "metadata": {},
   "source": [
    "## Out of the 11 words in selected_words, which one is most/least used in the reviews in the dataset?"
   ]
  },
  {
   "cell_type": "code",
   "execution_count": 7,
   "metadata": {
    "collapsed": false
   },
   "outputs": [
    {
     "name": "stdout",
     "output_type": "stream",
     "text": [
      "awesome 3380\n",
      "great 51091\n",
      "fantastic 1611\n",
      "amazing 2533\n",
      "love 65236\n",
      "horrible 1081\n",
      "bad 5099\n",
      "terrible 1126\n",
      "awful 694\n",
      "wow 135\n",
      "hate 3795\n"
     ]
    }
   ],
   "source": [
    "for word in selected_words:\n",
    "    print word, product[word].sum()"
   ]
  },
  {
   "cell_type": "markdown",
   "metadata": {},
   "source": [
    "## Remind!! Difference occurs when counting\n",
    "1. Problem of using built-in bags of words: count_word in graphlab has some bugs: e.g. fantastic v.s. fantastic!(not count fantastic!) /love v.s. loved!(not count: loved)\n",
    "2. This course excluded \"rating\" == 3, but I didn't."
   ]
  },
  {
   "cell_type": "markdown",
   "metadata": {},
   "source": [
    "## ML model -- logistic classifier"
   ]
  },
  {
   "cell_type": "code",
   "execution_count": 8,
   "metadata": {
    "collapsed": true
   },
   "outputs": [],
   "source": [
    "product = product[product[\"rating\"] != 3]\n",
    "product[\"sentiment\"] = product[\"rating\"].apply(lambda x: 1 if x >3 else 0)"
   ]
  },
  {
   "cell_type": "code",
   "execution_count": 9,
   "metadata": {
    "collapsed": false
   },
   "outputs": [],
   "source": [
    "train_data,test_data = product.random_split(.8, seed=0)"
   ]
  },
  {
   "cell_type": "code",
   "execution_count": 10,
   "metadata": {
    "collapsed": false
   },
   "outputs": [
    {
     "data": {
      "text/html": [
       "<pre>Logistic regression:</pre>"
      ],
      "text/plain": [
       "Logistic regression:"
      ]
     },
     "metadata": {},
     "output_type": "display_data"
    },
    {
     "data": {
      "text/html": [
       "<pre>--------------------------------------------------------</pre>"
      ],
      "text/plain": [
       "--------------------------------------------------------"
      ]
     },
     "metadata": {},
     "output_type": "display_data"
    },
    {
     "data": {
      "text/html": [
       "<pre>Number of examples          : 133448</pre>"
      ],
      "text/plain": [
       "Number of examples          : 133448"
      ]
     },
     "metadata": {},
     "output_type": "display_data"
    },
    {
     "data": {
      "text/html": [
       "<pre>Number of classes           : 2</pre>"
      ],
      "text/plain": [
       "Number of classes           : 2"
      ]
     },
     "metadata": {},
     "output_type": "display_data"
    },
    {
     "data": {
      "text/html": [
       "<pre>Number of feature columns   : 11</pre>"
      ],
      "text/plain": [
       "Number of feature columns   : 11"
      ]
     },
     "metadata": {},
     "output_type": "display_data"
    },
    {
     "data": {
      "text/html": [
       "<pre>Number of unpacked features : 11</pre>"
      ],
      "text/plain": [
       "Number of unpacked features : 11"
      ]
     },
     "metadata": {},
     "output_type": "display_data"
    },
    {
     "data": {
      "text/html": [
       "<pre>Number of coefficients    : 12</pre>"
      ],
      "text/plain": [
       "Number of coefficients    : 12"
      ]
     },
     "metadata": {},
     "output_type": "display_data"
    },
    {
     "data": {
      "text/html": [
       "<pre>Starting Newton Method</pre>"
      ],
      "text/plain": [
       "Starting Newton Method"
      ]
     },
     "metadata": {},
     "output_type": "display_data"
    },
    {
     "data": {
      "text/html": [
       "<pre>--------------------------------------------------------</pre>"
      ],
      "text/plain": [
       "--------------------------------------------------------"
      ]
     },
     "metadata": {},
     "output_type": "display_data"
    },
    {
     "data": {
      "text/html": [
       "<pre>+-----------+----------+--------------+-------------------+---------------------+</pre>"
      ],
      "text/plain": [
       "+-----------+----------+--------------+-------------------+---------------------+"
      ]
     },
     "metadata": {},
     "output_type": "display_data"
    },
    {
     "data": {
      "text/html": [
       "<pre>| Iteration | Passes   | Elapsed Time | Training-accuracy | Validation-accuracy |</pre>"
      ],
      "text/plain": [
       "| Iteration | Passes   | Elapsed Time | Training-accuracy | Validation-accuracy |"
      ]
     },
     "metadata": {},
     "output_type": "display_data"
    },
    {
     "data": {
      "text/html": [
       "<pre>+-----------+----------+--------------+-------------------+---------------------+</pre>"
      ],
      "text/plain": [
       "+-----------+----------+--------------+-------------------+---------------------+"
      ]
     },
     "metadata": {},
     "output_type": "display_data"
    },
    {
     "data": {
      "text/html": [
       "<pre>| 1         | 2        | 1.176277     | 0.845820          | 0.844193            |</pre>"
      ],
      "text/plain": [
       "| 1         | 2        | 1.176277     | 0.845820          | 0.844193            |"
      ]
     },
     "metadata": {},
     "output_type": "display_data"
    },
    {
     "data": {
      "text/html": [
       "<pre>| 2         | 3        | 1.281397     | 0.845775          | 0.844253            |</pre>"
      ],
      "text/plain": [
       "| 2         | 3        | 1.281397     | 0.845775          | 0.844253            |"
      ]
     },
     "metadata": {},
     "output_type": "display_data"
    },
    {
     "data": {
      "text/html": [
       "<pre>| 3         | 4        | 1.384487     | 0.845873          | 0.844313            |</pre>"
      ],
      "text/plain": [
       "| 3         | 4        | 1.384487     | 0.845873          | 0.844313            |"
      ]
     },
     "metadata": {},
     "output_type": "display_data"
    },
    {
     "data": {
      "text/html": [
       "<pre>| 4         | 5        | 1.493339     | 0.845865          | 0.844313            |</pre>"
      ],
      "text/plain": [
       "| 4         | 5        | 1.493339     | 0.845865          | 0.844313            |"
      ]
     },
     "metadata": {},
     "output_type": "display_data"
    },
    {
     "data": {
      "text/html": [
       "<pre>| 5         | 6        | 1.596140     | 0.845873          | 0.844313            |</pre>"
      ],
      "text/plain": [
       "| 5         | 6        | 1.596140     | 0.845873          | 0.844313            |"
      ]
     },
     "metadata": {},
     "output_type": "display_data"
    },
    {
     "data": {
      "text/html": [
       "<pre>| 6         | 7        | 1.716683     | 0.845873          | 0.844313            |</pre>"
      ],
      "text/plain": [
       "| 6         | 7        | 1.716683     | 0.845873          | 0.844313            |"
      ]
     },
     "metadata": {},
     "output_type": "display_data"
    },
    {
     "data": {
      "text/html": [
       "<pre>+-----------+----------+--------------+-------------------+---------------------+</pre>"
      ],
      "text/plain": [
       "+-----------+----------+--------------+-------------------+---------------------+"
      ]
     },
     "metadata": {},
     "output_type": "display_data"
    },
    {
     "data": {
      "text/html": [
       "<pre>SUCCESS: Optimal solution found.</pre>"
      ],
      "text/plain": [
       "SUCCESS: Optimal solution found."
      ]
     },
     "metadata": {},
     "output_type": "display_data"
    },
    {
     "data": {
      "text/html": [
       "<pre></pre>"
      ],
      "text/plain": []
     },
     "metadata": {},
     "output_type": "display_data"
    }
   ],
   "source": [
    "selected_words_model = graphlab.logistic_classifier.create(train_data, target= \"sentiment\", features = selected_words, validation_set = test_data )"
   ]
  },
  {
   "cell_type": "markdown",
   "metadata": {},
   "source": [
    "## Out of the 11 words in selected_words, which one got the most positive/negative weight in the selected_words_model?\n",
    "\n"
   ]
  },
  {
   "cell_type": "code",
   "execution_count": 11,
   "metadata": {
    "collapsed": false
   },
   "outputs": [
    {
     "name": "stdout",
     "output_type": "stream",
     "text": [
      "+-------------+-------+-------+-----------------+------------------+\n",
      "|     name    | index | class |      value      |      stderr      |\n",
      "+-------------+-------+-------+-----------------+------------------+\n",
      "| (intercept) |  None |   1   |  1.30429674772  | 0.00908064109618 |\n",
      "|   awesome   |  None |   1   |  1.02212411097  | 0.0871664581374  |\n",
      "|    great    |  None |   1   |  0.754258263477 | 0.0194083552903  |\n",
      "|  fantastic  |  None |   1   |  0.793051167628 |  0.112391176958  |\n",
      "|   amazing   |  None |   1   |  1.07317645858  |  0.100456419415  |\n",
      "|     love    |  None |   1   |  1.20076740713  | 0.0210488901775  |\n",
      "|   horrible  |  None |   1   |  -2.15736763241 | 0.0842502747482  |\n",
      "|     bad     |  None |   1   |  -1.00686704748 | 0.0376576563717  |\n",
      "|   terrible  |  None |   1   |  -2.07373008049 |  0.079396119601  |\n",
      "|    awful    |  None |   1   |  -1.90936283887 |  0.100911763821  |\n",
      "|     wow     |  None |   1   | -0.667484764099 |  0.258120224545  |\n",
      "|     hate    |  None |   1   |  -0.71674753335 | 0.0455125193256  |\n",
      "+-------------+-------+-------+-----------------+------------------+\n",
      "[12 rows x 5 columns]\n",
      "\n"
     ]
    }
   ],
   "source": [
    "selected_words_model['coefficients'].print_rows(num_rows=12)"
   ]
  },
  {
   "cell_type": "markdown",
   "metadata": {},
   "source": [
    "## Which of the following ranges contains the accuracy of the selected_words_model on the test_data?"
   ]
  },
  {
   "cell_type": "code",
   "execution_count": 12,
   "metadata": {
    "collapsed": false
   },
   "outputs": [
    {
     "data": {
      "text/plain": [
       "{'accuracy': 0.8443129954359837,\n",
       " 'auc': 0.6907033503513523,\n",
       " 'confusion_matrix': Columns:\n",
       " \ttarget_label\tint\n",
       " \tpredicted_label\tint\n",
       " \tcount\tint\n",
       " \n",
       " Rows: 4\n",
       " \n",
       " Data:\n",
       " +--------------+-----------------+-------+\n",
       " | target_label | predicted_label | count |\n",
       " +--------------+-----------------+-------+\n",
       " |      0       |        0        |  263  |\n",
       " |      0       |        1        |  5065 |\n",
       " |      1       |        1        | 27856 |\n",
       " |      1       |        0        |  120  |\n",
       " +--------------+-----------------+-------+\n",
       " [4 rows x 3 columns],\n",
       " 'f1_score': 0.9148562326551389,\n",
       " 'log_loss': 0.4000842667631508,\n",
       " 'precision': 0.8461468363658455,\n",
       " 'recall': 0.9957106090935087,\n",
       " 'roc_curve': Columns:\n",
       " \tthreshold\tfloat\n",
       " \tfpr\tfloat\n",
       " \ttpr\tfloat\n",
       " \tp\tint\n",
       " \tn\tint\n",
       " \n",
       " Rows: 100001\n",
       " \n",
       " Data:\n",
       " +-----------+----------------+-----+-------+------+\n",
       " | threshold |      fpr       | tpr |   p   |  n   |\n",
       " +-----------+----------------+-----+-------+------+\n",
       " |    0.0    |      1.0       | 1.0 | 27976 | 5328 |\n",
       " |   1e-05   |      1.0       | 1.0 | 27976 | 5328 |\n",
       " |   2e-05   |      1.0       | 1.0 | 27976 | 5328 |\n",
       " |   3e-05   |      1.0       | 1.0 | 27976 | 5328 |\n",
       " |   4e-05   |      1.0       | 1.0 | 27976 | 5328 |\n",
       " |   5e-05   |      1.0       | 1.0 | 27976 | 5328 |\n",
       " |   6e-05   |      1.0       | 1.0 | 27976 | 5328 |\n",
       " |   7e-05   |      1.0       | 1.0 | 27976 | 5328 |\n",
       " |   8e-05   |      1.0       | 1.0 | 27976 | 5328 |\n",
       " |   9e-05   | 0.999812312312 | 1.0 | 27976 | 5328 |\n",
       " +-----------+----------------+-----+-------+------+\n",
       " [100001 rows x 5 columns]\n",
       " Note: Only the head of the SFrame is printed.\n",
       " You can use print_rows(num_rows=m, num_columns=n) to print more rows and columns.}"
      ]
     },
     "execution_count": 12,
     "metadata": {},
     "output_type": "execute_result"
    }
   ],
   "source": [
    "selected_words_model.evaluate(test_data)"
   ]
  },
  {
   "cell_type": "code",
   "execution_count": 13,
   "metadata": {
    "collapsed": false
   },
   "outputs": [
    {
     "data": {
      "application/javascript": [
       "$(\"head\").append($(\"<link/>\").attr({\n",
       "  rel:  \"stylesheet\",\n",
       "  type: \"text/css\",\n",
       "  href: \"//cdnjs.cloudflare.com/ajax/libs/font-awesome/4.1.0/css/font-awesome.min.css\"\n",
       "}));\n",
       "$(\"head\").append($(\"<link/>\").attr({\n",
       "  rel:  \"stylesheet\",\n",
       "  type: \"text/css\",\n",
       "  href: \"https://static.turi.com/products/graphlab-create/2.1/canvas/css/canvas.css\"\n",
       "}));\n",
       "\n",
       "            (function(){\n",
       "\n",
       "                var e = null;\n",
       "                if (typeof element == 'undefined') {\n",
       "                    var scripts = document.getElementsByTagName('script');\n",
       "                    var thisScriptTag = scripts[scripts.length-1];\n",
       "                    var parentDiv = thisScriptTag.parentNode;\n",
       "                    e = document.createElement('div');\n",
       "                    parentDiv.appendChild(e);\n",
       "                } else {\n",
       "                    e = element[0];\n",
       "                }\n",
       "\n",
       "                if (typeof requirejs !== 'undefined') {\n",
       "                    // disable load timeout; ipython_app.js is large and can take a while to load.\n",
       "                    requirejs.config({waitSeconds: 0});\n",
       "                }\n",
       "\n",
       "                require(['https://static.turi.com/products/graphlab-create/2.1/canvas/js/ipython_app.js'], function(IPythonApp){\n",
       "                    var app = new IPythonApp();\n",
       "                    app.attachView('model','Evaluation', {\"comparison\": null, \"selected_variable\": {\"comparison\": null, \"name\": [\"selected_words_model\"], \"view_file\": \"model\", \"view_component\": \"Evaluation\", \"view_params\": {\"model_type\": \"regression\", \"view\": \"Evaluation\"}, \"view_components\": [\"Summary\", \"Evaluation\", \"Comparison\"], \"model_type\": \"regression\", \"attributes\": {\"section_titles\": [\"Schema\", \"Hyperparameters\", \"Training Summary\", \"Settings\", \"Highest Positive Coefficients\", \"Lowest Negative Coefficients\"], \"sections\": [[[\"Number of coefficients\", 12], [\"Number of examples\", 133448], [\"Number of classes\", 2], [\"Number of feature columns\", 11], [\"Number of unpacked features\", 11]], [[\"L1 penalty\", 0.0], [\"L2 penalty\", 0.01]], [[\"Solver\", \"newton\"], [\"Solver iterations\", 6], [\"Solver status\", \"SUCCESS: Optimal solution found.\"], [\"Training time (sec)\", 1.7437]], [[\"Log-likelihood\", 53146.5739]], [[\"(intercept)\", 1.3043], [\"love\", 1.2008], [\"amazing\", 1.0732], [\"awesome\", 1.0221], [\"fantastic\", 0.7931]], [[\"horrible\", -2.1574], [\"terrible\", -2.0737], [\"awful\", -1.9094], [\"bad\", -1.0069], [\"hate\", -0.7167]]]}, \"evaluations\": [[\"test_data\", {\"f1_score\": 0.9148562326551389, \"auc\": 0.6907033503513523, \"recall\": 0.9957106090935087, \"precision\": 0.8461468363658455, \"log_loss\": 0.4000842667631508, \"roc_curve\": [{\"threshold\": 0.0, \"p\": 27976, \"fpr\": 1.0, \"tpr\": 1.0, \"n\": 5328}, {\"threshold\": 0.001, \"p\": 27976, \"fpr\": 0.9996246246246246, \"tpr\": 1.0, \"n\": 5328}, {\"threshold\": 0.002, \"p\": 27976, \"fpr\": 0.9996246246246246, \"tpr\": 1.0, \"n\": 5328}, {\"threshold\": 0.003, \"p\": 27976, \"fpr\": 0.9996246246246246, \"tpr\": 1.0, \"n\": 5328}, {\"threshold\": 0.004, \"p\": 27976, \"fpr\": 0.9996246246246246, \"tpr\": 1.0, \"n\": 5328}, {\"threshold\": 0.005, \"p\": 27976, \"fpr\": 0.9996246246246246, \"tpr\": 1.0, \"n\": 5328}, {\"threshold\": 0.006, \"p\": 27976, \"fpr\": 0.9996246246246246, \"tpr\": 1.0, \"n\": 5328}, {\"threshold\": 0.007, \"p\": 27976, \"fpr\": 0.9996246246246246, \"tpr\": 1.0, \"n\": 5328}, {\"threshold\": 0.008, \"p\": 27976, \"fpr\": 0.9992492492492493, \"tpr\": 1.0, \"n\": 5328}, {\"threshold\": 0.009, \"p\": 27976, \"fpr\": 0.9992492492492493, \"tpr\": 1.0, \"n\": 5328}, {\"threshold\": 0.01, \"p\": 27976, \"fpr\": 0.9992492492492493, \"tpr\": 1.0, \"n\": 5328}, {\"threshold\": 0.011, \"p\": 27976, \"fpr\": 0.9992492492492493, \"tpr\": 1.0, \"n\": 5328}, {\"threshold\": 0.012, \"p\": 27976, \"fpr\": 0.9990615615615616, \"tpr\": 1.0, \"n\": 5328}, {\"threshold\": 0.013, \"p\": 27976, \"fpr\": 0.9990615615615616, \"tpr\": 1.0, \"n\": 5328}, {\"threshold\": 0.014, \"p\": 27976, \"fpr\": 0.9990615615615616, \"tpr\": 1.0, \"n\": 5328}, {\"threshold\": 0.015, \"p\": 27976, \"fpr\": 0.9990615615615616, \"tpr\": 1.0, \"n\": 5328}, {\"threshold\": 0.016, \"p\": 27976, \"fpr\": 0.9990615615615616, \"tpr\": 1.0, \"n\": 5328}, {\"threshold\": 0.017, \"p\": 27976, \"fpr\": 0.9990615615615616, \"tpr\": 1.0, \"n\": 5328}, {\"threshold\": 0.018, \"p\": 27976, \"fpr\": 0.9988738738738738, \"tpr\": 0.9999642550757792, \"n\": 5328}, {\"threshold\": 0.019, \"p\": 27976, \"fpr\": 0.9986861861861862, \"tpr\": 0.9999642550757792, \"n\": 5328}, {\"threshold\": 0.02, \"p\": 27976, \"fpr\": 0.9986861861861862, \"tpr\": 0.9999642550757792, \"n\": 5328}, {\"threshold\": 0.021, \"p\": 27976, \"fpr\": 0.9986861861861862, \"tpr\": 0.9999642550757792, \"n\": 5328}, {\"threshold\": 0.022, \"p\": 27976, \"fpr\": 0.9986861861861862, \"tpr\": 0.9999642550757792, \"n\": 5328}, {\"threshold\": 0.023, \"p\": 27976, \"fpr\": 0.9986861861861862, \"tpr\": 0.9999642550757792, \"n\": 5328}, {\"threshold\": 0.024, \"p\": 27976, \"fpr\": 0.9986861861861862, \"tpr\": 0.9999642550757792, \"n\": 5328}, {\"threshold\": 0.025, \"p\": 27976, \"fpr\": 0.9984984984984985, \"tpr\": 0.9999642550757792, \"n\": 5328}, {\"threshold\": 0.026, \"p\": 27976, \"fpr\": 0.9984984984984985, \"tpr\": 0.9999642550757792, \"n\": 5328}, {\"threshold\": 0.027, \"p\": 27976, \"fpr\": 0.9984984984984985, \"tpr\": 0.9999642550757792, \"n\": 5328}, {\"threshold\": 0.028, \"p\": 27976, \"fpr\": 0.9984984984984985, \"tpr\": 0.9999642550757792, \"n\": 5328}, {\"threshold\": 0.029, \"p\": 27976, \"fpr\": 0.9984984984984985, \"tpr\": 0.9999642550757792, \"n\": 5328}, {\"threshold\": 0.03, \"p\": 27976, \"fpr\": 0.9981231231231231, \"tpr\": 0.9999642550757792, \"n\": 5328}, {\"threshold\": 0.031, \"p\": 27976, \"fpr\": 0.9981231231231231, \"tpr\": 0.9999642550757792, \"n\": 5328}, {\"threshold\": 0.032, \"p\": 27976, \"fpr\": 0.9981231231231231, \"tpr\": 0.9999642550757792, \"n\": 5328}, {\"threshold\": 0.033, \"p\": 27976, \"fpr\": 0.9981231231231231, \"tpr\": 0.9999642550757792, \"n\": 5328}, {\"threshold\": 0.034, \"p\": 27976, \"fpr\": 0.9981231231231231, \"tpr\": 0.9999642550757792, \"n\": 5328}, {\"threshold\": 0.035, \"p\": 27976, \"fpr\": 0.9981231231231231, \"tpr\": 0.9999642550757792, \"n\": 5328}, {\"threshold\": 0.036, \"p\": 27976, \"fpr\": 0.9981231231231231, \"tpr\": 0.9999642550757792, \"n\": 5328}, {\"threshold\": 0.037, \"p\": 27976, \"fpr\": 0.9981231231231231, \"tpr\": 0.9999642550757792, \"n\": 5328}, {\"threshold\": 0.038, \"p\": 27976, \"fpr\": 0.9981231231231231, \"tpr\": 0.9999642550757792, \"n\": 5328}, {\"threshold\": 0.039, \"p\": 27976, \"fpr\": 0.9981231231231231, \"tpr\": 0.9999642550757792, \"n\": 5328}, {\"threshold\": 0.04, \"p\": 27976, \"fpr\": 0.9981231231231231, \"tpr\": 0.9999642550757792, \"n\": 5328}, {\"threshold\": 0.041, \"p\": 27976, \"fpr\": 0.9981231231231231, \"tpr\": 0.9999642550757792, \"n\": 5328}, {\"threshold\": 0.042, \"p\": 27976, \"fpr\": 0.9981231231231231, \"tpr\": 0.9999642550757792, \"n\": 5328}, {\"threshold\": 0.043, \"p\": 27976, \"fpr\": 0.9981231231231231, \"tpr\": 0.9999642550757792, \"n\": 5328}, {\"threshold\": 0.044, \"p\": 27976, \"fpr\": 0.9981231231231231, \"tpr\": 0.9999642550757792, \"n\": 5328}, {\"threshold\": 0.045, \"p\": 27976, \"fpr\": 0.9981231231231231, \"tpr\": 0.9999642550757792, \"n\": 5328}, {\"threshold\": 0.046, \"p\": 27976, \"fpr\": 0.9981231231231231, \"tpr\": 0.9999642550757792, \"n\": 5328}, {\"threshold\": 0.047, \"p\": 27976, \"fpr\": 0.996996996996997, \"tpr\": 0.9999642550757792, \"n\": 5328}, {\"threshold\": 0.048, \"p\": 27976, \"fpr\": 0.996996996996997, \"tpr\": 0.9999642550757792, \"n\": 5328}, {\"threshold\": 0.049, \"p\": 27976, \"fpr\": 0.996996996996997, \"tpr\": 0.9999642550757792, \"n\": 5328}, {\"threshold\": 0.05, \"p\": 27976, \"fpr\": 0.996996996996997, \"tpr\": 0.9999642550757792, \"n\": 5328}, {\"threshold\": 0.051, \"p\": 27976, \"fpr\": 0.996433933933934, \"tpr\": 0.9999642550757792, \"n\": 5328}, {\"threshold\": 0.052, \"p\": 27976, \"fpr\": 0.996433933933934, \"tpr\": 0.9999642550757792, \"n\": 5328}, {\"threshold\": 0.053, \"p\": 27976, \"fpr\": 0.996433933933934, \"tpr\": 0.9999642550757792, \"n\": 5328}, {\"threshold\": 0.054, \"p\": 27976, \"fpr\": 0.9962462462462462, \"tpr\": 0.9999642550757792, \"n\": 5328}, {\"threshold\": 0.055, \"p\": 27976, \"fpr\": 0.9960585585585585, \"tpr\": 0.9999642550757792, \"n\": 5328}, {\"threshold\": 0.056, \"p\": 27976, \"fpr\": 0.9958708708708709, \"tpr\": 0.9999642550757792, \"n\": 5328}, {\"threshold\": 0.057, \"p\": 27976, \"fpr\": 0.9958708708708709, \"tpr\": 0.9999642550757792, \"n\": 5328}, {\"threshold\": 0.058, \"p\": 27976, \"fpr\": 0.9956831831831832, \"tpr\": 0.9999642550757792, \"n\": 5328}, {\"threshold\": 0.059, \"p\": 27976, \"fpr\": 0.9956831831831832, \"tpr\": 0.9999642550757792, \"n\": 5328}, {\"threshold\": 0.06, \"p\": 27976, \"fpr\": 0.9954954954954955, \"tpr\": 0.9999285101515585, \"n\": 5328}, {\"threshold\": 0.061, \"p\": 27976, \"fpr\": 0.9954954954954955, \"tpr\": 0.9999285101515585, \"n\": 5328}, {\"threshold\": 0.062, \"p\": 27976, \"fpr\": 0.9954954954954955, \"tpr\": 0.9999285101515585, \"n\": 5328}, {\"threshold\": 0.063, \"p\": 27976, \"fpr\": 0.9954954954954955, \"tpr\": 0.9999285101515585, \"n\": 5328}, {\"threshold\": 0.064, \"p\": 27976, \"fpr\": 0.9954954954954955, \"tpr\": 0.9999285101515585, \"n\": 5328}, {\"threshold\": 0.065, \"p\": 27976, \"fpr\": 0.9954954954954955, \"tpr\": 0.9999285101515585, \"n\": 5328}, {\"threshold\": 0.066, \"p\": 27976, \"fpr\": 0.9954954954954955, \"tpr\": 0.9999285101515585, \"n\": 5328}, {\"threshold\": 0.067, \"p\": 27976, \"fpr\": 0.9954954954954955, \"tpr\": 0.9999285101515585, \"n\": 5328}, {\"threshold\": 0.068, \"p\": 27976, \"fpr\": 0.9954954954954955, \"tpr\": 0.9999285101515585, \"n\": 5328}, {\"threshold\": 0.069, \"p\": 27976, \"fpr\": 0.9954954954954955, \"tpr\": 0.9999285101515585, \"n\": 5328}, {\"threshold\": 0.07, \"p\": 27976, \"fpr\": 0.9954954954954955, \"tpr\": 0.9999285101515585, \"n\": 5328}, {\"threshold\": 0.071, \"p\": 27976, \"fpr\": 0.9954954954954955, \"tpr\": 0.9999285101515585, \"n\": 5328}, {\"threshold\": 0.072, \"p\": 27976, \"fpr\": 0.9954954954954955, \"tpr\": 0.9999285101515585, \"n\": 5328}, {\"threshold\": 0.073, \"p\": 27976, \"fpr\": 0.9954954954954955, \"tpr\": 0.9999285101515585, \"n\": 5328}, {\"threshold\": 0.074, \"p\": 27976, \"fpr\": 0.9954954954954955, \"tpr\": 0.9999285101515585, \"n\": 5328}, {\"threshold\": 0.075, \"p\": 27976, \"fpr\": 0.9953078078078078, \"tpr\": 0.9999285101515585, \"n\": 5328}, {\"threshold\": 0.076, \"p\": 27976, \"fpr\": 0.9953078078078078, \"tpr\": 0.9999285101515585, \"n\": 5328}, {\"threshold\": 0.077, \"p\": 27976, \"fpr\": 0.9953078078078078, \"tpr\": 0.9999285101515585, \"n\": 5328}, {\"threshold\": 0.078, \"p\": 27976, \"fpr\": 0.9953078078078078, \"tpr\": 0.9999285101515585, \"n\": 5328}, {\"threshold\": 0.079, \"p\": 27976, \"fpr\": 0.9953078078078078, \"tpr\": 0.9999285101515585, \"n\": 5328}, {\"threshold\": 0.08, \"p\": 27976, \"fpr\": 0.9953078078078078, \"tpr\": 0.9999285101515585, \"n\": 5328}, {\"threshold\": 0.081, \"p\": 27976, \"fpr\": 0.9953078078078078, \"tpr\": 0.9999285101515585, \"n\": 5328}, {\"threshold\": 0.082, \"p\": 27976, \"fpr\": 0.9953078078078078, \"tpr\": 0.9999285101515585, \"n\": 5328}, {\"threshold\": 0.083, \"p\": 27976, \"fpr\": 0.9953078078078078, \"tpr\": 0.9999285101515585, \"n\": 5328}, {\"threshold\": 0.084, \"p\": 27976, \"fpr\": 0.9953078078078078, \"tpr\": 0.9999285101515585, \"n\": 5328}, {\"threshold\": 0.085, \"p\": 27976, \"fpr\": 0.9953078078078078, \"tpr\": 0.9999285101515585, \"n\": 5328}, {\"threshold\": 0.086, \"p\": 27976, \"fpr\": 0.9953078078078078, \"tpr\": 0.9999285101515585, \"n\": 5328}, {\"threshold\": 0.087, \"p\": 27976, \"fpr\": 0.9953078078078078, \"tpr\": 0.9999285101515585, \"n\": 5328}, {\"threshold\": 0.088, \"p\": 27976, \"fpr\": 0.9953078078078078, \"tpr\": 0.9999285101515585, \"n\": 5328}, {\"threshold\": 0.089, \"p\": 27976, \"fpr\": 0.9953078078078078, \"tpr\": 0.9999285101515585, \"n\": 5328}, {\"threshold\": 0.09, \"p\": 27976, \"fpr\": 0.9953078078078078, \"tpr\": 0.9999285101515585, \"n\": 5328}, {\"threshold\": 0.091, \"p\": 27976, \"fpr\": 0.9953078078078078, \"tpr\": 0.9999285101515585, \"n\": 5328}, {\"threshold\": 0.092, \"p\": 27976, \"fpr\": 0.9953078078078078, \"tpr\": 0.9999285101515585, \"n\": 5328}, {\"threshold\": 0.093, \"p\": 27976, \"fpr\": 0.9953078078078078, \"tpr\": 0.9999285101515585, \"n\": 5328}, {\"threshold\": 0.094, \"p\": 27976, \"fpr\": 0.9953078078078078, \"tpr\": 0.9999285101515585, \"n\": 5328}, {\"threshold\": 0.095, \"p\": 27976, \"fpr\": 0.9953078078078078, \"tpr\": 0.9999285101515585, \"n\": 5328}, {\"threshold\": 0.096, \"p\": 27976, \"fpr\": 0.9953078078078078, \"tpr\": 0.9999285101515585, \"n\": 5328}, {\"threshold\": 0.097, \"p\": 27976, \"fpr\": 0.9953078078078078, \"tpr\": 0.9999285101515585, \"n\": 5328}, {\"threshold\": 0.098, \"p\": 27976, \"fpr\": 0.9953078078078078, \"tpr\": 0.9999285101515585, \"n\": 5328}, {\"threshold\": 0.099, \"p\": 27976, \"fpr\": 0.9953078078078078, \"tpr\": 0.9999285101515585, \"n\": 5328}, {\"threshold\": 0.1, \"p\": 27976, \"fpr\": 0.9953078078078078, \"tpr\": 0.9999285101515585, \"n\": 5328}, {\"threshold\": 0.101, \"p\": 27976, \"fpr\": 0.9953078078078078, \"tpr\": 0.9999285101515585, \"n\": 5328}, {\"threshold\": 0.102, \"p\": 27976, \"fpr\": 0.9953078078078078, \"tpr\": 0.9999285101515585, \"n\": 5328}, {\"threshold\": 0.103, \"p\": 27976, \"fpr\": 0.9953078078078078, \"tpr\": 0.9999285101515585, \"n\": 5328}, {\"threshold\": 0.104, \"p\": 27976, \"fpr\": 0.9953078078078078, \"tpr\": 0.9999285101515585, \"n\": 5328}, {\"threshold\": 0.105, \"p\": 27976, \"fpr\": 0.9953078078078078, \"tpr\": 0.9999285101515585, \"n\": 5328}, {\"threshold\": 0.106, \"p\": 27976, \"fpr\": 0.9953078078078078, \"tpr\": 0.9999285101515585, \"n\": 5328}, {\"threshold\": 0.107, \"p\": 27976, \"fpr\": 0.9953078078078078, \"tpr\": 0.9999285101515585, \"n\": 5328}, {\"threshold\": 0.108, \"p\": 27976, \"fpr\": 0.9953078078078078, \"tpr\": 0.9999285101515585, \"n\": 5328}, {\"threshold\": 0.109, \"p\": 27976, \"fpr\": 0.9953078078078078, \"tpr\": 0.9999285101515585, \"n\": 5328}, {\"threshold\": 0.11, \"p\": 27976, \"fpr\": 0.9953078078078078, \"tpr\": 0.9999285101515585, \"n\": 5328}, {\"threshold\": 0.111, \"p\": 27976, \"fpr\": 0.9951201201201201, \"tpr\": 0.9999285101515585, \"n\": 5328}, {\"threshold\": 0.112, \"p\": 27976, \"fpr\": 0.9951201201201201, \"tpr\": 0.9999285101515585, \"n\": 5328}, {\"threshold\": 0.113, \"p\": 27976, \"fpr\": 0.9951201201201201, \"tpr\": 0.9999285101515585, \"n\": 5328}, {\"threshold\": 0.114, \"p\": 27976, \"fpr\": 0.9951201201201201, \"tpr\": 0.9999285101515585, \"n\": 5328}, {\"threshold\": 0.115, \"p\": 27976, \"fpr\": 0.9951201201201201, \"tpr\": 0.9999285101515585, \"n\": 5328}, {\"threshold\": 0.116, \"p\": 27976, \"fpr\": 0.9951201201201201, \"tpr\": 0.9999285101515585, \"n\": 5328}, {\"threshold\": 0.117, \"p\": 27976, \"fpr\": 0.9951201201201201, \"tpr\": 0.9999285101515585, \"n\": 5328}, {\"threshold\": 0.118, \"p\": 27976, \"fpr\": 0.9951201201201201, \"tpr\": 0.9999285101515585, \"n\": 5328}, {\"threshold\": 0.119, \"p\": 27976, \"fpr\": 0.9951201201201201, \"tpr\": 0.9999285101515585, \"n\": 5328}, {\"threshold\": 0.12, \"p\": 27976, \"fpr\": 0.9951201201201201, \"tpr\": 0.9999285101515585, \"n\": 5328}, {\"threshold\": 0.121, \"p\": 27976, \"fpr\": 0.9951201201201201, \"tpr\": 0.9999285101515585, \"n\": 5328}, {\"threshold\": 0.122, \"p\": 27976, \"fpr\": 0.9951201201201201, \"tpr\": 0.9999285101515585, \"n\": 5328}, {\"threshold\": 0.123, \"p\": 27976, \"fpr\": 0.9951201201201201, \"tpr\": 0.9999285101515585, \"n\": 5328}, {\"threshold\": 0.124, \"p\": 27976, \"fpr\": 0.9951201201201201, \"tpr\": 0.9999285101515585, \"n\": 5328}, {\"threshold\": 0.125, \"p\": 27976, \"fpr\": 0.9951201201201201, \"tpr\": 0.9999285101515585, \"n\": 5328}, {\"threshold\": 0.126, \"p\": 27976, \"fpr\": 0.9951201201201201, \"tpr\": 0.9999285101515585, \"n\": 5328}, {\"threshold\": 0.127, \"p\": 27976, \"fpr\": 0.9951201201201201, \"tpr\": 0.9999285101515585, \"n\": 5328}, {\"threshold\": 0.128, \"p\": 27976, \"fpr\": 0.9951201201201201, \"tpr\": 0.9999285101515585, \"n\": 5328}, {\"threshold\": 0.129, \"p\": 27976, \"fpr\": 0.9951201201201201, \"tpr\": 0.9999285101515585, \"n\": 5328}, {\"threshold\": 0.13, \"p\": 27976, \"fpr\": 0.9951201201201201, \"tpr\": 0.9999285101515585, \"n\": 5328}, {\"threshold\": 0.131, \"p\": 27976, \"fpr\": 0.9951201201201201, \"tpr\": 0.9999285101515585, \"n\": 5328}, {\"threshold\": 0.132, \"p\": 27976, \"fpr\": 0.9951201201201201, \"tpr\": 0.9999285101515585, \"n\": 5328}, {\"threshold\": 0.133, \"p\": 27976, \"fpr\": 0.9951201201201201, \"tpr\": 0.9999285101515585, \"n\": 5328}, {\"threshold\": 0.134, \"p\": 27976, \"fpr\": 0.9951201201201201, \"tpr\": 0.9999285101515585, \"n\": 5328}, {\"threshold\": 0.135, \"p\": 27976, \"fpr\": 0.993993993993994, \"tpr\": 0.9999285101515585, \"n\": 5328}, {\"threshold\": 0.136, \"p\": 27976, \"fpr\": 0.993993993993994, \"tpr\": 0.9999285101515585, \"n\": 5328}, {\"threshold\": 0.137, \"p\": 27976, \"fpr\": 0.993993993993994, \"tpr\": 0.9999285101515585, \"n\": 5328}, {\"threshold\": 0.138, \"p\": 27976, \"fpr\": 0.993993993993994, \"tpr\": 0.9999285101515585, \"n\": 5328}, {\"threshold\": 0.139, \"p\": 27976, \"fpr\": 0.993993993993994, \"tpr\": 0.9999285101515585, \"n\": 5328}, {\"threshold\": 0.14, \"p\": 27976, \"fpr\": 0.993993993993994, \"tpr\": 0.9999285101515585, \"n\": 5328}, {\"threshold\": 0.141, \"p\": 27976, \"fpr\": 0.993993993993994, \"tpr\": 0.9999285101515585, \"n\": 5328}, {\"threshold\": 0.142, \"p\": 27976, \"fpr\": 0.993993993993994, \"tpr\": 0.9999285101515585, \"n\": 5328}, {\"threshold\": 0.143, \"p\": 27976, \"fpr\": 0.993993993993994, \"tpr\": 0.9999285101515585, \"n\": 5328}, {\"threshold\": 0.144, \"p\": 27976, \"fpr\": 0.993993993993994, \"tpr\": 0.9999285101515585, \"n\": 5328}, {\"threshold\": 0.145, \"p\": 27976, \"fpr\": 0.9928678678678678, \"tpr\": 0.999857020303117, \"n\": 5328}, {\"threshold\": 0.146, \"p\": 27976, \"fpr\": 0.9928678678678678, \"tpr\": 0.999857020303117, \"n\": 5328}, {\"threshold\": 0.147, \"p\": 27976, \"fpr\": 0.9928678678678678, \"tpr\": 0.999857020303117, \"n\": 5328}, {\"threshold\": 0.148, \"p\": 27976, \"fpr\": 0.9928678678678678, \"tpr\": 0.999857020303117, \"n\": 5328}, {\"threshold\": 0.149, \"p\": 27976, \"fpr\": 0.9928678678678678, \"tpr\": 0.999857020303117, \"n\": 5328}, {\"threshold\": 0.15, \"p\": 27976, \"fpr\": 0.9928678678678678, \"tpr\": 0.999857020303117, \"n\": 5328}, {\"threshold\": 0.151, \"p\": 27976, \"fpr\": 0.9928678678678678, \"tpr\": 0.999857020303117, \"n\": 5328}, {\"threshold\": 0.152, \"p\": 27976, \"fpr\": 0.9928678678678678, \"tpr\": 0.9998212753788962, \"n\": 5328}, {\"threshold\": 0.153, \"p\": 27976, \"fpr\": 0.9926801801801802, \"tpr\": 0.9998212753788962, \"n\": 5328}, {\"threshold\": 0.154, \"p\": 27976, \"fpr\": 0.9926801801801802, \"tpr\": 0.9998212753788962, \"n\": 5328}, {\"threshold\": 0.155, \"p\": 27976, \"fpr\": 0.9926801801801802, \"tpr\": 0.9998212753788962, \"n\": 5328}, {\"threshold\": 0.156, \"p\": 27976, \"fpr\": 0.9926801801801802, \"tpr\": 0.9998212753788962, \"n\": 5328}, {\"threshold\": 0.157, \"p\": 27976, \"fpr\": 0.9926801801801802, \"tpr\": 0.9998212753788962, \"n\": 5328}, {\"threshold\": 0.158, \"p\": 27976, \"fpr\": 0.9926801801801802, \"tpr\": 0.9998212753788962, \"n\": 5328}, {\"threshold\": 0.159, \"p\": 27976, \"fpr\": 0.9926801801801802, \"tpr\": 0.9997855304546754, \"n\": 5328}, {\"threshold\": 0.16, \"p\": 27976, \"fpr\": 0.9926801801801802, \"tpr\": 0.9997855304546754, \"n\": 5328}, {\"threshold\": 0.161, \"p\": 27976, \"fpr\": 0.9926801801801802, \"tpr\": 0.9997855304546754, \"n\": 5328}, {\"threshold\": 0.162, \"p\": 27976, \"fpr\": 0.9926801801801802, \"tpr\": 0.9997855304546754, \"n\": 5328}, {\"threshold\": 0.163, \"p\": 27976, \"fpr\": 0.9926801801801802, \"tpr\": 0.9997497855304547, \"n\": 5328}, {\"threshold\": 0.164, \"p\": 27976, \"fpr\": 0.9926801801801802, \"tpr\": 0.9997497855304547, \"n\": 5328}, {\"threshold\": 0.165, \"p\": 27976, \"fpr\": 0.9926801801801802, \"tpr\": 0.9997497855304547, \"n\": 5328}, {\"threshold\": 0.166, \"p\": 27976, \"fpr\": 0.9926801801801802, \"tpr\": 0.9997497855304547, \"n\": 5328}, {\"threshold\": 0.167, \"p\": 27976, \"fpr\": 0.9917417417417418, \"tpr\": 0.9996782956820132, \"n\": 5328}, {\"threshold\": 0.168, \"p\": 27976, \"fpr\": 0.9917417417417418, \"tpr\": 0.9996782956820132, \"n\": 5328}, {\"threshold\": 0.169, \"p\": 27976, \"fpr\": 0.9917417417417418, \"tpr\": 0.9996782956820132, \"n\": 5328}, {\"threshold\": 0.17, \"p\": 27976, \"fpr\": 0.9917417417417418, \"tpr\": 0.9996782956820132, \"n\": 5328}, {\"threshold\": 0.171, \"p\": 27976, \"fpr\": 0.9917417417417418, \"tpr\": 0.9996782956820132, \"n\": 5328}, {\"threshold\": 0.172, \"p\": 27976, \"fpr\": 0.9917417417417418, \"tpr\": 0.9996782956820132, \"n\": 5328}, {\"threshold\": 0.173, \"p\": 27976, \"fpr\": 0.9913663663663663, \"tpr\": 0.9996068058335716, \"n\": 5328}, {\"threshold\": 0.174, \"p\": 27976, \"fpr\": 0.9913663663663663, \"tpr\": 0.9996068058335716, \"n\": 5328}, {\"threshold\": 0.175, \"p\": 27976, \"fpr\": 0.9913663663663663, \"tpr\": 0.9996068058335716, \"n\": 5328}, {\"threshold\": 0.176, \"p\": 27976, \"fpr\": 0.9913663663663663, \"tpr\": 0.9996068058335716, \"n\": 5328}, {\"threshold\": 0.177, \"p\": 27976, \"fpr\": 0.9913663663663663, \"tpr\": 0.9996068058335716, \"n\": 5328}, {\"threshold\": 0.178, \"p\": 27976, \"fpr\": 0.9913663663663663, \"tpr\": 0.9996068058335716, \"n\": 5328}, {\"threshold\": 0.179, \"p\": 27976, \"fpr\": 0.9913663663663663, \"tpr\": 0.9996068058335716, \"n\": 5328}, {\"threshold\": 0.18, \"p\": 27976, \"fpr\": 0.9913663663663663, \"tpr\": 0.9996068058335716, \"n\": 5328}, {\"threshold\": 0.181, \"p\": 27976, \"fpr\": 0.9913663663663663, \"tpr\": 0.9996068058335716, \"n\": 5328}, {\"threshold\": 0.182, \"p\": 27976, \"fpr\": 0.9913663663663663, \"tpr\": 0.9996068058335716, \"n\": 5328}, {\"threshold\": 0.183, \"p\": 27976, \"fpr\": 0.9911786786786787, \"tpr\": 0.9996068058335716, \"n\": 5328}, {\"threshold\": 0.184, \"p\": 27976, \"fpr\": 0.9911786786786787, \"tpr\": 0.9996068058335716, \"n\": 5328}, {\"threshold\": 0.185, \"p\": 27976, \"fpr\": 0.9908033033033034, \"tpr\": 0.9995710609093509, \"n\": 5328}, {\"threshold\": 0.186, \"p\": 27976, \"fpr\": 0.9908033033033034, \"tpr\": 0.9995353159851301, \"n\": 5328}, {\"threshold\": 0.187, \"p\": 27976, \"fpr\": 0.9908033033033034, \"tpr\": 0.9995353159851301, \"n\": 5328}, {\"threshold\": 0.188, \"p\": 27976, \"fpr\": 0.9908033033033034, \"tpr\": 0.9995353159851301, \"n\": 5328}, {\"threshold\": 0.189, \"p\": 27976, \"fpr\": 0.9908033033033034, \"tpr\": 0.9995353159851301, \"n\": 5328}, {\"threshold\": 0.19, \"p\": 27976, \"fpr\": 0.9908033033033034, \"tpr\": 0.9995353159851301, \"n\": 5328}, {\"threshold\": 0.191, \"p\": 27976, \"fpr\": 0.9908033033033034, \"tpr\": 0.9995353159851301, \"n\": 5328}, {\"threshold\": 0.192, \"p\": 27976, \"fpr\": 0.9908033033033034, \"tpr\": 0.9995353159851301, \"n\": 5328}, {\"threshold\": 0.193, \"p\": 27976, \"fpr\": 0.9908033033033034, \"tpr\": 0.9995353159851301, \"n\": 5328}, {\"threshold\": 0.194, \"p\": 27976, \"fpr\": 0.9908033033033034, \"tpr\": 0.9995353159851301, \"n\": 5328}, {\"threshold\": 0.195, \"p\": 27976, \"fpr\": 0.9908033033033034, \"tpr\": 0.9995353159851301, \"n\": 5328}, {\"threshold\": 0.196, \"p\": 27976, \"fpr\": 0.9908033033033034, \"tpr\": 0.9995353159851301, \"n\": 5328}, {\"threshold\": 0.197, \"p\": 27976, \"fpr\": 0.9908033033033034, \"tpr\": 0.9995353159851301, \"n\": 5328}, {\"threshold\": 0.198, \"p\": 27976, \"fpr\": 0.9908033033033034, \"tpr\": 0.9995353159851301, \"n\": 5328}, {\"threshold\": 0.199, \"p\": 27976, \"fpr\": 0.9908033033033034, \"tpr\": 0.9995353159851301, \"n\": 5328}, {\"threshold\": 0.2, \"p\": 27976, \"fpr\": 0.9908033033033034, \"tpr\": 0.9995353159851301, \"n\": 5328}, {\"threshold\": 0.201, \"p\": 27976, \"fpr\": 0.9908033033033034, \"tpr\": 0.9995353159851301, \"n\": 5328}, {\"threshold\": 0.202, \"p\": 27976, \"fpr\": 0.9908033033033034, \"tpr\": 0.9995353159851301, \"n\": 5328}, {\"threshold\": 0.203, \"p\": 27976, \"fpr\": 0.9908033033033034, \"tpr\": 0.9995353159851301, \"n\": 5328}, {\"threshold\": 0.204, \"p\": 27976, \"fpr\": 0.9908033033033034, \"tpr\": 0.9995353159851301, \"n\": 5328}, {\"threshold\": 0.205, \"p\": 27976, \"fpr\": 0.9908033033033034, \"tpr\": 0.9995353159851301, \"n\": 5328}, {\"threshold\": 0.206, \"p\": 27976, \"fpr\": 0.9908033033033034, \"tpr\": 0.9995353159851301, \"n\": 5328}, {\"threshold\": 0.207, \"p\": 27976, \"fpr\": 0.9908033033033034, \"tpr\": 0.9995353159851301, \"n\": 5328}, {\"threshold\": 0.208, \"p\": 27976, \"fpr\": 0.9908033033033034, \"tpr\": 0.9995353159851301, \"n\": 5328}, {\"threshold\": 0.209, \"p\": 27976, \"fpr\": 0.9908033033033034, \"tpr\": 0.9995353159851301, \"n\": 5328}, {\"threshold\": 0.21, \"p\": 27976, \"fpr\": 0.9908033033033034, \"tpr\": 0.9995353159851301, \"n\": 5328}, {\"threshold\": 0.211, \"p\": 27976, \"fpr\": 0.9900525525525525, \"tpr\": 0.9995353159851301, \"n\": 5328}, {\"threshold\": 0.212, \"p\": 27976, \"fpr\": 0.9900525525525525, \"tpr\": 0.9995353159851301, \"n\": 5328}, {\"threshold\": 0.213, \"p\": 27976, \"fpr\": 0.9900525525525525, \"tpr\": 0.9995353159851301, \"n\": 5328}, {\"threshold\": 0.214, \"p\": 27976, \"fpr\": 0.9900525525525525, \"tpr\": 0.9995353159851301, \"n\": 5328}, {\"threshold\": 0.215, \"p\": 27976, \"fpr\": 0.9900525525525525, \"tpr\": 0.9995353159851301, \"n\": 5328}, {\"threshold\": 0.216, \"p\": 27976, \"fpr\": 0.9900525525525525, \"tpr\": 0.9994995710609094, \"n\": 5328}, {\"threshold\": 0.217, \"p\": 27976, \"fpr\": 0.9900525525525525, \"tpr\": 0.9994995710609094, \"n\": 5328}, {\"threshold\": 0.218, \"p\": 27976, \"fpr\": 0.9900525525525525, \"tpr\": 0.9994995710609094, \"n\": 5328}, {\"threshold\": 0.219, \"p\": 27976, \"fpr\": 0.9900525525525525, \"tpr\": 0.9994995710609094, \"n\": 5328}, {\"threshold\": 0.22, \"p\": 27976, \"fpr\": 0.9900525525525525, \"tpr\": 0.9994995710609094, \"n\": 5328}, {\"threshold\": 0.221, \"p\": 27976, \"fpr\": 0.9900525525525525, \"tpr\": 0.9994995710609094, \"n\": 5328}, {\"threshold\": 0.222, \"p\": 27976, \"fpr\": 0.9900525525525525, \"tpr\": 0.9994995710609094, \"n\": 5328}, {\"threshold\": 0.223, \"p\": 27976, \"fpr\": 0.9900525525525525, \"tpr\": 0.9994995710609094, \"n\": 5328}, {\"threshold\": 0.224, \"p\": 27976, \"fpr\": 0.9900525525525525, \"tpr\": 0.9994995710609094, \"n\": 5328}, {\"threshold\": 0.225, \"p\": 27976, \"fpr\": 0.9900525525525525, \"tpr\": 0.9994995710609094, \"n\": 5328}, {\"threshold\": 0.226, \"p\": 27976, \"fpr\": 0.9900525525525525, \"tpr\": 0.9994995710609094, \"n\": 5328}, {\"threshold\": 0.227, \"p\": 27976, \"fpr\": 0.9900525525525525, \"tpr\": 0.9994995710609094, \"n\": 5328}, {\"threshold\": 0.228, \"p\": 27976, \"fpr\": 0.9900525525525525, \"tpr\": 0.9994995710609094, \"n\": 5328}, {\"threshold\": 0.229, \"p\": 27976, \"fpr\": 0.9900525525525525, \"tpr\": 0.9994995710609094, \"n\": 5328}, {\"threshold\": 0.23, \"p\": 27976, \"fpr\": 0.9900525525525525, \"tpr\": 0.9994995710609094, \"n\": 5328}, {\"threshold\": 0.231, \"p\": 27976, \"fpr\": 0.9900525525525525, \"tpr\": 0.9994995710609094, \"n\": 5328}, {\"threshold\": 0.232, \"p\": 27976, \"fpr\": 0.9900525525525525, \"tpr\": 0.9994995710609094, \"n\": 5328}, {\"threshold\": 0.233, \"p\": 27976, \"fpr\": 0.9900525525525525, \"tpr\": 0.9994995710609094, \"n\": 5328}, {\"threshold\": 0.234, \"p\": 27976, \"fpr\": 0.9900525525525525, \"tpr\": 0.9994995710609094, \"n\": 5328}, {\"threshold\": 0.235, \"p\": 27976, \"fpr\": 0.9900525525525525, \"tpr\": 0.9994995710609094, \"n\": 5328}, {\"threshold\": 0.236, \"p\": 27976, \"fpr\": 0.9900525525525525, \"tpr\": 0.9994995710609094, \"n\": 5328}, {\"threshold\": 0.237, \"p\": 27976, \"fpr\": 0.9900525525525525, \"tpr\": 0.9994995710609094, \"n\": 5328}, {\"threshold\": 0.238, \"p\": 27976, \"fpr\": 0.9900525525525525, \"tpr\": 0.9994995710609094, \"n\": 5328}, {\"threshold\": 0.239, \"p\": 27976, \"fpr\": 0.9900525525525525, \"tpr\": 0.9994995710609094, \"n\": 5328}, {\"threshold\": 0.24, \"p\": 27976, \"fpr\": 0.9900525525525525, \"tpr\": 0.9994995710609094, \"n\": 5328}, {\"threshold\": 0.241, \"p\": 27976, \"fpr\": 0.9900525525525525, \"tpr\": 0.9994995710609094, \"n\": 5328}, {\"threshold\": 0.242, \"p\": 27976, \"fpr\": 0.9900525525525525, \"tpr\": 0.9994995710609094, \"n\": 5328}, {\"threshold\": 0.243, \"p\": 27976, \"fpr\": 0.9900525525525525, \"tpr\": 0.9994995710609094, \"n\": 5328}, {\"threshold\": 0.244, \"p\": 27976, \"fpr\": 0.9900525525525525, \"tpr\": 0.9994995710609094, \"n\": 5328}, {\"threshold\": 0.245, \"p\": 27976, \"fpr\": 0.9900525525525525, \"tpr\": 0.9994995710609094, \"n\": 5328}, {\"threshold\": 0.246, \"p\": 27976, \"fpr\": 0.9900525525525525, \"tpr\": 0.9994995710609094, \"n\": 5328}, {\"threshold\": 0.247, \"p\": 27976, \"fpr\": 0.9900525525525525, \"tpr\": 0.9994995710609094, \"n\": 5328}, {\"threshold\": 0.248, \"p\": 27976, \"fpr\": 0.9900525525525525, \"tpr\": 0.9994995710609094, \"n\": 5328}, {\"threshold\": 0.249, \"p\": 27976, \"fpr\": 0.9898648648648649, \"tpr\": 0.9994995710609094, \"n\": 5328}, {\"threshold\": 0.25, \"p\": 27976, \"fpr\": 0.9898648648648649, \"tpr\": 0.9994995710609094, \"n\": 5328}, {\"threshold\": 0.251, \"p\": 27976, \"fpr\": 0.9898648648648649, \"tpr\": 0.9994995710609094, \"n\": 5328}, {\"threshold\": 0.252, \"p\": 27976, \"fpr\": 0.9898648648648649, \"tpr\": 0.9994995710609094, \"n\": 5328}, {\"threshold\": 0.253, \"p\": 27976, \"fpr\": 0.9898648648648649, \"tpr\": 0.9994638261366886, \"n\": 5328}, {\"threshold\": 0.254, \"p\": 27976, \"fpr\": 0.9898648648648649, \"tpr\": 0.9994638261366886, \"n\": 5328}, {\"threshold\": 0.255, \"p\": 27976, \"fpr\": 0.9898648648648649, \"tpr\": 0.9994638261366886, \"n\": 5328}, {\"threshold\": 0.256, \"p\": 27976, \"fpr\": 0.9898648648648649, \"tpr\": 0.9994638261366886, \"n\": 5328}, {\"threshold\": 0.257, \"p\": 27976, \"fpr\": 0.9898648648648649, \"tpr\": 0.9994638261366886, \"n\": 5328}, {\"threshold\": 0.258, \"p\": 27976, \"fpr\": 0.9898648648648649, \"tpr\": 0.9994638261366886, \"n\": 5328}, {\"threshold\": 0.259, \"p\": 27976, \"fpr\": 0.9898648648648649, \"tpr\": 0.9994638261366886, \"n\": 5328}, {\"threshold\": 0.26, \"p\": 27976, \"fpr\": 0.9898648648648649, \"tpr\": 0.9994638261366886, \"n\": 5328}, {\"threshold\": 0.261, \"p\": 27976, \"fpr\": 0.9898648648648649, \"tpr\": 0.9994638261366886, \"n\": 5328}, {\"threshold\": 0.262, \"p\": 27976, \"fpr\": 0.9898648648648649, \"tpr\": 0.9994638261366886, \"n\": 5328}, {\"threshold\": 0.263, \"p\": 27976, \"fpr\": 0.9898648648648649, \"tpr\": 0.9994638261366886, \"n\": 5328}, {\"threshold\": 0.264, \"p\": 27976, \"fpr\": 0.9898648648648649, \"tpr\": 0.9994638261366886, \"n\": 5328}, {\"threshold\": 0.265, \"p\": 27976, \"fpr\": 0.9898648648648649, \"tpr\": 0.9994638261366886, \"n\": 5328}, {\"threshold\": 0.266, \"p\": 27976, \"fpr\": 0.9898648648648649, \"tpr\": 0.9994638261366886, \"n\": 5328}, {\"threshold\": 0.267, \"p\": 27976, \"fpr\": 0.9898648648648649, \"tpr\": 0.9994638261366886, \"n\": 5328}, {\"threshold\": 0.268, \"p\": 27976, \"fpr\": 0.9898648648648649, \"tpr\": 0.9994638261366886, \"n\": 5328}, {\"threshold\": 0.269, \"p\": 27976, \"fpr\": 0.9898648648648649, \"tpr\": 0.9994638261366886, \"n\": 5328}, {\"threshold\": 0.27, \"p\": 27976, \"fpr\": 0.9898648648648649, \"tpr\": 0.9994638261366886, \"n\": 5328}, {\"threshold\": 0.271, \"p\": 27976, \"fpr\": 0.9898648648648649, \"tpr\": 0.9994638261366886, \"n\": 5328}, {\"threshold\": 0.272, \"p\": 27976, \"fpr\": 0.9898648648648649, \"tpr\": 0.9994638261366886, \"n\": 5328}, {\"threshold\": 0.273, \"p\": 27976, \"fpr\": 0.9898648648648649, \"tpr\": 0.9994638261366886, \"n\": 5328}, {\"threshold\": 0.274, \"p\": 27976, \"fpr\": 0.9898648648648649, \"tpr\": 0.9994638261366886, \"n\": 5328}, {\"threshold\": 0.275, \"p\": 27976, \"fpr\": 0.9898648648648649, \"tpr\": 0.9994638261366886, \"n\": 5328}, {\"threshold\": 0.276, \"p\": 27976, \"fpr\": 0.9898648648648649, \"tpr\": 0.9994638261366886, \"n\": 5328}, {\"threshold\": 0.277, \"p\": 27976, \"fpr\": 0.9896771771771772, \"tpr\": 0.9994638261366886, \"n\": 5328}, {\"threshold\": 0.278, \"p\": 27976, \"fpr\": 0.9896771771771772, \"tpr\": 0.9994638261366886, \"n\": 5328}, {\"threshold\": 0.279, \"p\": 27976, \"fpr\": 0.9896771771771772, \"tpr\": 0.9994638261366886, \"n\": 5328}, {\"threshold\": 0.28, \"p\": 27976, \"fpr\": 0.9896771771771772, \"tpr\": 0.9994638261366886, \"n\": 5328}, {\"threshold\": 0.281, \"p\": 27976, \"fpr\": 0.9896771771771772, \"tpr\": 0.9994638261366886, \"n\": 5328}, {\"threshold\": 0.282, \"p\": 27976, \"fpr\": 0.9896771771771772, \"tpr\": 0.9994638261366886, \"n\": 5328}, {\"threshold\": 0.283, \"p\": 27976, \"fpr\": 0.9896771771771772, \"tpr\": 0.9994638261366886, \"n\": 5328}, {\"threshold\": 0.284, \"p\": 27976, \"fpr\": 0.9896771771771772, \"tpr\": 0.9994638261366886, \"n\": 5328}, {\"threshold\": 0.285, \"p\": 27976, \"fpr\": 0.9896771771771772, \"tpr\": 0.9994638261366886, \"n\": 5328}, {\"threshold\": 0.286, \"p\": 27976, \"fpr\": 0.9896771771771772, \"tpr\": 0.9994638261366886, \"n\": 5328}, {\"threshold\": 0.287, \"p\": 27976, \"fpr\": 0.9896771771771772, \"tpr\": 0.9994638261366886, \"n\": 5328}, {\"threshold\": 0.288, \"p\": 27976, \"fpr\": 0.9896771771771772, \"tpr\": 0.9994638261366886, \"n\": 5328}, {\"threshold\": 0.289, \"p\": 27976, \"fpr\": 0.9896771771771772, \"tpr\": 0.9994638261366886, \"n\": 5328}, {\"threshold\": 0.29, \"p\": 27976, \"fpr\": 0.9896771771771772, \"tpr\": 0.9994638261366886, \"n\": 5328}, {\"threshold\": 0.291, \"p\": 27976, \"fpr\": 0.9896771771771772, \"tpr\": 0.9994638261366886, \"n\": 5328}, {\"threshold\": 0.292, \"p\": 27976, \"fpr\": 0.9896771771771772, \"tpr\": 0.9994638261366886, \"n\": 5328}, {\"threshold\": 0.293, \"p\": 27976, \"fpr\": 0.9896771771771772, \"tpr\": 0.9994638261366886, \"n\": 5328}, {\"threshold\": 0.294, \"p\": 27976, \"fpr\": 0.9896771771771772, \"tpr\": 0.9994638261366886, \"n\": 5328}, {\"threshold\": 0.295, \"p\": 27976, \"fpr\": 0.9896771771771772, \"tpr\": 0.9994638261366886, \"n\": 5328}, {\"threshold\": 0.296, \"p\": 27976, \"fpr\": 0.9896771771771772, \"tpr\": 0.9994638261366886, \"n\": 5328}, {\"threshold\": 0.297, \"p\": 27976, \"fpr\": 0.9896771771771772, \"tpr\": 0.9994638261366886, \"n\": 5328}, {\"threshold\": 0.298, \"p\": 27976, \"fpr\": 0.9896771771771772, \"tpr\": 0.9994638261366886, \"n\": 5328}, {\"threshold\": 0.299, \"p\": 27976, \"fpr\": 0.9795420420420421, \"tpr\": 0.9988561624249357, \"n\": 5328}, {\"threshold\": 0.3, \"p\": 27976, \"fpr\": 0.9795420420420421, \"tpr\": 0.9988561624249357, \"n\": 5328}, {\"threshold\": 0.301, \"p\": 27976, \"fpr\": 0.9791666666666666, \"tpr\": 0.9988204175007149, \"n\": 5328}, {\"threshold\": 0.302, \"p\": 27976, \"fpr\": 0.9791666666666666, \"tpr\": 0.9988204175007149, \"n\": 5328}, {\"threshold\": 0.303, \"p\": 27976, \"fpr\": 0.9791666666666666, \"tpr\": 0.9988204175007149, \"n\": 5328}, {\"threshold\": 0.304, \"p\": 27976, \"fpr\": 0.9791666666666666, \"tpr\": 0.9988204175007149, \"n\": 5328}, {\"threshold\": 0.305, \"p\": 27976, \"fpr\": 0.9791666666666666, \"tpr\": 0.9988204175007149, \"n\": 5328}, {\"threshold\": 0.306, \"p\": 27976, \"fpr\": 0.9791666666666666, \"tpr\": 0.9988204175007149, \"n\": 5328}, {\"threshold\": 0.307, \"p\": 27976, \"fpr\": 0.9791666666666666, \"tpr\": 0.9988204175007149, \"n\": 5328}, {\"threshold\": 0.308, \"p\": 27976, \"fpr\": 0.9791666666666666, \"tpr\": 0.9988204175007149, \"n\": 5328}, {\"threshold\": 0.309, \"p\": 27976, \"fpr\": 0.9791666666666666, \"tpr\": 0.9988204175007149, \"n\": 5328}, {\"threshold\": 0.31, \"p\": 27976, \"fpr\": 0.9791666666666666, \"tpr\": 0.9988204175007149, \"n\": 5328}, {\"threshold\": 0.311, \"p\": 27976, \"fpr\": 0.9791666666666666, \"tpr\": 0.9988204175007149, \"n\": 5328}, {\"threshold\": 0.312, \"p\": 27976, \"fpr\": 0.9791666666666666, \"tpr\": 0.9988204175007149, \"n\": 5328}, {\"threshold\": 0.313, \"p\": 27976, \"fpr\": 0.9791666666666666, \"tpr\": 0.9988204175007149, \"n\": 5328}, {\"threshold\": 0.314, \"p\": 27976, \"fpr\": 0.9791666666666666, \"tpr\": 0.9988204175007149, \"n\": 5328}, {\"threshold\": 0.315, \"p\": 27976, \"fpr\": 0.9791666666666666, \"tpr\": 0.9988204175007149, \"n\": 5328}, {\"threshold\": 0.316, \"p\": 27976, \"fpr\": 0.9791666666666666, \"tpr\": 0.9988204175007149, \"n\": 5328}, {\"threshold\": 0.317, \"p\": 27976, \"fpr\": 0.96753003003003, \"tpr\": 0.9978553045467543, \"n\": 5328}, {\"threshold\": 0.318, \"p\": 27976, \"fpr\": 0.96753003003003, \"tpr\": 0.9978553045467543, \"n\": 5328}, {\"threshold\": 0.319, \"p\": 27976, \"fpr\": 0.96753003003003, \"tpr\": 0.9978553045467543, \"n\": 5328}, {\"threshold\": 0.32, \"p\": 27976, \"fpr\": 0.96753003003003, \"tpr\": 0.9978553045467543, \"n\": 5328}, {\"threshold\": 0.321, \"p\": 27976, \"fpr\": 0.96753003003003, \"tpr\": 0.9978553045467543, \"n\": 5328}, {\"threshold\": 0.322, \"p\": 27976, \"fpr\": 0.96753003003003, \"tpr\": 0.9978553045467543, \"n\": 5328}, {\"threshold\": 0.323, \"p\": 27976, \"fpr\": 0.96753003003003, \"tpr\": 0.9978553045467543, \"n\": 5328}, {\"threshold\": 0.324, \"p\": 27976, \"fpr\": 0.96753003003003, \"tpr\": 0.9978553045467543, \"n\": 5328}, {\"threshold\": 0.325, \"p\": 27976, \"fpr\": 0.9671546546546547, \"tpr\": 0.9978553045467543, \"n\": 5328}, {\"threshold\": 0.326, \"p\": 27976, \"fpr\": 0.9671546546546547, \"tpr\": 0.9978553045467543, \"n\": 5328}, {\"threshold\": 0.327, \"p\": 27976, \"fpr\": 0.9671546546546547, \"tpr\": 0.9978553045467543, \"n\": 5328}, {\"threshold\": 0.328, \"p\": 27976, \"fpr\": 0.9671546546546547, \"tpr\": 0.9978553045467543, \"n\": 5328}, {\"threshold\": 0.329, \"p\": 27976, \"fpr\": 0.9671546546546547, \"tpr\": 0.9978553045467543, \"n\": 5328}, {\"threshold\": 0.33, \"p\": 27976, \"fpr\": 0.964527027027027, \"tpr\": 0.9974263654561052, \"n\": 5328}, {\"threshold\": 0.331, \"p\": 27976, \"fpr\": 0.964527027027027, \"tpr\": 0.9974263654561052, \"n\": 5328}, {\"threshold\": 0.332, \"p\": 27976, \"fpr\": 0.964527027027027, \"tpr\": 0.9974263654561052, \"n\": 5328}, {\"threshold\": 0.333, \"p\": 27976, \"fpr\": 0.964527027027027, \"tpr\": 0.9974263654561052, \"n\": 5328}, {\"threshold\": 0.334, \"p\": 27976, \"fpr\": 0.964527027027027, \"tpr\": 0.9974263654561052, \"n\": 5328}, {\"threshold\": 0.335, \"p\": 27976, \"fpr\": 0.964527027027027, \"tpr\": 0.9974263654561052, \"n\": 5328}, {\"threshold\": 0.336, \"p\": 27976, \"fpr\": 0.964527027027027, \"tpr\": 0.9974263654561052, \"n\": 5328}, {\"threshold\": 0.337, \"p\": 27976, \"fpr\": 0.964527027027027, \"tpr\": 0.9974263654561052, \"n\": 5328}, {\"threshold\": 0.338, \"p\": 27976, \"fpr\": 0.964527027027027, \"tpr\": 0.9974263654561052, \"n\": 5328}, {\"threshold\": 0.339, \"p\": 27976, \"fpr\": 0.9643393393393394, \"tpr\": 0.9974263654561052, \"n\": 5328}, {\"threshold\": 0.34, \"p\": 27976, \"fpr\": 0.9643393393393394, \"tpr\": 0.9974263654561052, \"n\": 5328}, {\"threshold\": 0.341, \"p\": 27976, \"fpr\": 0.9641516516516516, \"tpr\": 0.9974263654561052, \"n\": 5328}, {\"threshold\": 0.342, \"p\": 27976, \"fpr\": 0.9641516516516516, \"tpr\": 0.9974263654561052, \"n\": 5328}, {\"threshold\": 0.343, \"p\": 27976, \"fpr\": 0.9641516516516516, \"tpr\": 0.9974263654561052, \"n\": 5328}, {\"threshold\": 0.344, \"p\": 27976, \"fpr\": 0.9641516516516516, \"tpr\": 0.9974263654561052, \"n\": 5328}, {\"threshold\": 0.345, \"p\": 27976, \"fpr\": 0.9641516516516516, \"tpr\": 0.9974263654561052, \"n\": 5328}, {\"threshold\": 0.346, \"p\": 27976, \"fpr\": 0.9641516516516516, \"tpr\": 0.9974263654561052, \"n\": 5328}, {\"threshold\": 0.347, \"p\": 27976, \"fpr\": 0.9641516516516516, \"tpr\": 0.9974263654561052, \"n\": 5328}, {\"threshold\": 0.348, \"p\": 27976, \"fpr\": 0.9641516516516516, \"tpr\": 0.9974263654561052, \"n\": 5328}, {\"threshold\": 0.349, \"p\": 27976, \"fpr\": 0.9641516516516516, \"tpr\": 0.9974263654561052, \"n\": 5328}, {\"threshold\": 0.35, \"p\": 27976, \"fpr\": 0.9641516516516516, \"tpr\": 0.9974263654561052, \"n\": 5328}, {\"threshold\": 0.351, \"p\": 27976, \"fpr\": 0.9641516516516516, \"tpr\": 0.9974263654561052, \"n\": 5328}, {\"threshold\": 0.352, \"p\": 27976, \"fpr\": 0.9641516516516516, \"tpr\": 0.9974263654561052, \"n\": 5328}, {\"threshold\": 0.353, \"p\": 27976, \"fpr\": 0.9641516516516516, \"tpr\": 0.9974263654561052, \"n\": 5328}, {\"threshold\": 0.354, \"p\": 27976, \"fpr\": 0.9570195195195195, \"tpr\": 0.9970331712896768, \"n\": 5328}, {\"threshold\": 0.355, \"p\": 27976, \"fpr\": 0.9570195195195195, \"tpr\": 0.9970331712896768, \"n\": 5328}, {\"threshold\": 0.356, \"p\": 27976, \"fpr\": 0.9570195195195195, \"tpr\": 0.9970331712896768, \"n\": 5328}, {\"threshold\": 0.357, \"p\": 27976, \"fpr\": 0.9570195195195195, \"tpr\": 0.9970331712896768, \"n\": 5328}, {\"threshold\": 0.358, \"p\": 27976, \"fpr\": 0.9570195195195195, \"tpr\": 0.9970331712896768, \"n\": 5328}, {\"threshold\": 0.359, \"p\": 27976, \"fpr\": 0.9570195195195195, \"tpr\": 0.9970331712896768, \"n\": 5328}, {\"threshold\": 0.36, \"p\": 27976, \"fpr\": 0.9570195195195195, \"tpr\": 0.9970331712896768, \"n\": 5328}, {\"threshold\": 0.361, \"p\": 27976, \"fpr\": 0.9570195195195195, \"tpr\": 0.9970331712896768, \"n\": 5328}, {\"threshold\": 0.362, \"p\": 27976, \"fpr\": 0.9568318318318318, \"tpr\": 0.9969974263654561, \"n\": 5328}, {\"threshold\": 0.363, \"p\": 27976, \"fpr\": 0.9568318318318318, \"tpr\": 0.9969974263654561, \"n\": 5328}, {\"threshold\": 0.364, \"p\": 27976, \"fpr\": 0.9568318318318318, \"tpr\": 0.9969616814412353, \"n\": 5328}, {\"threshold\": 0.365, \"p\": 27976, \"fpr\": 0.9568318318318318, \"tpr\": 0.9969616814412353, \"n\": 5328}, {\"threshold\": 0.366, \"p\": 27976, \"fpr\": 0.9568318318318318, \"tpr\": 0.9969616814412353, \"n\": 5328}, {\"threshold\": 0.367, \"p\": 27976, \"fpr\": 0.9568318318318318, \"tpr\": 0.9969616814412353, \"n\": 5328}, {\"threshold\": 0.368, \"p\": 27976, \"fpr\": 0.9568318318318318, \"tpr\": 0.9969616814412353, \"n\": 5328}, {\"threshold\": 0.369, \"p\": 27976, \"fpr\": 0.9568318318318318, \"tpr\": 0.9969616814412353, \"n\": 5328}, {\"threshold\": 0.37, \"p\": 27976, \"fpr\": 0.9568318318318318, \"tpr\": 0.9969616814412353, \"n\": 5328}, {\"threshold\": 0.371, \"p\": 27976, \"fpr\": 0.9568318318318318, \"tpr\": 0.9969616814412353, \"n\": 5328}, {\"threshold\": 0.372, \"p\": 27976, \"fpr\": 0.9568318318318318, \"tpr\": 0.9969616814412353, \"n\": 5328}, {\"threshold\": 0.373, \"p\": 27976, \"fpr\": 0.9568318318318318, \"tpr\": 0.9969616814412353, \"n\": 5328}, {\"threshold\": 0.374, \"p\": 27976, \"fpr\": 0.9568318318318318, \"tpr\": 0.9969616814412353, \"n\": 5328}, {\"threshold\": 0.375, \"p\": 27976, \"fpr\": 0.9568318318318318, \"tpr\": 0.9969616814412353, \"n\": 5328}, {\"threshold\": 0.376, \"p\": 27976, \"fpr\": 0.9568318318318318, \"tpr\": 0.9969616814412353, \"n\": 5328}, {\"threshold\": 0.377, \"p\": 27976, \"fpr\": 0.9568318318318318, \"tpr\": 0.9969616814412353, \"n\": 5328}, {\"threshold\": 0.378, \"p\": 27976, \"fpr\": 0.9568318318318318, \"tpr\": 0.9969616814412353, \"n\": 5328}, {\"threshold\": 0.379, \"p\": 27976, \"fpr\": 0.9568318318318318, \"tpr\": 0.9969616814412353, \"n\": 5328}, {\"threshold\": 0.38, \"p\": 27976, \"fpr\": 0.9568318318318318, \"tpr\": 0.9969616814412353, \"n\": 5328}, {\"threshold\": 0.381, \"p\": 27976, \"fpr\": 0.9568318318318318, \"tpr\": 0.9969616814412353, \"n\": 5328}, {\"threshold\": 0.382, \"p\": 27976, \"fpr\": 0.9568318318318318, \"tpr\": 0.9969616814412353, \"n\": 5328}, {\"threshold\": 0.383, \"p\": 27976, \"fpr\": 0.9568318318318318, \"tpr\": 0.9969616814412353, \"n\": 5328}, {\"threshold\": 0.384, \"p\": 27976, \"fpr\": 0.9568318318318318, \"tpr\": 0.9969616814412353, \"n\": 5328}, {\"threshold\": 0.385, \"p\": 27976, \"fpr\": 0.9568318318318318, \"tpr\": 0.9969259365170146, \"n\": 5328}, {\"threshold\": 0.386, \"p\": 27976, \"fpr\": 0.9568318318318318, \"tpr\": 0.9969259365170146, \"n\": 5328}, {\"threshold\": 0.387, \"p\": 27976, \"fpr\": 0.9568318318318318, \"tpr\": 0.9969259365170146, \"n\": 5328}, {\"threshold\": 0.388, \"p\": 27976, \"fpr\": 0.9568318318318318, \"tpr\": 0.9969259365170146, \"n\": 5328}, {\"threshold\": 0.389, \"p\": 27976, \"fpr\": 0.9568318318318318, \"tpr\": 0.9969259365170146, \"n\": 5328}, {\"threshold\": 0.39, \"p\": 27976, \"fpr\": 0.9568318318318318, \"tpr\": 0.9969259365170146, \"n\": 5328}, {\"threshold\": 0.391, \"p\": 27976, \"fpr\": 0.9568318318318318, \"tpr\": 0.9969259365170146, \"n\": 5328}, {\"threshold\": 0.392, \"p\": 27976, \"fpr\": 0.9568318318318318, \"tpr\": 0.9969259365170146, \"n\": 5328}, {\"threshold\": 0.393, \"p\": 27976, \"fpr\": 0.9568318318318318, \"tpr\": 0.9969259365170146, \"n\": 5328}, {\"threshold\": 0.394, \"p\": 27976, \"fpr\": 0.9568318318318318, \"tpr\": 0.9969259365170146, \"n\": 5328}, {\"threshold\": 0.395, \"p\": 27976, \"fpr\": 0.9568318318318318, \"tpr\": 0.9969259365170146, \"n\": 5328}, {\"threshold\": 0.396, \"p\": 27976, \"fpr\": 0.9568318318318318, \"tpr\": 0.9969259365170146, \"n\": 5328}, {\"threshold\": 0.397, \"p\": 27976, \"fpr\": 0.9558933933933934, \"tpr\": 0.9967472118959108, \"n\": 5328}, {\"threshold\": 0.398, \"p\": 27976, \"fpr\": 0.9558933933933934, \"tpr\": 0.9967472118959108, \"n\": 5328}, {\"threshold\": 0.399, \"p\": 27976, \"fpr\": 0.9558933933933934, \"tpr\": 0.9967472118959108, \"n\": 5328}, {\"threshold\": 0.4, \"p\": 27976, \"fpr\": 0.9558933933933934, \"tpr\": 0.9967472118959108, \"n\": 5328}, {\"threshold\": 0.401, \"p\": 27976, \"fpr\": 0.9558933933933934, \"tpr\": 0.9967472118959108, \"n\": 5328}, {\"threshold\": 0.402, \"p\": 27976, \"fpr\": 0.9558933933933934, \"tpr\": 0.9967472118959108, \"n\": 5328}, {\"threshold\": 0.403, \"p\": 27976, \"fpr\": 0.9558933933933934, \"tpr\": 0.9967472118959108, \"n\": 5328}, {\"threshold\": 0.404, \"p\": 27976, \"fpr\": 0.9558933933933934, \"tpr\": 0.9967472118959108, \"n\": 5328}, {\"threshold\": 0.405, \"p\": 27976, \"fpr\": 0.9558933933933934, \"tpr\": 0.9967472118959108, \"n\": 5328}, {\"threshold\": 0.406, \"p\": 27976, \"fpr\": 0.9558933933933934, \"tpr\": 0.9967472118959108, \"n\": 5328}, {\"threshold\": 0.407, \"p\": 27976, \"fpr\": 0.9558933933933934, \"tpr\": 0.9967472118959108, \"n\": 5328}, {\"threshold\": 0.408, \"p\": 27976, \"fpr\": 0.9558933933933934, \"tpr\": 0.9967472118959108, \"n\": 5328}, {\"threshold\": 0.409, \"p\": 27976, \"fpr\": 0.9557057057057057, \"tpr\": 0.99671146697169, \"n\": 5328}, {\"threshold\": 0.41, \"p\": 27976, \"fpr\": 0.9557057057057057, \"tpr\": 0.99671146697169, \"n\": 5328}, {\"threshold\": 0.411, \"p\": 27976, \"fpr\": 0.9557057057057057, \"tpr\": 0.9966757220474692, \"n\": 5328}, {\"threshold\": 0.412, \"p\": 27976, \"fpr\": 0.9557057057057057, \"tpr\": 0.9966757220474692, \"n\": 5328}, {\"threshold\": 0.413, \"p\": 27976, \"fpr\": 0.9557057057057057, \"tpr\": 0.9966757220474692, \"n\": 5328}, {\"threshold\": 0.414, \"p\": 27976, \"fpr\": 0.9557057057057057, \"tpr\": 0.9966757220474692, \"n\": 5328}, {\"threshold\": 0.415, \"p\": 27976, \"fpr\": 0.9557057057057057, \"tpr\": 0.9966757220474692, \"n\": 5328}, {\"threshold\": 0.416, \"p\": 27976, \"fpr\": 0.9557057057057057, \"tpr\": 0.9966757220474692, \"n\": 5328}, {\"threshold\": 0.417, \"p\": 27976, \"fpr\": 0.9557057057057057, \"tpr\": 0.9966757220474692, \"n\": 5328}, {\"threshold\": 0.418, \"p\": 27976, \"fpr\": 0.9557057057057057, \"tpr\": 0.9966757220474692, \"n\": 5328}, {\"threshold\": 0.419, \"p\": 27976, \"fpr\": 0.9557057057057057, \"tpr\": 0.9966757220474692, \"n\": 5328}, {\"threshold\": 0.42, \"p\": 27976, \"fpr\": 0.9557057057057057, \"tpr\": 0.9966757220474692, \"n\": 5328}, {\"threshold\": 0.421, \"p\": 27976, \"fpr\": 0.9557057057057057, \"tpr\": 0.9966757220474692, \"n\": 5328}, {\"threshold\": 0.422, \"p\": 27976, \"fpr\": 0.9557057057057057, \"tpr\": 0.9966757220474692, \"n\": 5328}, {\"threshold\": 0.423, \"p\": 27976, \"fpr\": 0.9557057057057057, \"tpr\": 0.9966757220474692, \"n\": 5328}, {\"threshold\": 0.424, \"p\": 27976, \"fpr\": 0.9557057057057057, \"tpr\": 0.9966757220474692, \"n\": 5328}, {\"threshold\": 0.425, \"p\": 27976, \"fpr\": 0.9557057057057057, \"tpr\": 0.9966757220474692, \"n\": 5328}, {\"threshold\": 0.426, \"p\": 27976, \"fpr\": 0.9557057057057057, \"tpr\": 0.9966757220474692, \"n\": 5328}, {\"threshold\": 0.427, \"p\": 27976, \"fpr\": 0.9557057057057057, \"tpr\": 0.9966757220474692, \"n\": 5328}, {\"threshold\": 0.428, \"p\": 27976, \"fpr\": 0.9557057057057057, \"tpr\": 0.9966757220474692, \"n\": 5328}, {\"threshold\": 0.429, \"p\": 27976, \"fpr\": 0.9557057057057057, \"tpr\": 0.9966757220474692, \"n\": 5328}, {\"threshold\": 0.43, \"p\": 27976, \"fpr\": 0.9557057057057057, \"tpr\": 0.9966757220474692, \"n\": 5328}, {\"threshold\": 0.431, \"p\": 27976, \"fpr\": 0.9557057057057057, \"tpr\": 0.9966757220474692, \"n\": 5328}, {\"threshold\": 0.432, \"p\": 27976, \"fpr\": 0.9557057057057057, \"tpr\": 0.9966399771232485, \"n\": 5328}, {\"threshold\": 0.433, \"p\": 27976, \"fpr\": 0.9557057057057057, \"tpr\": 0.9966399771232485, \"n\": 5328}, {\"threshold\": 0.434, \"p\": 27976, \"fpr\": 0.9557057057057057, \"tpr\": 0.9966399771232485, \"n\": 5328}, {\"threshold\": 0.435, \"p\": 27976, \"fpr\": 0.9557057057057057, \"tpr\": 0.9966399771232485, \"n\": 5328}, {\"threshold\": 0.436, \"p\": 27976, \"fpr\": 0.9557057057057057, \"tpr\": 0.9966399771232485, \"n\": 5328}, {\"threshold\": 0.437, \"p\": 27976, \"fpr\": 0.9557057057057057, \"tpr\": 0.9966399771232485, \"n\": 5328}, {\"threshold\": 0.438, \"p\": 27976, \"fpr\": 0.9557057057057057, \"tpr\": 0.9966399771232485, \"n\": 5328}, {\"threshold\": 0.439, \"p\": 27976, \"fpr\": 0.9557057057057057, \"tpr\": 0.9966399771232485, \"n\": 5328}, {\"threshold\": 0.44, \"p\": 27976, \"fpr\": 0.9557057057057057, \"tpr\": 0.9966399771232485, \"n\": 5328}, {\"threshold\": 0.441, \"p\": 27976, \"fpr\": 0.9557057057057057, \"tpr\": 0.9966399771232485, \"n\": 5328}, {\"threshold\": 0.442, \"p\": 27976, \"fpr\": 0.9557057057057057, \"tpr\": 0.9966399771232485, \"n\": 5328}, {\"threshold\": 0.443, \"p\": 27976, \"fpr\": 0.9557057057057057, \"tpr\": 0.9966399771232485, \"n\": 5328}, {\"threshold\": 0.444, \"p\": 27976, \"fpr\": 0.9557057057057057, \"tpr\": 0.9966399771232485, \"n\": 5328}, {\"threshold\": 0.445, \"p\": 27976, \"fpr\": 0.9557057057057057, \"tpr\": 0.9966399771232485, \"n\": 5328}, {\"threshold\": 0.446, \"p\": 27976, \"fpr\": 0.9557057057057057, \"tpr\": 0.9966399771232485, \"n\": 5328}, {\"threshold\": 0.447, \"p\": 27976, \"fpr\": 0.9557057057057057, \"tpr\": 0.9966399771232485, \"n\": 5328}, {\"threshold\": 0.448, \"p\": 27976, \"fpr\": 0.9557057057057057, \"tpr\": 0.9966399771232485, \"n\": 5328}, {\"threshold\": 0.449, \"p\": 27976, \"fpr\": 0.9557057057057057, \"tpr\": 0.9966399771232485, \"n\": 5328}, {\"threshold\": 0.45, \"p\": 27976, \"fpr\": 0.9557057057057057, \"tpr\": 0.9966399771232485, \"n\": 5328}, {\"threshold\": 0.451, \"p\": 27976, \"fpr\": 0.9557057057057057, \"tpr\": 0.9966399771232485, \"n\": 5328}, {\"threshold\": 0.452, \"p\": 27976, \"fpr\": 0.9557057057057057, \"tpr\": 0.9966399771232485, \"n\": 5328}, {\"threshold\": 0.453, \"p\": 27976, \"fpr\": 0.9557057057057057, \"tpr\": 0.9966399771232485, \"n\": 5328}, {\"threshold\": 0.454, \"p\": 27976, \"fpr\": 0.9557057057057057, \"tpr\": 0.9966399771232485, \"n\": 5328}, {\"threshold\": 0.455, \"p\": 27976, \"fpr\": 0.9557057057057057, \"tpr\": 0.9966399771232485, \"n\": 5328}, {\"threshold\": 0.456, \"p\": 27976, \"fpr\": 0.9557057057057057, \"tpr\": 0.9966399771232485, \"n\": 5328}, {\"threshold\": 0.457, \"p\": 27976, \"fpr\": 0.9557057057057057, \"tpr\": 0.9966399771232485, \"n\": 5328}, {\"threshold\": 0.458, \"p\": 27976, \"fpr\": 0.9557057057057057, \"tpr\": 0.9966399771232485, \"n\": 5328}, {\"threshold\": 0.459, \"p\": 27976, \"fpr\": 0.9557057057057057, \"tpr\": 0.9966399771232485, \"n\": 5328}, {\"threshold\": 0.46, \"p\": 27976, \"fpr\": 0.9557057057057057, \"tpr\": 0.9966399771232485, \"n\": 5328}, {\"threshold\": 0.461, \"p\": 27976, \"fpr\": 0.9557057057057057, \"tpr\": 0.9966399771232485, \"n\": 5328}, {\"threshold\": 0.462, \"p\": 27976, \"fpr\": 0.9557057057057057, \"tpr\": 0.9966399771232485, \"n\": 5328}, {\"threshold\": 0.463, \"p\": 27976, \"fpr\": 0.9557057057057057, \"tpr\": 0.9966399771232485, \"n\": 5328}, {\"threshold\": 0.464, \"p\": 27976, \"fpr\": 0.9557057057057057, \"tpr\": 0.9966399771232485, \"n\": 5328}, {\"threshold\": 0.465, \"p\": 27976, \"fpr\": 0.9557057057057057, \"tpr\": 0.9966399771232485, \"n\": 5328}, {\"threshold\": 0.466, \"p\": 27976, \"fpr\": 0.9557057057057057, \"tpr\": 0.9966399771232485, \"n\": 5328}, {\"threshold\": 0.467, \"p\": 27976, \"fpr\": 0.9557057057057057, \"tpr\": 0.9966399771232485, \"n\": 5328}, {\"threshold\": 0.468, \"p\": 27976, \"fpr\": 0.9542042042042042, \"tpr\": 0.9965327423505862, \"n\": 5328}, {\"threshold\": 0.469, \"p\": 27976, \"fpr\": 0.9542042042042042, \"tpr\": 0.9965327423505862, \"n\": 5328}, {\"threshold\": 0.47, \"p\": 27976, \"fpr\": 0.9542042042042042, \"tpr\": 0.9964969974263654, \"n\": 5328}, {\"threshold\": 0.471, \"p\": 27976, \"fpr\": 0.9542042042042042, \"tpr\": 0.9964969974263654, \"n\": 5328}, {\"threshold\": 0.472, \"p\": 27976, \"fpr\": 0.9542042042042042, \"tpr\": 0.9964969974263654, \"n\": 5328}, {\"threshold\": 0.473, \"p\": 27976, \"fpr\": 0.9542042042042042, \"tpr\": 0.9964969974263654, \"n\": 5328}, {\"threshold\": 0.474, \"p\": 27976, \"fpr\": 0.9542042042042042, \"tpr\": 0.9964969974263654, \"n\": 5328}, {\"threshold\": 0.475, \"p\": 27976, \"fpr\": 0.9542042042042042, \"tpr\": 0.9964969974263654, \"n\": 5328}, {\"threshold\": 0.476, \"p\": 27976, \"fpr\": 0.9523273273273273, \"tpr\": 0.9961395481841578, \"n\": 5328}, {\"threshold\": 0.477, \"p\": 27976, \"fpr\": 0.9523273273273273, \"tpr\": 0.9961395481841578, \"n\": 5328}, {\"threshold\": 0.478, \"p\": 27976, \"fpr\": 0.9523273273273273, \"tpr\": 0.9961395481841578, \"n\": 5328}, {\"threshold\": 0.479, \"p\": 27976, \"fpr\": 0.9523273273273273, \"tpr\": 0.9961395481841578, \"n\": 5328}, {\"threshold\": 0.48, \"p\": 27976, \"fpr\": 0.9523273273273273, \"tpr\": 0.9961395481841578, \"n\": 5328}, {\"threshold\": 0.481, \"p\": 27976, \"fpr\": 0.9523273273273273, \"tpr\": 0.9961038032599371, \"n\": 5328}, {\"threshold\": 0.482, \"p\": 27976, \"fpr\": 0.9523273273273273, \"tpr\": 0.9961038032599371, \"n\": 5328}, {\"threshold\": 0.483, \"p\": 27976, \"fpr\": 0.9523273273273273, \"tpr\": 0.9961038032599371, \"n\": 5328}, {\"threshold\": 0.484, \"p\": 27976, \"fpr\": 0.9523273273273273, \"tpr\": 0.9961038032599371, \"n\": 5328}, {\"threshold\": 0.485, \"p\": 27976, \"fpr\": 0.9519519519519519, \"tpr\": 0.9960680583357163, \"n\": 5328}, {\"threshold\": 0.486, \"p\": 27976, \"fpr\": 0.9519519519519519, \"tpr\": 0.9960680583357163, \"n\": 5328}, {\"threshold\": 0.487, \"p\": 27976, \"fpr\": 0.9519519519519519, \"tpr\": 0.9960680583357163, \"n\": 5328}, {\"threshold\": 0.488, \"p\": 27976, \"fpr\": 0.9519519519519519, \"tpr\": 0.9960680583357163, \"n\": 5328}, {\"threshold\": 0.489, \"p\": 27976, \"fpr\": 0.9519519519519519, \"tpr\": 0.9960680583357163, \"n\": 5328}, {\"threshold\": 0.49, \"p\": 27976, \"fpr\": 0.9519519519519519, \"tpr\": 0.9960680583357163, \"n\": 5328}, {\"threshold\": 0.491, \"p\": 27976, \"fpr\": 0.9519519519519519, \"tpr\": 0.9960680583357163, \"n\": 5328}, {\"threshold\": 0.492, \"p\": 27976, \"fpr\": 0.9519519519519519, \"tpr\": 0.9960680583357163, \"n\": 5328}, {\"threshold\": 0.493, \"p\": 27976, \"fpr\": 0.9519519519519519, \"tpr\": 0.9960680583357163, \"n\": 5328}, {\"threshold\": 0.494, \"p\": 27976, \"fpr\": 0.9519519519519519, \"tpr\": 0.9960680583357163, \"n\": 5328}, {\"threshold\": 0.495, \"p\": 27976, \"fpr\": 0.9519519519519519, \"tpr\": 0.9960680583357163, \"n\": 5328}, {\"threshold\": 0.496, \"p\": 27976, \"fpr\": 0.9519519519519519, \"tpr\": 0.9960680583357163, \"n\": 5328}, {\"threshold\": 0.497, \"p\": 27976, \"fpr\": 0.9506381381381381, \"tpr\": 0.9957106090935087, \"n\": 5328}, {\"threshold\": 0.498, \"p\": 27976, \"fpr\": 0.9506381381381381, \"tpr\": 0.9957106090935087, \"n\": 5328}, {\"threshold\": 0.499, \"p\": 27976, \"fpr\": 0.9506381381381381, \"tpr\": 0.9957106090935087, \"n\": 5328}, {\"threshold\": 0.5, \"p\": 27976, \"fpr\": 0.9506381381381381, \"tpr\": 0.9957106090935087, \"n\": 5328}, {\"threshold\": 0.501, \"p\": 27976, \"fpr\": 0.9506381381381381, \"tpr\": 0.9957106090935087, \"n\": 5328}, {\"threshold\": 0.502, \"p\": 27976, \"fpr\": 0.9506381381381381, \"tpr\": 0.9957106090935087, \"n\": 5328}, {\"threshold\": 0.503, \"p\": 27976, \"fpr\": 0.9506381381381381, \"tpr\": 0.9957106090935087, \"n\": 5328}, {\"threshold\": 0.504, \"p\": 27976, \"fpr\": 0.9506381381381381, \"tpr\": 0.9957106090935087, \"n\": 5328}, {\"threshold\": 0.505, \"p\": 27976, \"fpr\": 0.9506381381381381, \"tpr\": 0.9957106090935087, \"n\": 5328}, {\"threshold\": 0.506, \"p\": 27976, \"fpr\": 0.9506381381381381, \"tpr\": 0.9957106090935087, \"n\": 5328}, {\"threshold\": 0.507, \"p\": 27976, \"fpr\": 0.9506381381381381, \"tpr\": 0.9957106090935087, \"n\": 5328}, {\"threshold\": 0.508, \"p\": 27976, \"fpr\": 0.9506381381381381, \"tpr\": 0.9957106090935087, \"n\": 5328}, {\"threshold\": 0.509, \"p\": 27976, \"fpr\": 0.9506381381381381, \"tpr\": 0.9957106090935087, \"n\": 5328}, {\"threshold\": 0.51, \"p\": 27976, \"fpr\": 0.9506381381381381, \"tpr\": 0.9957106090935087, \"n\": 5328}, {\"threshold\": 0.511, \"p\": 27976, \"fpr\": 0.9506381381381381, \"tpr\": 0.9957106090935087, \"n\": 5328}, {\"threshold\": 0.512, \"p\": 27976, \"fpr\": 0.9506381381381381, \"tpr\": 0.9956033743208464, \"n\": 5328}, {\"threshold\": 0.513, \"p\": 27976, \"fpr\": 0.9506381381381381, \"tpr\": 0.9956033743208464, \"n\": 5328}, {\"threshold\": 0.514, \"p\": 27976, \"fpr\": 0.9506381381381381, \"tpr\": 0.9956033743208464, \"n\": 5328}, {\"threshold\": 0.515, \"p\": 27976, \"fpr\": 0.9506381381381381, \"tpr\": 0.9956033743208464, \"n\": 5328}, {\"threshold\": 0.516, \"p\": 27976, \"fpr\": 0.9506381381381381, \"tpr\": 0.9956033743208464, \"n\": 5328}, {\"threshold\": 0.517, \"p\": 27976, \"fpr\": 0.9506381381381381, \"tpr\": 0.9956033743208464, \"n\": 5328}, {\"threshold\": 0.518, \"p\": 27976, \"fpr\": 0.9506381381381381, \"tpr\": 0.9956033743208464, \"n\": 5328}, {\"threshold\": 0.519, \"p\": 27976, \"fpr\": 0.9506381381381381, \"tpr\": 0.9956033743208464, \"n\": 5328}, {\"threshold\": 0.52, \"p\": 27976, \"fpr\": 0.9506381381381381, \"tpr\": 0.9956033743208464, \"n\": 5328}, {\"threshold\": 0.521, \"p\": 27976, \"fpr\": 0.9506381381381381, \"tpr\": 0.9956033743208464, \"n\": 5328}, {\"threshold\": 0.522, \"p\": 27976, \"fpr\": 0.9506381381381381, \"tpr\": 0.9956033743208464, \"n\": 5328}, {\"threshold\": 0.523, \"p\": 27976, \"fpr\": 0.9506381381381381, \"tpr\": 0.9956033743208464, \"n\": 5328}, {\"threshold\": 0.524, \"p\": 27976, \"fpr\": 0.9506381381381381, \"tpr\": 0.9956033743208464, \"n\": 5328}, {\"threshold\": 0.525, \"p\": 27976, \"fpr\": 0.9506381381381381, \"tpr\": 0.9956033743208464, \"n\": 5328}, {\"threshold\": 0.526, \"p\": 27976, \"fpr\": 0.9504504504504504, \"tpr\": 0.9956033743208464, \"n\": 5328}, {\"threshold\": 0.527, \"p\": 27976, \"fpr\": 0.9504504504504504, \"tpr\": 0.9956033743208464, \"n\": 5328}, {\"threshold\": 0.528, \"p\": 27976, \"fpr\": 0.9504504504504504, \"tpr\": 0.9956033743208464, \"n\": 5328}, {\"threshold\": 0.529, \"p\": 27976, \"fpr\": 0.9504504504504504, \"tpr\": 0.9956033743208464, \"n\": 5328}, {\"threshold\": 0.53, \"p\": 27976, \"fpr\": 0.9504504504504504, \"tpr\": 0.9956033743208464, \"n\": 5328}, {\"threshold\": 0.531, \"p\": 27976, \"fpr\": 0.9504504504504504, \"tpr\": 0.9956033743208464, \"n\": 5328}, {\"threshold\": 0.532, \"p\": 27976, \"fpr\": 0.9504504504504504, \"tpr\": 0.9956033743208464, \"n\": 5328}, {\"threshold\": 0.533, \"p\": 27976, \"fpr\": 0.9504504504504504, \"tpr\": 0.9956033743208464, \"n\": 5328}, {\"threshold\": 0.534, \"p\": 27976, \"fpr\": 0.9504504504504504, \"tpr\": 0.9956033743208464, \"n\": 5328}, {\"threshold\": 0.535, \"p\": 27976, \"fpr\": 0.9504504504504504, \"tpr\": 0.9956033743208464, \"n\": 5328}, {\"threshold\": 0.536, \"p\": 27976, \"fpr\": 0.9504504504504504, \"tpr\": 0.9956033743208464, \"n\": 5328}, {\"threshold\": 0.537, \"p\": 27976, \"fpr\": 0.9504504504504504, \"tpr\": 0.9956033743208464, \"n\": 5328}, {\"threshold\": 0.538, \"p\": 27976, \"fpr\": 0.949512012012012, \"tpr\": 0.9953531598513011, \"n\": 5328}, {\"threshold\": 0.539, \"p\": 27976, \"fpr\": 0.949512012012012, \"tpr\": 0.9953531598513011, \"n\": 5328}, {\"threshold\": 0.54, \"p\": 27976, \"fpr\": 0.949512012012012, \"tpr\": 0.9953531598513011, \"n\": 5328}, {\"threshold\": 0.541, \"p\": 27976, \"fpr\": 0.949512012012012, \"tpr\": 0.9953531598513011, \"n\": 5328}, {\"threshold\": 0.542, \"p\": 27976, \"fpr\": 0.949512012012012, \"tpr\": 0.9953531598513011, \"n\": 5328}, {\"threshold\": 0.543, \"p\": 27976, \"fpr\": 0.949512012012012, \"tpr\": 0.9953531598513011, \"n\": 5328}, {\"threshold\": 0.544, \"p\": 27976, \"fpr\": 0.949512012012012, \"tpr\": 0.9953531598513011, \"n\": 5328}, {\"threshold\": 0.545, \"p\": 27976, \"fpr\": 0.9493243243243243, \"tpr\": 0.9953531598513011, \"n\": 5328}, {\"threshold\": 0.546, \"p\": 27976, \"fpr\": 0.9493243243243243, \"tpr\": 0.9953531598513011, \"n\": 5328}, {\"threshold\": 0.547, \"p\": 27976, \"fpr\": 0.9491366366366366, \"tpr\": 0.9953174149270804, \"n\": 5328}, {\"threshold\": 0.548, \"p\": 27976, \"fpr\": 0.9491366366366366, \"tpr\": 0.9953174149270804, \"n\": 5328}, {\"threshold\": 0.549, \"p\": 27976, \"fpr\": 0.9491366366366366, \"tpr\": 0.9953174149270804, \"n\": 5328}, {\"threshold\": 0.55, \"p\": 27976, \"fpr\": 0.9491366366366366, \"tpr\": 0.9953174149270804, \"n\": 5328}, {\"threshold\": 0.551, \"p\": 27976, \"fpr\": 0.9491366366366366, \"tpr\": 0.9953174149270804, \"n\": 5328}, {\"threshold\": 0.552, \"p\": 27976, \"fpr\": 0.9491366366366366, \"tpr\": 0.9953174149270804, \"n\": 5328}, {\"threshold\": 0.553, \"p\": 27976, \"fpr\": 0.9491366366366366, \"tpr\": 0.9953174149270804, \"n\": 5328}, {\"threshold\": 0.554, \"p\": 27976, \"fpr\": 0.9491366366366366, \"tpr\": 0.9953174149270804, \"n\": 5328}, {\"threshold\": 0.555, \"p\": 27976, \"fpr\": 0.9491366366366366, \"tpr\": 0.9952816700028596, \"n\": 5328}, {\"threshold\": 0.556, \"p\": 27976, \"fpr\": 0.9491366366366366, \"tpr\": 0.9952816700028596, \"n\": 5328}, {\"threshold\": 0.557, \"p\": 27976, \"fpr\": 0.9491366366366366, \"tpr\": 0.9952816700028596, \"n\": 5328}, {\"threshold\": 0.558, \"p\": 27976, \"fpr\": 0.9491366366366366, \"tpr\": 0.9952816700028596, \"n\": 5328}, {\"threshold\": 0.559, \"p\": 27976, \"fpr\": 0.9491366366366366, \"tpr\": 0.9952816700028596, \"n\": 5328}, {\"threshold\": 0.56, \"p\": 27976, \"fpr\": 0.9491366366366366, \"tpr\": 0.9952816700028596, \"n\": 5328}, {\"threshold\": 0.561, \"p\": 27976, \"fpr\": 0.9491366366366366, \"tpr\": 0.9952816700028596, \"n\": 5328}, {\"threshold\": 0.562, \"p\": 27976, \"fpr\": 0.9491366366366366, \"tpr\": 0.9952816700028596, \"n\": 5328}, {\"threshold\": 0.563, \"p\": 27976, \"fpr\": 0.948948948948949, \"tpr\": 0.9952816700028596, \"n\": 5328}, {\"threshold\": 0.564, \"p\": 27976, \"fpr\": 0.948948948948949, \"tpr\": 0.9952816700028596, \"n\": 5328}, {\"threshold\": 0.565, \"p\": 27976, \"fpr\": 0.948948948948949, \"tpr\": 0.9952816700028596, \"n\": 5328}, {\"threshold\": 0.566, \"p\": 27976, \"fpr\": 0.948948948948949, \"tpr\": 0.9952816700028596, \"n\": 5328}, {\"threshold\": 0.567, \"p\": 27976, \"fpr\": 0.948948948948949, \"tpr\": 0.9952816700028596, \"n\": 5328}, {\"threshold\": 0.568, \"p\": 27976, \"fpr\": 0.948948948948949, \"tpr\": 0.9952816700028596, \"n\": 5328}, {\"threshold\": 0.569, \"p\": 27976, \"fpr\": 0.948948948948949, \"tpr\": 0.9952816700028596, \"n\": 5328}, {\"threshold\": 0.57, \"p\": 27976, \"fpr\": 0.948948948948949, \"tpr\": 0.9952816700028596, \"n\": 5328}, {\"threshold\": 0.571, \"p\": 27976, \"fpr\": 0.948948948948949, \"tpr\": 0.9952816700028596, \"n\": 5328}, {\"threshold\": 0.572, \"p\": 27976, \"fpr\": 0.948948948948949, \"tpr\": 0.9952816700028596, \"n\": 5328}, {\"threshold\": 0.573, \"p\": 27976, \"fpr\": 0.948948948948949, \"tpr\": 0.9952816700028596, \"n\": 5328}, {\"threshold\": 0.574, \"p\": 27976, \"fpr\": 0.9221096096096096, \"tpr\": 0.9873820417500715, \"n\": 5328}, {\"threshold\": 0.575, \"p\": 27976, \"fpr\": 0.9221096096096096, \"tpr\": 0.9873820417500715, \"n\": 5328}, {\"threshold\": 0.576, \"p\": 27976, \"fpr\": 0.9221096096096096, \"tpr\": 0.9873462968258507, \"n\": 5328}, {\"threshold\": 0.577, \"p\": 27976, \"fpr\": 0.9221096096096096, \"tpr\": 0.9873462968258507, \"n\": 5328}, {\"threshold\": 0.578, \"p\": 27976, \"fpr\": 0.9221096096096096, \"tpr\": 0.9873462968258507, \"n\": 5328}, {\"threshold\": 0.579, \"p\": 27976, \"fpr\": 0.9221096096096096, \"tpr\": 0.9873462968258507, \"n\": 5328}, {\"threshold\": 0.58, \"p\": 27976, \"fpr\": 0.9221096096096096, \"tpr\": 0.9873462968258507, \"n\": 5328}, {\"threshold\": 0.581, \"p\": 27976, \"fpr\": 0.9221096096096096, \"tpr\": 0.9873462968258507, \"n\": 5328}, {\"threshold\": 0.582, \"p\": 27976, \"fpr\": 0.9221096096096096, \"tpr\": 0.9873462968258507, \"n\": 5328}, {\"threshold\": 0.583, \"p\": 27976, \"fpr\": 0.9219219219219219, \"tpr\": 0.9872748069774092, \"n\": 5328}, {\"threshold\": 0.584, \"p\": 27976, \"fpr\": 0.9219219219219219, \"tpr\": 0.9872748069774092, \"n\": 5328}, {\"threshold\": 0.585, \"p\": 27976, \"fpr\": 0.9219219219219219, \"tpr\": 0.9872748069774092, \"n\": 5328}, {\"threshold\": 0.586, \"p\": 27976, \"fpr\": 0.9219219219219219, \"tpr\": 0.9872748069774092, \"n\": 5328}, {\"threshold\": 0.587, \"p\": 27976, \"fpr\": 0.9206081081081081, \"tpr\": 0.9870245925078639, \"n\": 5328}, {\"threshold\": 0.588, \"p\": 27976, \"fpr\": 0.9206081081081081, \"tpr\": 0.9870245925078639, \"n\": 5328}, {\"threshold\": 0.589, \"p\": 27976, \"fpr\": 0.9206081081081081, \"tpr\": 0.9870245925078639, \"n\": 5328}, {\"threshold\": 0.59, \"p\": 27976, \"fpr\": 0.9206081081081081, \"tpr\": 0.9870245925078639, \"n\": 5328}, {\"threshold\": 0.591, \"p\": 27976, \"fpr\": 0.9206081081081081, \"tpr\": 0.9870245925078639, \"n\": 5328}, {\"threshold\": 0.592, \"p\": 27976, \"fpr\": 0.9206081081081081, \"tpr\": 0.9870245925078639, \"n\": 5328}, {\"threshold\": 0.593, \"p\": 27976, \"fpr\": 0.9206081081081081, \"tpr\": 0.9870245925078639, \"n\": 5328}, {\"threshold\": 0.594, \"p\": 27976, \"fpr\": 0.9206081081081081, \"tpr\": 0.9870245925078639, \"n\": 5328}, {\"threshold\": 0.595, \"p\": 27976, \"fpr\": 0.9206081081081081, \"tpr\": 0.9870245925078639, \"n\": 5328}, {\"threshold\": 0.596, \"p\": 27976, \"fpr\": 0.9206081081081081, \"tpr\": 0.9870245925078639, \"n\": 5328}, {\"threshold\": 0.597, \"p\": 27976, \"fpr\": 0.9206081081081081, \"tpr\": 0.9870245925078639, \"n\": 5328}, {\"threshold\": 0.598, \"p\": 27976, \"fpr\": 0.9206081081081081, \"tpr\": 0.9870245925078639, \"n\": 5328}, {\"threshold\": 0.599, \"p\": 27976, \"fpr\": 0.9206081081081081, \"tpr\": 0.9870245925078639, \"n\": 5328}, {\"threshold\": 0.6, \"p\": 27976, \"fpr\": 0.9206081081081081, \"tpr\": 0.9870245925078639, \"n\": 5328}, {\"threshold\": 0.601, \"p\": 27976, \"fpr\": 0.9206081081081081, \"tpr\": 0.9870245925078639, \"n\": 5328}, {\"threshold\": 0.602, \"p\": 27976, \"fpr\": 0.9206081081081081, \"tpr\": 0.9870245925078639, \"n\": 5328}, {\"threshold\": 0.603, \"p\": 27976, \"fpr\": 0.9204204204204204, \"tpr\": 0.9870245925078639, \"n\": 5328}, {\"threshold\": 0.604, \"p\": 27976, \"fpr\": 0.9204204204204204, \"tpr\": 0.9870245925078639, \"n\": 5328}, {\"threshold\": 0.605, \"p\": 27976, \"fpr\": 0.9204204204204204, \"tpr\": 0.9870245925078639, \"n\": 5328}, {\"threshold\": 0.606, \"p\": 27976, \"fpr\": 0.9204204204204204, \"tpr\": 0.9870245925078639, \"n\": 5328}, {\"threshold\": 0.607, \"p\": 27976, \"fpr\": 0.9191066066066066, \"tpr\": 0.9866671432656563, \"n\": 5328}, {\"threshold\": 0.608, \"p\": 27976, \"fpr\": 0.9191066066066066, \"tpr\": 0.9866671432656563, \"n\": 5328}, {\"threshold\": 0.609, \"p\": 27976, \"fpr\": 0.9191066066066066, \"tpr\": 0.9866671432656563, \"n\": 5328}, {\"threshold\": 0.61, \"p\": 27976, \"fpr\": 0.9191066066066066, \"tpr\": 0.9866671432656563, \"n\": 5328}, {\"threshold\": 0.611, \"p\": 27976, \"fpr\": 0.9191066066066066, \"tpr\": 0.9866671432656563, \"n\": 5328}, {\"threshold\": 0.612, \"p\": 27976, \"fpr\": 0.9191066066066066, \"tpr\": 0.9866671432656563, \"n\": 5328}, {\"threshold\": 0.613, \"p\": 27976, \"fpr\": 0.9191066066066066, \"tpr\": 0.9866671432656563, \"n\": 5328}, {\"threshold\": 0.614, \"p\": 27976, \"fpr\": 0.9191066066066066, \"tpr\": 0.9866671432656563, \"n\": 5328}, {\"threshold\": 0.615, \"p\": 27976, \"fpr\": 0.9191066066066066, \"tpr\": 0.9865956534172148, \"n\": 5328}, {\"threshold\": 0.616, \"p\": 27976, \"fpr\": 0.9191066066066066, \"tpr\": 0.9865956534172148, \"n\": 5328}, {\"threshold\": 0.617, \"p\": 27976, \"fpr\": 0.9191066066066066, \"tpr\": 0.9865956534172148, \"n\": 5328}, {\"threshold\": 0.618, \"p\": 27976, \"fpr\": 0.9191066066066066, \"tpr\": 0.9865956534172148, \"n\": 5328}, {\"threshold\": 0.619, \"p\": 27976, \"fpr\": 0.9191066066066066, \"tpr\": 0.9865956534172148, \"n\": 5328}, {\"threshold\": 0.62, \"p\": 27976, \"fpr\": 0.9191066066066066, \"tpr\": 0.9865956534172148, \"n\": 5328}, {\"threshold\": 0.621, \"p\": 27976, \"fpr\": 0.918918918918919, \"tpr\": 0.9863811838718902, \"n\": 5328}, {\"threshold\": 0.622, \"p\": 27976, \"fpr\": 0.918918918918919, \"tpr\": 0.9863811838718902, \"n\": 5328}, {\"threshold\": 0.623, \"p\": 27976, \"fpr\": 0.918918918918919, \"tpr\": 0.9863811838718902, \"n\": 5328}, {\"threshold\": 0.624, \"p\": 27976, \"fpr\": 0.918918918918919, \"tpr\": 0.9863811838718902, \"n\": 5328}, {\"threshold\": 0.625, \"p\": 27976, \"fpr\": 0.918918918918919, \"tpr\": 0.9863811838718902, \"n\": 5328}, {\"threshold\": 0.626, \"p\": 27976, \"fpr\": 0.918918918918919, \"tpr\": 0.9863811838718902, \"n\": 5328}, {\"threshold\": 0.627, \"p\": 27976, \"fpr\": 0.918918918918919, \"tpr\": 0.9863811838718902, \"n\": 5328}, {\"threshold\": 0.628, \"p\": 27976, \"fpr\": 0.918918918918919, \"tpr\": 0.9863811838718902, \"n\": 5328}, {\"threshold\": 0.629, \"p\": 27976, \"fpr\": 0.918918918918919, \"tpr\": 0.9863811838718902, \"n\": 5328}, {\"threshold\": 0.63, \"p\": 27976, \"fpr\": 0.918918918918919, \"tpr\": 0.9863811838718902, \"n\": 5328}, {\"threshold\": 0.631, \"p\": 27976, \"fpr\": 0.918918918918919, \"tpr\": 0.9863811838718902, \"n\": 5328}, {\"threshold\": 0.632, \"p\": 27976, \"fpr\": 0.918918918918919, \"tpr\": 0.9863811838718902, \"n\": 5328}, {\"threshold\": 0.633, \"p\": 27976, \"fpr\": 0.918918918918919, \"tpr\": 0.9863811838718902, \"n\": 5328}, {\"threshold\": 0.634, \"p\": 27976, \"fpr\": 0.918918918918919, \"tpr\": 0.9863811838718902, \"n\": 5328}, {\"threshold\": 0.635, \"p\": 27976, \"fpr\": 0.918918918918919, \"tpr\": 0.9863811838718902, \"n\": 5328}, {\"threshold\": 0.636, \"p\": 27976, \"fpr\": 0.918918918918919, \"tpr\": 0.9863811838718902, \"n\": 5328}, {\"threshold\": 0.637, \"p\": 27976, \"fpr\": 0.918918918918919, \"tpr\": 0.9863811838718902, \"n\": 5328}, {\"threshold\": 0.638, \"p\": 27976, \"fpr\": 0.918918918918919, \"tpr\": 0.9863811838718902, \"n\": 5328}, {\"threshold\": 0.639, \"p\": 27976, \"fpr\": 0.918918918918919, \"tpr\": 0.9863811838718902, \"n\": 5328}, {\"threshold\": 0.64, \"p\": 27976, \"fpr\": 0.918918918918919, \"tpr\": 0.9863811838718902, \"n\": 5328}, {\"threshold\": 0.641, \"p\": 27976, \"fpr\": 0.918918918918919, \"tpr\": 0.9863811838718902, \"n\": 5328}, {\"threshold\": 0.642, \"p\": 27976, \"fpr\": 0.918918918918919, \"tpr\": 0.9863811838718902, \"n\": 5328}, {\"threshold\": 0.643, \"p\": 27976, \"fpr\": 0.9016516516516516, \"tpr\": 0.9811266800114383, \"n\": 5328}, {\"threshold\": 0.644, \"p\": 27976, \"fpr\": 0.901463963963964, \"tpr\": 0.9811266800114383, \"n\": 5328}, {\"threshold\": 0.645, \"p\": 27976, \"fpr\": 0.9010885885885885, \"tpr\": 0.9810551901629968, \"n\": 5328}, {\"threshold\": 0.646, \"p\": 27976, \"fpr\": 0.9010885885885885, \"tpr\": 0.9810551901629968, \"n\": 5328}, {\"threshold\": 0.647, \"p\": 27976, \"fpr\": 0.9010885885885885, \"tpr\": 0.981019445238776, \"n\": 5328}, {\"threshold\": 0.648, \"p\": 27976, \"fpr\": 0.9010885885885885, \"tpr\": 0.981019445238776, \"n\": 5328}, {\"threshold\": 0.649, \"p\": 27976, \"fpr\": 0.9010885885885885, \"tpr\": 0.981019445238776, \"n\": 5328}, {\"threshold\": 0.65, \"p\": 27976, \"fpr\": 0.9010885885885885, \"tpr\": 0.981019445238776, \"n\": 5328}, {\"threshold\": 0.651, \"p\": 27976, \"fpr\": 0.9010885885885885, \"tpr\": 0.981019445238776, \"n\": 5328}, {\"threshold\": 0.652, \"p\": 27976, \"fpr\": 0.9009009009009009, \"tpr\": 0.981019445238776, \"n\": 5328}, {\"threshold\": 0.653, \"p\": 27976, \"fpr\": 0.9009009009009009, \"tpr\": 0.981019445238776, \"n\": 5328}, {\"threshold\": 0.654, \"p\": 27976, \"fpr\": 0.9009009009009009, \"tpr\": 0.981019445238776, \"n\": 5328}, {\"threshold\": 0.655, \"p\": 27976, \"fpr\": 0.9005255255255256, \"tpr\": 0.9808049756934515, \"n\": 5328}, {\"threshold\": 0.656, \"p\": 27976, \"fpr\": 0.9005255255255256, \"tpr\": 0.9808049756934515, \"n\": 5328}, {\"threshold\": 0.657, \"p\": 27976, \"fpr\": 0.9005255255255256, \"tpr\": 0.9808049756934515, \"n\": 5328}, {\"threshold\": 0.658, \"p\": 27976, \"fpr\": 0.9005255255255256, \"tpr\": 0.9808049756934515, \"n\": 5328}, {\"threshold\": 0.659, \"p\": 27976, \"fpr\": 0.9005255255255256, \"tpr\": 0.9806977409207892, \"n\": 5328}, {\"threshold\": 0.66, \"p\": 27976, \"fpr\": 0.9005255255255256, \"tpr\": 0.9806977409207892, \"n\": 5328}, {\"threshold\": 0.661, \"p\": 27976, \"fpr\": 0.9005255255255256, \"tpr\": 0.9806977409207892, \"n\": 5328}, {\"threshold\": 0.662, \"p\": 27976, \"fpr\": 0.9003378378378378, \"tpr\": 0.9806977409207892, \"n\": 5328}, {\"threshold\": 0.663, \"p\": 27976, \"fpr\": 0.9003378378378378, \"tpr\": 0.9806977409207892, \"n\": 5328}, {\"threshold\": 0.664, \"p\": 27976, \"fpr\": 0.9003378378378378, \"tpr\": 0.9806977409207892, \"n\": 5328}, {\"threshold\": 0.665, \"p\": 27976, \"fpr\": 0.9003378378378378, \"tpr\": 0.9806977409207892, \"n\": 5328}, {\"threshold\": 0.666, \"p\": 27976, \"fpr\": 0.9003378378378378, \"tpr\": 0.9806977409207892, \"n\": 5328}, {\"threshold\": 0.667, \"p\": 27976, \"fpr\": 0.9003378378378378, \"tpr\": 0.9806619959965684, \"n\": 5328}, {\"threshold\": 0.668, \"p\": 27976, \"fpr\": 0.9003378378378378, \"tpr\": 0.9806619959965684, \"n\": 5328}, {\"threshold\": 0.669, \"p\": 27976, \"fpr\": 0.9003378378378378, \"tpr\": 0.9806619959965684, \"n\": 5328}, {\"threshold\": 0.67, \"p\": 27976, \"fpr\": 0.9003378378378378, \"tpr\": 0.9806619959965684, \"n\": 5328}, {\"threshold\": 0.671, \"p\": 27976, \"fpr\": 0.9003378378378378, \"tpr\": 0.9806619959965684, \"n\": 5328}, {\"threshold\": 0.672, \"p\": 27976, \"fpr\": 0.9003378378378378, \"tpr\": 0.9806619959965684, \"n\": 5328}, {\"threshold\": 0.673, \"p\": 27976, \"fpr\": 0.9003378378378378, \"tpr\": 0.9806619959965684, \"n\": 5328}, {\"threshold\": 0.674, \"p\": 27976, \"fpr\": 0.9003378378378378, \"tpr\": 0.9806619959965684, \"n\": 5328}, {\"threshold\": 0.675, \"p\": 27976, \"fpr\": 0.9003378378378378, \"tpr\": 0.9806619959965684, \"n\": 5328}, {\"threshold\": 0.676, \"p\": 27976, \"fpr\": 0.9003378378378378, \"tpr\": 0.9806619959965684, \"n\": 5328}, {\"threshold\": 0.677, \"p\": 27976, \"fpr\": 0.9003378378378378, \"tpr\": 0.9806619959965684, \"n\": 5328}, {\"threshold\": 0.678, \"p\": 27976, \"fpr\": 0.9003378378378378, \"tpr\": 0.9806619959965684, \"n\": 5328}, {\"threshold\": 0.679, \"p\": 27976, \"fpr\": 0.9003378378378378, \"tpr\": 0.9806619959965684, \"n\": 5328}, {\"threshold\": 0.68, \"p\": 27976, \"fpr\": 0.9003378378378378, \"tpr\": 0.9806619959965684, \"n\": 5328}, {\"threshold\": 0.681, \"p\": 27976, \"fpr\": 0.9003378378378378, \"tpr\": 0.9806619959965684, \"n\": 5328}, {\"threshold\": 0.682, \"p\": 27976, \"fpr\": 0.9001501501501501, \"tpr\": 0.9806262510723477, \"n\": 5328}, {\"threshold\": 0.683, \"p\": 27976, \"fpr\": 0.9001501501501501, \"tpr\": 0.9806262510723477, \"n\": 5328}, {\"threshold\": 0.684, \"p\": 27976, \"fpr\": 0.9001501501501501, \"tpr\": 0.9806262510723477, \"n\": 5328}, {\"threshold\": 0.685, \"p\": 27976, \"fpr\": 0.9001501501501501, \"tpr\": 0.9806262510723477, \"n\": 5328}, {\"threshold\": 0.686, \"p\": 27976, \"fpr\": 0.9001501501501501, \"tpr\": 0.9804832713754646, \"n\": 5328}, {\"threshold\": 0.687, \"p\": 27976, \"fpr\": 0.9001501501501501, \"tpr\": 0.9804832713754646, \"n\": 5328}, {\"threshold\": 0.688, \"p\": 27976, \"fpr\": 0.9001501501501501, \"tpr\": 0.9804832713754646, \"n\": 5328}, {\"threshold\": 0.689, \"p\": 27976, \"fpr\": 0.9001501501501501, \"tpr\": 0.9804832713754646, \"n\": 5328}, {\"threshold\": 0.69, \"p\": 27976, \"fpr\": 0.8999624624624625, \"tpr\": 0.9804832713754646, \"n\": 5328}, {\"threshold\": 0.691, \"p\": 27976, \"fpr\": 0.8999624624624625, \"tpr\": 0.9804832713754646, \"n\": 5328}, {\"threshold\": 0.692, \"p\": 27976, \"fpr\": 0.8999624624624625, \"tpr\": 0.9804832713754646, \"n\": 5328}, {\"threshold\": 0.693, \"p\": 27976, \"fpr\": 0.8999624624624625, \"tpr\": 0.9804832713754646, \"n\": 5328}, {\"threshold\": 0.694, \"p\": 27976, \"fpr\": 0.8999624624624625, \"tpr\": 0.9804832713754646, \"n\": 5328}, {\"threshold\": 0.695, \"p\": 27976, \"fpr\": 0.8999624624624625, \"tpr\": 0.9804832713754646, \"n\": 5328}, {\"threshold\": 0.696, \"p\": 27976, \"fpr\": 0.8999624624624625, \"tpr\": 0.9804832713754646, \"n\": 5328}, {\"threshold\": 0.697, \"p\": 27976, \"fpr\": 0.8999624624624625, \"tpr\": 0.9804832713754646, \"n\": 5328}, {\"threshold\": 0.698, \"p\": 27976, \"fpr\": 0.8999624624624625, \"tpr\": 0.9804475264512439, \"n\": 5328}, {\"threshold\": 0.699, \"p\": 27976, \"fpr\": 0.8999624624624625, \"tpr\": 0.9804475264512439, \"n\": 5328}, {\"threshold\": 0.7, \"p\": 27976, \"fpr\": 0.8999624624624625, \"tpr\": 0.9804475264512439, \"n\": 5328}, {\"threshold\": 0.701, \"p\": 27976, \"fpr\": 0.8999624624624625, \"tpr\": 0.9804475264512439, \"n\": 5328}, {\"threshold\": 0.702, \"p\": 27976, \"fpr\": 0.8999624624624625, \"tpr\": 0.9804475264512439, \"n\": 5328}, {\"threshold\": 0.703, \"p\": 27976, \"fpr\": 0.8999624624624625, \"tpr\": 0.9804475264512439, \"n\": 5328}, {\"threshold\": 0.704, \"p\": 27976, \"fpr\": 0.8999624624624625, \"tpr\": 0.9804475264512439, \"n\": 5328}, {\"threshold\": 0.705, \"p\": 27976, \"fpr\": 0.8999624624624625, \"tpr\": 0.9804475264512439, \"n\": 5328}, {\"threshold\": 0.706, \"p\": 27976, \"fpr\": 0.8999624624624625, \"tpr\": 0.9804475264512439, \"n\": 5328}, {\"threshold\": 0.707, \"p\": 27976, \"fpr\": 0.8999624624624625, \"tpr\": 0.9804475264512439, \"n\": 5328}, {\"threshold\": 0.708, \"p\": 27976, \"fpr\": 0.8999624624624625, \"tpr\": 0.9804475264512439, \"n\": 5328}, {\"threshold\": 0.709, \"p\": 27976, \"fpr\": 0.8999624624624625, \"tpr\": 0.9804475264512439, \"n\": 5328}, {\"threshold\": 0.71, \"p\": 27976, \"fpr\": 0.8999624624624625, \"tpr\": 0.9804117815270231, \"n\": 5328}, {\"threshold\": 0.711, \"p\": 27976, \"fpr\": 0.8999624624624625, \"tpr\": 0.9804117815270231, \"n\": 5328}, {\"threshold\": 0.712, \"p\": 27976, \"fpr\": 0.8999624624624625, \"tpr\": 0.9803402916785816, \"n\": 5328}, {\"threshold\": 0.713, \"p\": 27976, \"fpr\": 0.8999624624624625, \"tpr\": 0.9803402916785816, \"n\": 5328}, {\"threshold\": 0.714, \"p\": 27976, \"fpr\": 0.8999624624624625, \"tpr\": 0.9803402916785816, \"n\": 5328}, {\"threshold\": 0.715, \"p\": 27976, \"fpr\": 0.8999624624624625, \"tpr\": 0.9803402916785816, \"n\": 5328}, {\"threshold\": 0.716, \"p\": 27976, \"fpr\": 0.8999624624624625, \"tpr\": 0.9803045467543609, \"n\": 5328}, {\"threshold\": 0.717, \"p\": 27976, \"fpr\": 0.8999624624624625, \"tpr\": 0.9803045467543609, \"n\": 5328}, {\"threshold\": 0.718, \"p\": 27976, \"fpr\": 0.8999624624624625, \"tpr\": 0.9803045467543609, \"n\": 5328}, {\"threshold\": 0.719, \"p\": 27976, \"fpr\": 0.8999624624624625, \"tpr\": 0.9803045467543609, \"n\": 5328}, {\"threshold\": 0.72, \"p\": 27976, \"fpr\": 0.8999624624624625, \"tpr\": 0.9803045467543609, \"n\": 5328}, {\"threshold\": 0.721, \"p\": 27976, \"fpr\": 0.8999624624624625, \"tpr\": 0.9803045467543609, \"n\": 5328}, {\"threshold\": 0.722, \"p\": 27976, \"fpr\": 0.8999624624624625, \"tpr\": 0.9803045467543609, \"n\": 5328}, {\"threshold\": 0.723, \"p\": 27976, \"fpr\": 0.8999624624624625, \"tpr\": 0.9803045467543609, \"n\": 5328}, {\"threshold\": 0.724, \"p\": 27976, \"fpr\": 0.8999624624624625, \"tpr\": 0.9803045467543609, \"n\": 5328}, {\"threshold\": 0.725, \"p\": 27976, \"fpr\": 0.8999624624624625, \"tpr\": 0.9803045467543609, \"n\": 5328}, {\"threshold\": 0.726, \"p\": 27976, \"fpr\": 0.8999624624624625, \"tpr\": 0.9803045467543609, \"n\": 5328}, {\"threshold\": 0.727, \"p\": 27976, \"fpr\": 0.8999624624624625, \"tpr\": 0.9803045467543609, \"n\": 5328}, {\"threshold\": 0.728, \"p\": 27976, \"fpr\": 0.8999624624624625, \"tpr\": 0.9803045467543609, \"n\": 5328}, {\"threshold\": 0.729, \"p\": 27976, \"fpr\": 0.8999624624624625, \"tpr\": 0.9803045467543609, \"n\": 5328}, {\"threshold\": 0.73, \"p\": 27976, \"fpr\": 0.8999624624624625, \"tpr\": 0.9803045467543609, \"n\": 5328}, {\"threshold\": 0.731, \"p\": 27976, \"fpr\": 0.8999624624624625, \"tpr\": 0.9803045467543609, \"n\": 5328}, {\"threshold\": 0.732, \"p\": 27976, \"fpr\": 0.8999624624624625, \"tpr\": 0.9803045467543609, \"n\": 5328}, {\"threshold\": 0.733, \"p\": 27976, \"fpr\": 0.8999624624624625, \"tpr\": 0.9803045467543609, \"n\": 5328}, {\"threshold\": 0.734, \"p\": 27976, \"fpr\": 0.8999624624624625, \"tpr\": 0.9803045467543609, \"n\": 5328}, {\"threshold\": 0.735, \"p\": 27976, \"fpr\": 0.8999624624624625, \"tpr\": 0.9803045467543609, \"n\": 5328}, {\"threshold\": 0.736, \"p\": 27976, \"fpr\": 0.8999624624624625, \"tpr\": 0.9803045467543609, \"n\": 5328}, {\"threshold\": 0.737, \"p\": 27976, \"fpr\": 0.8999624624624625, \"tpr\": 0.9803045467543609, \"n\": 5328}, {\"threshold\": 0.738, \"p\": 27976, \"fpr\": 0.8999624624624625, \"tpr\": 0.9803045467543609, \"n\": 5328}, {\"threshold\": 0.739, \"p\": 27976, \"fpr\": 0.8999624624624625, \"tpr\": 0.9803045467543609, \"n\": 5328}, {\"threshold\": 0.74, \"p\": 27976, \"fpr\": 0.8999624624624625, \"tpr\": 0.9803045467543609, \"n\": 5328}, {\"threshold\": 0.741, \"p\": 27976, \"fpr\": 0.8999624624624625, \"tpr\": 0.9803045467543609, \"n\": 5328}, {\"threshold\": 0.742, \"p\": 27976, \"fpr\": 0.8941441441441441, \"tpr\": 0.9777666571346869, \"n\": 5328}, {\"threshold\": 0.743, \"p\": 27976, \"fpr\": 0.8941441441441441, \"tpr\": 0.9777666571346869, \"n\": 5328}, {\"threshold\": 0.744, \"p\": 27976, \"fpr\": 0.8941441441441441, \"tpr\": 0.9777666571346869, \"n\": 5328}, {\"threshold\": 0.745, \"p\": 27976, \"fpr\": 0.8937687687687688, \"tpr\": 0.9776594223620246, \"n\": 5328}, {\"threshold\": 0.746, \"p\": 27976, \"fpr\": 0.8937687687687688, \"tpr\": 0.9776594223620246, \"n\": 5328}, {\"threshold\": 0.747, \"p\": 27976, \"fpr\": 0.8937687687687688, \"tpr\": 0.9776594223620246, \"n\": 5328}, {\"threshold\": 0.748, \"p\": 27976, \"fpr\": 0.8937687687687688, \"tpr\": 0.9776594223620246, \"n\": 5328}, {\"threshold\": 0.749, \"p\": 27976, \"fpr\": 0.8937687687687688, \"tpr\": 0.9776236774378039, \"n\": 5328}, {\"threshold\": 0.75, \"p\": 27976, \"fpr\": 0.8937687687687688, \"tpr\": 0.9776236774378039, \"n\": 5328}, {\"threshold\": 0.751, \"p\": 27976, \"fpr\": 0.8932057057057057, \"tpr\": 0.9775164426651416, \"n\": 5328}, {\"threshold\": 0.752, \"p\": 27976, \"fpr\": 0.8932057057057057, \"tpr\": 0.9775164426651416, \"n\": 5328}, {\"threshold\": 0.753, \"p\": 27976, \"fpr\": 0.8932057057057057, \"tpr\": 0.9775164426651416, \"n\": 5328}, {\"threshold\": 0.754, \"p\": 27976, \"fpr\": 0.8932057057057057, \"tpr\": 0.9775164426651416, \"n\": 5328}, {\"threshold\": 0.755, \"p\": 27976, \"fpr\": 0.8932057057057057, \"tpr\": 0.9775164426651416, \"n\": 5328}, {\"threshold\": 0.756, \"p\": 27976, \"fpr\": 0.8932057057057057, \"tpr\": 0.9775164426651416, \"n\": 5328}, {\"threshold\": 0.757, \"p\": 27976, \"fpr\": 0.8932057057057057, \"tpr\": 0.9775164426651416, \"n\": 5328}, {\"threshold\": 0.758, \"p\": 27976, \"fpr\": 0.8932057057057057, \"tpr\": 0.9774806977409208, \"n\": 5328}, {\"threshold\": 0.759, \"p\": 27976, \"fpr\": 0.8932057057057057, \"tpr\": 0.9774806977409208, \"n\": 5328}, {\"threshold\": 0.76, \"p\": 27976, \"fpr\": 0.8932057057057057, \"tpr\": 0.9774806977409208, \"n\": 5328}, {\"threshold\": 0.761, \"p\": 27976, \"fpr\": 0.8932057057057057, \"tpr\": 0.9774806977409208, \"n\": 5328}, {\"threshold\": 0.762, \"p\": 27976, \"fpr\": 0.8932057057057057, \"tpr\": 0.9774806977409208, \"n\": 5328}, {\"threshold\": 0.763, \"p\": 27976, \"fpr\": 0.8932057057057057, \"tpr\": 0.9774806977409208, \"n\": 5328}, {\"threshold\": 0.764, \"p\": 27976, \"fpr\": 0.8932057057057057, \"tpr\": 0.9774449528167001, \"n\": 5328}, {\"threshold\": 0.765, \"p\": 27976, \"fpr\": 0.8932057057057057, \"tpr\": 0.9774092078924793, \"n\": 5328}, {\"threshold\": 0.766, \"p\": 27976, \"fpr\": 0.8928303303303303, \"tpr\": 0.9774092078924793, \"n\": 5328}, {\"threshold\": 0.767, \"p\": 27976, \"fpr\": 0.8928303303303303, \"tpr\": 0.9774092078924793, \"n\": 5328}, {\"threshold\": 0.768, \"p\": 27976, \"fpr\": 0.8928303303303303, \"tpr\": 0.9774092078924793, \"n\": 5328}, {\"threshold\": 0.769, \"p\": 27976, \"fpr\": 0.8928303303303303, \"tpr\": 0.9774092078924793, \"n\": 5328}, {\"threshold\": 0.77, \"p\": 27976, \"fpr\": 0.8928303303303303, \"tpr\": 0.9774092078924793, \"n\": 5328}, {\"threshold\": 0.771, \"p\": 27976, \"fpr\": 0.8928303303303303, \"tpr\": 0.9774092078924793, \"n\": 5328}, {\"threshold\": 0.772, \"p\": 27976, \"fpr\": 0.8928303303303303, \"tpr\": 0.9774092078924793, \"n\": 5328}, {\"threshold\": 0.773, \"p\": 27976, \"fpr\": 0.8926426426426426, \"tpr\": 0.9773734629682586, \"n\": 5328}, {\"threshold\": 0.774, \"p\": 27976, \"fpr\": 0.8926426426426426, \"tpr\": 0.9773734629682586, \"n\": 5328}, {\"threshold\": 0.775, \"p\": 27976, \"fpr\": 0.8926426426426426, \"tpr\": 0.9773734629682586, \"n\": 5328}, {\"threshold\": 0.776, \"p\": 27976, \"fpr\": 0.8926426426426426, \"tpr\": 0.9773734629682586, \"n\": 5328}, {\"threshold\": 0.777, \"p\": 27976, \"fpr\": 0.8920795795795796, \"tpr\": 0.977301973119817, \"n\": 5328}, {\"threshold\": 0.778, \"p\": 27976, \"fpr\": 0.8920795795795796, \"tpr\": 0.977301973119817, \"n\": 5328}, {\"threshold\": 0.779, \"p\": 27976, \"fpr\": 0.8920795795795796, \"tpr\": 0.977301973119817, \"n\": 5328}, {\"threshold\": 0.78, \"p\": 27976, \"fpr\": 0.8918918918918919, \"tpr\": 0.977301973119817, \"n\": 5328}, {\"threshold\": 0.781, \"p\": 27976, \"fpr\": 0.8918918918918919, \"tpr\": 0.977301973119817, \"n\": 5328}, {\"threshold\": 0.782, \"p\": 27976, \"fpr\": 0.8918918918918919, \"tpr\": 0.977301973119817, \"n\": 5328}, {\"threshold\": 0.783, \"p\": 27976, \"fpr\": 0.8918918918918919, \"tpr\": 0.977301973119817, \"n\": 5328}, {\"threshold\": 0.784, \"p\": 27976, \"fpr\": 0.8918918918918919, \"tpr\": 0.9772662281955963, \"n\": 5328}, {\"threshold\": 0.785, \"p\": 27976, \"fpr\": 0.8918918918918919, \"tpr\": 0.9772662281955963, \"n\": 5328}, {\"threshold\": 0.786, \"p\": 27976, \"fpr\": 0.8918918918918919, \"tpr\": 0.9772662281955963, \"n\": 5328}, {\"threshold\": 0.787, \"p\": 27976, \"fpr\": 0.18712462462462462, \"tpr\": 0.5087217615098656, \"n\": 5328}, {\"threshold\": 0.788, \"p\": 27976, \"fpr\": 0.18712462462462462, \"tpr\": 0.5087217615098656, \"n\": 5328}, {\"threshold\": 0.789, \"p\": 27976, \"fpr\": 0.18712462462462462, \"tpr\": 0.5087217615098656, \"n\": 5328}, {\"threshold\": 0.79, \"p\": 27976, \"fpr\": 0.18693693693693694, \"tpr\": 0.5085430368887618, \"n\": 5328}, {\"threshold\": 0.791, \"p\": 27976, \"fpr\": 0.18693693693693694, \"tpr\": 0.5085430368887618, \"n\": 5328}, {\"threshold\": 0.792, \"p\": 27976, \"fpr\": 0.18693693693693694, \"tpr\": 0.5085430368887618, \"n\": 5328}, {\"threshold\": 0.793, \"p\": 27976, \"fpr\": 0.18412162162162163, \"tpr\": 0.5066128109808408, \"n\": 5328}, {\"threshold\": 0.794, \"p\": 27976, \"fpr\": 0.18412162162162163, \"tpr\": 0.5066128109808408, \"n\": 5328}, {\"threshold\": 0.795, \"p\": 27976, \"fpr\": 0.18374624624624625, \"tpr\": 0.50657706605662, \"n\": 5328}, {\"threshold\": 0.796, \"p\": 27976, \"fpr\": 0.18374624624624625, \"tpr\": 0.50657706605662, \"n\": 5328}, {\"threshold\": 0.797, \"p\": 27976, \"fpr\": 0.18374624624624625, \"tpr\": 0.50657706605662, \"n\": 5328}, {\"threshold\": 0.798, \"p\": 27976, \"fpr\": 0.18355855855855857, \"tpr\": 0.5063983414355162, \"n\": 5328}, {\"threshold\": 0.799, \"p\": 27976, \"fpr\": 0.18355855855855857, \"tpr\": 0.5063625965112954, \"n\": 5328}, {\"threshold\": 0.8, \"p\": 27976, \"fpr\": 0.18355855855855857, \"tpr\": 0.5062196168144123, \"n\": 5328}, {\"threshold\": 0.801, \"p\": 27976, \"fpr\": 0.18355855855855857, \"tpr\": 0.50611238204175, \"n\": 5328}, {\"threshold\": 0.802, \"p\": 27976, \"fpr\": 0.18355855855855857, \"tpr\": 0.50611238204175, \"n\": 5328}, {\"threshold\": 0.803, \"p\": 27976, \"fpr\": 0.18355855855855857, \"tpr\": 0.50611238204175, \"n\": 5328}, {\"threshold\": 0.804, \"p\": 27976, \"fpr\": 0.18337087087087087, \"tpr\": 0.50611238204175, \"n\": 5328}, {\"threshold\": 0.805, \"p\": 27976, \"fpr\": 0.18337087087087087, \"tpr\": 0.50611238204175, \"n\": 5328}, {\"threshold\": 0.806, \"p\": 27976, \"fpr\": 0.18337087087087087, \"tpr\": 0.5060766371175293, \"n\": 5328}, {\"threshold\": 0.807, \"p\": 27976, \"fpr\": 0.18337087087087087, \"tpr\": 0.5060766371175293, \"n\": 5328}, {\"threshold\": 0.808, \"p\": 27976, \"fpr\": 0.18337087087087087, \"tpr\": 0.5060766371175293, \"n\": 5328}, {\"threshold\": 0.809, \"p\": 27976, \"fpr\": 0.18337087087087087, \"tpr\": 0.5060766371175293, \"n\": 5328}, {\"threshold\": 0.81, \"p\": 27976, \"fpr\": 0.18337087087087087, \"tpr\": 0.5060766371175293, \"n\": 5328}, {\"threshold\": 0.811, \"p\": 27976, \"fpr\": 0.18337087087087087, \"tpr\": 0.5060408921933085, \"n\": 5328}, {\"threshold\": 0.812, \"p\": 27976, \"fpr\": 0.18337087087087087, \"tpr\": 0.5060408921933085, \"n\": 5328}, {\"threshold\": 0.813, \"p\": 27976, \"fpr\": 0.18337087087087087, \"tpr\": 0.5060408921933085, \"n\": 5328}, {\"threshold\": 0.814, \"p\": 27976, \"fpr\": 0.18337087087087087, \"tpr\": 0.5060408921933085, \"n\": 5328}, {\"threshold\": 0.815, \"p\": 27976, \"fpr\": 0.18337087087087087, \"tpr\": 0.5060408921933085, \"n\": 5328}, {\"threshold\": 0.816, \"p\": 27976, \"fpr\": 0.18337087087087087, \"tpr\": 0.5060408921933085, \"n\": 5328}, {\"threshold\": 0.817, \"p\": 27976, \"fpr\": 0.18337087087087087, \"tpr\": 0.5060408921933085, \"n\": 5328}, {\"threshold\": 0.818, \"p\": 27976, \"fpr\": 0.1799924924924925, \"tpr\": 0.5029310837861024, \"n\": 5328}, {\"threshold\": 0.819, \"p\": 27976, \"fpr\": 0.1799924924924925, \"tpr\": 0.5029310837861024, \"n\": 5328}, {\"threshold\": 0.82, \"p\": 27976, \"fpr\": 0.1799924924924925, \"tpr\": 0.5029310837861024, \"n\": 5328}, {\"threshold\": 0.821, \"p\": 27976, \"fpr\": 0.1799924924924925, \"tpr\": 0.5029310837861024, \"n\": 5328}, {\"threshold\": 0.822, \"p\": 27976, \"fpr\": 0.1799924924924925, \"tpr\": 0.5029310837861024, \"n\": 5328}, {\"threshold\": 0.823, \"p\": 27976, \"fpr\": 0.1799924924924925, \"tpr\": 0.5028953388618816, \"n\": 5328}, {\"threshold\": 0.824, \"p\": 27976, \"fpr\": 0.1799924924924925, \"tpr\": 0.5028953388618816, \"n\": 5328}, {\"threshold\": 0.825, \"p\": 27976, \"fpr\": 0.17980480480480482, \"tpr\": 0.5027881040892194, \"n\": 5328}, {\"threshold\": 0.826, \"p\": 27976, \"fpr\": 0.17980480480480482, \"tpr\": 0.5027523591649986, \"n\": 5328}, {\"threshold\": 0.827, \"p\": 27976, \"fpr\": 0.17961711711711711, \"tpr\": 0.5027523591649986, \"n\": 5328}, {\"threshold\": 0.828, \"p\": 27976, \"fpr\": 0.17961711711711711, \"tpr\": 0.5027523591649986, \"n\": 5328}, {\"threshold\": 0.829, \"p\": 27976, \"fpr\": 0.17961711711711711, \"tpr\": 0.5027523591649986, \"n\": 5328}, {\"threshold\": 0.83, \"p\": 27976, \"fpr\": 0.17961711711711711, \"tpr\": 0.5027523591649986, \"n\": 5328}, {\"threshold\": 0.831, \"p\": 27976, \"fpr\": 0.17942942942942944, \"tpr\": 0.5027523591649986, \"n\": 5328}, {\"threshold\": 0.832, \"p\": 27976, \"fpr\": 0.17942942942942944, \"tpr\": 0.5027523591649986, \"n\": 5328}, {\"threshold\": 0.833, \"p\": 27976, \"fpr\": 0.17942942942942944, \"tpr\": 0.5027523591649986, \"n\": 5328}, {\"threshold\": 0.834, \"p\": 27976, \"fpr\": 0.17942942942942944, \"tpr\": 0.5026451243923363, \"n\": 5328}, {\"threshold\": 0.835, \"p\": 27976, \"fpr\": 0.17942942942942944, \"tpr\": 0.5025736345438948, \"n\": 5328}, {\"threshold\": 0.836, \"p\": 27976, \"fpr\": 0.17942942942942944, \"tpr\": 0.5025736345438948, \"n\": 5328}, {\"threshold\": 0.837, \"p\": 27976, \"fpr\": 0.17942942942942944, \"tpr\": 0.5024663997712325, \"n\": 5328}, {\"threshold\": 0.838, \"p\": 27976, \"fpr\": 0.17942942942942944, \"tpr\": 0.5024663997712325, \"n\": 5328}, {\"threshold\": 0.839, \"p\": 27976, \"fpr\": 0.17942942942942944, \"tpr\": 0.5024663997712325, \"n\": 5328}, {\"threshold\": 0.84, \"p\": 27976, \"fpr\": 0.17942942942942944, \"tpr\": 0.5024663997712325, \"n\": 5328}, {\"threshold\": 0.841, \"p\": 27976, \"fpr\": 0.17905405405405406, \"tpr\": 0.502394909922791, \"n\": 5328}, {\"threshold\": 0.842, \"p\": 27976, \"fpr\": 0.17905405405405406, \"tpr\": 0.502394909922791, \"n\": 5328}, {\"threshold\": 0.843, \"p\": 27976, \"fpr\": 0.17905405405405406, \"tpr\": 0.502394909922791, \"n\": 5328}, {\"threshold\": 0.844, \"p\": 27976, \"fpr\": 0.17905405405405406, \"tpr\": 0.502394909922791, \"n\": 5328}, {\"threshold\": 0.845, \"p\": 27976, \"fpr\": 0.17905405405405406, \"tpr\": 0.5023591649985703, \"n\": 5328}, {\"threshold\": 0.846, \"p\": 27976, \"fpr\": 0.17905405405405406, \"tpr\": 0.5023591649985703, \"n\": 5328}, {\"threshold\": 0.847, \"p\": 27976, \"fpr\": 0.17905405405405406, \"tpr\": 0.5023591649985703, \"n\": 5328}, {\"threshold\": 0.848, \"p\": 27976, \"fpr\": 0.17905405405405406, \"tpr\": 0.5023591649985703, \"n\": 5328}, {\"threshold\": 0.849, \"p\": 27976, \"fpr\": 0.17905405405405406, \"tpr\": 0.5023591649985703, \"n\": 5328}, {\"threshold\": 0.85, \"p\": 27976, \"fpr\": 0.17905405405405406, \"tpr\": 0.5023234200743495, \"n\": 5328}, {\"threshold\": 0.851, \"p\": 27976, \"fpr\": 0.17905405405405406, \"tpr\": 0.5023234200743495, \"n\": 5328}, {\"threshold\": 0.852, \"p\": 27976, \"fpr\": 0.17905405405405406, \"tpr\": 0.5023234200743495, \"n\": 5328}, {\"threshold\": 0.853, \"p\": 27976, \"fpr\": 0.17905405405405406, \"tpr\": 0.5023234200743495, \"n\": 5328}, {\"threshold\": 0.854, \"p\": 27976, \"fpr\": 0.17905405405405406, \"tpr\": 0.5023234200743495, \"n\": 5328}, {\"threshold\": 0.855, \"p\": 27976, \"fpr\": 0.17905405405405406, \"tpr\": 0.5023234200743495, \"n\": 5328}, {\"threshold\": 0.856, \"p\": 27976, \"fpr\": 0.17905405405405406, \"tpr\": 0.5023234200743495, \"n\": 5328}, {\"threshold\": 0.857, \"p\": 27976, \"fpr\": 0.17623873873873874, \"tpr\": 0.49985702030311696, \"n\": 5328}, {\"threshold\": 0.858, \"p\": 27976, \"fpr\": 0.17623873873873874, \"tpr\": 0.4998212753788962, \"n\": 5328}, {\"threshold\": 0.859, \"p\": 27976, \"fpr\": 0.17605105105105104, \"tpr\": 0.49949957106090936, \"n\": 5328}, {\"threshold\": 0.86, \"p\": 27976, \"fpr\": 0.17605105105105104, \"tpr\": 0.49949957106090936, \"n\": 5328}, {\"threshold\": 0.861, \"p\": 27976, \"fpr\": 0.17605105105105104, \"tpr\": 0.49949957106090936, \"n\": 5328}, {\"threshold\": 0.862, \"p\": 27976, \"fpr\": 0.17605105105105104, \"tpr\": 0.49949957106090936, \"n\": 5328}, {\"threshold\": 0.863, \"p\": 27976, \"fpr\": 0.17586336336336336, \"tpr\": 0.49942808121246784, \"n\": 5328}, {\"threshold\": 0.864, \"p\": 27976, \"fpr\": 0.17586336336336336, \"tpr\": 0.49942808121246784, \"n\": 5328}, {\"threshold\": 0.865, \"p\": 27976, \"fpr\": 0.17586336336336336, \"tpr\": 0.4993565913640263, \"n\": 5328}, {\"threshold\": 0.866, \"p\": 27976, \"fpr\": 0.17586336336336336, \"tpr\": 0.4993565913640263, \"n\": 5328}, {\"threshold\": 0.867, \"p\": 27976, \"fpr\": 0.17586336336336336, \"tpr\": 0.4993565913640263, \"n\": 5328}, {\"threshold\": 0.868, \"p\": 27976, \"fpr\": 0.17586336336336336, \"tpr\": 0.4993565913640263, \"n\": 5328}, {\"threshold\": 0.869, \"p\": 27976, \"fpr\": 0.17586336336336336, \"tpr\": 0.4993565913640263, \"n\": 5328}, {\"threshold\": 0.87, \"p\": 27976, \"fpr\": 0.17586336336336336, \"tpr\": 0.49932084643980557, \"n\": 5328}, {\"threshold\": 0.871, \"p\": 27976, \"fpr\": 0.17586336336336336, \"tpr\": 0.49932084643980557, \"n\": 5328}, {\"threshold\": 0.872, \"p\": 27976, \"fpr\": 0.17586336336336336, \"tpr\": 0.49932084643980557, \"n\": 5328}, {\"threshold\": 0.873, \"p\": 27976, \"fpr\": 0.17586336336336336, \"tpr\": 0.4992851015155848, \"n\": 5328}, {\"threshold\": 0.874, \"p\": 27976, \"fpr\": 0.17586336336336336, \"tpr\": 0.4992851015155848, \"n\": 5328}, {\"threshold\": 0.875, \"p\": 27976, \"fpr\": 0.17586336336336336, \"tpr\": 0.4992136116671433, \"n\": 5328}, {\"threshold\": 0.876, \"p\": 27976, \"fpr\": 0.17586336336336336, \"tpr\": 0.4992136116671433, \"n\": 5328}, {\"threshold\": 0.877, \"p\": 27976, \"fpr\": 0.17586336336336336, \"tpr\": 0.4992136116671433, \"n\": 5328}, {\"threshold\": 0.878, \"p\": 27976, \"fpr\": 0.17586336336336336, \"tpr\": 0.4992136116671433, \"n\": 5328}, {\"threshold\": 0.879, \"p\": 27976, \"fpr\": 0.17586336336336336, \"tpr\": 0.4992136116671433, \"n\": 5328}, {\"threshold\": 0.88, \"p\": 27976, \"fpr\": 0.17586336336336336, \"tpr\": 0.4992136116671433, \"n\": 5328}, {\"threshold\": 0.881, \"p\": 27976, \"fpr\": 0.17586336336336336, \"tpr\": 0.4991778667429225, \"n\": 5328}, {\"threshold\": 0.882, \"p\": 27976, \"fpr\": 0.17586336336336336, \"tpr\": 0.4991778667429225, \"n\": 5328}, {\"threshold\": 0.883, \"p\": 27976, \"fpr\": 0.17586336336336336, \"tpr\": 0.49914212181870177, \"n\": 5328}, {\"threshold\": 0.884, \"p\": 27976, \"fpr\": 0.17586336336336336, \"tpr\": 0.49914212181870177, \"n\": 5328}, {\"threshold\": 0.885, \"p\": 27976, \"fpr\": 0.17586336336336336, \"tpr\": 0.49914212181870177, \"n\": 5328}, {\"threshold\": 0.886, \"p\": 27976, \"fpr\": 0.17586336336336336, \"tpr\": 0.49914212181870177, \"n\": 5328}, {\"threshold\": 0.887, \"p\": 27976, \"fpr\": 0.10379129129129129, \"tpr\": 0.3712825278810409, \"n\": 5328}, {\"threshold\": 0.888, \"p\": 27976, \"fpr\": 0.10379129129129129, \"tpr\": 0.3712825278810409, \"n\": 5328}, {\"threshold\": 0.889, \"p\": 27976, \"fpr\": 0.10379129129129129, \"tpr\": 0.37121103803259936, \"n\": 5328}, {\"threshold\": 0.89, \"p\": 27976, \"fpr\": 0.10379129129129129, \"tpr\": 0.37121103803259936, \"n\": 5328}, {\"threshold\": 0.891, \"p\": 27976, \"fpr\": 0.1021021021021021, \"tpr\": 0.36799399485273093, \"n\": 5328}, {\"threshold\": 0.892, \"p\": 27976, \"fpr\": 0.10191441441441441, \"tpr\": 0.36799399485273093, \"n\": 5328}, {\"threshold\": 0.893, \"p\": 27976, \"fpr\": 0.10191441441441441, \"tpr\": 0.36799399485273093, \"n\": 5328}, {\"threshold\": 0.894, \"p\": 27976, \"fpr\": 0.10191441441441441, \"tpr\": 0.3679225050042894, \"n\": 5328}, {\"threshold\": 0.895, \"p\": 27976, \"fpr\": 0.10191441441441441, \"tpr\": 0.3679225050042894, \"n\": 5328}, {\"threshold\": 0.896, \"p\": 27976, \"fpr\": 0.10191441441441441, \"tpr\": 0.36788676008006865, \"n\": 5328}, {\"threshold\": 0.897, \"p\": 27976, \"fpr\": 0.10191441441441441, \"tpr\": 0.36788676008006865, \"n\": 5328}, {\"threshold\": 0.898, \"p\": 27976, \"fpr\": 0.10191441441441441, \"tpr\": 0.3678510151558479, \"n\": 5328}, {\"threshold\": 0.899, \"p\": 27976, \"fpr\": 0.10191441441441441, \"tpr\": 0.3678510151558479, \"n\": 5328}, {\"threshold\": 0.9, \"p\": 27976, \"fpr\": 0.10191441441441441, \"tpr\": 0.3678510151558479, \"n\": 5328}, {\"threshold\": 0.901, \"p\": 27976, \"fpr\": 0.10191441441441441, \"tpr\": 0.3678510151558479, \"n\": 5328}, {\"threshold\": 0.902, \"p\": 27976, \"fpr\": 0.10191441441441441, \"tpr\": 0.3678510151558479, \"n\": 5328}, {\"threshold\": 0.903, \"p\": 27976, \"fpr\": 0.10191441441441441, \"tpr\": 0.3678510151558479, \"n\": 5328}, {\"threshold\": 0.904, \"p\": 27976, \"fpr\": 0.10191441441441441, \"tpr\": 0.3678510151558479, \"n\": 5328}, {\"threshold\": 0.905, \"p\": 27976, \"fpr\": 0.10135135135135136, \"tpr\": 0.36695739205032885, \"n\": 5328}, {\"threshold\": 0.906, \"p\": 27976, \"fpr\": 0.10135135135135136, \"tpr\": 0.36695739205032885, \"n\": 5328}, {\"threshold\": 0.907, \"p\": 27976, \"fpr\": 0.10097597597597598, \"tpr\": 0.3669216471261081, \"n\": 5328}, {\"threshold\": 0.908, \"p\": 27976, \"fpr\": 0.10097597597597598, \"tpr\": 0.3669216471261081, \"n\": 5328}, {\"threshold\": 0.909, \"p\": 27976, \"fpr\": 0.10097597597597598, \"tpr\": 0.3669216471261081, \"n\": 5328}, {\"threshold\": 0.91, \"p\": 27976, \"fpr\": 0.10097597597597598, \"tpr\": 0.3669216471261081, \"n\": 5328}, {\"threshold\": 0.911, \"p\": 27976, \"fpr\": 0.10097597597597598, \"tpr\": 0.3669216471261081, \"n\": 5328}, {\"threshold\": 0.912, \"p\": 27976, \"fpr\": 0.09853603603603604, \"tpr\": 0.36016585644838434, \"n\": 5328}, {\"threshold\": 0.913, \"p\": 27976, \"fpr\": 0.09853603603603604, \"tpr\": 0.36016585644838434, \"n\": 5328}, {\"threshold\": 0.914, \"p\": 27976, \"fpr\": 0.09853603603603604, \"tpr\": 0.36016585644838434, \"n\": 5328}, {\"threshold\": 0.915, \"p\": 27976, \"fpr\": 0.09853603603603604, \"tpr\": 0.3601301115241636, \"n\": 5328}, {\"threshold\": 0.916, \"p\": 27976, \"fpr\": 0.0960960960960961, \"tpr\": 0.35441092364884186, \"n\": 5328}, {\"threshold\": 0.917, \"p\": 27976, \"fpr\": 0.0960960960960961, \"tpr\": 0.3543751787246211, \"n\": 5328}, {\"threshold\": 0.918, \"p\": 27976, \"fpr\": 0.0960960960960961, \"tpr\": 0.3543036888761796, \"n\": 5328}, {\"threshold\": 0.919, \"p\": 27976, \"fpr\": 0.0960960960960961, \"tpr\": 0.3543036888761796, \"n\": 5328}, {\"threshold\": 0.92, \"p\": 27976, \"fpr\": 0.0960960960960961, \"tpr\": 0.3543036888761796, \"n\": 5328}, {\"threshold\": 0.921, \"p\": 27976, \"fpr\": 0.0960960960960961, \"tpr\": 0.3543036888761796, \"n\": 5328}, {\"threshold\": 0.922, \"p\": 27976, \"fpr\": 0.0960960960960961, \"tpr\": 0.3542679439519588, \"n\": 5328}, {\"threshold\": 0.923, \"p\": 27976, \"fpr\": 0.0960960960960961, \"tpr\": 0.3542679439519588, \"n\": 5328}, {\"threshold\": 0.924, \"p\": 27976, \"fpr\": 0.0960960960960961, \"tpr\": 0.3542679439519588, \"n\": 5328}, {\"threshold\": 0.925, \"p\": 27976, \"fpr\": 0.03528528528528529, \"tpr\": 0.1797969688304261, \"n\": 5328}, {\"threshold\": 0.926, \"p\": 27976, \"fpr\": 0.03528528528528529, \"tpr\": 0.17976122390620533, \"n\": 5328}, {\"threshold\": 0.927, \"p\": 27976, \"fpr\": 0.03528528528528529, \"tpr\": 0.17976122390620533, \"n\": 5328}, {\"threshold\": 0.928, \"p\": 27976, \"fpr\": 0.03528528528528529, \"tpr\": 0.17872462110380327, \"n\": 5328}, {\"threshold\": 0.929, \"p\": 27976, \"fpr\": 0.0350975975975976, \"tpr\": 0.17861738633114096, \"n\": 5328}, {\"threshold\": 0.93, \"p\": 27976, \"fpr\": 0.0350975975975976, \"tpr\": 0.1785816414069202, \"n\": 5328}, {\"threshold\": 0.931, \"p\": 27976, \"fpr\": 0.0350975975975976, \"tpr\": 0.17854589648269945, \"n\": 5328}, {\"threshold\": 0.932, \"p\": 27976, \"fpr\": 0.0350975975975976, \"tpr\": 0.17854589648269945, \"n\": 5328}, {\"threshold\": 0.933, \"p\": 27976, \"fpr\": 0.0350975975975976, \"tpr\": 0.17854589648269945, \"n\": 5328}, {\"threshold\": 0.934, \"p\": 27976, \"fpr\": 0.0350975975975976, \"tpr\": 0.17854589648269945, \"n\": 5328}, {\"threshold\": 0.935, \"p\": 27976, \"fpr\": 0.0350975975975976, \"tpr\": 0.17854589648269945, \"n\": 5328}, {\"threshold\": 0.936, \"p\": 27976, \"fpr\": 0.0350975975975976, \"tpr\": 0.17851015155847869, \"n\": 5328}, {\"threshold\": 0.937, \"p\": 27976, \"fpr\": 0.03490990990990991, \"tpr\": 0.17793823277094653, \"n\": 5328}, {\"threshold\": 0.938, \"p\": 27976, \"fpr\": 0.03490990990990991, \"tpr\": 0.17793823277094653, \"n\": 5328}, {\"threshold\": 0.939, \"p\": 27976, \"fpr\": 0.034722222222222224, \"tpr\": 0.17793823277094653, \"n\": 5328}, {\"threshold\": 0.94, \"p\": 27976, \"fpr\": 0.034722222222222224, \"tpr\": 0.17783099799828425, \"n\": 5328}, {\"threshold\": 0.941, \"p\": 27976, \"fpr\": 0.034722222222222224, \"tpr\": 0.17783099799828425, \"n\": 5328}, {\"threshold\": 0.942, \"p\": 27976, \"fpr\": 0.034722222222222224, \"tpr\": 0.17783099799828425, \"n\": 5328}, {\"threshold\": 0.943, \"p\": 27976, \"fpr\": 0.034722222222222224, \"tpr\": 0.17783099799828425, \"n\": 5328}, {\"threshold\": 0.944, \"p\": 27976, \"fpr\": 0.027965465465465467, \"tpr\": 0.15556191020875035, \"n\": 5328}, {\"threshold\": 0.945, \"p\": 27976, \"fpr\": 0.027777777777777776, \"tpr\": 0.1554189305118673, \"n\": 5328}, {\"threshold\": 0.946, \"p\": 27976, \"fpr\": 0.027777777777777776, \"tpr\": 0.1543465827852445, \"n\": 5328}, {\"threshold\": 0.947, \"p\": 27976, \"fpr\": 0.027777777777777776, \"tpr\": 0.1543465827852445, \"n\": 5328}, {\"threshold\": 0.948, \"p\": 27976, \"fpr\": 0.02759009009009009, \"tpr\": 0.1541678581641407, \"n\": 5328}, {\"threshold\": 0.949, \"p\": 27976, \"fpr\": 0.02759009009009009, \"tpr\": 0.1541678581641407, \"n\": 5328}, {\"threshold\": 0.95, \"p\": 27976, \"fpr\": 0.02759009009009009, \"tpr\": 0.1541678581641407, \"n\": 5328}, {\"threshold\": 0.951, \"p\": 27976, \"fpr\": 0.02759009009009009, \"tpr\": 0.1541678581641407, \"n\": 5328}, {\"threshold\": 0.952, \"p\": 27976, \"fpr\": 0.02759009009009009, \"tpr\": 0.1541678581641407, \"n\": 5328}, {\"threshold\": 0.953, \"p\": 27976, \"fpr\": 0.027214714714714715, \"tpr\": 0.15330997998284243, \"n\": 5328}, {\"threshold\": 0.954, \"p\": 27976, \"fpr\": 0.027214714714714715, \"tpr\": 0.15330997998284243, \"n\": 5328}, {\"threshold\": 0.955, \"p\": 27976, \"fpr\": 0.027214714714714715, \"tpr\": 0.1532384901344009, \"n\": 5328}, {\"threshold\": 0.956, \"p\": 27976, \"fpr\": 0.027214714714714715, \"tpr\": 0.1532384901344009, \"n\": 5328}, {\"threshold\": 0.957, \"p\": 27976, \"fpr\": 0.02702702702702703, \"tpr\": 0.15009293680297398, \"n\": 5328}, {\"threshold\": 0.958, \"p\": 27976, \"fpr\": 0.02702702702702703, \"tpr\": 0.14991421218187018, \"n\": 5328}, {\"threshold\": 0.959, \"p\": 27976, \"fpr\": 0.026839339339339338, \"tpr\": 0.14830569059193593, \"n\": 5328}, {\"threshold\": 0.96, \"p\": 27976, \"fpr\": 0.026839339339339338, \"tpr\": 0.14809122104661138, \"n\": 5328}, {\"threshold\": 0.961, \"p\": 27976, \"fpr\": 0.026839339339339338, \"tpr\": 0.14805547612239062, \"n\": 5328}, {\"threshold\": 0.962, \"p\": 27976, \"fpr\": 0.026839339339339338, \"tpr\": 0.14805547612239062, \"n\": 5328}, {\"threshold\": 0.963, \"p\": 27976, \"fpr\": 0.026839339339339338, \"tpr\": 0.14805547612239062, \"n\": 5328}, {\"threshold\": 0.964, \"p\": 27976, \"fpr\": 0.01539039039039039, \"tpr\": 0.10130111524163568, \"n\": 5328}, {\"threshold\": 0.965, \"p\": 27976, \"fpr\": 0.01539039039039039, \"tpr\": 0.09979982842436375, \"n\": 5328}, {\"threshold\": 0.966, \"p\": 27976, \"fpr\": 0.01539039039039039, \"tpr\": 0.09972833857592221, \"n\": 5328}, {\"threshold\": 0.967, \"p\": 27976, \"fpr\": 0.015202702702702704, \"tpr\": 0.0994781241063769, \"n\": 5328}, {\"threshold\": 0.968, \"p\": 27976, \"fpr\": 0.015202702702702704, \"tpr\": 0.09922790963683158, \"n\": 5328}, {\"threshold\": 0.969, \"p\": 27976, \"fpr\": 0.015202702702702704, \"tpr\": 0.0991921647126108, \"n\": 5328}, {\"threshold\": 0.97, \"p\": 27976, \"fpr\": 0.015015015015015015, \"tpr\": 0.09869173577352015, \"n\": 5328}, {\"threshold\": 0.971, \"p\": 27976, \"fpr\": 0.015015015015015015, \"tpr\": 0.0986559908492994, \"n\": 5328}, {\"threshold\": 0.972, \"p\": 27976, \"fpr\": 0.014827327327327328, \"tpr\": 0.09518873319988562, \"n\": 5328}, {\"threshold\": 0.973, \"p\": 27976, \"fpr\": 0.012762762762762763, \"tpr\": 0.0885759222190449, \"n\": 5328}, {\"threshold\": 0.974, \"p\": 27976, \"fpr\": 0.012762762762762763, \"tpr\": 0.08854017729482414, \"n\": 5328}, {\"threshold\": 0.975, \"p\": 27976, \"fpr\": 0.012762762762762763, \"tpr\": 0.08850443237060338, \"n\": 5328}, {\"threshold\": 0.976, \"p\": 27976, \"fpr\": 0.012762762762762763, \"tpr\": 0.08846868744638262, \"n\": 5328}, {\"threshold\": 0.977, \"p\": 27976, \"fpr\": 0.0063813813813813815, \"tpr\": 0.051258221332570776, \"n\": 5328}, {\"threshold\": 0.978, \"p\": 27976, \"fpr\": 0.0063813813813813815, \"tpr\": 0.05118673148412926, \"n\": 5328}, {\"threshold\": 0.979, \"p\": 27976, \"fpr\": 0.00563063063063063, \"tpr\": 0.050793537317700886, \"n\": 5328}, {\"threshold\": 0.98, \"p\": 27976, \"fpr\": 0.00563063063063063, \"tpr\": 0.05047183299971404, \"n\": 5328}, {\"threshold\": 0.981, \"p\": 27976, \"fpr\": 0.005442942942942943, \"tpr\": 0.0501501286817272, \"n\": 5328}, {\"threshold\": 0.982, \"p\": 27976, \"fpr\": 0.005442942942942943, \"tpr\": 0.0501501286817272, \"n\": 5328}, {\"threshold\": 0.983, \"p\": 27976, \"fpr\": 0.0045045045045045045, \"tpr\": 0.04117815270231627, \"n\": 5328}, {\"threshold\": 0.984, \"p\": 27976, \"fpr\": 0.0045045045045045045, \"tpr\": 0.040999428081212465, \"n\": 5328}, {\"threshold\": 0.985, \"p\": 27976, \"fpr\": 0.0045045045045045045, \"tpr\": 0.040820703460108666, \"n\": 5328}, {\"threshold\": 0.986, \"p\": 27976, \"fpr\": 0.0045045045045045045, \"tpr\": 0.040356019445238776, \"n\": 5328}, {\"threshold\": 0.987, \"p\": 27976, \"fpr\": 0.003566066066066066, \"tpr\": 0.03896196740062911, \"n\": 5328}, {\"threshold\": 0.988, \"p\": 27976, \"fpr\": 0.0033783783783783786, \"tpr\": 0.03803259937088933, \"n\": 5328}, {\"threshold\": 0.989, \"p\": 27976, \"fpr\": 0.0020645645645645644, \"tpr\": 0.026522733771804405, \"n\": 5328}, {\"threshold\": 0.99, \"p\": 27976, \"fpr\": 0.0020645645645645644, \"tpr\": 0.025414641120960823, \"n\": 5328}, {\"threshold\": 0.991, \"p\": 27976, \"fpr\": 0.0018768768768768769, \"tpr\": 0.025021446954532456, \"n\": 5328}, {\"threshold\": 0.992, \"p\": 27976, \"fpr\": 0.0015015015015015015, \"tpr\": 0.02187589362310552, \"n\": 5328}, {\"threshold\": 0.993, \"p\": 27976, \"fpr\": 0.0007507507507507507, \"tpr\": 0.014619674006291107, \"n\": 5328}, {\"threshold\": 0.994, \"p\": 27976, \"fpr\": 0.0007507507507507507, \"tpr\": 0.014012010294538175, \"n\": 5328}, {\"threshold\": 0.995, \"p\": 27976, \"fpr\": 0.00037537537537537537, \"tpr\": 0.01154561052330569, \"n\": 5328}, {\"threshold\": 0.996, \"p\": 27976, \"fpr\": 0.00037537537537537537, \"tpr\": 0.010973691735773521, \"n\": 5328}, {\"threshold\": 0.997, \"p\": 27976, \"fpr\": 0.00018768768768768769, \"tpr\": 0.007577923934801258, \"n\": 5328}, {\"threshold\": 0.998, \"p\": 27976, \"fpr\": 0.0, \"tpr\": 0.004539605376036602, \"n\": 5328}, {\"threshold\": 0.999, \"p\": 27976, \"fpr\": 0.0, \"tpr\": 0.0023234200743494425, \"n\": 5328}, {\"threshold\": 1.0, \"p\": 27976, \"fpr\": 0.0, \"tpr\": 0.0, \"n\": 5328}], \"confusion_matrix\": [{\"count\": 263, \"target_label\": 0, \"predicted_label\": 0}, {\"count\": 5065, \"target_label\": 0, \"predicted_label\": 1}, {\"count\": 27856, \"target_label\": 1, \"predicted_label\": 1}, {\"count\": 120, \"target_label\": 1, \"predicted_label\": 0}], \"accuracy\": 0.8443129954359837}]], \"type\": \"Model\"}, \"ipython\": true, \"view_params\": {\"model_type\": \"regression\", \"view\": \"Evaluation\"}, \"model_type\": \"regression\", \"attributes\": {\"section_titles\": [\"Schema\", \"Hyperparameters\", \"Training Summary\", \"Settings\", \"Highest Positive Coefficients\", \"Lowest Negative Coefficients\"], \"sections\": [[[\"Number of coefficients\", 12], [\"Number of examples\", 133448], [\"Number of classes\", 2], [\"Number of feature columns\", 11], [\"Number of unpacked features\", 11]], [[\"L1 penalty\", 0.0], [\"L2 penalty\", 0.01]], [[\"Solver\", \"newton\"], [\"Solver iterations\", 6], [\"Solver status\", \"SUCCESS: Optimal solution found.\"], [\"Training time (sec)\", 1.7437]], [[\"Log-likelihood\", 53146.5739]], [[\"(intercept)\", 1.3043], [\"love\", 1.2008], [\"amazing\", 1.0732], [\"awesome\", 1.0221], [\"fantastic\", 0.7931]], [[\"horrible\", -2.1574], [\"terrible\", -2.0737], [\"awful\", -1.9094], [\"bad\", -1.0069], [\"hate\", -0.7167]]]}, \"evaluations\": [[\"test_data\", {\"f1_score\": 0.9148562326551389, \"auc\": 0.6907033503513523, \"recall\": 0.9957106090935087, \"precision\": 0.8461468363658455, \"log_loss\": 0.4000842667631508, \"roc_curve\": [{\"threshold\": 0.0, \"p\": 27976, \"fpr\": 1.0, \"tpr\": 1.0, \"n\": 5328}, {\"threshold\": 0.001, \"p\": 27976, \"fpr\": 0.9996246246246246, \"tpr\": 1.0, \"n\": 5328}, {\"threshold\": 0.002, \"p\": 27976, \"fpr\": 0.9996246246246246, \"tpr\": 1.0, \"n\": 5328}, {\"threshold\": 0.003, \"p\": 27976, \"fpr\": 0.9996246246246246, \"tpr\": 1.0, \"n\": 5328}, {\"threshold\": 0.004, \"p\": 27976, \"fpr\": 0.9996246246246246, \"tpr\": 1.0, \"n\": 5328}, {\"threshold\": 0.005, \"p\": 27976, \"fpr\": 0.9996246246246246, \"tpr\": 1.0, \"n\": 5328}, {\"threshold\": 0.006, \"p\": 27976, \"fpr\": 0.9996246246246246, \"tpr\": 1.0, \"n\": 5328}, {\"threshold\": 0.007, \"p\": 27976, \"fpr\": 0.9996246246246246, \"tpr\": 1.0, \"n\": 5328}, {\"threshold\": 0.008, \"p\": 27976, \"fpr\": 0.9992492492492493, \"tpr\": 1.0, \"n\": 5328}, {\"threshold\": 0.009, \"p\": 27976, \"fpr\": 0.9992492492492493, \"tpr\": 1.0, \"n\": 5328}, {\"threshold\": 0.01, \"p\": 27976, \"fpr\": 0.9992492492492493, \"tpr\": 1.0, \"n\": 5328}, {\"threshold\": 0.011, \"p\": 27976, \"fpr\": 0.9992492492492493, \"tpr\": 1.0, \"n\": 5328}, {\"threshold\": 0.012, \"p\": 27976, \"fpr\": 0.9990615615615616, \"tpr\": 1.0, \"n\": 5328}, {\"threshold\": 0.013, \"p\": 27976, \"fpr\": 0.9990615615615616, \"tpr\": 1.0, \"n\": 5328}, {\"threshold\": 0.014, \"p\": 27976, \"fpr\": 0.9990615615615616, \"tpr\": 1.0, \"n\": 5328}, {\"threshold\": 0.015, \"p\": 27976, \"fpr\": 0.9990615615615616, \"tpr\": 1.0, \"n\": 5328}, {\"threshold\": 0.016, \"p\": 27976, \"fpr\": 0.9990615615615616, \"tpr\": 1.0, \"n\": 5328}, {\"threshold\": 0.017, \"p\": 27976, \"fpr\": 0.9990615615615616, \"tpr\": 1.0, \"n\": 5328}, {\"threshold\": 0.018, \"p\": 27976, \"fpr\": 0.9988738738738738, \"tpr\": 0.9999642550757792, \"n\": 5328}, {\"threshold\": 0.019, \"p\": 27976, \"fpr\": 0.9986861861861862, \"tpr\": 0.9999642550757792, \"n\": 5328}, {\"threshold\": 0.02, \"p\": 27976, \"fpr\": 0.9986861861861862, \"tpr\": 0.9999642550757792, \"n\": 5328}, {\"threshold\": 0.021, \"p\": 27976, \"fpr\": 0.9986861861861862, \"tpr\": 0.9999642550757792, \"n\": 5328}, {\"threshold\": 0.022, \"p\": 27976, \"fpr\": 0.9986861861861862, \"tpr\": 0.9999642550757792, \"n\": 5328}, {\"threshold\": 0.023, \"p\": 27976, \"fpr\": 0.9986861861861862, \"tpr\": 0.9999642550757792, \"n\": 5328}, {\"threshold\": 0.024, \"p\": 27976, \"fpr\": 0.9986861861861862, \"tpr\": 0.9999642550757792, \"n\": 5328}, {\"threshold\": 0.025, \"p\": 27976, \"fpr\": 0.9984984984984985, \"tpr\": 0.9999642550757792, \"n\": 5328}, {\"threshold\": 0.026, \"p\": 27976, \"fpr\": 0.9984984984984985, \"tpr\": 0.9999642550757792, \"n\": 5328}, {\"threshold\": 0.027, \"p\": 27976, \"fpr\": 0.9984984984984985, \"tpr\": 0.9999642550757792, \"n\": 5328}, {\"threshold\": 0.028, \"p\": 27976, \"fpr\": 0.9984984984984985, \"tpr\": 0.9999642550757792, \"n\": 5328}, {\"threshold\": 0.029, \"p\": 27976, \"fpr\": 0.9984984984984985, \"tpr\": 0.9999642550757792, \"n\": 5328}, {\"threshold\": 0.03, \"p\": 27976, \"fpr\": 0.9981231231231231, \"tpr\": 0.9999642550757792, \"n\": 5328}, {\"threshold\": 0.031, \"p\": 27976, \"fpr\": 0.9981231231231231, \"tpr\": 0.9999642550757792, \"n\": 5328}, {\"threshold\": 0.032, \"p\": 27976, \"fpr\": 0.9981231231231231, \"tpr\": 0.9999642550757792, \"n\": 5328}, {\"threshold\": 0.033, \"p\": 27976, \"fpr\": 0.9981231231231231, \"tpr\": 0.9999642550757792, \"n\": 5328}, {\"threshold\": 0.034, \"p\": 27976, \"fpr\": 0.9981231231231231, \"tpr\": 0.9999642550757792, \"n\": 5328}, {\"threshold\": 0.035, \"p\": 27976, \"fpr\": 0.9981231231231231, \"tpr\": 0.9999642550757792, \"n\": 5328}, {\"threshold\": 0.036, \"p\": 27976, \"fpr\": 0.9981231231231231, \"tpr\": 0.9999642550757792, \"n\": 5328}, {\"threshold\": 0.037, \"p\": 27976, \"fpr\": 0.9981231231231231, \"tpr\": 0.9999642550757792, \"n\": 5328}, {\"threshold\": 0.038, \"p\": 27976, \"fpr\": 0.9981231231231231, \"tpr\": 0.9999642550757792, \"n\": 5328}, {\"threshold\": 0.039, \"p\": 27976, \"fpr\": 0.9981231231231231, \"tpr\": 0.9999642550757792, \"n\": 5328}, {\"threshold\": 0.04, \"p\": 27976, \"fpr\": 0.9981231231231231, \"tpr\": 0.9999642550757792, \"n\": 5328}, {\"threshold\": 0.041, \"p\": 27976, \"fpr\": 0.9981231231231231, \"tpr\": 0.9999642550757792, \"n\": 5328}, {\"threshold\": 0.042, \"p\": 27976, \"fpr\": 0.9981231231231231, \"tpr\": 0.9999642550757792, \"n\": 5328}, {\"threshold\": 0.043, \"p\": 27976, \"fpr\": 0.9981231231231231, \"tpr\": 0.9999642550757792, \"n\": 5328}, {\"threshold\": 0.044, \"p\": 27976, \"fpr\": 0.9981231231231231, \"tpr\": 0.9999642550757792, \"n\": 5328}, {\"threshold\": 0.045, \"p\": 27976, \"fpr\": 0.9981231231231231, \"tpr\": 0.9999642550757792, \"n\": 5328}, {\"threshold\": 0.046, \"p\": 27976, \"fpr\": 0.9981231231231231, \"tpr\": 0.9999642550757792, \"n\": 5328}, {\"threshold\": 0.047, \"p\": 27976, \"fpr\": 0.996996996996997, \"tpr\": 0.9999642550757792, \"n\": 5328}, {\"threshold\": 0.048, \"p\": 27976, \"fpr\": 0.996996996996997, \"tpr\": 0.9999642550757792, \"n\": 5328}, {\"threshold\": 0.049, \"p\": 27976, \"fpr\": 0.996996996996997, \"tpr\": 0.9999642550757792, \"n\": 5328}, {\"threshold\": 0.05, \"p\": 27976, \"fpr\": 0.996996996996997, \"tpr\": 0.9999642550757792, \"n\": 5328}, {\"threshold\": 0.051, \"p\": 27976, \"fpr\": 0.996433933933934, \"tpr\": 0.9999642550757792, \"n\": 5328}, {\"threshold\": 0.052, \"p\": 27976, \"fpr\": 0.996433933933934, \"tpr\": 0.9999642550757792, \"n\": 5328}, {\"threshold\": 0.053, \"p\": 27976, \"fpr\": 0.996433933933934, \"tpr\": 0.9999642550757792, \"n\": 5328}, {\"threshold\": 0.054, \"p\": 27976, \"fpr\": 0.9962462462462462, \"tpr\": 0.9999642550757792, \"n\": 5328}, {\"threshold\": 0.055, \"p\": 27976, \"fpr\": 0.9960585585585585, \"tpr\": 0.9999642550757792, \"n\": 5328}, {\"threshold\": 0.056, \"p\": 27976, \"fpr\": 0.9958708708708709, \"tpr\": 0.9999642550757792, \"n\": 5328}, {\"threshold\": 0.057, \"p\": 27976, \"fpr\": 0.9958708708708709, \"tpr\": 0.9999642550757792, \"n\": 5328}, {\"threshold\": 0.058, \"p\": 27976, \"fpr\": 0.9956831831831832, \"tpr\": 0.9999642550757792, \"n\": 5328}, {\"threshold\": 0.059, \"p\": 27976, \"fpr\": 0.9956831831831832, \"tpr\": 0.9999642550757792, \"n\": 5328}, {\"threshold\": 0.06, \"p\": 27976, \"fpr\": 0.9954954954954955, \"tpr\": 0.9999285101515585, \"n\": 5328}, {\"threshold\": 0.061, \"p\": 27976, \"fpr\": 0.9954954954954955, \"tpr\": 0.9999285101515585, \"n\": 5328}, {\"threshold\": 0.062, \"p\": 27976, \"fpr\": 0.9954954954954955, \"tpr\": 0.9999285101515585, \"n\": 5328}, {\"threshold\": 0.063, \"p\": 27976, \"fpr\": 0.9954954954954955, \"tpr\": 0.9999285101515585, \"n\": 5328}, {\"threshold\": 0.064, \"p\": 27976, \"fpr\": 0.9954954954954955, \"tpr\": 0.9999285101515585, \"n\": 5328}, {\"threshold\": 0.065, \"p\": 27976, \"fpr\": 0.9954954954954955, \"tpr\": 0.9999285101515585, \"n\": 5328}, {\"threshold\": 0.066, \"p\": 27976, \"fpr\": 0.9954954954954955, \"tpr\": 0.9999285101515585, \"n\": 5328}, {\"threshold\": 0.067, \"p\": 27976, \"fpr\": 0.9954954954954955, \"tpr\": 0.9999285101515585, \"n\": 5328}, {\"threshold\": 0.068, \"p\": 27976, \"fpr\": 0.9954954954954955, \"tpr\": 0.9999285101515585, \"n\": 5328}, {\"threshold\": 0.069, \"p\": 27976, \"fpr\": 0.9954954954954955, \"tpr\": 0.9999285101515585, \"n\": 5328}, {\"threshold\": 0.07, \"p\": 27976, \"fpr\": 0.9954954954954955, \"tpr\": 0.9999285101515585, \"n\": 5328}, {\"threshold\": 0.071, \"p\": 27976, \"fpr\": 0.9954954954954955, \"tpr\": 0.9999285101515585, \"n\": 5328}, {\"threshold\": 0.072, \"p\": 27976, \"fpr\": 0.9954954954954955, \"tpr\": 0.9999285101515585, \"n\": 5328}, {\"threshold\": 0.073, \"p\": 27976, \"fpr\": 0.9954954954954955, \"tpr\": 0.9999285101515585, \"n\": 5328}, {\"threshold\": 0.074, \"p\": 27976, \"fpr\": 0.9954954954954955, \"tpr\": 0.9999285101515585, \"n\": 5328}, {\"threshold\": 0.075, \"p\": 27976, \"fpr\": 0.9953078078078078, \"tpr\": 0.9999285101515585, \"n\": 5328}, {\"threshold\": 0.076, \"p\": 27976, \"fpr\": 0.9953078078078078, \"tpr\": 0.9999285101515585, \"n\": 5328}, {\"threshold\": 0.077, \"p\": 27976, \"fpr\": 0.9953078078078078, \"tpr\": 0.9999285101515585, \"n\": 5328}, {\"threshold\": 0.078, \"p\": 27976, \"fpr\": 0.9953078078078078, \"tpr\": 0.9999285101515585, \"n\": 5328}, {\"threshold\": 0.079, \"p\": 27976, \"fpr\": 0.9953078078078078, \"tpr\": 0.9999285101515585, \"n\": 5328}, {\"threshold\": 0.08, \"p\": 27976, \"fpr\": 0.9953078078078078, \"tpr\": 0.9999285101515585, \"n\": 5328}, {\"threshold\": 0.081, \"p\": 27976, \"fpr\": 0.9953078078078078, \"tpr\": 0.9999285101515585, \"n\": 5328}, {\"threshold\": 0.082, \"p\": 27976, \"fpr\": 0.9953078078078078, \"tpr\": 0.9999285101515585, \"n\": 5328}, {\"threshold\": 0.083, \"p\": 27976, \"fpr\": 0.9953078078078078, \"tpr\": 0.9999285101515585, \"n\": 5328}, {\"threshold\": 0.084, \"p\": 27976, \"fpr\": 0.9953078078078078, \"tpr\": 0.9999285101515585, \"n\": 5328}, {\"threshold\": 0.085, \"p\": 27976, \"fpr\": 0.9953078078078078, \"tpr\": 0.9999285101515585, \"n\": 5328}, {\"threshold\": 0.086, \"p\": 27976, \"fpr\": 0.9953078078078078, \"tpr\": 0.9999285101515585, \"n\": 5328}, {\"threshold\": 0.087, \"p\": 27976, \"fpr\": 0.9953078078078078, \"tpr\": 0.9999285101515585, \"n\": 5328}, {\"threshold\": 0.088, \"p\": 27976, \"fpr\": 0.9953078078078078, \"tpr\": 0.9999285101515585, \"n\": 5328}, {\"threshold\": 0.089, \"p\": 27976, \"fpr\": 0.9953078078078078, \"tpr\": 0.9999285101515585, \"n\": 5328}, {\"threshold\": 0.09, \"p\": 27976, \"fpr\": 0.9953078078078078, \"tpr\": 0.9999285101515585, \"n\": 5328}, {\"threshold\": 0.091, \"p\": 27976, \"fpr\": 0.9953078078078078, \"tpr\": 0.9999285101515585, \"n\": 5328}, {\"threshold\": 0.092, \"p\": 27976, \"fpr\": 0.9953078078078078, \"tpr\": 0.9999285101515585, \"n\": 5328}, {\"threshold\": 0.093, \"p\": 27976, \"fpr\": 0.9953078078078078, \"tpr\": 0.9999285101515585, \"n\": 5328}, {\"threshold\": 0.094, \"p\": 27976, \"fpr\": 0.9953078078078078, \"tpr\": 0.9999285101515585, \"n\": 5328}, {\"threshold\": 0.095, \"p\": 27976, \"fpr\": 0.9953078078078078, \"tpr\": 0.9999285101515585, \"n\": 5328}, {\"threshold\": 0.096, \"p\": 27976, \"fpr\": 0.9953078078078078, \"tpr\": 0.9999285101515585, \"n\": 5328}, {\"threshold\": 0.097, \"p\": 27976, \"fpr\": 0.9953078078078078, \"tpr\": 0.9999285101515585, \"n\": 5328}, {\"threshold\": 0.098, \"p\": 27976, \"fpr\": 0.9953078078078078, \"tpr\": 0.9999285101515585, \"n\": 5328}, {\"threshold\": 0.099, \"p\": 27976, \"fpr\": 0.9953078078078078, \"tpr\": 0.9999285101515585, \"n\": 5328}, {\"threshold\": 0.1, \"p\": 27976, \"fpr\": 0.9953078078078078, \"tpr\": 0.9999285101515585, \"n\": 5328}, {\"threshold\": 0.101, \"p\": 27976, \"fpr\": 0.9953078078078078, \"tpr\": 0.9999285101515585, \"n\": 5328}, {\"threshold\": 0.102, \"p\": 27976, \"fpr\": 0.9953078078078078, \"tpr\": 0.9999285101515585, \"n\": 5328}, {\"threshold\": 0.103, \"p\": 27976, \"fpr\": 0.9953078078078078, \"tpr\": 0.9999285101515585, \"n\": 5328}, {\"threshold\": 0.104, \"p\": 27976, \"fpr\": 0.9953078078078078, \"tpr\": 0.9999285101515585, \"n\": 5328}, {\"threshold\": 0.105, \"p\": 27976, \"fpr\": 0.9953078078078078, \"tpr\": 0.9999285101515585, \"n\": 5328}, {\"threshold\": 0.106, \"p\": 27976, \"fpr\": 0.9953078078078078, \"tpr\": 0.9999285101515585, \"n\": 5328}, {\"threshold\": 0.107, \"p\": 27976, \"fpr\": 0.9953078078078078, \"tpr\": 0.9999285101515585, \"n\": 5328}, {\"threshold\": 0.108, \"p\": 27976, \"fpr\": 0.9953078078078078, \"tpr\": 0.9999285101515585, \"n\": 5328}, {\"threshold\": 0.109, \"p\": 27976, \"fpr\": 0.9953078078078078, \"tpr\": 0.9999285101515585, \"n\": 5328}, {\"threshold\": 0.11, \"p\": 27976, \"fpr\": 0.9953078078078078, \"tpr\": 0.9999285101515585, \"n\": 5328}, {\"threshold\": 0.111, \"p\": 27976, \"fpr\": 0.9951201201201201, \"tpr\": 0.9999285101515585, \"n\": 5328}, {\"threshold\": 0.112, \"p\": 27976, \"fpr\": 0.9951201201201201, \"tpr\": 0.9999285101515585, \"n\": 5328}, {\"threshold\": 0.113, \"p\": 27976, \"fpr\": 0.9951201201201201, \"tpr\": 0.9999285101515585, \"n\": 5328}, {\"threshold\": 0.114, \"p\": 27976, \"fpr\": 0.9951201201201201, \"tpr\": 0.9999285101515585, \"n\": 5328}, {\"threshold\": 0.115, \"p\": 27976, \"fpr\": 0.9951201201201201, \"tpr\": 0.9999285101515585, \"n\": 5328}, {\"threshold\": 0.116, \"p\": 27976, \"fpr\": 0.9951201201201201, \"tpr\": 0.9999285101515585, \"n\": 5328}, {\"threshold\": 0.117, \"p\": 27976, \"fpr\": 0.9951201201201201, \"tpr\": 0.9999285101515585, \"n\": 5328}, {\"threshold\": 0.118, \"p\": 27976, \"fpr\": 0.9951201201201201, \"tpr\": 0.9999285101515585, \"n\": 5328}, {\"threshold\": 0.119, \"p\": 27976, \"fpr\": 0.9951201201201201, \"tpr\": 0.9999285101515585, \"n\": 5328}, {\"threshold\": 0.12, \"p\": 27976, \"fpr\": 0.9951201201201201, \"tpr\": 0.9999285101515585, \"n\": 5328}, {\"threshold\": 0.121, \"p\": 27976, \"fpr\": 0.9951201201201201, \"tpr\": 0.9999285101515585, \"n\": 5328}, {\"threshold\": 0.122, \"p\": 27976, \"fpr\": 0.9951201201201201, \"tpr\": 0.9999285101515585, \"n\": 5328}, {\"threshold\": 0.123, \"p\": 27976, \"fpr\": 0.9951201201201201, \"tpr\": 0.9999285101515585, \"n\": 5328}, {\"threshold\": 0.124, \"p\": 27976, \"fpr\": 0.9951201201201201, \"tpr\": 0.9999285101515585, \"n\": 5328}, {\"threshold\": 0.125, \"p\": 27976, \"fpr\": 0.9951201201201201, \"tpr\": 0.9999285101515585, \"n\": 5328}, {\"threshold\": 0.126, \"p\": 27976, \"fpr\": 0.9951201201201201, \"tpr\": 0.9999285101515585, \"n\": 5328}, {\"threshold\": 0.127, \"p\": 27976, \"fpr\": 0.9951201201201201, \"tpr\": 0.9999285101515585, \"n\": 5328}, {\"threshold\": 0.128, \"p\": 27976, \"fpr\": 0.9951201201201201, \"tpr\": 0.9999285101515585, \"n\": 5328}, {\"threshold\": 0.129, \"p\": 27976, \"fpr\": 0.9951201201201201, \"tpr\": 0.9999285101515585, \"n\": 5328}, {\"threshold\": 0.13, \"p\": 27976, \"fpr\": 0.9951201201201201, \"tpr\": 0.9999285101515585, \"n\": 5328}, {\"threshold\": 0.131, \"p\": 27976, \"fpr\": 0.9951201201201201, \"tpr\": 0.9999285101515585, \"n\": 5328}, {\"threshold\": 0.132, \"p\": 27976, \"fpr\": 0.9951201201201201, \"tpr\": 0.9999285101515585, \"n\": 5328}, {\"threshold\": 0.133, \"p\": 27976, \"fpr\": 0.9951201201201201, \"tpr\": 0.9999285101515585, \"n\": 5328}, {\"threshold\": 0.134, \"p\": 27976, \"fpr\": 0.9951201201201201, \"tpr\": 0.9999285101515585, \"n\": 5328}, {\"threshold\": 0.135, \"p\": 27976, \"fpr\": 0.993993993993994, \"tpr\": 0.9999285101515585, \"n\": 5328}, {\"threshold\": 0.136, \"p\": 27976, \"fpr\": 0.993993993993994, \"tpr\": 0.9999285101515585, \"n\": 5328}, {\"threshold\": 0.137, \"p\": 27976, \"fpr\": 0.993993993993994, \"tpr\": 0.9999285101515585, \"n\": 5328}, {\"threshold\": 0.138, \"p\": 27976, \"fpr\": 0.993993993993994, \"tpr\": 0.9999285101515585, \"n\": 5328}, {\"threshold\": 0.139, \"p\": 27976, \"fpr\": 0.993993993993994, \"tpr\": 0.9999285101515585, \"n\": 5328}, {\"threshold\": 0.14, \"p\": 27976, \"fpr\": 0.993993993993994, \"tpr\": 0.9999285101515585, \"n\": 5328}, {\"threshold\": 0.141, \"p\": 27976, \"fpr\": 0.993993993993994, \"tpr\": 0.9999285101515585, \"n\": 5328}, {\"threshold\": 0.142, \"p\": 27976, \"fpr\": 0.993993993993994, \"tpr\": 0.9999285101515585, \"n\": 5328}, {\"threshold\": 0.143, \"p\": 27976, \"fpr\": 0.993993993993994, \"tpr\": 0.9999285101515585, \"n\": 5328}, {\"threshold\": 0.144, \"p\": 27976, \"fpr\": 0.993993993993994, \"tpr\": 0.9999285101515585, \"n\": 5328}, {\"threshold\": 0.145, \"p\": 27976, \"fpr\": 0.9928678678678678, \"tpr\": 0.999857020303117, \"n\": 5328}, {\"threshold\": 0.146, \"p\": 27976, \"fpr\": 0.9928678678678678, \"tpr\": 0.999857020303117, \"n\": 5328}, {\"threshold\": 0.147, \"p\": 27976, \"fpr\": 0.9928678678678678, \"tpr\": 0.999857020303117, \"n\": 5328}, {\"threshold\": 0.148, \"p\": 27976, \"fpr\": 0.9928678678678678, \"tpr\": 0.999857020303117, \"n\": 5328}, {\"threshold\": 0.149, \"p\": 27976, \"fpr\": 0.9928678678678678, \"tpr\": 0.999857020303117, \"n\": 5328}, {\"threshold\": 0.15, \"p\": 27976, \"fpr\": 0.9928678678678678, \"tpr\": 0.999857020303117, \"n\": 5328}, {\"threshold\": 0.151, \"p\": 27976, \"fpr\": 0.9928678678678678, \"tpr\": 0.999857020303117, \"n\": 5328}, {\"threshold\": 0.152, \"p\": 27976, \"fpr\": 0.9928678678678678, \"tpr\": 0.9998212753788962, \"n\": 5328}, {\"threshold\": 0.153, \"p\": 27976, \"fpr\": 0.9926801801801802, \"tpr\": 0.9998212753788962, \"n\": 5328}, {\"threshold\": 0.154, \"p\": 27976, \"fpr\": 0.9926801801801802, \"tpr\": 0.9998212753788962, \"n\": 5328}, {\"threshold\": 0.155, \"p\": 27976, \"fpr\": 0.9926801801801802, \"tpr\": 0.9998212753788962, \"n\": 5328}, {\"threshold\": 0.156, \"p\": 27976, \"fpr\": 0.9926801801801802, \"tpr\": 0.9998212753788962, \"n\": 5328}, {\"threshold\": 0.157, \"p\": 27976, \"fpr\": 0.9926801801801802, \"tpr\": 0.9998212753788962, \"n\": 5328}, {\"threshold\": 0.158, \"p\": 27976, \"fpr\": 0.9926801801801802, \"tpr\": 0.9998212753788962, \"n\": 5328}, {\"threshold\": 0.159, \"p\": 27976, \"fpr\": 0.9926801801801802, \"tpr\": 0.9997855304546754, \"n\": 5328}, {\"threshold\": 0.16, \"p\": 27976, \"fpr\": 0.9926801801801802, \"tpr\": 0.9997855304546754, \"n\": 5328}, {\"threshold\": 0.161, \"p\": 27976, \"fpr\": 0.9926801801801802, \"tpr\": 0.9997855304546754, \"n\": 5328}, {\"threshold\": 0.162, \"p\": 27976, \"fpr\": 0.9926801801801802, \"tpr\": 0.9997855304546754, \"n\": 5328}, {\"threshold\": 0.163, \"p\": 27976, \"fpr\": 0.9926801801801802, \"tpr\": 0.9997497855304547, \"n\": 5328}, {\"threshold\": 0.164, \"p\": 27976, \"fpr\": 0.9926801801801802, \"tpr\": 0.9997497855304547, \"n\": 5328}, {\"threshold\": 0.165, \"p\": 27976, \"fpr\": 0.9926801801801802, \"tpr\": 0.9997497855304547, \"n\": 5328}, {\"threshold\": 0.166, \"p\": 27976, \"fpr\": 0.9926801801801802, \"tpr\": 0.9997497855304547, \"n\": 5328}, {\"threshold\": 0.167, \"p\": 27976, \"fpr\": 0.9917417417417418, \"tpr\": 0.9996782956820132, \"n\": 5328}, {\"threshold\": 0.168, \"p\": 27976, \"fpr\": 0.9917417417417418, \"tpr\": 0.9996782956820132, \"n\": 5328}, {\"threshold\": 0.169, \"p\": 27976, \"fpr\": 0.9917417417417418, \"tpr\": 0.9996782956820132, \"n\": 5328}, {\"threshold\": 0.17, \"p\": 27976, \"fpr\": 0.9917417417417418, \"tpr\": 0.9996782956820132, \"n\": 5328}, {\"threshold\": 0.171, \"p\": 27976, \"fpr\": 0.9917417417417418, \"tpr\": 0.9996782956820132, \"n\": 5328}, {\"threshold\": 0.172, \"p\": 27976, \"fpr\": 0.9917417417417418, \"tpr\": 0.9996782956820132, \"n\": 5328}, {\"threshold\": 0.173, \"p\": 27976, \"fpr\": 0.9913663663663663, \"tpr\": 0.9996068058335716, \"n\": 5328}, {\"threshold\": 0.174, \"p\": 27976, \"fpr\": 0.9913663663663663, \"tpr\": 0.9996068058335716, \"n\": 5328}, {\"threshold\": 0.175, \"p\": 27976, \"fpr\": 0.9913663663663663, \"tpr\": 0.9996068058335716, \"n\": 5328}, {\"threshold\": 0.176, \"p\": 27976, \"fpr\": 0.9913663663663663, \"tpr\": 0.9996068058335716, \"n\": 5328}, {\"threshold\": 0.177, \"p\": 27976, \"fpr\": 0.9913663663663663, \"tpr\": 0.9996068058335716, \"n\": 5328}, {\"threshold\": 0.178, \"p\": 27976, \"fpr\": 0.9913663663663663, \"tpr\": 0.9996068058335716, \"n\": 5328}, {\"threshold\": 0.179, \"p\": 27976, \"fpr\": 0.9913663663663663, \"tpr\": 0.9996068058335716, \"n\": 5328}, {\"threshold\": 0.18, \"p\": 27976, \"fpr\": 0.9913663663663663, \"tpr\": 0.9996068058335716, \"n\": 5328}, {\"threshold\": 0.181, \"p\": 27976, \"fpr\": 0.9913663663663663, \"tpr\": 0.9996068058335716, \"n\": 5328}, {\"threshold\": 0.182, \"p\": 27976, \"fpr\": 0.9913663663663663, \"tpr\": 0.9996068058335716, \"n\": 5328}, {\"threshold\": 0.183, \"p\": 27976, \"fpr\": 0.9911786786786787, \"tpr\": 0.9996068058335716, \"n\": 5328}, {\"threshold\": 0.184, \"p\": 27976, \"fpr\": 0.9911786786786787, \"tpr\": 0.9996068058335716, \"n\": 5328}, {\"threshold\": 0.185, \"p\": 27976, \"fpr\": 0.9908033033033034, \"tpr\": 0.9995710609093509, \"n\": 5328}, {\"threshold\": 0.186, \"p\": 27976, \"fpr\": 0.9908033033033034, \"tpr\": 0.9995353159851301, \"n\": 5328}, {\"threshold\": 0.187, \"p\": 27976, \"fpr\": 0.9908033033033034, \"tpr\": 0.9995353159851301, \"n\": 5328}, {\"threshold\": 0.188, \"p\": 27976, \"fpr\": 0.9908033033033034, \"tpr\": 0.9995353159851301, \"n\": 5328}, {\"threshold\": 0.189, \"p\": 27976, \"fpr\": 0.9908033033033034, \"tpr\": 0.9995353159851301, \"n\": 5328}, {\"threshold\": 0.19, \"p\": 27976, \"fpr\": 0.9908033033033034, \"tpr\": 0.9995353159851301, \"n\": 5328}, {\"threshold\": 0.191, \"p\": 27976, \"fpr\": 0.9908033033033034, \"tpr\": 0.9995353159851301, \"n\": 5328}, {\"threshold\": 0.192, \"p\": 27976, \"fpr\": 0.9908033033033034, \"tpr\": 0.9995353159851301, \"n\": 5328}, {\"threshold\": 0.193, \"p\": 27976, \"fpr\": 0.9908033033033034, \"tpr\": 0.9995353159851301, \"n\": 5328}, {\"threshold\": 0.194, \"p\": 27976, \"fpr\": 0.9908033033033034, \"tpr\": 0.9995353159851301, \"n\": 5328}, {\"threshold\": 0.195, \"p\": 27976, \"fpr\": 0.9908033033033034, \"tpr\": 0.9995353159851301, \"n\": 5328}, {\"threshold\": 0.196, \"p\": 27976, \"fpr\": 0.9908033033033034, \"tpr\": 0.9995353159851301, \"n\": 5328}, {\"threshold\": 0.197, \"p\": 27976, \"fpr\": 0.9908033033033034, \"tpr\": 0.9995353159851301, \"n\": 5328}, {\"threshold\": 0.198, \"p\": 27976, \"fpr\": 0.9908033033033034, \"tpr\": 0.9995353159851301, \"n\": 5328}, {\"threshold\": 0.199, \"p\": 27976, \"fpr\": 0.9908033033033034, \"tpr\": 0.9995353159851301, \"n\": 5328}, {\"threshold\": 0.2, \"p\": 27976, \"fpr\": 0.9908033033033034, \"tpr\": 0.9995353159851301, \"n\": 5328}, {\"threshold\": 0.201, \"p\": 27976, \"fpr\": 0.9908033033033034, \"tpr\": 0.9995353159851301, \"n\": 5328}, {\"threshold\": 0.202, \"p\": 27976, \"fpr\": 0.9908033033033034, \"tpr\": 0.9995353159851301, \"n\": 5328}, {\"threshold\": 0.203, \"p\": 27976, \"fpr\": 0.9908033033033034, \"tpr\": 0.9995353159851301, \"n\": 5328}, {\"threshold\": 0.204, \"p\": 27976, \"fpr\": 0.9908033033033034, \"tpr\": 0.9995353159851301, \"n\": 5328}, {\"threshold\": 0.205, \"p\": 27976, \"fpr\": 0.9908033033033034, \"tpr\": 0.9995353159851301, \"n\": 5328}, {\"threshold\": 0.206, \"p\": 27976, \"fpr\": 0.9908033033033034, \"tpr\": 0.9995353159851301, \"n\": 5328}, {\"threshold\": 0.207, \"p\": 27976, \"fpr\": 0.9908033033033034, \"tpr\": 0.9995353159851301, \"n\": 5328}, {\"threshold\": 0.208, \"p\": 27976, \"fpr\": 0.9908033033033034, \"tpr\": 0.9995353159851301, \"n\": 5328}, {\"threshold\": 0.209, \"p\": 27976, \"fpr\": 0.9908033033033034, \"tpr\": 0.9995353159851301, \"n\": 5328}, {\"threshold\": 0.21, \"p\": 27976, \"fpr\": 0.9908033033033034, \"tpr\": 0.9995353159851301, \"n\": 5328}, {\"threshold\": 0.211, \"p\": 27976, \"fpr\": 0.9900525525525525, \"tpr\": 0.9995353159851301, \"n\": 5328}, {\"threshold\": 0.212, \"p\": 27976, \"fpr\": 0.9900525525525525, \"tpr\": 0.9995353159851301, \"n\": 5328}, {\"threshold\": 0.213, \"p\": 27976, \"fpr\": 0.9900525525525525, \"tpr\": 0.9995353159851301, \"n\": 5328}, {\"threshold\": 0.214, \"p\": 27976, \"fpr\": 0.9900525525525525, \"tpr\": 0.9995353159851301, \"n\": 5328}, {\"threshold\": 0.215, \"p\": 27976, \"fpr\": 0.9900525525525525, \"tpr\": 0.9995353159851301, \"n\": 5328}, {\"threshold\": 0.216, \"p\": 27976, \"fpr\": 0.9900525525525525, \"tpr\": 0.9994995710609094, \"n\": 5328}, {\"threshold\": 0.217, \"p\": 27976, \"fpr\": 0.9900525525525525, \"tpr\": 0.9994995710609094, \"n\": 5328}, {\"threshold\": 0.218, \"p\": 27976, \"fpr\": 0.9900525525525525, \"tpr\": 0.9994995710609094, \"n\": 5328}, {\"threshold\": 0.219, \"p\": 27976, \"fpr\": 0.9900525525525525, \"tpr\": 0.9994995710609094, \"n\": 5328}, {\"threshold\": 0.22, \"p\": 27976, \"fpr\": 0.9900525525525525, \"tpr\": 0.9994995710609094, \"n\": 5328}, {\"threshold\": 0.221, \"p\": 27976, \"fpr\": 0.9900525525525525, \"tpr\": 0.9994995710609094, \"n\": 5328}, {\"threshold\": 0.222, \"p\": 27976, \"fpr\": 0.9900525525525525, \"tpr\": 0.9994995710609094, \"n\": 5328}, {\"threshold\": 0.223, \"p\": 27976, \"fpr\": 0.9900525525525525, \"tpr\": 0.9994995710609094, \"n\": 5328}, {\"threshold\": 0.224, \"p\": 27976, \"fpr\": 0.9900525525525525, \"tpr\": 0.9994995710609094, \"n\": 5328}, {\"threshold\": 0.225, \"p\": 27976, \"fpr\": 0.9900525525525525, \"tpr\": 0.9994995710609094, \"n\": 5328}, {\"threshold\": 0.226, \"p\": 27976, \"fpr\": 0.9900525525525525, \"tpr\": 0.9994995710609094, \"n\": 5328}, {\"threshold\": 0.227, \"p\": 27976, \"fpr\": 0.9900525525525525, \"tpr\": 0.9994995710609094, \"n\": 5328}, {\"threshold\": 0.228, \"p\": 27976, \"fpr\": 0.9900525525525525, \"tpr\": 0.9994995710609094, \"n\": 5328}, {\"threshold\": 0.229, \"p\": 27976, \"fpr\": 0.9900525525525525, \"tpr\": 0.9994995710609094, \"n\": 5328}, {\"threshold\": 0.23, \"p\": 27976, \"fpr\": 0.9900525525525525, \"tpr\": 0.9994995710609094, \"n\": 5328}, {\"threshold\": 0.231, \"p\": 27976, \"fpr\": 0.9900525525525525, \"tpr\": 0.9994995710609094, \"n\": 5328}, {\"threshold\": 0.232, \"p\": 27976, \"fpr\": 0.9900525525525525, \"tpr\": 0.9994995710609094, \"n\": 5328}, {\"threshold\": 0.233, \"p\": 27976, \"fpr\": 0.9900525525525525, \"tpr\": 0.9994995710609094, \"n\": 5328}, {\"threshold\": 0.234, \"p\": 27976, \"fpr\": 0.9900525525525525, \"tpr\": 0.9994995710609094, \"n\": 5328}, {\"threshold\": 0.235, \"p\": 27976, \"fpr\": 0.9900525525525525, \"tpr\": 0.9994995710609094, \"n\": 5328}, {\"threshold\": 0.236, \"p\": 27976, \"fpr\": 0.9900525525525525, \"tpr\": 0.9994995710609094, \"n\": 5328}, {\"threshold\": 0.237, \"p\": 27976, \"fpr\": 0.9900525525525525, \"tpr\": 0.9994995710609094, \"n\": 5328}, {\"threshold\": 0.238, \"p\": 27976, \"fpr\": 0.9900525525525525, \"tpr\": 0.9994995710609094, \"n\": 5328}, {\"threshold\": 0.239, \"p\": 27976, \"fpr\": 0.9900525525525525, \"tpr\": 0.9994995710609094, \"n\": 5328}, {\"threshold\": 0.24, \"p\": 27976, \"fpr\": 0.9900525525525525, \"tpr\": 0.9994995710609094, \"n\": 5328}, {\"threshold\": 0.241, \"p\": 27976, \"fpr\": 0.9900525525525525, \"tpr\": 0.9994995710609094, \"n\": 5328}, {\"threshold\": 0.242, \"p\": 27976, \"fpr\": 0.9900525525525525, \"tpr\": 0.9994995710609094, \"n\": 5328}, {\"threshold\": 0.243, \"p\": 27976, \"fpr\": 0.9900525525525525, \"tpr\": 0.9994995710609094, \"n\": 5328}, {\"threshold\": 0.244, \"p\": 27976, \"fpr\": 0.9900525525525525, \"tpr\": 0.9994995710609094, \"n\": 5328}, {\"threshold\": 0.245, \"p\": 27976, \"fpr\": 0.9900525525525525, \"tpr\": 0.9994995710609094, \"n\": 5328}, {\"threshold\": 0.246, \"p\": 27976, \"fpr\": 0.9900525525525525, \"tpr\": 0.9994995710609094, \"n\": 5328}, {\"threshold\": 0.247, \"p\": 27976, \"fpr\": 0.9900525525525525, \"tpr\": 0.9994995710609094, \"n\": 5328}, {\"threshold\": 0.248, \"p\": 27976, \"fpr\": 0.9900525525525525, \"tpr\": 0.9994995710609094, \"n\": 5328}, {\"threshold\": 0.249, \"p\": 27976, \"fpr\": 0.9898648648648649, \"tpr\": 0.9994995710609094, \"n\": 5328}, {\"threshold\": 0.25, \"p\": 27976, \"fpr\": 0.9898648648648649, \"tpr\": 0.9994995710609094, \"n\": 5328}, {\"threshold\": 0.251, \"p\": 27976, \"fpr\": 0.9898648648648649, \"tpr\": 0.9994995710609094, \"n\": 5328}, {\"threshold\": 0.252, \"p\": 27976, \"fpr\": 0.9898648648648649, \"tpr\": 0.9994995710609094, \"n\": 5328}, {\"threshold\": 0.253, \"p\": 27976, \"fpr\": 0.9898648648648649, \"tpr\": 0.9994638261366886, \"n\": 5328}, {\"threshold\": 0.254, \"p\": 27976, \"fpr\": 0.9898648648648649, \"tpr\": 0.9994638261366886, \"n\": 5328}, {\"threshold\": 0.255, \"p\": 27976, \"fpr\": 0.9898648648648649, \"tpr\": 0.9994638261366886, \"n\": 5328}, {\"threshold\": 0.256, \"p\": 27976, \"fpr\": 0.9898648648648649, \"tpr\": 0.9994638261366886, \"n\": 5328}, {\"threshold\": 0.257, \"p\": 27976, \"fpr\": 0.9898648648648649, \"tpr\": 0.9994638261366886, \"n\": 5328}, {\"threshold\": 0.258, \"p\": 27976, \"fpr\": 0.9898648648648649, \"tpr\": 0.9994638261366886, \"n\": 5328}, {\"threshold\": 0.259, \"p\": 27976, \"fpr\": 0.9898648648648649, \"tpr\": 0.9994638261366886, \"n\": 5328}, {\"threshold\": 0.26, \"p\": 27976, \"fpr\": 0.9898648648648649, \"tpr\": 0.9994638261366886, \"n\": 5328}, {\"threshold\": 0.261, \"p\": 27976, \"fpr\": 0.9898648648648649, \"tpr\": 0.9994638261366886, \"n\": 5328}, {\"threshold\": 0.262, \"p\": 27976, \"fpr\": 0.9898648648648649, \"tpr\": 0.9994638261366886, \"n\": 5328}, {\"threshold\": 0.263, \"p\": 27976, \"fpr\": 0.9898648648648649, \"tpr\": 0.9994638261366886, \"n\": 5328}, {\"threshold\": 0.264, \"p\": 27976, \"fpr\": 0.9898648648648649, \"tpr\": 0.9994638261366886, \"n\": 5328}, {\"threshold\": 0.265, \"p\": 27976, \"fpr\": 0.9898648648648649, \"tpr\": 0.9994638261366886, \"n\": 5328}, {\"threshold\": 0.266, \"p\": 27976, \"fpr\": 0.9898648648648649, \"tpr\": 0.9994638261366886, \"n\": 5328}, {\"threshold\": 0.267, \"p\": 27976, \"fpr\": 0.9898648648648649, \"tpr\": 0.9994638261366886, \"n\": 5328}, {\"threshold\": 0.268, \"p\": 27976, \"fpr\": 0.9898648648648649, \"tpr\": 0.9994638261366886, \"n\": 5328}, {\"threshold\": 0.269, \"p\": 27976, \"fpr\": 0.9898648648648649, \"tpr\": 0.9994638261366886, \"n\": 5328}, {\"threshold\": 0.27, \"p\": 27976, \"fpr\": 0.9898648648648649, \"tpr\": 0.9994638261366886, \"n\": 5328}, {\"threshold\": 0.271, \"p\": 27976, \"fpr\": 0.9898648648648649, \"tpr\": 0.9994638261366886, \"n\": 5328}, {\"threshold\": 0.272, \"p\": 27976, \"fpr\": 0.9898648648648649, \"tpr\": 0.9994638261366886, \"n\": 5328}, {\"threshold\": 0.273, \"p\": 27976, \"fpr\": 0.9898648648648649, \"tpr\": 0.9994638261366886, \"n\": 5328}, {\"threshold\": 0.274, \"p\": 27976, \"fpr\": 0.9898648648648649, \"tpr\": 0.9994638261366886, \"n\": 5328}, {\"threshold\": 0.275, \"p\": 27976, \"fpr\": 0.9898648648648649, \"tpr\": 0.9994638261366886, \"n\": 5328}, {\"threshold\": 0.276, \"p\": 27976, \"fpr\": 0.9898648648648649, \"tpr\": 0.9994638261366886, \"n\": 5328}, {\"threshold\": 0.277, \"p\": 27976, \"fpr\": 0.9896771771771772, \"tpr\": 0.9994638261366886, \"n\": 5328}, {\"threshold\": 0.278, \"p\": 27976, \"fpr\": 0.9896771771771772, \"tpr\": 0.9994638261366886, \"n\": 5328}, {\"threshold\": 0.279, \"p\": 27976, \"fpr\": 0.9896771771771772, \"tpr\": 0.9994638261366886, \"n\": 5328}, {\"threshold\": 0.28, \"p\": 27976, \"fpr\": 0.9896771771771772, \"tpr\": 0.9994638261366886, \"n\": 5328}, {\"threshold\": 0.281, \"p\": 27976, \"fpr\": 0.9896771771771772, \"tpr\": 0.9994638261366886, \"n\": 5328}, {\"threshold\": 0.282, \"p\": 27976, \"fpr\": 0.9896771771771772, \"tpr\": 0.9994638261366886, \"n\": 5328}, {\"threshold\": 0.283, \"p\": 27976, \"fpr\": 0.9896771771771772, \"tpr\": 0.9994638261366886, \"n\": 5328}, {\"threshold\": 0.284, \"p\": 27976, \"fpr\": 0.9896771771771772, \"tpr\": 0.9994638261366886, \"n\": 5328}, {\"threshold\": 0.285, \"p\": 27976, \"fpr\": 0.9896771771771772, \"tpr\": 0.9994638261366886, \"n\": 5328}, {\"threshold\": 0.286, \"p\": 27976, \"fpr\": 0.9896771771771772, \"tpr\": 0.9994638261366886, \"n\": 5328}, {\"threshold\": 0.287, \"p\": 27976, \"fpr\": 0.9896771771771772, \"tpr\": 0.9994638261366886, \"n\": 5328}, {\"threshold\": 0.288, \"p\": 27976, \"fpr\": 0.9896771771771772, \"tpr\": 0.9994638261366886, \"n\": 5328}, {\"threshold\": 0.289, \"p\": 27976, \"fpr\": 0.9896771771771772, \"tpr\": 0.9994638261366886, \"n\": 5328}, {\"threshold\": 0.29, \"p\": 27976, \"fpr\": 0.9896771771771772, \"tpr\": 0.9994638261366886, \"n\": 5328}, {\"threshold\": 0.291, \"p\": 27976, \"fpr\": 0.9896771771771772, \"tpr\": 0.9994638261366886, \"n\": 5328}, {\"threshold\": 0.292, \"p\": 27976, \"fpr\": 0.9896771771771772, \"tpr\": 0.9994638261366886, \"n\": 5328}, {\"threshold\": 0.293, \"p\": 27976, \"fpr\": 0.9896771771771772, \"tpr\": 0.9994638261366886, \"n\": 5328}, {\"threshold\": 0.294, \"p\": 27976, \"fpr\": 0.9896771771771772, \"tpr\": 0.9994638261366886, \"n\": 5328}, {\"threshold\": 0.295, \"p\": 27976, \"fpr\": 0.9896771771771772, \"tpr\": 0.9994638261366886, \"n\": 5328}, {\"threshold\": 0.296, \"p\": 27976, \"fpr\": 0.9896771771771772, \"tpr\": 0.9994638261366886, \"n\": 5328}, {\"threshold\": 0.297, \"p\": 27976, \"fpr\": 0.9896771771771772, \"tpr\": 0.9994638261366886, \"n\": 5328}, {\"threshold\": 0.298, \"p\": 27976, \"fpr\": 0.9896771771771772, \"tpr\": 0.9994638261366886, \"n\": 5328}, {\"threshold\": 0.299, \"p\": 27976, \"fpr\": 0.9795420420420421, \"tpr\": 0.9988561624249357, \"n\": 5328}, {\"threshold\": 0.3, \"p\": 27976, \"fpr\": 0.9795420420420421, \"tpr\": 0.9988561624249357, \"n\": 5328}, {\"threshold\": 0.301, \"p\": 27976, \"fpr\": 0.9791666666666666, \"tpr\": 0.9988204175007149, \"n\": 5328}, {\"threshold\": 0.302, \"p\": 27976, \"fpr\": 0.9791666666666666, \"tpr\": 0.9988204175007149, \"n\": 5328}, {\"threshold\": 0.303, \"p\": 27976, \"fpr\": 0.9791666666666666, \"tpr\": 0.9988204175007149, \"n\": 5328}, {\"threshold\": 0.304, \"p\": 27976, \"fpr\": 0.9791666666666666, \"tpr\": 0.9988204175007149, \"n\": 5328}, {\"threshold\": 0.305, \"p\": 27976, \"fpr\": 0.9791666666666666, \"tpr\": 0.9988204175007149, \"n\": 5328}, {\"threshold\": 0.306, \"p\": 27976, \"fpr\": 0.9791666666666666, \"tpr\": 0.9988204175007149, \"n\": 5328}, {\"threshold\": 0.307, \"p\": 27976, \"fpr\": 0.9791666666666666, \"tpr\": 0.9988204175007149, \"n\": 5328}, {\"threshold\": 0.308, \"p\": 27976, \"fpr\": 0.9791666666666666, \"tpr\": 0.9988204175007149, \"n\": 5328}, {\"threshold\": 0.309, \"p\": 27976, \"fpr\": 0.9791666666666666, \"tpr\": 0.9988204175007149, \"n\": 5328}, {\"threshold\": 0.31, \"p\": 27976, \"fpr\": 0.9791666666666666, \"tpr\": 0.9988204175007149, \"n\": 5328}, {\"threshold\": 0.311, \"p\": 27976, \"fpr\": 0.9791666666666666, \"tpr\": 0.9988204175007149, \"n\": 5328}, {\"threshold\": 0.312, \"p\": 27976, \"fpr\": 0.9791666666666666, \"tpr\": 0.9988204175007149, \"n\": 5328}, {\"threshold\": 0.313, \"p\": 27976, \"fpr\": 0.9791666666666666, \"tpr\": 0.9988204175007149, \"n\": 5328}, {\"threshold\": 0.314, \"p\": 27976, \"fpr\": 0.9791666666666666, \"tpr\": 0.9988204175007149, \"n\": 5328}, {\"threshold\": 0.315, \"p\": 27976, \"fpr\": 0.9791666666666666, \"tpr\": 0.9988204175007149, \"n\": 5328}, {\"threshold\": 0.316, \"p\": 27976, \"fpr\": 0.9791666666666666, \"tpr\": 0.9988204175007149, \"n\": 5328}, {\"threshold\": 0.317, \"p\": 27976, \"fpr\": 0.96753003003003, \"tpr\": 0.9978553045467543, \"n\": 5328}, {\"threshold\": 0.318, \"p\": 27976, \"fpr\": 0.96753003003003, \"tpr\": 0.9978553045467543, \"n\": 5328}, {\"threshold\": 0.319, \"p\": 27976, \"fpr\": 0.96753003003003, \"tpr\": 0.9978553045467543, \"n\": 5328}, {\"threshold\": 0.32, \"p\": 27976, \"fpr\": 0.96753003003003, \"tpr\": 0.9978553045467543, \"n\": 5328}, {\"threshold\": 0.321, \"p\": 27976, \"fpr\": 0.96753003003003, \"tpr\": 0.9978553045467543, \"n\": 5328}, {\"threshold\": 0.322, \"p\": 27976, \"fpr\": 0.96753003003003, \"tpr\": 0.9978553045467543, \"n\": 5328}, {\"threshold\": 0.323, \"p\": 27976, \"fpr\": 0.96753003003003, \"tpr\": 0.9978553045467543, \"n\": 5328}, {\"threshold\": 0.324, \"p\": 27976, \"fpr\": 0.96753003003003, \"tpr\": 0.9978553045467543, \"n\": 5328}, {\"threshold\": 0.325, \"p\": 27976, \"fpr\": 0.9671546546546547, \"tpr\": 0.9978553045467543, \"n\": 5328}, {\"threshold\": 0.326, \"p\": 27976, \"fpr\": 0.9671546546546547, \"tpr\": 0.9978553045467543, \"n\": 5328}, {\"threshold\": 0.327, \"p\": 27976, \"fpr\": 0.9671546546546547, \"tpr\": 0.9978553045467543, \"n\": 5328}, {\"threshold\": 0.328, \"p\": 27976, \"fpr\": 0.9671546546546547, \"tpr\": 0.9978553045467543, \"n\": 5328}, {\"threshold\": 0.329, \"p\": 27976, \"fpr\": 0.9671546546546547, \"tpr\": 0.9978553045467543, \"n\": 5328}, {\"threshold\": 0.33, \"p\": 27976, \"fpr\": 0.964527027027027, \"tpr\": 0.9974263654561052, \"n\": 5328}, {\"threshold\": 0.331, \"p\": 27976, \"fpr\": 0.964527027027027, \"tpr\": 0.9974263654561052, \"n\": 5328}, {\"threshold\": 0.332, \"p\": 27976, \"fpr\": 0.964527027027027, \"tpr\": 0.9974263654561052, \"n\": 5328}, {\"threshold\": 0.333, \"p\": 27976, \"fpr\": 0.964527027027027, \"tpr\": 0.9974263654561052, \"n\": 5328}, {\"threshold\": 0.334, \"p\": 27976, \"fpr\": 0.964527027027027, \"tpr\": 0.9974263654561052, \"n\": 5328}, {\"threshold\": 0.335, \"p\": 27976, \"fpr\": 0.964527027027027, \"tpr\": 0.9974263654561052, \"n\": 5328}, {\"threshold\": 0.336, \"p\": 27976, \"fpr\": 0.964527027027027, \"tpr\": 0.9974263654561052, \"n\": 5328}, {\"threshold\": 0.337, \"p\": 27976, \"fpr\": 0.964527027027027, \"tpr\": 0.9974263654561052, \"n\": 5328}, {\"threshold\": 0.338, \"p\": 27976, \"fpr\": 0.964527027027027, \"tpr\": 0.9974263654561052, \"n\": 5328}, {\"threshold\": 0.339, \"p\": 27976, \"fpr\": 0.9643393393393394, \"tpr\": 0.9974263654561052, \"n\": 5328}, {\"threshold\": 0.34, \"p\": 27976, \"fpr\": 0.9643393393393394, \"tpr\": 0.9974263654561052, \"n\": 5328}, {\"threshold\": 0.341, \"p\": 27976, \"fpr\": 0.9641516516516516, \"tpr\": 0.9974263654561052, \"n\": 5328}, {\"threshold\": 0.342, \"p\": 27976, \"fpr\": 0.9641516516516516, \"tpr\": 0.9974263654561052, \"n\": 5328}, {\"threshold\": 0.343, \"p\": 27976, \"fpr\": 0.9641516516516516, \"tpr\": 0.9974263654561052, \"n\": 5328}, {\"threshold\": 0.344, \"p\": 27976, \"fpr\": 0.9641516516516516, \"tpr\": 0.9974263654561052, \"n\": 5328}, {\"threshold\": 0.345, \"p\": 27976, \"fpr\": 0.9641516516516516, \"tpr\": 0.9974263654561052, \"n\": 5328}, {\"threshold\": 0.346, \"p\": 27976, \"fpr\": 0.9641516516516516, \"tpr\": 0.9974263654561052, \"n\": 5328}, {\"threshold\": 0.347, \"p\": 27976, \"fpr\": 0.9641516516516516, \"tpr\": 0.9974263654561052, \"n\": 5328}, {\"threshold\": 0.348, \"p\": 27976, \"fpr\": 0.9641516516516516, \"tpr\": 0.9974263654561052, \"n\": 5328}, {\"threshold\": 0.349, \"p\": 27976, \"fpr\": 0.9641516516516516, \"tpr\": 0.9974263654561052, \"n\": 5328}, {\"threshold\": 0.35, \"p\": 27976, \"fpr\": 0.9641516516516516, \"tpr\": 0.9974263654561052, \"n\": 5328}, {\"threshold\": 0.351, \"p\": 27976, \"fpr\": 0.9641516516516516, \"tpr\": 0.9974263654561052, \"n\": 5328}, {\"threshold\": 0.352, \"p\": 27976, \"fpr\": 0.9641516516516516, \"tpr\": 0.9974263654561052, \"n\": 5328}, {\"threshold\": 0.353, \"p\": 27976, \"fpr\": 0.9641516516516516, \"tpr\": 0.9974263654561052, \"n\": 5328}, {\"threshold\": 0.354, \"p\": 27976, \"fpr\": 0.9570195195195195, \"tpr\": 0.9970331712896768, \"n\": 5328}, {\"threshold\": 0.355, \"p\": 27976, \"fpr\": 0.9570195195195195, \"tpr\": 0.9970331712896768, \"n\": 5328}, {\"threshold\": 0.356, \"p\": 27976, \"fpr\": 0.9570195195195195, \"tpr\": 0.9970331712896768, \"n\": 5328}, {\"threshold\": 0.357, \"p\": 27976, \"fpr\": 0.9570195195195195, \"tpr\": 0.9970331712896768, \"n\": 5328}, {\"threshold\": 0.358, \"p\": 27976, \"fpr\": 0.9570195195195195, \"tpr\": 0.9970331712896768, \"n\": 5328}, {\"threshold\": 0.359, \"p\": 27976, \"fpr\": 0.9570195195195195, \"tpr\": 0.9970331712896768, \"n\": 5328}, {\"threshold\": 0.36, \"p\": 27976, \"fpr\": 0.9570195195195195, \"tpr\": 0.9970331712896768, \"n\": 5328}, {\"threshold\": 0.361, \"p\": 27976, \"fpr\": 0.9570195195195195, \"tpr\": 0.9970331712896768, \"n\": 5328}, {\"threshold\": 0.362, \"p\": 27976, \"fpr\": 0.9568318318318318, \"tpr\": 0.9969974263654561, \"n\": 5328}, {\"threshold\": 0.363, \"p\": 27976, \"fpr\": 0.9568318318318318, \"tpr\": 0.9969974263654561, \"n\": 5328}, {\"threshold\": 0.364, \"p\": 27976, \"fpr\": 0.9568318318318318, \"tpr\": 0.9969616814412353, \"n\": 5328}, {\"threshold\": 0.365, \"p\": 27976, \"fpr\": 0.9568318318318318, \"tpr\": 0.9969616814412353, \"n\": 5328}, {\"threshold\": 0.366, \"p\": 27976, \"fpr\": 0.9568318318318318, \"tpr\": 0.9969616814412353, \"n\": 5328}, {\"threshold\": 0.367, \"p\": 27976, \"fpr\": 0.9568318318318318, \"tpr\": 0.9969616814412353, \"n\": 5328}, {\"threshold\": 0.368, \"p\": 27976, \"fpr\": 0.9568318318318318, \"tpr\": 0.9969616814412353, \"n\": 5328}, {\"threshold\": 0.369, \"p\": 27976, \"fpr\": 0.9568318318318318, \"tpr\": 0.9969616814412353, \"n\": 5328}, {\"threshold\": 0.37, \"p\": 27976, \"fpr\": 0.9568318318318318, \"tpr\": 0.9969616814412353, \"n\": 5328}, {\"threshold\": 0.371, \"p\": 27976, \"fpr\": 0.9568318318318318, \"tpr\": 0.9969616814412353, \"n\": 5328}, {\"threshold\": 0.372, \"p\": 27976, \"fpr\": 0.9568318318318318, \"tpr\": 0.9969616814412353, \"n\": 5328}, {\"threshold\": 0.373, \"p\": 27976, \"fpr\": 0.9568318318318318, \"tpr\": 0.9969616814412353, \"n\": 5328}, {\"threshold\": 0.374, \"p\": 27976, \"fpr\": 0.9568318318318318, \"tpr\": 0.9969616814412353, \"n\": 5328}, {\"threshold\": 0.375, \"p\": 27976, \"fpr\": 0.9568318318318318, \"tpr\": 0.9969616814412353, \"n\": 5328}, {\"threshold\": 0.376, \"p\": 27976, \"fpr\": 0.9568318318318318, \"tpr\": 0.9969616814412353, \"n\": 5328}, {\"threshold\": 0.377, \"p\": 27976, \"fpr\": 0.9568318318318318, \"tpr\": 0.9969616814412353, \"n\": 5328}, {\"threshold\": 0.378, \"p\": 27976, \"fpr\": 0.9568318318318318, \"tpr\": 0.9969616814412353, \"n\": 5328}, {\"threshold\": 0.379, \"p\": 27976, \"fpr\": 0.9568318318318318, \"tpr\": 0.9969616814412353, \"n\": 5328}, {\"threshold\": 0.38, \"p\": 27976, \"fpr\": 0.9568318318318318, \"tpr\": 0.9969616814412353, \"n\": 5328}, {\"threshold\": 0.381, \"p\": 27976, \"fpr\": 0.9568318318318318, \"tpr\": 0.9969616814412353, \"n\": 5328}, {\"threshold\": 0.382, \"p\": 27976, \"fpr\": 0.9568318318318318, \"tpr\": 0.9969616814412353, \"n\": 5328}, {\"threshold\": 0.383, \"p\": 27976, \"fpr\": 0.9568318318318318, \"tpr\": 0.9969616814412353, \"n\": 5328}, {\"threshold\": 0.384, \"p\": 27976, \"fpr\": 0.9568318318318318, \"tpr\": 0.9969616814412353, \"n\": 5328}, {\"threshold\": 0.385, \"p\": 27976, \"fpr\": 0.9568318318318318, \"tpr\": 0.9969259365170146, \"n\": 5328}, {\"threshold\": 0.386, \"p\": 27976, \"fpr\": 0.9568318318318318, \"tpr\": 0.9969259365170146, \"n\": 5328}, {\"threshold\": 0.387, \"p\": 27976, \"fpr\": 0.9568318318318318, \"tpr\": 0.9969259365170146, \"n\": 5328}, {\"threshold\": 0.388, \"p\": 27976, \"fpr\": 0.9568318318318318, \"tpr\": 0.9969259365170146, \"n\": 5328}, {\"threshold\": 0.389, \"p\": 27976, \"fpr\": 0.9568318318318318, \"tpr\": 0.9969259365170146, \"n\": 5328}, {\"threshold\": 0.39, \"p\": 27976, \"fpr\": 0.9568318318318318, \"tpr\": 0.9969259365170146, \"n\": 5328}, {\"threshold\": 0.391, \"p\": 27976, \"fpr\": 0.9568318318318318, \"tpr\": 0.9969259365170146, \"n\": 5328}, {\"threshold\": 0.392, \"p\": 27976, \"fpr\": 0.9568318318318318, \"tpr\": 0.9969259365170146, \"n\": 5328}, {\"threshold\": 0.393, \"p\": 27976, \"fpr\": 0.9568318318318318, \"tpr\": 0.9969259365170146, \"n\": 5328}, {\"threshold\": 0.394, \"p\": 27976, \"fpr\": 0.9568318318318318, \"tpr\": 0.9969259365170146, \"n\": 5328}, {\"threshold\": 0.395, \"p\": 27976, \"fpr\": 0.9568318318318318, \"tpr\": 0.9969259365170146, \"n\": 5328}, {\"threshold\": 0.396, \"p\": 27976, \"fpr\": 0.9568318318318318, \"tpr\": 0.9969259365170146, \"n\": 5328}, {\"threshold\": 0.397, \"p\": 27976, \"fpr\": 0.9558933933933934, \"tpr\": 0.9967472118959108, \"n\": 5328}, {\"threshold\": 0.398, \"p\": 27976, \"fpr\": 0.9558933933933934, \"tpr\": 0.9967472118959108, \"n\": 5328}, {\"threshold\": 0.399, \"p\": 27976, \"fpr\": 0.9558933933933934, \"tpr\": 0.9967472118959108, \"n\": 5328}, {\"threshold\": 0.4, \"p\": 27976, \"fpr\": 0.9558933933933934, \"tpr\": 0.9967472118959108, \"n\": 5328}, {\"threshold\": 0.401, \"p\": 27976, \"fpr\": 0.9558933933933934, \"tpr\": 0.9967472118959108, \"n\": 5328}, {\"threshold\": 0.402, \"p\": 27976, \"fpr\": 0.9558933933933934, \"tpr\": 0.9967472118959108, \"n\": 5328}, {\"threshold\": 0.403, \"p\": 27976, \"fpr\": 0.9558933933933934, \"tpr\": 0.9967472118959108, \"n\": 5328}, {\"threshold\": 0.404, \"p\": 27976, \"fpr\": 0.9558933933933934, \"tpr\": 0.9967472118959108, \"n\": 5328}, {\"threshold\": 0.405, \"p\": 27976, \"fpr\": 0.9558933933933934, \"tpr\": 0.9967472118959108, \"n\": 5328}, {\"threshold\": 0.406, \"p\": 27976, \"fpr\": 0.9558933933933934, \"tpr\": 0.9967472118959108, \"n\": 5328}, {\"threshold\": 0.407, \"p\": 27976, \"fpr\": 0.9558933933933934, \"tpr\": 0.9967472118959108, \"n\": 5328}, {\"threshold\": 0.408, \"p\": 27976, \"fpr\": 0.9558933933933934, \"tpr\": 0.9967472118959108, \"n\": 5328}, {\"threshold\": 0.409, \"p\": 27976, \"fpr\": 0.9557057057057057, \"tpr\": 0.99671146697169, \"n\": 5328}, {\"threshold\": 0.41, \"p\": 27976, \"fpr\": 0.9557057057057057, \"tpr\": 0.99671146697169, \"n\": 5328}, {\"threshold\": 0.411, \"p\": 27976, \"fpr\": 0.9557057057057057, \"tpr\": 0.9966757220474692, \"n\": 5328}, {\"threshold\": 0.412, \"p\": 27976, \"fpr\": 0.9557057057057057, \"tpr\": 0.9966757220474692, \"n\": 5328}, {\"threshold\": 0.413, \"p\": 27976, \"fpr\": 0.9557057057057057, \"tpr\": 0.9966757220474692, \"n\": 5328}, {\"threshold\": 0.414, \"p\": 27976, \"fpr\": 0.9557057057057057, \"tpr\": 0.9966757220474692, \"n\": 5328}, {\"threshold\": 0.415, \"p\": 27976, \"fpr\": 0.9557057057057057, \"tpr\": 0.9966757220474692, \"n\": 5328}, {\"threshold\": 0.416, \"p\": 27976, \"fpr\": 0.9557057057057057, \"tpr\": 0.9966757220474692, \"n\": 5328}, {\"threshold\": 0.417, \"p\": 27976, \"fpr\": 0.9557057057057057, \"tpr\": 0.9966757220474692, \"n\": 5328}, {\"threshold\": 0.418, \"p\": 27976, \"fpr\": 0.9557057057057057, \"tpr\": 0.9966757220474692, \"n\": 5328}, {\"threshold\": 0.419, \"p\": 27976, \"fpr\": 0.9557057057057057, \"tpr\": 0.9966757220474692, \"n\": 5328}, {\"threshold\": 0.42, \"p\": 27976, \"fpr\": 0.9557057057057057, \"tpr\": 0.9966757220474692, \"n\": 5328}, {\"threshold\": 0.421, \"p\": 27976, \"fpr\": 0.9557057057057057, \"tpr\": 0.9966757220474692, \"n\": 5328}, {\"threshold\": 0.422, \"p\": 27976, \"fpr\": 0.9557057057057057, \"tpr\": 0.9966757220474692, \"n\": 5328}, {\"threshold\": 0.423, \"p\": 27976, \"fpr\": 0.9557057057057057, \"tpr\": 0.9966757220474692, \"n\": 5328}, {\"threshold\": 0.424, \"p\": 27976, \"fpr\": 0.9557057057057057, \"tpr\": 0.9966757220474692, \"n\": 5328}, {\"threshold\": 0.425, \"p\": 27976, \"fpr\": 0.9557057057057057, \"tpr\": 0.9966757220474692, \"n\": 5328}, {\"threshold\": 0.426, \"p\": 27976, \"fpr\": 0.9557057057057057, \"tpr\": 0.9966757220474692, \"n\": 5328}, {\"threshold\": 0.427, \"p\": 27976, \"fpr\": 0.9557057057057057, \"tpr\": 0.9966757220474692, \"n\": 5328}, {\"threshold\": 0.428, \"p\": 27976, \"fpr\": 0.9557057057057057, \"tpr\": 0.9966757220474692, \"n\": 5328}, {\"threshold\": 0.429, \"p\": 27976, \"fpr\": 0.9557057057057057, \"tpr\": 0.9966757220474692, \"n\": 5328}, {\"threshold\": 0.43, \"p\": 27976, \"fpr\": 0.9557057057057057, \"tpr\": 0.9966757220474692, \"n\": 5328}, {\"threshold\": 0.431, \"p\": 27976, \"fpr\": 0.9557057057057057, \"tpr\": 0.9966757220474692, \"n\": 5328}, {\"threshold\": 0.432, \"p\": 27976, \"fpr\": 0.9557057057057057, \"tpr\": 0.9966399771232485, \"n\": 5328}, {\"threshold\": 0.433, \"p\": 27976, \"fpr\": 0.9557057057057057, \"tpr\": 0.9966399771232485, \"n\": 5328}, {\"threshold\": 0.434, \"p\": 27976, \"fpr\": 0.9557057057057057, \"tpr\": 0.9966399771232485, \"n\": 5328}, {\"threshold\": 0.435, \"p\": 27976, \"fpr\": 0.9557057057057057, \"tpr\": 0.9966399771232485, \"n\": 5328}, {\"threshold\": 0.436, \"p\": 27976, \"fpr\": 0.9557057057057057, \"tpr\": 0.9966399771232485, \"n\": 5328}, {\"threshold\": 0.437, \"p\": 27976, \"fpr\": 0.9557057057057057, \"tpr\": 0.9966399771232485, \"n\": 5328}, {\"threshold\": 0.438, \"p\": 27976, \"fpr\": 0.9557057057057057, \"tpr\": 0.9966399771232485, \"n\": 5328}, {\"threshold\": 0.439, \"p\": 27976, \"fpr\": 0.9557057057057057, \"tpr\": 0.9966399771232485, \"n\": 5328}, {\"threshold\": 0.44, \"p\": 27976, \"fpr\": 0.9557057057057057, \"tpr\": 0.9966399771232485, \"n\": 5328}, {\"threshold\": 0.441, \"p\": 27976, \"fpr\": 0.9557057057057057, \"tpr\": 0.9966399771232485, \"n\": 5328}, {\"threshold\": 0.442, \"p\": 27976, \"fpr\": 0.9557057057057057, \"tpr\": 0.9966399771232485, \"n\": 5328}, {\"threshold\": 0.443, \"p\": 27976, \"fpr\": 0.9557057057057057, \"tpr\": 0.9966399771232485, \"n\": 5328}, {\"threshold\": 0.444, \"p\": 27976, \"fpr\": 0.9557057057057057, \"tpr\": 0.9966399771232485, \"n\": 5328}, {\"threshold\": 0.445, \"p\": 27976, \"fpr\": 0.9557057057057057, \"tpr\": 0.9966399771232485, \"n\": 5328}, {\"threshold\": 0.446, \"p\": 27976, \"fpr\": 0.9557057057057057, \"tpr\": 0.9966399771232485, \"n\": 5328}, {\"threshold\": 0.447, \"p\": 27976, \"fpr\": 0.9557057057057057, \"tpr\": 0.9966399771232485, \"n\": 5328}, {\"threshold\": 0.448, \"p\": 27976, \"fpr\": 0.9557057057057057, \"tpr\": 0.9966399771232485, \"n\": 5328}, {\"threshold\": 0.449, \"p\": 27976, \"fpr\": 0.9557057057057057, \"tpr\": 0.9966399771232485, \"n\": 5328}, {\"threshold\": 0.45, \"p\": 27976, \"fpr\": 0.9557057057057057, \"tpr\": 0.9966399771232485, \"n\": 5328}, {\"threshold\": 0.451, \"p\": 27976, \"fpr\": 0.9557057057057057, \"tpr\": 0.9966399771232485, \"n\": 5328}, {\"threshold\": 0.452, \"p\": 27976, \"fpr\": 0.9557057057057057, \"tpr\": 0.9966399771232485, \"n\": 5328}, {\"threshold\": 0.453, \"p\": 27976, \"fpr\": 0.9557057057057057, \"tpr\": 0.9966399771232485, \"n\": 5328}, {\"threshold\": 0.454, \"p\": 27976, \"fpr\": 0.9557057057057057, \"tpr\": 0.9966399771232485, \"n\": 5328}, {\"threshold\": 0.455, \"p\": 27976, \"fpr\": 0.9557057057057057, \"tpr\": 0.9966399771232485, \"n\": 5328}, {\"threshold\": 0.456, \"p\": 27976, \"fpr\": 0.9557057057057057, \"tpr\": 0.9966399771232485, \"n\": 5328}, {\"threshold\": 0.457, \"p\": 27976, \"fpr\": 0.9557057057057057, \"tpr\": 0.9966399771232485, \"n\": 5328}, {\"threshold\": 0.458, \"p\": 27976, \"fpr\": 0.9557057057057057, \"tpr\": 0.9966399771232485, \"n\": 5328}, {\"threshold\": 0.459, \"p\": 27976, \"fpr\": 0.9557057057057057, \"tpr\": 0.9966399771232485, \"n\": 5328}, {\"threshold\": 0.46, \"p\": 27976, \"fpr\": 0.9557057057057057, \"tpr\": 0.9966399771232485, \"n\": 5328}, {\"threshold\": 0.461, \"p\": 27976, \"fpr\": 0.9557057057057057, \"tpr\": 0.9966399771232485, \"n\": 5328}, {\"threshold\": 0.462, \"p\": 27976, \"fpr\": 0.9557057057057057, \"tpr\": 0.9966399771232485, \"n\": 5328}, {\"threshold\": 0.463, \"p\": 27976, \"fpr\": 0.9557057057057057, \"tpr\": 0.9966399771232485, \"n\": 5328}, {\"threshold\": 0.464, \"p\": 27976, \"fpr\": 0.9557057057057057, \"tpr\": 0.9966399771232485, \"n\": 5328}, {\"threshold\": 0.465, \"p\": 27976, \"fpr\": 0.9557057057057057, \"tpr\": 0.9966399771232485, \"n\": 5328}, {\"threshold\": 0.466, \"p\": 27976, \"fpr\": 0.9557057057057057, \"tpr\": 0.9966399771232485, \"n\": 5328}, {\"threshold\": 0.467, \"p\": 27976, \"fpr\": 0.9557057057057057, \"tpr\": 0.9966399771232485, \"n\": 5328}, {\"threshold\": 0.468, \"p\": 27976, \"fpr\": 0.9542042042042042, \"tpr\": 0.9965327423505862, \"n\": 5328}, {\"threshold\": 0.469, \"p\": 27976, \"fpr\": 0.9542042042042042, \"tpr\": 0.9965327423505862, \"n\": 5328}, {\"threshold\": 0.47, \"p\": 27976, \"fpr\": 0.9542042042042042, \"tpr\": 0.9964969974263654, \"n\": 5328}, {\"threshold\": 0.471, \"p\": 27976, \"fpr\": 0.9542042042042042, \"tpr\": 0.9964969974263654, \"n\": 5328}, {\"threshold\": 0.472, \"p\": 27976, \"fpr\": 0.9542042042042042, \"tpr\": 0.9964969974263654, \"n\": 5328}, {\"threshold\": 0.473, \"p\": 27976, \"fpr\": 0.9542042042042042, \"tpr\": 0.9964969974263654, \"n\": 5328}, {\"threshold\": 0.474, \"p\": 27976, \"fpr\": 0.9542042042042042, \"tpr\": 0.9964969974263654, \"n\": 5328}, {\"threshold\": 0.475, \"p\": 27976, \"fpr\": 0.9542042042042042, \"tpr\": 0.9964969974263654, \"n\": 5328}, {\"threshold\": 0.476, \"p\": 27976, \"fpr\": 0.9523273273273273, \"tpr\": 0.9961395481841578, \"n\": 5328}, {\"threshold\": 0.477, \"p\": 27976, \"fpr\": 0.9523273273273273, \"tpr\": 0.9961395481841578, \"n\": 5328}, {\"threshold\": 0.478, \"p\": 27976, \"fpr\": 0.9523273273273273, \"tpr\": 0.9961395481841578, \"n\": 5328}, {\"threshold\": 0.479, \"p\": 27976, \"fpr\": 0.9523273273273273, \"tpr\": 0.9961395481841578, \"n\": 5328}, {\"threshold\": 0.48, \"p\": 27976, \"fpr\": 0.9523273273273273, \"tpr\": 0.9961395481841578, \"n\": 5328}, {\"threshold\": 0.481, \"p\": 27976, \"fpr\": 0.9523273273273273, \"tpr\": 0.9961038032599371, \"n\": 5328}, {\"threshold\": 0.482, \"p\": 27976, \"fpr\": 0.9523273273273273, \"tpr\": 0.9961038032599371, \"n\": 5328}, {\"threshold\": 0.483, \"p\": 27976, \"fpr\": 0.9523273273273273, \"tpr\": 0.9961038032599371, \"n\": 5328}, {\"threshold\": 0.484, \"p\": 27976, \"fpr\": 0.9523273273273273, \"tpr\": 0.9961038032599371, \"n\": 5328}, {\"threshold\": 0.485, \"p\": 27976, \"fpr\": 0.9519519519519519, \"tpr\": 0.9960680583357163, \"n\": 5328}, {\"threshold\": 0.486, \"p\": 27976, \"fpr\": 0.9519519519519519, \"tpr\": 0.9960680583357163, \"n\": 5328}, {\"threshold\": 0.487, \"p\": 27976, \"fpr\": 0.9519519519519519, \"tpr\": 0.9960680583357163, \"n\": 5328}, {\"threshold\": 0.488, \"p\": 27976, \"fpr\": 0.9519519519519519, \"tpr\": 0.9960680583357163, \"n\": 5328}, {\"threshold\": 0.489, \"p\": 27976, \"fpr\": 0.9519519519519519, \"tpr\": 0.9960680583357163, \"n\": 5328}, {\"threshold\": 0.49, \"p\": 27976, \"fpr\": 0.9519519519519519, \"tpr\": 0.9960680583357163, \"n\": 5328}, {\"threshold\": 0.491, \"p\": 27976, \"fpr\": 0.9519519519519519, \"tpr\": 0.9960680583357163, \"n\": 5328}, {\"threshold\": 0.492, \"p\": 27976, \"fpr\": 0.9519519519519519, \"tpr\": 0.9960680583357163, \"n\": 5328}, {\"threshold\": 0.493, \"p\": 27976, \"fpr\": 0.9519519519519519, \"tpr\": 0.9960680583357163, \"n\": 5328}, {\"threshold\": 0.494, \"p\": 27976, \"fpr\": 0.9519519519519519, \"tpr\": 0.9960680583357163, \"n\": 5328}, {\"threshold\": 0.495, \"p\": 27976, \"fpr\": 0.9519519519519519, \"tpr\": 0.9960680583357163, \"n\": 5328}, {\"threshold\": 0.496, \"p\": 27976, \"fpr\": 0.9519519519519519, \"tpr\": 0.9960680583357163, \"n\": 5328}, {\"threshold\": 0.497, \"p\": 27976, \"fpr\": 0.9506381381381381, \"tpr\": 0.9957106090935087, \"n\": 5328}, {\"threshold\": 0.498, \"p\": 27976, \"fpr\": 0.9506381381381381, \"tpr\": 0.9957106090935087, \"n\": 5328}, {\"threshold\": 0.499, \"p\": 27976, \"fpr\": 0.9506381381381381, \"tpr\": 0.9957106090935087, \"n\": 5328}, {\"threshold\": 0.5, \"p\": 27976, \"fpr\": 0.9506381381381381, \"tpr\": 0.9957106090935087, \"n\": 5328}, {\"threshold\": 0.501, \"p\": 27976, \"fpr\": 0.9506381381381381, \"tpr\": 0.9957106090935087, \"n\": 5328}, {\"threshold\": 0.502, \"p\": 27976, \"fpr\": 0.9506381381381381, \"tpr\": 0.9957106090935087, \"n\": 5328}, {\"threshold\": 0.503, \"p\": 27976, \"fpr\": 0.9506381381381381, \"tpr\": 0.9957106090935087, \"n\": 5328}, {\"threshold\": 0.504, \"p\": 27976, \"fpr\": 0.9506381381381381, \"tpr\": 0.9957106090935087, \"n\": 5328}, {\"threshold\": 0.505, \"p\": 27976, \"fpr\": 0.9506381381381381, \"tpr\": 0.9957106090935087, \"n\": 5328}, {\"threshold\": 0.506, \"p\": 27976, \"fpr\": 0.9506381381381381, \"tpr\": 0.9957106090935087, \"n\": 5328}, {\"threshold\": 0.507, \"p\": 27976, \"fpr\": 0.9506381381381381, \"tpr\": 0.9957106090935087, \"n\": 5328}, {\"threshold\": 0.508, \"p\": 27976, \"fpr\": 0.9506381381381381, \"tpr\": 0.9957106090935087, \"n\": 5328}, {\"threshold\": 0.509, \"p\": 27976, \"fpr\": 0.9506381381381381, \"tpr\": 0.9957106090935087, \"n\": 5328}, {\"threshold\": 0.51, \"p\": 27976, \"fpr\": 0.9506381381381381, \"tpr\": 0.9957106090935087, \"n\": 5328}, {\"threshold\": 0.511, \"p\": 27976, \"fpr\": 0.9506381381381381, \"tpr\": 0.9957106090935087, \"n\": 5328}, {\"threshold\": 0.512, \"p\": 27976, \"fpr\": 0.9506381381381381, \"tpr\": 0.9956033743208464, \"n\": 5328}, {\"threshold\": 0.513, \"p\": 27976, \"fpr\": 0.9506381381381381, \"tpr\": 0.9956033743208464, \"n\": 5328}, {\"threshold\": 0.514, \"p\": 27976, \"fpr\": 0.9506381381381381, \"tpr\": 0.9956033743208464, \"n\": 5328}, {\"threshold\": 0.515, \"p\": 27976, \"fpr\": 0.9506381381381381, \"tpr\": 0.9956033743208464, \"n\": 5328}, {\"threshold\": 0.516, \"p\": 27976, \"fpr\": 0.9506381381381381, \"tpr\": 0.9956033743208464, \"n\": 5328}, {\"threshold\": 0.517, \"p\": 27976, \"fpr\": 0.9506381381381381, \"tpr\": 0.9956033743208464, \"n\": 5328}, {\"threshold\": 0.518, \"p\": 27976, \"fpr\": 0.9506381381381381, \"tpr\": 0.9956033743208464, \"n\": 5328}, {\"threshold\": 0.519, \"p\": 27976, \"fpr\": 0.9506381381381381, \"tpr\": 0.9956033743208464, \"n\": 5328}, {\"threshold\": 0.52, \"p\": 27976, \"fpr\": 0.9506381381381381, \"tpr\": 0.9956033743208464, \"n\": 5328}, {\"threshold\": 0.521, \"p\": 27976, \"fpr\": 0.9506381381381381, \"tpr\": 0.9956033743208464, \"n\": 5328}, {\"threshold\": 0.522, \"p\": 27976, \"fpr\": 0.9506381381381381, \"tpr\": 0.9956033743208464, \"n\": 5328}, {\"threshold\": 0.523, \"p\": 27976, \"fpr\": 0.9506381381381381, \"tpr\": 0.9956033743208464, \"n\": 5328}, {\"threshold\": 0.524, \"p\": 27976, \"fpr\": 0.9506381381381381, \"tpr\": 0.9956033743208464, \"n\": 5328}, {\"threshold\": 0.525, \"p\": 27976, \"fpr\": 0.9506381381381381, \"tpr\": 0.9956033743208464, \"n\": 5328}, {\"threshold\": 0.526, \"p\": 27976, \"fpr\": 0.9504504504504504, \"tpr\": 0.9956033743208464, \"n\": 5328}, {\"threshold\": 0.527, \"p\": 27976, \"fpr\": 0.9504504504504504, \"tpr\": 0.9956033743208464, \"n\": 5328}, {\"threshold\": 0.528, \"p\": 27976, \"fpr\": 0.9504504504504504, \"tpr\": 0.9956033743208464, \"n\": 5328}, {\"threshold\": 0.529, \"p\": 27976, \"fpr\": 0.9504504504504504, \"tpr\": 0.9956033743208464, \"n\": 5328}, {\"threshold\": 0.53, \"p\": 27976, \"fpr\": 0.9504504504504504, \"tpr\": 0.9956033743208464, \"n\": 5328}, {\"threshold\": 0.531, \"p\": 27976, \"fpr\": 0.9504504504504504, \"tpr\": 0.9956033743208464, \"n\": 5328}, {\"threshold\": 0.532, \"p\": 27976, \"fpr\": 0.9504504504504504, \"tpr\": 0.9956033743208464, \"n\": 5328}, {\"threshold\": 0.533, \"p\": 27976, \"fpr\": 0.9504504504504504, \"tpr\": 0.9956033743208464, \"n\": 5328}, {\"threshold\": 0.534, \"p\": 27976, \"fpr\": 0.9504504504504504, \"tpr\": 0.9956033743208464, \"n\": 5328}, {\"threshold\": 0.535, \"p\": 27976, \"fpr\": 0.9504504504504504, \"tpr\": 0.9956033743208464, \"n\": 5328}, {\"threshold\": 0.536, \"p\": 27976, \"fpr\": 0.9504504504504504, \"tpr\": 0.9956033743208464, \"n\": 5328}, {\"threshold\": 0.537, \"p\": 27976, \"fpr\": 0.9504504504504504, \"tpr\": 0.9956033743208464, \"n\": 5328}, {\"threshold\": 0.538, \"p\": 27976, \"fpr\": 0.949512012012012, \"tpr\": 0.9953531598513011, \"n\": 5328}, {\"threshold\": 0.539, \"p\": 27976, \"fpr\": 0.949512012012012, \"tpr\": 0.9953531598513011, \"n\": 5328}, {\"threshold\": 0.54, \"p\": 27976, \"fpr\": 0.949512012012012, \"tpr\": 0.9953531598513011, \"n\": 5328}, {\"threshold\": 0.541, \"p\": 27976, \"fpr\": 0.949512012012012, \"tpr\": 0.9953531598513011, \"n\": 5328}, {\"threshold\": 0.542, \"p\": 27976, \"fpr\": 0.949512012012012, \"tpr\": 0.9953531598513011, \"n\": 5328}, {\"threshold\": 0.543, \"p\": 27976, \"fpr\": 0.949512012012012, \"tpr\": 0.9953531598513011, \"n\": 5328}, {\"threshold\": 0.544, \"p\": 27976, \"fpr\": 0.949512012012012, \"tpr\": 0.9953531598513011, \"n\": 5328}, {\"threshold\": 0.545, \"p\": 27976, \"fpr\": 0.9493243243243243, \"tpr\": 0.9953531598513011, \"n\": 5328}, {\"threshold\": 0.546, \"p\": 27976, \"fpr\": 0.9493243243243243, \"tpr\": 0.9953531598513011, \"n\": 5328}, {\"threshold\": 0.547, \"p\": 27976, \"fpr\": 0.9491366366366366, \"tpr\": 0.9953174149270804, \"n\": 5328}, {\"threshold\": 0.548, \"p\": 27976, \"fpr\": 0.9491366366366366, \"tpr\": 0.9953174149270804, \"n\": 5328}, {\"threshold\": 0.549, \"p\": 27976, \"fpr\": 0.9491366366366366, \"tpr\": 0.9953174149270804, \"n\": 5328}, {\"threshold\": 0.55, \"p\": 27976, \"fpr\": 0.9491366366366366, \"tpr\": 0.9953174149270804, \"n\": 5328}, {\"threshold\": 0.551, \"p\": 27976, \"fpr\": 0.9491366366366366, \"tpr\": 0.9953174149270804, \"n\": 5328}, {\"threshold\": 0.552, \"p\": 27976, \"fpr\": 0.9491366366366366, \"tpr\": 0.9953174149270804, \"n\": 5328}, {\"threshold\": 0.553, \"p\": 27976, \"fpr\": 0.9491366366366366, \"tpr\": 0.9953174149270804, \"n\": 5328}, {\"threshold\": 0.554, \"p\": 27976, \"fpr\": 0.9491366366366366, \"tpr\": 0.9953174149270804, \"n\": 5328}, {\"threshold\": 0.555, \"p\": 27976, \"fpr\": 0.9491366366366366, \"tpr\": 0.9952816700028596, \"n\": 5328}, {\"threshold\": 0.556, \"p\": 27976, \"fpr\": 0.9491366366366366, \"tpr\": 0.9952816700028596, \"n\": 5328}, {\"threshold\": 0.557, \"p\": 27976, \"fpr\": 0.9491366366366366, \"tpr\": 0.9952816700028596, \"n\": 5328}, {\"threshold\": 0.558, \"p\": 27976, \"fpr\": 0.9491366366366366, \"tpr\": 0.9952816700028596, \"n\": 5328}, {\"threshold\": 0.559, \"p\": 27976, \"fpr\": 0.9491366366366366, \"tpr\": 0.9952816700028596, \"n\": 5328}, {\"threshold\": 0.56, \"p\": 27976, \"fpr\": 0.9491366366366366, \"tpr\": 0.9952816700028596, \"n\": 5328}, {\"threshold\": 0.561, \"p\": 27976, \"fpr\": 0.9491366366366366, \"tpr\": 0.9952816700028596, \"n\": 5328}, {\"threshold\": 0.562, \"p\": 27976, \"fpr\": 0.9491366366366366, \"tpr\": 0.9952816700028596, \"n\": 5328}, {\"threshold\": 0.563, \"p\": 27976, \"fpr\": 0.948948948948949, \"tpr\": 0.9952816700028596, \"n\": 5328}, {\"threshold\": 0.564, \"p\": 27976, \"fpr\": 0.948948948948949, \"tpr\": 0.9952816700028596, \"n\": 5328}, {\"threshold\": 0.565, \"p\": 27976, \"fpr\": 0.948948948948949, \"tpr\": 0.9952816700028596, \"n\": 5328}, {\"threshold\": 0.566, \"p\": 27976, \"fpr\": 0.948948948948949, \"tpr\": 0.9952816700028596, \"n\": 5328}, {\"threshold\": 0.567, \"p\": 27976, \"fpr\": 0.948948948948949, \"tpr\": 0.9952816700028596, \"n\": 5328}, {\"threshold\": 0.568, \"p\": 27976, \"fpr\": 0.948948948948949, \"tpr\": 0.9952816700028596, \"n\": 5328}, {\"threshold\": 0.569, \"p\": 27976, \"fpr\": 0.948948948948949, \"tpr\": 0.9952816700028596, \"n\": 5328}, {\"threshold\": 0.57, \"p\": 27976, \"fpr\": 0.948948948948949, \"tpr\": 0.9952816700028596, \"n\": 5328}, {\"threshold\": 0.571, \"p\": 27976, \"fpr\": 0.948948948948949, \"tpr\": 0.9952816700028596, \"n\": 5328}, {\"threshold\": 0.572, \"p\": 27976, \"fpr\": 0.948948948948949, \"tpr\": 0.9952816700028596, \"n\": 5328}, {\"threshold\": 0.573, \"p\": 27976, \"fpr\": 0.948948948948949, \"tpr\": 0.9952816700028596, \"n\": 5328}, {\"threshold\": 0.574, \"p\": 27976, \"fpr\": 0.9221096096096096, \"tpr\": 0.9873820417500715, \"n\": 5328}, {\"threshold\": 0.575, \"p\": 27976, \"fpr\": 0.9221096096096096, \"tpr\": 0.9873820417500715, \"n\": 5328}, {\"threshold\": 0.576, \"p\": 27976, \"fpr\": 0.9221096096096096, \"tpr\": 0.9873462968258507, \"n\": 5328}, {\"threshold\": 0.577, \"p\": 27976, \"fpr\": 0.9221096096096096, \"tpr\": 0.9873462968258507, \"n\": 5328}, {\"threshold\": 0.578, \"p\": 27976, \"fpr\": 0.9221096096096096, \"tpr\": 0.9873462968258507, \"n\": 5328}, {\"threshold\": 0.579, \"p\": 27976, \"fpr\": 0.9221096096096096, \"tpr\": 0.9873462968258507, \"n\": 5328}, {\"threshold\": 0.58, \"p\": 27976, \"fpr\": 0.9221096096096096, \"tpr\": 0.9873462968258507, \"n\": 5328}, {\"threshold\": 0.581, \"p\": 27976, \"fpr\": 0.9221096096096096, \"tpr\": 0.9873462968258507, \"n\": 5328}, {\"threshold\": 0.582, \"p\": 27976, \"fpr\": 0.9221096096096096, \"tpr\": 0.9873462968258507, \"n\": 5328}, {\"threshold\": 0.583, \"p\": 27976, \"fpr\": 0.9219219219219219, \"tpr\": 0.9872748069774092, \"n\": 5328}, {\"threshold\": 0.584, \"p\": 27976, \"fpr\": 0.9219219219219219, \"tpr\": 0.9872748069774092, \"n\": 5328}, {\"threshold\": 0.585, \"p\": 27976, \"fpr\": 0.9219219219219219, \"tpr\": 0.9872748069774092, \"n\": 5328}, {\"threshold\": 0.586, \"p\": 27976, \"fpr\": 0.9219219219219219, \"tpr\": 0.9872748069774092, \"n\": 5328}, {\"threshold\": 0.587, \"p\": 27976, \"fpr\": 0.9206081081081081, \"tpr\": 0.9870245925078639, \"n\": 5328}, {\"threshold\": 0.588, \"p\": 27976, \"fpr\": 0.9206081081081081, \"tpr\": 0.9870245925078639, \"n\": 5328}, {\"threshold\": 0.589, \"p\": 27976, \"fpr\": 0.9206081081081081, \"tpr\": 0.9870245925078639, \"n\": 5328}, {\"threshold\": 0.59, \"p\": 27976, \"fpr\": 0.9206081081081081, \"tpr\": 0.9870245925078639, \"n\": 5328}, {\"threshold\": 0.591, \"p\": 27976, \"fpr\": 0.9206081081081081, \"tpr\": 0.9870245925078639, \"n\": 5328}, {\"threshold\": 0.592, \"p\": 27976, \"fpr\": 0.9206081081081081, \"tpr\": 0.9870245925078639, \"n\": 5328}, {\"threshold\": 0.593, \"p\": 27976, \"fpr\": 0.9206081081081081, \"tpr\": 0.9870245925078639, \"n\": 5328}, {\"threshold\": 0.594, \"p\": 27976, \"fpr\": 0.9206081081081081, \"tpr\": 0.9870245925078639, \"n\": 5328}, {\"threshold\": 0.595, \"p\": 27976, \"fpr\": 0.9206081081081081, \"tpr\": 0.9870245925078639, \"n\": 5328}, {\"threshold\": 0.596, \"p\": 27976, \"fpr\": 0.9206081081081081, \"tpr\": 0.9870245925078639, \"n\": 5328}, {\"threshold\": 0.597, \"p\": 27976, \"fpr\": 0.9206081081081081, \"tpr\": 0.9870245925078639, \"n\": 5328}, {\"threshold\": 0.598, \"p\": 27976, \"fpr\": 0.9206081081081081, \"tpr\": 0.9870245925078639, \"n\": 5328}, {\"threshold\": 0.599, \"p\": 27976, \"fpr\": 0.9206081081081081, \"tpr\": 0.9870245925078639, \"n\": 5328}, {\"threshold\": 0.6, \"p\": 27976, \"fpr\": 0.9206081081081081, \"tpr\": 0.9870245925078639, \"n\": 5328}, {\"threshold\": 0.601, \"p\": 27976, \"fpr\": 0.9206081081081081, \"tpr\": 0.9870245925078639, \"n\": 5328}, {\"threshold\": 0.602, \"p\": 27976, \"fpr\": 0.9206081081081081, \"tpr\": 0.9870245925078639, \"n\": 5328}, {\"threshold\": 0.603, \"p\": 27976, \"fpr\": 0.9204204204204204, \"tpr\": 0.9870245925078639, \"n\": 5328}, {\"threshold\": 0.604, \"p\": 27976, \"fpr\": 0.9204204204204204, \"tpr\": 0.9870245925078639, \"n\": 5328}, {\"threshold\": 0.605, \"p\": 27976, \"fpr\": 0.9204204204204204, \"tpr\": 0.9870245925078639, \"n\": 5328}, {\"threshold\": 0.606, \"p\": 27976, \"fpr\": 0.9204204204204204, \"tpr\": 0.9870245925078639, \"n\": 5328}, {\"threshold\": 0.607, \"p\": 27976, \"fpr\": 0.9191066066066066, \"tpr\": 0.9866671432656563, \"n\": 5328}, {\"threshold\": 0.608, \"p\": 27976, \"fpr\": 0.9191066066066066, \"tpr\": 0.9866671432656563, \"n\": 5328}, {\"threshold\": 0.609, \"p\": 27976, \"fpr\": 0.9191066066066066, \"tpr\": 0.9866671432656563, \"n\": 5328}, {\"threshold\": 0.61, \"p\": 27976, \"fpr\": 0.9191066066066066, \"tpr\": 0.9866671432656563, \"n\": 5328}, {\"threshold\": 0.611, \"p\": 27976, \"fpr\": 0.9191066066066066, \"tpr\": 0.9866671432656563, \"n\": 5328}, {\"threshold\": 0.612, \"p\": 27976, \"fpr\": 0.9191066066066066, \"tpr\": 0.9866671432656563, \"n\": 5328}, {\"threshold\": 0.613, \"p\": 27976, \"fpr\": 0.9191066066066066, \"tpr\": 0.9866671432656563, \"n\": 5328}, {\"threshold\": 0.614, \"p\": 27976, \"fpr\": 0.9191066066066066, \"tpr\": 0.9866671432656563, \"n\": 5328}, {\"threshold\": 0.615, \"p\": 27976, \"fpr\": 0.9191066066066066, \"tpr\": 0.9865956534172148, \"n\": 5328}, {\"threshold\": 0.616, \"p\": 27976, \"fpr\": 0.9191066066066066, \"tpr\": 0.9865956534172148, \"n\": 5328}, {\"threshold\": 0.617, \"p\": 27976, \"fpr\": 0.9191066066066066, \"tpr\": 0.9865956534172148, \"n\": 5328}, {\"threshold\": 0.618, \"p\": 27976, \"fpr\": 0.9191066066066066, \"tpr\": 0.9865956534172148, \"n\": 5328}, {\"threshold\": 0.619, \"p\": 27976, \"fpr\": 0.9191066066066066, \"tpr\": 0.9865956534172148, \"n\": 5328}, {\"threshold\": 0.62, \"p\": 27976, \"fpr\": 0.9191066066066066, \"tpr\": 0.9865956534172148, \"n\": 5328}, {\"threshold\": 0.621, \"p\": 27976, \"fpr\": 0.918918918918919, \"tpr\": 0.9863811838718902, \"n\": 5328}, {\"threshold\": 0.622, \"p\": 27976, \"fpr\": 0.918918918918919, \"tpr\": 0.9863811838718902, \"n\": 5328}, {\"threshold\": 0.623, \"p\": 27976, \"fpr\": 0.918918918918919, \"tpr\": 0.9863811838718902, \"n\": 5328}, {\"threshold\": 0.624, \"p\": 27976, \"fpr\": 0.918918918918919, \"tpr\": 0.9863811838718902, \"n\": 5328}, {\"threshold\": 0.625, \"p\": 27976, \"fpr\": 0.918918918918919, \"tpr\": 0.9863811838718902, \"n\": 5328}, {\"threshold\": 0.626, \"p\": 27976, \"fpr\": 0.918918918918919, \"tpr\": 0.9863811838718902, \"n\": 5328}, {\"threshold\": 0.627, \"p\": 27976, \"fpr\": 0.918918918918919, \"tpr\": 0.9863811838718902, \"n\": 5328}, {\"threshold\": 0.628, \"p\": 27976, \"fpr\": 0.918918918918919, \"tpr\": 0.9863811838718902, \"n\": 5328}, {\"threshold\": 0.629, \"p\": 27976, \"fpr\": 0.918918918918919, \"tpr\": 0.9863811838718902, \"n\": 5328}, {\"threshold\": 0.63, \"p\": 27976, \"fpr\": 0.918918918918919, \"tpr\": 0.9863811838718902, \"n\": 5328}, {\"threshold\": 0.631, \"p\": 27976, \"fpr\": 0.918918918918919, \"tpr\": 0.9863811838718902, \"n\": 5328}, {\"threshold\": 0.632, \"p\": 27976, \"fpr\": 0.918918918918919, \"tpr\": 0.9863811838718902, \"n\": 5328}, {\"threshold\": 0.633, \"p\": 27976, \"fpr\": 0.918918918918919, \"tpr\": 0.9863811838718902, \"n\": 5328}, {\"threshold\": 0.634, \"p\": 27976, \"fpr\": 0.918918918918919, \"tpr\": 0.9863811838718902, \"n\": 5328}, {\"threshold\": 0.635, \"p\": 27976, \"fpr\": 0.918918918918919, \"tpr\": 0.9863811838718902, \"n\": 5328}, {\"threshold\": 0.636, \"p\": 27976, \"fpr\": 0.918918918918919, \"tpr\": 0.9863811838718902, \"n\": 5328}, {\"threshold\": 0.637, \"p\": 27976, \"fpr\": 0.918918918918919, \"tpr\": 0.9863811838718902, \"n\": 5328}, {\"threshold\": 0.638, \"p\": 27976, \"fpr\": 0.918918918918919, \"tpr\": 0.9863811838718902, \"n\": 5328}, {\"threshold\": 0.639, \"p\": 27976, \"fpr\": 0.918918918918919, \"tpr\": 0.9863811838718902, \"n\": 5328}, {\"threshold\": 0.64, \"p\": 27976, \"fpr\": 0.918918918918919, \"tpr\": 0.9863811838718902, \"n\": 5328}, {\"threshold\": 0.641, \"p\": 27976, \"fpr\": 0.918918918918919, \"tpr\": 0.9863811838718902, \"n\": 5328}, {\"threshold\": 0.642, \"p\": 27976, \"fpr\": 0.918918918918919, \"tpr\": 0.9863811838718902, \"n\": 5328}, {\"threshold\": 0.643, \"p\": 27976, \"fpr\": 0.9016516516516516, \"tpr\": 0.9811266800114383, \"n\": 5328}, {\"threshold\": 0.644, \"p\": 27976, \"fpr\": 0.901463963963964, \"tpr\": 0.9811266800114383, \"n\": 5328}, {\"threshold\": 0.645, \"p\": 27976, \"fpr\": 0.9010885885885885, \"tpr\": 0.9810551901629968, \"n\": 5328}, {\"threshold\": 0.646, \"p\": 27976, \"fpr\": 0.9010885885885885, \"tpr\": 0.9810551901629968, \"n\": 5328}, {\"threshold\": 0.647, \"p\": 27976, \"fpr\": 0.9010885885885885, \"tpr\": 0.981019445238776, \"n\": 5328}, {\"threshold\": 0.648, \"p\": 27976, \"fpr\": 0.9010885885885885, \"tpr\": 0.981019445238776, \"n\": 5328}, {\"threshold\": 0.649, \"p\": 27976, \"fpr\": 0.9010885885885885, \"tpr\": 0.981019445238776, \"n\": 5328}, {\"threshold\": 0.65, \"p\": 27976, \"fpr\": 0.9010885885885885, \"tpr\": 0.981019445238776, \"n\": 5328}, {\"threshold\": 0.651, \"p\": 27976, \"fpr\": 0.9010885885885885, \"tpr\": 0.981019445238776, \"n\": 5328}, {\"threshold\": 0.652, \"p\": 27976, \"fpr\": 0.9009009009009009, \"tpr\": 0.981019445238776, \"n\": 5328}, {\"threshold\": 0.653, \"p\": 27976, \"fpr\": 0.9009009009009009, \"tpr\": 0.981019445238776, \"n\": 5328}, {\"threshold\": 0.654, \"p\": 27976, \"fpr\": 0.9009009009009009, \"tpr\": 0.981019445238776, \"n\": 5328}, {\"threshold\": 0.655, \"p\": 27976, \"fpr\": 0.9005255255255256, \"tpr\": 0.9808049756934515, \"n\": 5328}, {\"threshold\": 0.656, \"p\": 27976, \"fpr\": 0.9005255255255256, \"tpr\": 0.9808049756934515, \"n\": 5328}, {\"threshold\": 0.657, \"p\": 27976, \"fpr\": 0.9005255255255256, \"tpr\": 0.9808049756934515, \"n\": 5328}, {\"threshold\": 0.658, \"p\": 27976, \"fpr\": 0.9005255255255256, \"tpr\": 0.9808049756934515, \"n\": 5328}, {\"threshold\": 0.659, \"p\": 27976, \"fpr\": 0.9005255255255256, \"tpr\": 0.9806977409207892, \"n\": 5328}, {\"threshold\": 0.66, \"p\": 27976, \"fpr\": 0.9005255255255256, \"tpr\": 0.9806977409207892, \"n\": 5328}, {\"threshold\": 0.661, \"p\": 27976, \"fpr\": 0.9005255255255256, \"tpr\": 0.9806977409207892, \"n\": 5328}, {\"threshold\": 0.662, \"p\": 27976, \"fpr\": 0.9003378378378378, \"tpr\": 0.9806977409207892, \"n\": 5328}, {\"threshold\": 0.663, \"p\": 27976, \"fpr\": 0.9003378378378378, \"tpr\": 0.9806977409207892, \"n\": 5328}, {\"threshold\": 0.664, \"p\": 27976, \"fpr\": 0.9003378378378378, \"tpr\": 0.9806977409207892, \"n\": 5328}, {\"threshold\": 0.665, \"p\": 27976, \"fpr\": 0.9003378378378378, \"tpr\": 0.9806977409207892, \"n\": 5328}, {\"threshold\": 0.666, \"p\": 27976, \"fpr\": 0.9003378378378378, \"tpr\": 0.9806977409207892, \"n\": 5328}, {\"threshold\": 0.667, \"p\": 27976, \"fpr\": 0.9003378378378378, \"tpr\": 0.9806619959965684, \"n\": 5328}, {\"threshold\": 0.668, \"p\": 27976, \"fpr\": 0.9003378378378378, \"tpr\": 0.9806619959965684, \"n\": 5328}, {\"threshold\": 0.669, \"p\": 27976, \"fpr\": 0.9003378378378378, \"tpr\": 0.9806619959965684, \"n\": 5328}, {\"threshold\": 0.67, \"p\": 27976, \"fpr\": 0.9003378378378378, \"tpr\": 0.9806619959965684, \"n\": 5328}, {\"threshold\": 0.671, \"p\": 27976, \"fpr\": 0.9003378378378378, \"tpr\": 0.9806619959965684, \"n\": 5328}, {\"threshold\": 0.672, \"p\": 27976, \"fpr\": 0.9003378378378378, \"tpr\": 0.9806619959965684, \"n\": 5328}, {\"threshold\": 0.673, \"p\": 27976, \"fpr\": 0.9003378378378378, \"tpr\": 0.9806619959965684, \"n\": 5328}, {\"threshold\": 0.674, \"p\": 27976, \"fpr\": 0.9003378378378378, \"tpr\": 0.9806619959965684, \"n\": 5328}, {\"threshold\": 0.675, \"p\": 27976, \"fpr\": 0.9003378378378378, \"tpr\": 0.9806619959965684, \"n\": 5328}, {\"threshold\": 0.676, \"p\": 27976, \"fpr\": 0.9003378378378378, \"tpr\": 0.9806619959965684, \"n\": 5328}, {\"threshold\": 0.677, \"p\": 27976, \"fpr\": 0.9003378378378378, \"tpr\": 0.9806619959965684, \"n\": 5328}, {\"threshold\": 0.678, \"p\": 27976, \"fpr\": 0.9003378378378378, \"tpr\": 0.9806619959965684, \"n\": 5328}, {\"threshold\": 0.679, \"p\": 27976, \"fpr\": 0.9003378378378378, \"tpr\": 0.9806619959965684, \"n\": 5328}, {\"threshold\": 0.68, \"p\": 27976, \"fpr\": 0.9003378378378378, \"tpr\": 0.9806619959965684, \"n\": 5328}, {\"threshold\": 0.681, \"p\": 27976, \"fpr\": 0.9003378378378378, \"tpr\": 0.9806619959965684, \"n\": 5328}, {\"threshold\": 0.682, \"p\": 27976, \"fpr\": 0.9001501501501501, \"tpr\": 0.9806262510723477, \"n\": 5328}, {\"threshold\": 0.683, \"p\": 27976, \"fpr\": 0.9001501501501501, \"tpr\": 0.9806262510723477, \"n\": 5328}, {\"threshold\": 0.684, \"p\": 27976, \"fpr\": 0.9001501501501501, \"tpr\": 0.9806262510723477, \"n\": 5328}, {\"threshold\": 0.685, \"p\": 27976, \"fpr\": 0.9001501501501501, \"tpr\": 0.9806262510723477, \"n\": 5328}, {\"threshold\": 0.686, \"p\": 27976, \"fpr\": 0.9001501501501501, \"tpr\": 0.9804832713754646, \"n\": 5328}, {\"threshold\": 0.687, \"p\": 27976, \"fpr\": 0.9001501501501501, \"tpr\": 0.9804832713754646, \"n\": 5328}, {\"threshold\": 0.688, \"p\": 27976, \"fpr\": 0.9001501501501501, \"tpr\": 0.9804832713754646, \"n\": 5328}, {\"threshold\": 0.689, \"p\": 27976, \"fpr\": 0.9001501501501501, \"tpr\": 0.9804832713754646, \"n\": 5328}, {\"threshold\": 0.69, \"p\": 27976, \"fpr\": 0.8999624624624625, \"tpr\": 0.9804832713754646, \"n\": 5328}, {\"threshold\": 0.691, \"p\": 27976, \"fpr\": 0.8999624624624625, \"tpr\": 0.9804832713754646, \"n\": 5328}, {\"threshold\": 0.692, \"p\": 27976, \"fpr\": 0.8999624624624625, \"tpr\": 0.9804832713754646, \"n\": 5328}, {\"threshold\": 0.693, \"p\": 27976, \"fpr\": 0.8999624624624625, \"tpr\": 0.9804832713754646, \"n\": 5328}, {\"threshold\": 0.694, \"p\": 27976, \"fpr\": 0.8999624624624625, \"tpr\": 0.9804832713754646, \"n\": 5328}, {\"threshold\": 0.695, \"p\": 27976, \"fpr\": 0.8999624624624625, \"tpr\": 0.9804832713754646, \"n\": 5328}, {\"threshold\": 0.696, \"p\": 27976, \"fpr\": 0.8999624624624625, \"tpr\": 0.9804832713754646, \"n\": 5328}, {\"threshold\": 0.697, \"p\": 27976, \"fpr\": 0.8999624624624625, \"tpr\": 0.9804832713754646, \"n\": 5328}, {\"threshold\": 0.698, \"p\": 27976, \"fpr\": 0.8999624624624625, \"tpr\": 0.9804475264512439, \"n\": 5328}, {\"threshold\": 0.699, \"p\": 27976, \"fpr\": 0.8999624624624625, \"tpr\": 0.9804475264512439, \"n\": 5328}, {\"threshold\": 0.7, \"p\": 27976, \"fpr\": 0.8999624624624625, \"tpr\": 0.9804475264512439, \"n\": 5328}, {\"threshold\": 0.701, \"p\": 27976, \"fpr\": 0.8999624624624625, \"tpr\": 0.9804475264512439, \"n\": 5328}, {\"threshold\": 0.702, \"p\": 27976, \"fpr\": 0.8999624624624625, \"tpr\": 0.9804475264512439, \"n\": 5328}, {\"threshold\": 0.703, \"p\": 27976, \"fpr\": 0.8999624624624625, \"tpr\": 0.9804475264512439, \"n\": 5328}, {\"threshold\": 0.704, \"p\": 27976, \"fpr\": 0.8999624624624625, \"tpr\": 0.9804475264512439, \"n\": 5328}, {\"threshold\": 0.705, \"p\": 27976, \"fpr\": 0.8999624624624625, \"tpr\": 0.9804475264512439, \"n\": 5328}, {\"threshold\": 0.706, \"p\": 27976, \"fpr\": 0.8999624624624625, \"tpr\": 0.9804475264512439, \"n\": 5328}, {\"threshold\": 0.707, \"p\": 27976, \"fpr\": 0.8999624624624625, \"tpr\": 0.9804475264512439, \"n\": 5328}, {\"threshold\": 0.708, \"p\": 27976, \"fpr\": 0.8999624624624625, \"tpr\": 0.9804475264512439, \"n\": 5328}, {\"threshold\": 0.709, \"p\": 27976, \"fpr\": 0.8999624624624625, \"tpr\": 0.9804475264512439, \"n\": 5328}, {\"threshold\": 0.71, \"p\": 27976, \"fpr\": 0.8999624624624625, \"tpr\": 0.9804117815270231, \"n\": 5328}, {\"threshold\": 0.711, \"p\": 27976, \"fpr\": 0.8999624624624625, \"tpr\": 0.9804117815270231, \"n\": 5328}, {\"threshold\": 0.712, \"p\": 27976, \"fpr\": 0.8999624624624625, \"tpr\": 0.9803402916785816, \"n\": 5328}, {\"threshold\": 0.713, \"p\": 27976, \"fpr\": 0.8999624624624625, \"tpr\": 0.9803402916785816, \"n\": 5328}, {\"threshold\": 0.714, \"p\": 27976, \"fpr\": 0.8999624624624625, \"tpr\": 0.9803402916785816, \"n\": 5328}, {\"threshold\": 0.715, \"p\": 27976, \"fpr\": 0.8999624624624625, \"tpr\": 0.9803402916785816, \"n\": 5328}, {\"threshold\": 0.716, \"p\": 27976, \"fpr\": 0.8999624624624625, \"tpr\": 0.9803045467543609, \"n\": 5328}, {\"threshold\": 0.717, \"p\": 27976, \"fpr\": 0.8999624624624625, \"tpr\": 0.9803045467543609, \"n\": 5328}, {\"threshold\": 0.718, \"p\": 27976, \"fpr\": 0.8999624624624625, \"tpr\": 0.9803045467543609, \"n\": 5328}, {\"threshold\": 0.719, \"p\": 27976, \"fpr\": 0.8999624624624625, \"tpr\": 0.9803045467543609, \"n\": 5328}, {\"threshold\": 0.72, \"p\": 27976, \"fpr\": 0.8999624624624625, \"tpr\": 0.9803045467543609, \"n\": 5328}, {\"threshold\": 0.721, \"p\": 27976, \"fpr\": 0.8999624624624625, \"tpr\": 0.9803045467543609, \"n\": 5328}, {\"threshold\": 0.722, \"p\": 27976, \"fpr\": 0.8999624624624625, \"tpr\": 0.9803045467543609, \"n\": 5328}, {\"threshold\": 0.723, \"p\": 27976, \"fpr\": 0.8999624624624625, \"tpr\": 0.9803045467543609, \"n\": 5328}, {\"threshold\": 0.724, \"p\": 27976, \"fpr\": 0.8999624624624625, \"tpr\": 0.9803045467543609, \"n\": 5328}, {\"threshold\": 0.725, \"p\": 27976, \"fpr\": 0.8999624624624625, \"tpr\": 0.9803045467543609, \"n\": 5328}, {\"threshold\": 0.726, \"p\": 27976, \"fpr\": 0.8999624624624625, \"tpr\": 0.9803045467543609, \"n\": 5328}, {\"threshold\": 0.727, \"p\": 27976, \"fpr\": 0.8999624624624625, \"tpr\": 0.9803045467543609, \"n\": 5328}, {\"threshold\": 0.728, \"p\": 27976, \"fpr\": 0.8999624624624625, \"tpr\": 0.9803045467543609, \"n\": 5328}, {\"threshold\": 0.729, \"p\": 27976, \"fpr\": 0.8999624624624625, \"tpr\": 0.9803045467543609, \"n\": 5328}, {\"threshold\": 0.73, \"p\": 27976, \"fpr\": 0.8999624624624625, \"tpr\": 0.9803045467543609, \"n\": 5328}, {\"threshold\": 0.731, \"p\": 27976, \"fpr\": 0.8999624624624625, \"tpr\": 0.9803045467543609, \"n\": 5328}, {\"threshold\": 0.732, \"p\": 27976, \"fpr\": 0.8999624624624625, \"tpr\": 0.9803045467543609, \"n\": 5328}, {\"threshold\": 0.733, \"p\": 27976, \"fpr\": 0.8999624624624625, \"tpr\": 0.9803045467543609, \"n\": 5328}, {\"threshold\": 0.734, \"p\": 27976, \"fpr\": 0.8999624624624625, \"tpr\": 0.9803045467543609, \"n\": 5328}, {\"threshold\": 0.735, \"p\": 27976, \"fpr\": 0.8999624624624625, \"tpr\": 0.9803045467543609, \"n\": 5328}, {\"threshold\": 0.736, \"p\": 27976, \"fpr\": 0.8999624624624625, \"tpr\": 0.9803045467543609, \"n\": 5328}, {\"threshold\": 0.737, \"p\": 27976, \"fpr\": 0.8999624624624625, \"tpr\": 0.9803045467543609, \"n\": 5328}, {\"threshold\": 0.738, \"p\": 27976, \"fpr\": 0.8999624624624625, \"tpr\": 0.9803045467543609, \"n\": 5328}, {\"threshold\": 0.739, \"p\": 27976, \"fpr\": 0.8999624624624625, \"tpr\": 0.9803045467543609, \"n\": 5328}, {\"threshold\": 0.74, \"p\": 27976, \"fpr\": 0.8999624624624625, \"tpr\": 0.9803045467543609, \"n\": 5328}, {\"threshold\": 0.741, \"p\": 27976, \"fpr\": 0.8999624624624625, \"tpr\": 0.9803045467543609, \"n\": 5328}, {\"threshold\": 0.742, \"p\": 27976, \"fpr\": 0.8941441441441441, \"tpr\": 0.9777666571346869, \"n\": 5328}, {\"threshold\": 0.743, \"p\": 27976, \"fpr\": 0.8941441441441441, \"tpr\": 0.9777666571346869, \"n\": 5328}, {\"threshold\": 0.744, \"p\": 27976, \"fpr\": 0.8941441441441441, \"tpr\": 0.9777666571346869, \"n\": 5328}, {\"threshold\": 0.745, \"p\": 27976, \"fpr\": 0.8937687687687688, \"tpr\": 0.9776594223620246, \"n\": 5328}, {\"threshold\": 0.746, \"p\": 27976, \"fpr\": 0.8937687687687688, \"tpr\": 0.9776594223620246, \"n\": 5328}, {\"threshold\": 0.747, \"p\": 27976, \"fpr\": 0.8937687687687688, \"tpr\": 0.9776594223620246, \"n\": 5328}, {\"threshold\": 0.748, \"p\": 27976, \"fpr\": 0.8937687687687688, \"tpr\": 0.9776594223620246, \"n\": 5328}, {\"threshold\": 0.749, \"p\": 27976, \"fpr\": 0.8937687687687688, \"tpr\": 0.9776236774378039, \"n\": 5328}, {\"threshold\": 0.75, \"p\": 27976, \"fpr\": 0.8937687687687688, \"tpr\": 0.9776236774378039, \"n\": 5328}, {\"threshold\": 0.751, \"p\": 27976, \"fpr\": 0.8932057057057057, \"tpr\": 0.9775164426651416, \"n\": 5328}, {\"threshold\": 0.752, \"p\": 27976, \"fpr\": 0.8932057057057057, \"tpr\": 0.9775164426651416, \"n\": 5328}, {\"threshold\": 0.753, \"p\": 27976, \"fpr\": 0.8932057057057057, \"tpr\": 0.9775164426651416, \"n\": 5328}, {\"threshold\": 0.754, \"p\": 27976, \"fpr\": 0.8932057057057057, \"tpr\": 0.9775164426651416, \"n\": 5328}, {\"threshold\": 0.755, \"p\": 27976, \"fpr\": 0.8932057057057057, \"tpr\": 0.9775164426651416, \"n\": 5328}, {\"threshold\": 0.756, \"p\": 27976, \"fpr\": 0.8932057057057057, \"tpr\": 0.9775164426651416, \"n\": 5328}, {\"threshold\": 0.757, \"p\": 27976, \"fpr\": 0.8932057057057057, \"tpr\": 0.9775164426651416, \"n\": 5328}, {\"threshold\": 0.758, \"p\": 27976, \"fpr\": 0.8932057057057057, \"tpr\": 0.9774806977409208, \"n\": 5328}, {\"threshold\": 0.759, \"p\": 27976, \"fpr\": 0.8932057057057057, \"tpr\": 0.9774806977409208, \"n\": 5328}, {\"threshold\": 0.76, \"p\": 27976, \"fpr\": 0.8932057057057057, \"tpr\": 0.9774806977409208, \"n\": 5328}, {\"threshold\": 0.761, \"p\": 27976, \"fpr\": 0.8932057057057057, \"tpr\": 0.9774806977409208, \"n\": 5328}, {\"threshold\": 0.762, \"p\": 27976, \"fpr\": 0.8932057057057057, \"tpr\": 0.9774806977409208, \"n\": 5328}, {\"threshold\": 0.763, \"p\": 27976, \"fpr\": 0.8932057057057057, \"tpr\": 0.9774806977409208, \"n\": 5328}, {\"threshold\": 0.764, \"p\": 27976, \"fpr\": 0.8932057057057057, \"tpr\": 0.9774449528167001, \"n\": 5328}, {\"threshold\": 0.765, \"p\": 27976, \"fpr\": 0.8932057057057057, \"tpr\": 0.9774092078924793, \"n\": 5328}, {\"threshold\": 0.766, \"p\": 27976, \"fpr\": 0.8928303303303303, \"tpr\": 0.9774092078924793, \"n\": 5328}, {\"threshold\": 0.767, \"p\": 27976, \"fpr\": 0.8928303303303303, \"tpr\": 0.9774092078924793, \"n\": 5328}, {\"threshold\": 0.768, \"p\": 27976, \"fpr\": 0.8928303303303303, \"tpr\": 0.9774092078924793, \"n\": 5328}, {\"threshold\": 0.769, \"p\": 27976, \"fpr\": 0.8928303303303303, \"tpr\": 0.9774092078924793, \"n\": 5328}, {\"threshold\": 0.77, \"p\": 27976, \"fpr\": 0.8928303303303303, \"tpr\": 0.9774092078924793, \"n\": 5328}, {\"threshold\": 0.771, \"p\": 27976, \"fpr\": 0.8928303303303303, \"tpr\": 0.9774092078924793, \"n\": 5328}, {\"threshold\": 0.772, \"p\": 27976, \"fpr\": 0.8928303303303303, \"tpr\": 0.9774092078924793, \"n\": 5328}, {\"threshold\": 0.773, \"p\": 27976, \"fpr\": 0.8926426426426426, \"tpr\": 0.9773734629682586, \"n\": 5328}, {\"threshold\": 0.774, \"p\": 27976, \"fpr\": 0.8926426426426426, \"tpr\": 0.9773734629682586, \"n\": 5328}, {\"threshold\": 0.775, \"p\": 27976, \"fpr\": 0.8926426426426426, \"tpr\": 0.9773734629682586, \"n\": 5328}, {\"threshold\": 0.776, \"p\": 27976, \"fpr\": 0.8926426426426426, \"tpr\": 0.9773734629682586, \"n\": 5328}, {\"threshold\": 0.777, \"p\": 27976, \"fpr\": 0.8920795795795796, \"tpr\": 0.977301973119817, \"n\": 5328}, {\"threshold\": 0.778, \"p\": 27976, \"fpr\": 0.8920795795795796, \"tpr\": 0.977301973119817, \"n\": 5328}, {\"threshold\": 0.779, \"p\": 27976, \"fpr\": 0.8920795795795796, \"tpr\": 0.977301973119817, \"n\": 5328}, {\"threshold\": 0.78, \"p\": 27976, \"fpr\": 0.8918918918918919, \"tpr\": 0.977301973119817, \"n\": 5328}, {\"threshold\": 0.781, \"p\": 27976, \"fpr\": 0.8918918918918919, \"tpr\": 0.977301973119817, \"n\": 5328}, {\"threshold\": 0.782, \"p\": 27976, \"fpr\": 0.8918918918918919, \"tpr\": 0.977301973119817, \"n\": 5328}, {\"threshold\": 0.783, \"p\": 27976, \"fpr\": 0.8918918918918919, \"tpr\": 0.977301973119817, \"n\": 5328}, {\"threshold\": 0.784, \"p\": 27976, \"fpr\": 0.8918918918918919, \"tpr\": 0.9772662281955963, \"n\": 5328}, {\"threshold\": 0.785, \"p\": 27976, \"fpr\": 0.8918918918918919, \"tpr\": 0.9772662281955963, \"n\": 5328}, {\"threshold\": 0.786, \"p\": 27976, \"fpr\": 0.8918918918918919, \"tpr\": 0.9772662281955963, \"n\": 5328}, {\"threshold\": 0.787, \"p\": 27976, \"fpr\": 0.18712462462462462, \"tpr\": 0.5087217615098656, \"n\": 5328}, {\"threshold\": 0.788, \"p\": 27976, \"fpr\": 0.18712462462462462, \"tpr\": 0.5087217615098656, \"n\": 5328}, {\"threshold\": 0.789, \"p\": 27976, \"fpr\": 0.18712462462462462, \"tpr\": 0.5087217615098656, \"n\": 5328}, {\"threshold\": 0.79, \"p\": 27976, \"fpr\": 0.18693693693693694, \"tpr\": 0.5085430368887618, \"n\": 5328}, {\"threshold\": 0.791, \"p\": 27976, \"fpr\": 0.18693693693693694, \"tpr\": 0.5085430368887618, \"n\": 5328}, {\"threshold\": 0.792, \"p\": 27976, \"fpr\": 0.18693693693693694, \"tpr\": 0.5085430368887618, \"n\": 5328}, {\"threshold\": 0.793, \"p\": 27976, \"fpr\": 0.18412162162162163, \"tpr\": 0.5066128109808408, \"n\": 5328}, {\"threshold\": 0.794, \"p\": 27976, \"fpr\": 0.18412162162162163, \"tpr\": 0.5066128109808408, \"n\": 5328}, {\"threshold\": 0.795, \"p\": 27976, \"fpr\": 0.18374624624624625, \"tpr\": 0.50657706605662, \"n\": 5328}, {\"threshold\": 0.796, \"p\": 27976, \"fpr\": 0.18374624624624625, \"tpr\": 0.50657706605662, \"n\": 5328}, {\"threshold\": 0.797, \"p\": 27976, \"fpr\": 0.18374624624624625, \"tpr\": 0.50657706605662, \"n\": 5328}, {\"threshold\": 0.798, \"p\": 27976, \"fpr\": 0.18355855855855857, \"tpr\": 0.5063983414355162, \"n\": 5328}, {\"threshold\": 0.799, \"p\": 27976, \"fpr\": 0.18355855855855857, \"tpr\": 0.5063625965112954, \"n\": 5328}, {\"threshold\": 0.8, \"p\": 27976, \"fpr\": 0.18355855855855857, \"tpr\": 0.5062196168144123, \"n\": 5328}, {\"threshold\": 0.801, \"p\": 27976, \"fpr\": 0.18355855855855857, \"tpr\": 0.50611238204175, \"n\": 5328}, {\"threshold\": 0.802, \"p\": 27976, \"fpr\": 0.18355855855855857, \"tpr\": 0.50611238204175, \"n\": 5328}, {\"threshold\": 0.803, \"p\": 27976, \"fpr\": 0.18355855855855857, \"tpr\": 0.50611238204175, \"n\": 5328}, {\"threshold\": 0.804, \"p\": 27976, \"fpr\": 0.18337087087087087, \"tpr\": 0.50611238204175, \"n\": 5328}, {\"threshold\": 0.805, \"p\": 27976, \"fpr\": 0.18337087087087087, \"tpr\": 0.50611238204175, \"n\": 5328}, {\"threshold\": 0.806, \"p\": 27976, \"fpr\": 0.18337087087087087, \"tpr\": 0.5060766371175293, \"n\": 5328}, {\"threshold\": 0.807, \"p\": 27976, \"fpr\": 0.18337087087087087, \"tpr\": 0.5060766371175293, \"n\": 5328}, {\"threshold\": 0.808, \"p\": 27976, \"fpr\": 0.18337087087087087, \"tpr\": 0.5060766371175293, \"n\": 5328}, {\"threshold\": 0.809, \"p\": 27976, \"fpr\": 0.18337087087087087, \"tpr\": 0.5060766371175293, \"n\": 5328}, {\"threshold\": 0.81, \"p\": 27976, \"fpr\": 0.18337087087087087, \"tpr\": 0.5060766371175293, \"n\": 5328}, {\"threshold\": 0.811, \"p\": 27976, \"fpr\": 0.18337087087087087, \"tpr\": 0.5060408921933085, \"n\": 5328}, {\"threshold\": 0.812, \"p\": 27976, \"fpr\": 0.18337087087087087, \"tpr\": 0.5060408921933085, \"n\": 5328}, {\"threshold\": 0.813, \"p\": 27976, \"fpr\": 0.18337087087087087, \"tpr\": 0.5060408921933085, \"n\": 5328}, {\"threshold\": 0.814, \"p\": 27976, \"fpr\": 0.18337087087087087, \"tpr\": 0.5060408921933085, \"n\": 5328}, {\"threshold\": 0.815, \"p\": 27976, \"fpr\": 0.18337087087087087, \"tpr\": 0.5060408921933085, \"n\": 5328}, {\"threshold\": 0.816, \"p\": 27976, \"fpr\": 0.18337087087087087, \"tpr\": 0.5060408921933085, \"n\": 5328}, {\"threshold\": 0.817, \"p\": 27976, \"fpr\": 0.18337087087087087, \"tpr\": 0.5060408921933085, \"n\": 5328}, {\"threshold\": 0.818, \"p\": 27976, \"fpr\": 0.1799924924924925, \"tpr\": 0.5029310837861024, \"n\": 5328}, {\"threshold\": 0.819, \"p\": 27976, \"fpr\": 0.1799924924924925, \"tpr\": 0.5029310837861024, \"n\": 5328}, {\"threshold\": 0.82, \"p\": 27976, \"fpr\": 0.1799924924924925, \"tpr\": 0.5029310837861024, \"n\": 5328}, {\"threshold\": 0.821, \"p\": 27976, \"fpr\": 0.1799924924924925, \"tpr\": 0.5029310837861024, \"n\": 5328}, {\"threshold\": 0.822, \"p\": 27976, \"fpr\": 0.1799924924924925, \"tpr\": 0.5029310837861024, \"n\": 5328}, {\"threshold\": 0.823, \"p\": 27976, \"fpr\": 0.1799924924924925, \"tpr\": 0.5028953388618816, \"n\": 5328}, {\"threshold\": 0.824, \"p\": 27976, \"fpr\": 0.1799924924924925, \"tpr\": 0.5028953388618816, \"n\": 5328}, {\"threshold\": 0.825, \"p\": 27976, \"fpr\": 0.17980480480480482, \"tpr\": 0.5027881040892194, \"n\": 5328}, {\"threshold\": 0.826, \"p\": 27976, \"fpr\": 0.17980480480480482, \"tpr\": 0.5027523591649986, \"n\": 5328}, {\"threshold\": 0.827, \"p\": 27976, \"fpr\": 0.17961711711711711, \"tpr\": 0.5027523591649986, \"n\": 5328}, {\"threshold\": 0.828, \"p\": 27976, \"fpr\": 0.17961711711711711, \"tpr\": 0.5027523591649986, \"n\": 5328}, {\"threshold\": 0.829, \"p\": 27976, \"fpr\": 0.17961711711711711, \"tpr\": 0.5027523591649986, \"n\": 5328}, {\"threshold\": 0.83, \"p\": 27976, \"fpr\": 0.17961711711711711, \"tpr\": 0.5027523591649986, \"n\": 5328}, {\"threshold\": 0.831, \"p\": 27976, \"fpr\": 0.17942942942942944, \"tpr\": 0.5027523591649986, \"n\": 5328}, {\"threshold\": 0.832, \"p\": 27976, \"fpr\": 0.17942942942942944, \"tpr\": 0.5027523591649986, \"n\": 5328}, {\"threshold\": 0.833, \"p\": 27976, \"fpr\": 0.17942942942942944, \"tpr\": 0.5027523591649986, \"n\": 5328}, {\"threshold\": 0.834, \"p\": 27976, \"fpr\": 0.17942942942942944, \"tpr\": 0.5026451243923363, \"n\": 5328}, {\"threshold\": 0.835, \"p\": 27976, \"fpr\": 0.17942942942942944, \"tpr\": 0.5025736345438948, \"n\": 5328}, {\"threshold\": 0.836, \"p\": 27976, \"fpr\": 0.17942942942942944, \"tpr\": 0.5025736345438948, \"n\": 5328}, {\"threshold\": 0.837, \"p\": 27976, \"fpr\": 0.17942942942942944, \"tpr\": 0.5024663997712325, \"n\": 5328}, {\"threshold\": 0.838, \"p\": 27976, \"fpr\": 0.17942942942942944, \"tpr\": 0.5024663997712325, \"n\": 5328}, {\"threshold\": 0.839, \"p\": 27976, \"fpr\": 0.17942942942942944, \"tpr\": 0.5024663997712325, \"n\": 5328}, {\"threshold\": 0.84, \"p\": 27976, \"fpr\": 0.17942942942942944, \"tpr\": 0.5024663997712325, \"n\": 5328}, {\"threshold\": 0.841, \"p\": 27976, \"fpr\": 0.17905405405405406, \"tpr\": 0.502394909922791, \"n\": 5328}, {\"threshold\": 0.842, \"p\": 27976, \"fpr\": 0.17905405405405406, \"tpr\": 0.502394909922791, \"n\": 5328}, {\"threshold\": 0.843, \"p\": 27976, \"fpr\": 0.17905405405405406, \"tpr\": 0.502394909922791, \"n\": 5328}, {\"threshold\": 0.844, \"p\": 27976, \"fpr\": 0.17905405405405406, \"tpr\": 0.502394909922791, \"n\": 5328}, {\"threshold\": 0.845, \"p\": 27976, \"fpr\": 0.17905405405405406, \"tpr\": 0.5023591649985703, \"n\": 5328}, {\"threshold\": 0.846, \"p\": 27976, \"fpr\": 0.17905405405405406, \"tpr\": 0.5023591649985703, \"n\": 5328}, {\"threshold\": 0.847, \"p\": 27976, \"fpr\": 0.17905405405405406, \"tpr\": 0.5023591649985703, \"n\": 5328}, {\"threshold\": 0.848, \"p\": 27976, \"fpr\": 0.17905405405405406, \"tpr\": 0.5023591649985703, \"n\": 5328}, {\"threshold\": 0.849, \"p\": 27976, \"fpr\": 0.17905405405405406, \"tpr\": 0.5023591649985703, \"n\": 5328}, {\"threshold\": 0.85, \"p\": 27976, \"fpr\": 0.17905405405405406, \"tpr\": 0.5023234200743495, \"n\": 5328}, {\"threshold\": 0.851, \"p\": 27976, \"fpr\": 0.17905405405405406, \"tpr\": 0.5023234200743495, \"n\": 5328}, {\"threshold\": 0.852, \"p\": 27976, \"fpr\": 0.17905405405405406, \"tpr\": 0.5023234200743495, \"n\": 5328}, {\"threshold\": 0.853, \"p\": 27976, \"fpr\": 0.17905405405405406, \"tpr\": 0.5023234200743495, \"n\": 5328}, {\"threshold\": 0.854, \"p\": 27976, \"fpr\": 0.17905405405405406, \"tpr\": 0.5023234200743495, \"n\": 5328}, {\"threshold\": 0.855, \"p\": 27976, \"fpr\": 0.17905405405405406, \"tpr\": 0.5023234200743495, \"n\": 5328}, {\"threshold\": 0.856, \"p\": 27976, \"fpr\": 0.17905405405405406, \"tpr\": 0.5023234200743495, \"n\": 5328}, {\"threshold\": 0.857, \"p\": 27976, \"fpr\": 0.17623873873873874, \"tpr\": 0.49985702030311696, \"n\": 5328}, {\"threshold\": 0.858, \"p\": 27976, \"fpr\": 0.17623873873873874, \"tpr\": 0.4998212753788962, \"n\": 5328}, {\"threshold\": 0.859, \"p\": 27976, \"fpr\": 0.17605105105105104, \"tpr\": 0.49949957106090936, \"n\": 5328}, {\"threshold\": 0.86, \"p\": 27976, \"fpr\": 0.17605105105105104, \"tpr\": 0.49949957106090936, \"n\": 5328}, {\"threshold\": 0.861, \"p\": 27976, \"fpr\": 0.17605105105105104, \"tpr\": 0.49949957106090936, \"n\": 5328}, {\"threshold\": 0.862, \"p\": 27976, \"fpr\": 0.17605105105105104, \"tpr\": 0.49949957106090936, \"n\": 5328}, {\"threshold\": 0.863, \"p\": 27976, \"fpr\": 0.17586336336336336, \"tpr\": 0.49942808121246784, \"n\": 5328}, {\"threshold\": 0.864, \"p\": 27976, \"fpr\": 0.17586336336336336, \"tpr\": 0.49942808121246784, \"n\": 5328}, {\"threshold\": 0.865, \"p\": 27976, \"fpr\": 0.17586336336336336, \"tpr\": 0.4993565913640263, \"n\": 5328}, {\"threshold\": 0.866, \"p\": 27976, \"fpr\": 0.17586336336336336, \"tpr\": 0.4993565913640263, \"n\": 5328}, {\"threshold\": 0.867, \"p\": 27976, \"fpr\": 0.17586336336336336, \"tpr\": 0.4993565913640263, \"n\": 5328}, {\"threshold\": 0.868, \"p\": 27976, \"fpr\": 0.17586336336336336, \"tpr\": 0.4993565913640263, \"n\": 5328}, {\"threshold\": 0.869, \"p\": 27976, \"fpr\": 0.17586336336336336, \"tpr\": 0.4993565913640263, \"n\": 5328}, {\"threshold\": 0.87, \"p\": 27976, \"fpr\": 0.17586336336336336, \"tpr\": 0.49932084643980557, \"n\": 5328}, {\"threshold\": 0.871, \"p\": 27976, \"fpr\": 0.17586336336336336, \"tpr\": 0.49932084643980557, \"n\": 5328}, {\"threshold\": 0.872, \"p\": 27976, \"fpr\": 0.17586336336336336, \"tpr\": 0.49932084643980557, \"n\": 5328}, {\"threshold\": 0.873, \"p\": 27976, \"fpr\": 0.17586336336336336, \"tpr\": 0.4992851015155848, \"n\": 5328}, {\"threshold\": 0.874, \"p\": 27976, \"fpr\": 0.17586336336336336, \"tpr\": 0.4992851015155848, \"n\": 5328}, {\"threshold\": 0.875, \"p\": 27976, \"fpr\": 0.17586336336336336, \"tpr\": 0.4992136116671433, \"n\": 5328}, {\"threshold\": 0.876, \"p\": 27976, \"fpr\": 0.17586336336336336, \"tpr\": 0.4992136116671433, \"n\": 5328}, {\"threshold\": 0.877, \"p\": 27976, \"fpr\": 0.17586336336336336, \"tpr\": 0.4992136116671433, \"n\": 5328}, {\"threshold\": 0.878, \"p\": 27976, \"fpr\": 0.17586336336336336, \"tpr\": 0.4992136116671433, \"n\": 5328}, {\"threshold\": 0.879, \"p\": 27976, \"fpr\": 0.17586336336336336, \"tpr\": 0.4992136116671433, \"n\": 5328}, {\"threshold\": 0.88, \"p\": 27976, \"fpr\": 0.17586336336336336, \"tpr\": 0.4992136116671433, \"n\": 5328}, {\"threshold\": 0.881, \"p\": 27976, \"fpr\": 0.17586336336336336, \"tpr\": 0.4991778667429225, \"n\": 5328}, {\"threshold\": 0.882, \"p\": 27976, \"fpr\": 0.17586336336336336, \"tpr\": 0.4991778667429225, \"n\": 5328}, {\"threshold\": 0.883, \"p\": 27976, \"fpr\": 0.17586336336336336, \"tpr\": 0.49914212181870177, \"n\": 5328}, {\"threshold\": 0.884, \"p\": 27976, \"fpr\": 0.17586336336336336, \"tpr\": 0.49914212181870177, \"n\": 5328}, {\"threshold\": 0.885, \"p\": 27976, \"fpr\": 0.17586336336336336, \"tpr\": 0.49914212181870177, \"n\": 5328}, {\"threshold\": 0.886, \"p\": 27976, \"fpr\": 0.17586336336336336, \"tpr\": 0.49914212181870177, \"n\": 5328}, {\"threshold\": 0.887, \"p\": 27976, \"fpr\": 0.10379129129129129, \"tpr\": 0.3712825278810409, \"n\": 5328}, {\"threshold\": 0.888, \"p\": 27976, \"fpr\": 0.10379129129129129, \"tpr\": 0.3712825278810409, \"n\": 5328}, {\"threshold\": 0.889, \"p\": 27976, \"fpr\": 0.10379129129129129, \"tpr\": 0.37121103803259936, \"n\": 5328}, {\"threshold\": 0.89, \"p\": 27976, \"fpr\": 0.10379129129129129, \"tpr\": 0.37121103803259936, \"n\": 5328}, {\"threshold\": 0.891, \"p\": 27976, \"fpr\": 0.1021021021021021, \"tpr\": 0.36799399485273093, \"n\": 5328}, {\"threshold\": 0.892, \"p\": 27976, \"fpr\": 0.10191441441441441, \"tpr\": 0.36799399485273093, \"n\": 5328}, {\"threshold\": 0.893, \"p\": 27976, \"fpr\": 0.10191441441441441, \"tpr\": 0.36799399485273093, \"n\": 5328}, {\"threshold\": 0.894, \"p\": 27976, \"fpr\": 0.10191441441441441, \"tpr\": 0.3679225050042894, \"n\": 5328}, {\"threshold\": 0.895, \"p\": 27976, \"fpr\": 0.10191441441441441, \"tpr\": 0.3679225050042894, \"n\": 5328}, {\"threshold\": 0.896, \"p\": 27976, \"fpr\": 0.10191441441441441, \"tpr\": 0.36788676008006865, \"n\": 5328}, {\"threshold\": 0.897, \"p\": 27976, \"fpr\": 0.10191441441441441, \"tpr\": 0.36788676008006865, \"n\": 5328}, {\"threshold\": 0.898, \"p\": 27976, \"fpr\": 0.10191441441441441, \"tpr\": 0.3678510151558479, \"n\": 5328}, {\"threshold\": 0.899, \"p\": 27976, \"fpr\": 0.10191441441441441, \"tpr\": 0.3678510151558479, \"n\": 5328}, {\"threshold\": 0.9, \"p\": 27976, \"fpr\": 0.10191441441441441, \"tpr\": 0.3678510151558479, \"n\": 5328}, {\"threshold\": 0.901, \"p\": 27976, \"fpr\": 0.10191441441441441, \"tpr\": 0.3678510151558479, \"n\": 5328}, {\"threshold\": 0.902, \"p\": 27976, \"fpr\": 0.10191441441441441, \"tpr\": 0.3678510151558479, \"n\": 5328}, {\"threshold\": 0.903, \"p\": 27976, \"fpr\": 0.10191441441441441, \"tpr\": 0.3678510151558479, \"n\": 5328}, {\"threshold\": 0.904, \"p\": 27976, \"fpr\": 0.10191441441441441, \"tpr\": 0.3678510151558479, \"n\": 5328}, {\"threshold\": 0.905, \"p\": 27976, \"fpr\": 0.10135135135135136, \"tpr\": 0.36695739205032885, \"n\": 5328}, {\"threshold\": 0.906, \"p\": 27976, \"fpr\": 0.10135135135135136, \"tpr\": 0.36695739205032885, \"n\": 5328}, {\"threshold\": 0.907, \"p\": 27976, \"fpr\": 0.10097597597597598, \"tpr\": 0.3669216471261081, \"n\": 5328}, {\"threshold\": 0.908, \"p\": 27976, \"fpr\": 0.10097597597597598, \"tpr\": 0.3669216471261081, \"n\": 5328}, {\"threshold\": 0.909, \"p\": 27976, \"fpr\": 0.10097597597597598, \"tpr\": 0.3669216471261081, \"n\": 5328}, {\"threshold\": 0.91, \"p\": 27976, \"fpr\": 0.10097597597597598, \"tpr\": 0.3669216471261081, \"n\": 5328}, {\"threshold\": 0.911, \"p\": 27976, \"fpr\": 0.10097597597597598, \"tpr\": 0.3669216471261081, \"n\": 5328}, {\"threshold\": 0.912, \"p\": 27976, \"fpr\": 0.09853603603603604, \"tpr\": 0.36016585644838434, \"n\": 5328}, {\"threshold\": 0.913, \"p\": 27976, \"fpr\": 0.09853603603603604, \"tpr\": 0.36016585644838434, \"n\": 5328}, {\"threshold\": 0.914, \"p\": 27976, \"fpr\": 0.09853603603603604, \"tpr\": 0.36016585644838434, \"n\": 5328}, {\"threshold\": 0.915, \"p\": 27976, \"fpr\": 0.09853603603603604, \"tpr\": 0.3601301115241636, \"n\": 5328}, {\"threshold\": 0.916, \"p\": 27976, \"fpr\": 0.0960960960960961, \"tpr\": 0.35441092364884186, \"n\": 5328}, {\"threshold\": 0.917, \"p\": 27976, \"fpr\": 0.0960960960960961, \"tpr\": 0.3543751787246211, \"n\": 5328}, {\"threshold\": 0.918, \"p\": 27976, \"fpr\": 0.0960960960960961, \"tpr\": 0.3543036888761796, \"n\": 5328}, {\"threshold\": 0.919, \"p\": 27976, \"fpr\": 0.0960960960960961, \"tpr\": 0.3543036888761796, \"n\": 5328}, {\"threshold\": 0.92, \"p\": 27976, \"fpr\": 0.0960960960960961, \"tpr\": 0.3543036888761796, \"n\": 5328}, {\"threshold\": 0.921, \"p\": 27976, \"fpr\": 0.0960960960960961, \"tpr\": 0.3543036888761796, \"n\": 5328}, {\"threshold\": 0.922, \"p\": 27976, \"fpr\": 0.0960960960960961, \"tpr\": 0.3542679439519588, \"n\": 5328}, {\"threshold\": 0.923, \"p\": 27976, \"fpr\": 0.0960960960960961, \"tpr\": 0.3542679439519588, \"n\": 5328}, {\"threshold\": 0.924, \"p\": 27976, \"fpr\": 0.0960960960960961, \"tpr\": 0.3542679439519588, \"n\": 5328}, {\"threshold\": 0.925, \"p\": 27976, \"fpr\": 0.03528528528528529, \"tpr\": 0.1797969688304261, \"n\": 5328}, {\"threshold\": 0.926, \"p\": 27976, \"fpr\": 0.03528528528528529, \"tpr\": 0.17976122390620533, \"n\": 5328}, {\"threshold\": 0.927, \"p\": 27976, \"fpr\": 0.03528528528528529, \"tpr\": 0.17976122390620533, \"n\": 5328}, {\"threshold\": 0.928, \"p\": 27976, \"fpr\": 0.03528528528528529, \"tpr\": 0.17872462110380327, \"n\": 5328}, {\"threshold\": 0.929, \"p\": 27976, \"fpr\": 0.0350975975975976, \"tpr\": 0.17861738633114096, \"n\": 5328}, {\"threshold\": 0.93, \"p\": 27976, \"fpr\": 0.0350975975975976, \"tpr\": 0.1785816414069202, \"n\": 5328}, {\"threshold\": 0.931, \"p\": 27976, \"fpr\": 0.0350975975975976, \"tpr\": 0.17854589648269945, \"n\": 5328}, {\"threshold\": 0.932, \"p\": 27976, \"fpr\": 0.0350975975975976, \"tpr\": 0.17854589648269945, \"n\": 5328}, {\"threshold\": 0.933, \"p\": 27976, \"fpr\": 0.0350975975975976, \"tpr\": 0.17854589648269945, \"n\": 5328}, {\"threshold\": 0.934, \"p\": 27976, \"fpr\": 0.0350975975975976, \"tpr\": 0.17854589648269945, \"n\": 5328}, {\"threshold\": 0.935, \"p\": 27976, \"fpr\": 0.0350975975975976, \"tpr\": 0.17854589648269945, \"n\": 5328}, {\"threshold\": 0.936, \"p\": 27976, \"fpr\": 0.0350975975975976, \"tpr\": 0.17851015155847869, \"n\": 5328}, {\"threshold\": 0.937, \"p\": 27976, \"fpr\": 0.03490990990990991, \"tpr\": 0.17793823277094653, \"n\": 5328}, {\"threshold\": 0.938, \"p\": 27976, \"fpr\": 0.03490990990990991, \"tpr\": 0.17793823277094653, \"n\": 5328}, {\"threshold\": 0.939, \"p\": 27976, \"fpr\": 0.034722222222222224, \"tpr\": 0.17793823277094653, \"n\": 5328}, {\"threshold\": 0.94, \"p\": 27976, \"fpr\": 0.034722222222222224, \"tpr\": 0.17783099799828425, \"n\": 5328}, {\"threshold\": 0.941, \"p\": 27976, \"fpr\": 0.034722222222222224, \"tpr\": 0.17783099799828425, \"n\": 5328}, {\"threshold\": 0.942, \"p\": 27976, \"fpr\": 0.034722222222222224, \"tpr\": 0.17783099799828425, \"n\": 5328}, {\"threshold\": 0.943, \"p\": 27976, \"fpr\": 0.034722222222222224, \"tpr\": 0.17783099799828425, \"n\": 5328}, {\"threshold\": 0.944, \"p\": 27976, \"fpr\": 0.027965465465465467, \"tpr\": 0.15556191020875035, \"n\": 5328}, {\"threshold\": 0.945, \"p\": 27976, \"fpr\": 0.027777777777777776, \"tpr\": 0.1554189305118673, \"n\": 5328}, {\"threshold\": 0.946, \"p\": 27976, \"fpr\": 0.027777777777777776, \"tpr\": 0.1543465827852445, \"n\": 5328}, {\"threshold\": 0.947, \"p\": 27976, \"fpr\": 0.027777777777777776, \"tpr\": 0.1543465827852445, \"n\": 5328}, {\"threshold\": 0.948, \"p\": 27976, \"fpr\": 0.02759009009009009, \"tpr\": 0.1541678581641407, \"n\": 5328}, {\"threshold\": 0.949, \"p\": 27976, \"fpr\": 0.02759009009009009, \"tpr\": 0.1541678581641407, \"n\": 5328}, {\"threshold\": 0.95, \"p\": 27976, \"fpr\": 0.02759009009009009, \"tpr\": 0.1541678581641407, \"n\": 5328}, {\"threshold\": 0.951, \"p\": 27976, \"fpr\": 0.02759009009009009, \"tpr\": 0.1541678581641407, \"n\": 5328}, {\"threshold\": 0.952, \"p\": 27976, \"fpr\": 0.02759009009009009, \"tpr\": 0.1541678581641407, \"n\": 5328}, {\"threshold\": 0.953, \"p\": 27976, \"fpr\": 0.027214714714714715, \"tpr\": 0.15330997998284243, \"n\": 5328}, {\"threshold\": 0.954, \"p\": 27976, \"fpr\": 0.027214714714714715, \"tpr\": 0.15330997998284243, \"n\": 5328}, {\"threshold\": 0.955, \"p\": 27976, \"fpr\": 0.027214714714714715, \"tpr\": 0.1532384901344009, \"n\": 5328}, {\"threshold\": 0.956, \"p\": 27976, \"fpr\": 0.027214714714714715, \"tpr\": 0.1532384901344009, \"n\": 5328}, {\"threshold\": 0.957, \"p\": 27976, \"fpr\": 0.02702702702702703, \"tpr\": 0.15009293680297398, \"n\": 5328}, {\"threshold\": 0.958, \"p\": 27976, \"fpr\": 0.02702702702702703, \"tpr\": 0.14991421218187018, \"n\": 5328}, {\"threshold\": 0.959, \"p\": 27976, \"fpr\": 0.026839339339339338, \"tpr\": 0.14830569059193593, \"n\": 5328}, {\"threshold\": 0.96, \"p\": 27976, \"fpr\": 0.026839339339339338, \"tpr\": 0.14809122104661138, \"n\": 5328}, {\"threshold\": 0.961, \"p\": 27976, \"fpr\": 0.026839339339339338, \"tpr\": 0.14805547612239062, \"n\": 5328}, {\"threshold\": 0.962, \"p\": 27976, \"fpr\": 0.026839339339339338, \"tpr\": 0.14805547612239062, \"n\": 5328}, {\"threshold\": 0.963, \"p\": 27976, \"fpr\": 0.026839339339339338, \"tpr\": 0.14805547612239062, \"n\": 5328}, {\"threshold\": 0.964, \"p\": 27976, \"fpr\": 0.01539039039039039, \"tpr\": 0.10130111524163568, \"n\": 5328}, {\"threshold\": 0.965, \"p\": 27976, \"fpr\": 0.01539039039039039, \"tpr\": 0.09979982842436375, \"n\": 5328}, {\"threshold\": 0.966, \"p\": 27976, \"fpr\": 0.01539039039039039, \"tpr\": 0.09972833857592221, \"n\": 5328}, {\"threshold\": 0.967, \"p\": 27976, \"fpr\": 0.015202702702702704, \"tpr\": 0.0994781241063769, \"n\": 5328}, {\"threshold\": 0.968, \"p\": 27976, \"fpr\": 0.015202702702702704, \"tpr\": 0.09922790963683158, \"n\": 5328}, {\"threshold\": 0.969, \"p\": 27976, \"fpr\": 0.015202702702702704, \"tpr\": 0.0991921647126108, \"n\": 5328}, {\"threshold\": 0.97, \"p\": 27976, \"fpr\": 0.015015015015015015, \"tpr\": 0.09869173577352015, \"n\": 5328}, {\"threshold\": 0.971, \"p\": 27976, \"fpr\": 0.015015015015015015, \"tpr\": 0.0986559908492994, \"n\": 5328}, {\"threshold\": 0.972, \"p\": 27976, \"fpr\": 0.014827327327327328, \"tpr\": 0.09518873319988562, \"n\": 5328}, {\"threshold\": 0.973, \"p\": 27976, \"fpr\": 0.012762762762762763, \"tpr\": 0.0885759222190449, \"n\": 5328}, {\"threshold\": 0.974, \"p\": 27976, \"fpr\": 0.012762762762762763, \"tpr\": 0.08854017729482414, \"n\": 5328}, {\"threshold\": 0.975, \"p\": 27976, \"fpr\": 0.012762762762762763, \"tpr\": 0.08850443237060338, \"n\": 5328}, {\"threshold\": 0.976, \"p\": 27976, \"fpr\": 0.012762762762762763, \"tpr\": 0.08846868744638262, \"n\": 5328}, {\"threshold\": 0.977, \"p\": 27976, \"fpr\": 0.0063813813813813815, \"tpr\": 0.051258221332570776, \"n\": 5328}, {\"threshold\": 0.978, \"p\": 27976, \"fpr\": 0.0063813813813813815, \"tpr\": 0.05118673148412926, \"n\": 5328}, {\"threshold\": 0.979, \"p\": 27976, \"fpr\": 0.00563063063063063, \"tpr\": 0.050793537317700886, \"n\": 5328}, {\"threshold\": 0.98, \"p\": 27976, \"fpr\": 0.00563063063063063, \"tpr\": 0.05047183299971404, \"n\": 5328}, {\"threshold\": 0.981, \"p\": 27976, \"fpr\": 0.005442942942942943, \"tpr\": 0.0501501286817272, \"n\": 5328}, {\"threshold\": 0.982, \"p\": 27976, \"fpr\": 0.005442942942942943, \"tpr\": 0.0501501286817272, \"n\": 5328}, {\"threshold\": 0.983, \"p\": 27976, \"fpr\": 0.0045045045045045045, \"tpr\": 0.04117815270231627, \"n\": 5328}, {\"threshold\": 0.984, \"p\": 27976, \"fpr\": 0.0045045045045045045, \"tpr\": 0.040999428081212465, \"n\": 5328}, {\"threshold\": 0.985, \"p\": 27976, \"fpr\": 0.0045045045045045045, \"tpr\": 0.040820703460108666, \"n\": 5328}, {\"threshold\": 0.986, \"p\": 27976, \"fpr\": 0.0045045045045045045, \"tpr\": 0.040356019445238776, \"n\": 5328}, {\"threshold\": 0.987, \"p\": 27976, \"fpr\": 0.003566066066066066, \"tpr\": 0.03896196740062911, \"n\": 5328}, {\"threshold\": 0.988, \"p\": 27976, \"fpr\": 0.0033783783783783786, \"tpr\": 0.03803259937088933, \"n\": 5328}, {\"threshold\": 0.989, \"p\": 27976, \"fpr\": 0.0020645645645645644, \"tpr\": 0.026522733771804405, \"n\": 5328}, {\"threshold\": 0.99, \"p\": 27976, \"fpr\": 0.0020645645645645644, \"tpr\": 0.025414641120960823, \"n\": 5328}, {\"threshold\": 0.991, \"p\": 27976, \"fpr\": 0.0018768768768768769, \"tpr\": 0.025021446954532456, \"n\": 5328}, {\"threshold\": 0.992, \"p\": 27976, \"fpr\": 0.0015015015015015015, \"tpr\": 0.02187589362310552, \"n\": 5328}, {\"threshold\": 0.993, \"p\": 27976, \"fpr\": 0.0007507507507507507, \"tpr\": 0.014619674006291107, \"n\": 5328}, {\"threshold\": 0.994, \"p\": 27976, \"fpr\": 0.0007507507507507507, \"tpr\": 0.014012010294538175, \"n\": 5328}, {\"threshold\": 0.995, \"p\": 27976, \"fpr\": 0.00037537537537537537, \"tpr\": 0.01154561052330569, \"n\": 5328}, {\"threshold\": 0.996, \"p\": 27976, \"fpr\": 0.00037537537537537537, \"tpr\": 0.010973691735773521, \"n\": 5328}, {\"threshold\": 0.997, \"p\": 27976, \"fpr\": 0.00018768768768768769, \"tpr\": 0.007577923934801258, \"n\": 5328}, {\"threshold\": 0.998, \"p\": 27976, \"fpr\": 0.0, \"tpr\": 0.004539605376036602, \"n\": 5328}, {\"threshold\": 0.999, \"p\": 27976, \"fpr\": 0.0, \"tpr\": 0.0023234200743494425, \"n\": 5328}, {\"threshold\": 1.0, \"p\": 27976, \"fpr\": 0.0, \"tpr\": 0.0, \"n\": 5328}], \"confusion_matrix\": [{\"count\": 263, \"target_label\": 0, \"predicted_label\": 0}, {\"count\": 5065, \"target_label\": 0, \"predicted_label\": 1}, {\"count\": 27856, \"target_label\": 1, \"predicted_label\": 1}, {\"count\": 120, \"target_label\": 1, \"predicted_label\": 0}], \"accuracy\": 0.8443129954359837}]]}, e);\n",
       "                });\n",
       "            })();\n",
       "        "
      ]
     },
     "metadata": {},
     "output_type": "display_data"
    }
   ],
   "source": [
    "selected_words_model.show(view='Evaluation')"
   ]
  },
  {
   "cell_type": "markdown",
   "metadata": {},
   "source": [
    "## Which of the following ranges contains the ‘predicted_sentiment’ for the most positive review for ‘Baby Trend Diaper Champ’, according to the sentiment_model from the IPython Notebook from lecture?\n",
    "Prob: 0.999999937267\n",
    "\n",
    "Review: 'Baby Luke can turn a clean diaper to a dirty diaper in 3 seconds flat. The diaper champ turns the smelly diaper into \"what diaper smell\" in less time than that. I hesitated and wondered what I REALLY needed for the nursery. This is one of the best purchases we made. The champ, the baby bjorn, fluerville diaper bag, and graco pack and play bassinet all vie for the best baby purchase.Great product, easy to use, economical, effective, absolutly fabulous.UpdateI knew that I loved the champ, and useing the diaper genie at a friend\\'s house REALLY reinforced that!! There is no comparison, the chanp is easy and smell free, the genie was difficult to use one handed (which is absolutly vital if you have a little one on a changing pad) and there was a deffinite odor eminating from the genieplus we found that the quick tie garbage bags where the ties are integrated into the bag work really well because there isn\\'t any added bulk around the sealing edge of the champ.'"
   ]
  },
  {
   "cell_type": "markdown",
   "metadata": {},
   "source": [
    "## Consider the most positive review for ‘Baby Trend Diaper Champ’ according to the sentiment_model from the IPython Notebook from lecture. Which of the following ranges contains the predicted_sentiment for this review, if we use the selected_words_model to analyze it?"
   ]
  },
  {
   "cell_type": "code",
   "execution_count": 14,
   "metadata": {
    "collapsed": false
   },
   "outputs": [
    {
     "data": {
      "text/html": [
       "<div style=\"max-height:1000px;max-width:1500px;overflow:auto;\"><table frame=\"box\" rules=\"cols\">\n",
       "    <tr>\n",
       "        <th style=\"padding-left: 1em; padding-right: 1em; text-align: center\">name</th>\n",
       "        <th style=\"padding-left: 1em; padding-right: 1em; text-align: center\">review</th>\n",
       "        <th style=\"padding-left: 1em; padding-right: 1em; text-align: center\">rating</th>\n",
       "        <th style=\"padding-left: 1em; padding-right: 1em; text-align: center\">word_count</th>\n",
       "        <th style=\"padding-left: 1em; padding-right: 1em; text-align: center\">awesome</th>\n",
       "        <th style=\"padding-left: 1em; padding-right: 1em; text-align: center\">great</th>\n",
       "        <th style=\"padding-left: 1em; padding-right: 1em; text-align: center\">fantastic</th>\n",
       "    </tr>\n",
       "    <tr>\n",
       "        <td style=\"padding-left: 1em; padding-right: 1em; text-align: center; vertical-align: top\">Baby Trend Diaper Champ</td>\n",
       "        <td style=\"padding-left: 1em; padding-right: 1em; text-align: center; vertical-align: top\">Ok - newsflash.  Diapers<br>are just smelly.  We've ...</td>\n",
       "        <td style=\"padding-left: 1em; padding-right: 1em; text-align: center; vertical-align: top\">4.0</td>\n",
       "        <td style=\"padding-left: 1em; padding-right: 1em; text-align: center; vertical-align: top\">{'great': 0, 'love': 0,<br>'hate': 0, 'awesome': 0, ...</td>\n",
       "        <td style=\"padding-left: 1em; padding-right: 1em; text-align: center; vertical-align: top\">0</td>\n",
       "        <td style=\"padding-left: 1em; padding-right: 1em; text-align: center; vertical-align: top\">0</td>\n",
       "        <td style=\"padding-left: 1em; padding-right: 1em; text-align: center; vertical-align: top\">0</td>\n",
       "    </tr>\n",
       "    <tr>\n",
       "        <td style=\"padding-left: 1em; padding-right: 1em; text-align: center; vertical-align: top\">Baby Trend Diaper Champ</td>\n",
       "        <td style=\"padding-left: 1em; padding-right: 1em; text-align: center; vertical-align: top\">My husband and I selected<br>the Diaper \"Champ\" ma ...</td>\n",
       "        <td style=\"padding-left: 1em; padding-right: 1em; text-align: center; vertical-align: top\">1.0</td>\n",
       "        <td style=\"padding-left: 1em; padding-right: 1em; text-align: center; vertical-align: top\">{'great': 0, 'love': 0,<br>'hate': 0, 'awesome': 0, ...</td>\n",
       "        <td style=\"padding-left: 1em; padding-right: 1em; text-align: center; vertical-align: top\">0</td>\n",
       "        <td style=\"padding-left: 1em; padding-right: 1em; text-align: center; vertical-align: top\">0</td>\n",
       "        <td style=\"padding-left: 1em; padding-right: 1em; text-align: center; vertical-align: top\">0</td>\n",
       "    </tr>\n",
       "    <tr>\n",
       "        <td style=\"padding-left: 1em; padding-right: 1em; text-align: center; vertical-align: top\">Baby Trend Diaper Champ</td>\n",
       "        <td style=\"padding-left: 1em; padding-right: 1em; text-align: center; vertical-align: top\">Excellent diaper disposal<br>unit.  I used it in ...</td>\n",
       "        <td style=\"padding-left: 1em; padding-right: 1em; text-align: center; vertical-align: top\">5.0</td>\n",
       "        <td style=\"padding-left: 1em; padding-right: 1em; text-align: center; vertical-align: top\">{'great': 0, 'love': 0,<br>'hate': 0, 'awesome': 0, ...</td>\n",
       "        <td style=\"padding-left: 1em; padding-right: 1em; text-align: center; vertical-align: top\">0</td>\n",
       "        <td style=\"padding-left: 1em; padding-right: 1em; text-align: center; vertical-align: top\">0</td>\n",
       "        <td style=\"padding-left: 1em; padding-right: 1em; text-align: center; vertical-align: top\">0</td>\n",
       "    </tr>\n",
       "    <tr>\n",
       "        <td style=\"padding-left: 1em; padding-right: 1em; text-align: center; vertical-align: top\">Baby Trend Diaper Champ</td>\n",
       "        <td style=\"padding-left: 1em; padding-right: 1em; text-align: center; vertical-align: top\">We love our diaper champ.<br>It is very easy to use ...</td>\n",
       "        <td style=\"padding-left: 1em; padding-right: 1em; text-align: center; vertical-align: top\">5.0</td>\n",
       "        <td style=\"padding-left: 1em; padding-right: 1em; text-align: center; vertical-align: top\">{'great': 0, 'love': 1,<br>'hate': 0, 'awesome': 0, ...</td>\n",
       "        <td style=\"padding-left: 1em; padding-right: 1em; text-align: center; vertical-align: top\">0</td>\n",
       "        <td style=\"padding-left: 1em; padding-right: 1em; text-align: center; vertical-align: top\">0</td>\n",
       "        <td style=\"padding-left: 1em; padding-right: 1em; text-align: center; vertical-align: top\">0</td>\n",
       "    </tr>\n",
       "    <tr>\n",
       "        <td style=\"padding-left: 1em; padding-right: 1em; text-align: center; vertical-align: top\">Baby Trend Diaper Champ</td>\n",
       "        <td style=\"padding-left: 1em; padding-right: 1em; text-align: center; vertical-align: top\">Two girlfriends and two<br>family members put me ...</td>\n",
       "        <td style=\"padding-left: 1em; padding-right: 1em; text-align: center; vertical-align: top\">5.0</td>\n",
       "        <td style=\"padding-left: 1em; padding-right: 1em; text-align: center; vertical-align: top\">{'great': 0, 'love': 0,<br>'hate': 0, 'awesome': 0, ...</td>\n",
       "        <td style=\"padding-left: 1em; padding-right: 1em; text-align: center; vertical-align: top\">0</td>\n",
       "        <td style=\"padding-left: 1em; padding-right: 1em; text-align: center; vertical-align: top\">0</td>\n",
       "        <td style=\"padding-left: 1em; padding-right: 1em; text-align: center; vertical-align: top\">0</td>\n",
       "    </tr>\n",
       "    <tr>\n",
       "        <td style=\"padding-left: 1em; padding-right: 1em; text-align: center; vertical-align: top\">Baby Trend Diaper Champ</td>\n",
       "        <td style=\"padding-left: 1em; padding-right: 1em; text-align: center; vertical-align: top\">I waited to review this<br>until I saw how it ...</td>\n",
       "        <td style=\"padding-left: 1em; padding-right: 1em; text-align: center; vertical-align: top\">4.0</td>\n",
       "        <td style=\"padding-left: 1em; padding-right: 1em; text-align: center; vertical-align: top\">{'great': 0, 'love': 0,<br>'hate': 0, 'awesome': 0, ...</td>\n",
       "        <td style=\"padding-left: 1em; padding-right: 1em; text-align: center; vertical-align: top\">0</td>\n",
       "        <td style=\"padding-left: 1em; padding-right: 1em; text-align: center; vertical-align: top\">0</td>\n",
       "        <td style=\"padding-left: 1em; padding-right: 1em; text-align: center; vertical-align: top\">0</td>\n",
       "    </tr>\n",
       "    <tr>\n",
       "        <td style=\"padding-left: 1em; padding-right: 1em; text-align: center; vertical-align: top\">Baby Trend Diaper Champ</td>\n",
       "        <td style=\"padding-left: 1em; padding-right: 1em; text-align: center; vertical-align: top\">I have had a diaper genie<br>for almost 4 years since ...</td>\n",
       "        <td style=\"padding-left: 1em; padding-right: 1em; text-align: center; vertical-align: top\">1.0</td>\n",
       "        <td style=\"padding-left: 1em; padding-right: 1em; text-align: center; vertical-align: top\">{'great': 0, 'love': 0,<br>'hate': 0, 'awesome': 0, ...</td>\n",
       "        <td style=\"padding-left: 1em; padding-right: 1em; text-align: center; vertical-align: top\">0</td>\n",
       "        <td style=\"padding-left: 1em; padding-right: 1em; text-align: center; vertical-align: top\">0</td>\n",
       "        <td style=\"padding-left: 1em; padding-right: 1em; text-align: center; vertical-align: top\">0</td>\n",
       "    </tr>\n",
       "    <tr>\n",
       "        <td style=\"padding-left: 1em; padding-right: 1em; text-align: center; vertical-align: top\">Baby Trend Diaper Champ</td>\n",
       "        <td style=\"padding-left: 1em; padding-right: 1em; text-align: center; vertical-align: top\">I originally put this<br>item on my baby registry ...</td>\n",
       "        <td style=\"padding-left: 1em; padding-right: 1em; text-align: center; vertical-align: top\">5.0</td>\n",
       "        <td style=\"padding-left: 1em; padding-right: 1em; text-align: center; vertical-align: top\">{'great': 0, 'love': 0,<br>'hate': 0, 'awesome': 0, ...</td>\n",
       "        <td style=\"padding-left: 1em; padding-right: 1em; text-align: center; vertical-align: top\">0</td>\n",
       "        <td style=\"padding-left: 1em; padding-right: 1em; text-align: center; vertical-align: top\">0</td>\n",
       "        <td style=\"padding-left: 1em; padding-right: 1em; text-align: center; vertical-align: top\">0</td>\n",
       "    </tr>\n",
       "    <tr>\n",
       "        <td style=\"padding-left: 1em; padding-right: 1em; text-align: center; vertical-align: top\">Baby Trend Diaper Champ</td>\n",
       "        <td style=\"padding-left: 1em; padding-right: 1em; text-align: center; vertical-align: top\">I am so glad I got the<br>Diaper Champ instead of ...</td>\n",
       "        <td style=\"padding-left: 1em; padding-right: 1em; text-align: center; vertical-align: top\">5.0</td>\n",
       "        <td style=\"padding-left: 1em; padding-right: 1em; text-align: center; vertical-align: top\">{'great': 0, 'love': 0,<br>'hate': 0, 'awesome': 0, ...</td>\n",
       "        <td style=\"padding-left: 1em; padding-right: 1em; text-align: center; vertical-align: top\">0</td>\n",
       "        <td style=\"padding-left: 1em; padding-right: 1em; text-align: center; vertical-align: top\">0</td>\n",
       "        <td style=\"padding-left: 1em; padding-right: 1em; text-align: center; vertical-align: top\">0</td>\n",
       "    </tr>\n",
       "    <tr>\n",
       "        <td style=\"padding-left: 1em; padding-right: 1em; text-align: center; vertical-align: top\">Baby Trend Diaper Champ</td>\n",
       "        <td style=\"padding-left: 1em; padding-right: 1em; text-align: center; vertical-align: top\">We had 2 diaper Genie's<br>both given to us as a ...</td>\n",
       "        <td style=\"padding-left: 1em; padding-right: 1em; text-align: center; vertical-align: top\">4.0</td>\n",
       "        <td style=\"padding-left: 1em; padding-right: 1em; text-align: center; vertical-align: top\">{'great': 0, 'love': 2,<br>'hate': 0, 'awesome': 0, ...</td>\n",
       "        <td style=\"padding-left: 1em; padding-right: 1em; text-align: center; vertical-align: top\">0</td>\n",
       "        <td style=\"padding-left: 1em; padding-right: 1em; text-align: center; vertical-align: top\">0</td>\n",
       "        <td style=\"padding-left: 1em; padding-right: 1em; text-align: center; vertical-align: top\">0</td>\n",
       "    </tr>\n",
       "</table>\n",
       "<table frame=\"box\" rules=\"cols\">\n",
       "    <tr>\n",
       "        <th style=\"padding-left: 1em; padding-right: 1em; text-align: center\">amazing</th>\n",
       "        <th style=\"padding-left: 1em; padding-right: 1em; text-align: center\">love</th>\n",
       "        <th style=\"padding-left: 1em; padding-right: 1em; text-align: center\">horrible</th>\n",
       "        <th style=\"padding-left: 1em; padding-right: 1em; text-align: center\">bad</th>\n",
       "        <th style=\"padding-left: 1em; padding-right: 1em; text-align: center\">terrible</th>\n",
       "        <th style=\"padding-left: 1em; padding-right: 1em; text-align: center\">awful</th>\n",
       "        <th style=\"padding-left: 1em; padding-right: 1em; text-align: center\">wow</th>\n",
       "        <th style=\"padding-left: 1em; padding-right: 1em; text-align: center\">hate</th>\n",
       "        <th style=\"padding-left: 1em; padding-right: 1em; text-align: center\">sentiment</th>\n",
       "        <th style=\"padding-left: 1em; padding-right: 1em; text-align: center\">predicted_sentiment</th>\n",
       "    </tr>\n",
       "    <tr>\n",
       "        <td style=\"padding-left: 1em; padding-right: 1em; text-align: center; vertical-align: top\">0</td>\n",
       "        <td style=\"padding-left: 1em; padding-right: 1em; text-align: center; vertical-align: top\">0</td>\n",
       "        <td style=\"padding-left: 1em; padding-right: 1em; text-align: center; vertical-align: top\">0</td>\n",
       "        <td style=\"padding-left: 1em; padding-right: 1em; text-align: center; vertical-align: top\">0</td>\n",
       "        <td style=\"padding-left: 1em; padding-right: 1em; text-align: center; vertical-align: top\">0</td>\n",
       "        <td style=\"padding-left: 1em; padding-right: 1em; text-align: center; vertical-align: top\">0</td>\n",
       "        <td style=\"padding-left: 1em; padding-right: 1em; text-align: center; vertical-align: top\">0</td>\n",
       "        <td style=\"padding-left: 1em; padding-right: 1em; text-align: center; vertical-align: top\">0</td>\n",
       "        <td style=\"padding-left: 1em; padding-right: 1em; text-align: center; vertical-align: top\">1</td>\n",
       "        <td style=\"padding-left: 1em; padding-right: 1em; text-align: center; vertical-align: top\">0.7865572305</td>\n",
       "    </tr>\n",
       "    <tr>\n",
       "        <td style=\"padding-left: 1em; padding-right: 1em; text-align: center; vertical-align: top\">0</td>\n",
       "        <td style=\"padding-left: 1em; padding-right: 1em; text-align: center; vertical-align: top\">0</td>\n",
       "        <td style=\"padding-left: 1em; padding-right: 1em; text-align: center; vertical-align: top\">0</td>\n",
       "        <td style=\"padding-left: 1em; padding-right: 1em; text-align: center; vertical-align: top\">0</td>\n",
       "        <td style=\"padding-left: 1em; padding-right: 1em; text-align: center; vertical-align: top\">0</td>\n",
       "        <td style=\"padding-left: 1em; padding-right: 1em; text-align: center; vertical-align: top\">0</td>\n",
       "        <td style=\"padding-left: 1em; padding-right: 1em; text-align: center; vertical-align: top\">0</td>\n",
       "        <td style=\"padding-left: 1em; padding-right: 1em; text-align: center; vertical-align: top\">0</td>\n",
       "        <td style=\"padding-left: 1em; padding-right: 1em; text-align: center; vertical-align: top\">0</td>\n",
       "        <td style=\"padding-left: 1em; padding-right: 1em; text-align: center; vertical-align: top\">0.7865572305</td>\n",
       "    </tr>\n",
       "    <tr>\n",
       "        <td style=\"padding-left: 1em; padding-right: 1em; text-align: center; vertical-align: top\">0</td>\n",
       "        <td style=\"padding-left: 1em; padding-right: 1em; text-align: center; vertical-align: top\">0</td>\n",
       "        <td style=\"padding-left: 1em; padding-right: 1em; text-align: center; vertical-align: top\">0</td>\n",
       "        <td style=\"padding-left: 1em; padding-right: 1em; text-align: center; vertical-align: top\">0</td>\n",
       "        <td style=\"padding-left: 1em; padding-right: 1em; text-align: center; vertical-align: top\">0</td>\n",
       "        <td style=\"padding-left: 1em; padding-right: 1em; text-align: center; vertical-align: top\">0</td>\n",
       "        <td style=\"padding-left: 1em; padding-right: 1em; text-align: center; vertical-align: top\">0</td>\n",
       "        <td style=\"padding-left: 1em; padding-right: 1em; text-align: center; vertical-align: top\">0</td>\n",
       "        <td style=\"padding-left: 1em; padding-right: 1em; text-align: center; vertical-align: top\">1</td>\n",
       "        <td style=\"padding-left: 1em; padding-right: 1em; text-align: center; vertical-align: top\">0.7865572305</td>\n",
       "    </tr>\n",
       "    <tr>\n",
       "        <td style=\"padding-left: 1em; padding-right: 1em; text-align: center; vertical-align: top\">0</td>\n",
       "        <td style=\"padding-left: 1em; padding-right: 1em; text-align: center; vertical-align: top\">1</td>\n",
       "        <td style=\"padding-left: 1em; padding-right: 1em; text-align: center; vertical-align: top\">0</td>\n",
       "        <td style=\"padding-left: 1em; padding-right: 1em; text-align: center; vertical-align: top\">0</td>\n",
       "        <td style=\"padding-left: 1em; padding-right: 1em; text-align: center; vertical-align: top\">0</td>\n",
       "        <td style=\"padding-left: 1em; padding-right: 1em; text-align: center; vertical-align: top\">0</td>\n",
       "        <td style=\"padding-left: 1em; padding-right: 1em; text-align: center; vertical-align: top\">0</td>\n",
       "        <td style=\"padding-left: 1em; padding-right: 1em; text-align: center; vertical-align: top\">0</td>\n",
       "        <td style=\"padding-left: 1em; padding-right: 1em; text-align: center; vertical-align: top\">1</td>\n",
       "        <td style=\"padding-left: 1em; padding-right: 1em; text-align: center; vertical-align: top\">0.924496074388</td>\n",
       "    </tr>\n",
       "    <tr>\n",
       "        <td style=\"padding-left: 1em; padding-right: 1em; text-align: center; vertical-align: top\">1</td>\n",
       "        <td style=\"padding-left: 1em; padding-right: 1em; text-align: center; vertical-align: top\">0</td>\n",
       "        <td style=\"padding-left: 1em; padding-right: 1em; text-align: center; vertical-align: top\">1</td>\n",
       "        <td style=\"padding-left: 1em; padding-right: 1em; text-align: center; vertical-align: top\">0</td>\n",
       "        <td style=\"padding-left: 1em; padding-right: 1em; text-align: center; vertical-align: top\">0</td>\n",
       "        <td style=\"padding-left: 1em; padding-right: 1em; text-align: center; vertical-align: top\">0</td>\n",
       "        <td style=\"padding-left: 1em; padding-right: 1em; text-align: center; vertical-align: top\">0</td>\n",
       "        <td style=\"padding-left: 1em; padding-right: 1em; text-align: center; vertical-align: top\">0</td>\n",
       "        <td style=\"padding-left: 1em; padding-right: 1em; text-align: center; vertical-align: top\">1</td>\n",
       "        <td style=\"padding-left: 1em; padding-right: 1em; text-align: center; vertical-align: top\">0.554805311627</td>\n",
       "    </tr>\n",
       "    <tr>\n",
       "        <td style=\"padding-left: 1em; padding-right: 1em; text-align: center; vertical-align: top\">0</td>\n",
       "        <td style=\"padding-left: 1em; padding-right: 1em; text-align: center; vertical-align: top\">0</td>\n",
       "        <td style=\"padding-left: 1em; padding-right: 1em; text-align: center; vertical-align: top\">0</td>\n",
       "        <td style=\"padding-left: 1em; padding-right: 1em; text-align: center; vertical-align: top\">1</td>\n",
       "        <td style=\"padding-left: 1em; padding-right: 1em; text-align: center; vertical-align: top\">0</td>\n",
       "        <td style=\"padding-left: 1em; padding-right: 1em; text-align: center; vertical-align: top\">0</td>\n",
       "        <td style=\"padding-left: 1em; padding-right: 1em; text-align: center; vertical-align: top\">0</td>\n",
       "        <td style=\"padding-left: 1em; padding-right: 1em; text-align: center; vertical-align: top\">0</td>\n",
       "        <td style=\"padding-left: 1em; padding-right: 1em; text-align: center; vertical-align: top\">1</td>\n",
       "        <td style=\"padding-left: 1em; padding-right: 1em; text-align: center; vertical-align: top\">0.57381406577</td>\n",
       "    </tr>\n",
       "    <tr>\n",
       "        <td style=\"padding-left: 1em; padding-right: 1em; text-align: center; vertical-align: top\">0</td>\n",
       "        <td style=\"padding-left: 1em; padding-right: 1em; text-align: center; vertical-align: top\">0</td>\n",
       "        <td style=\"padding-left: 1em; padding-right: 1em; text-align: center; vertical-align: top\">0</td>\n",
       "        <td style=\"padding-left: 1em; padding-right: 1em; text-align: center; vertical-align: top\">0</td>\n",
       "        <td style=\"padding-left: 1em; padding-right: 1em; text-align: center; vertical-align: top\">0</td>\n",
       "        <td style=\"padding-left: 1em; padding-right: 1em; text-align: center; vertical-align: top\">0</td>\n",
       "        <td style=\"padding-left: 1em; padding-right: 1em; text-align: center; vertical-align: top\">0</td>\n",
       "        <td style=\"padding-left: 1em; padding-right: 1em; text-align: center; vertical-align: top\">0</td>\n",
       "        <td style=\"padding-left: 1em; padding-right: 1em; text-align: center; vertical-align: top\">0</td>\n",
       "        <td style=\"padding-left: 1em; padding-right: 1em; text-align: center; vertical-align: top\">0.7865572305</td>\n",
       "    </tr>\n",
       "    <tr>\n",
       "        <td style=\"padding-left: 1em; padding-right: 1em; text-align: center; vertical-align: top\">0</td>\n",
       "        <td style=\"padding-left: 1em; padding-right: 1em; text-align: center; vertical-align: top\">0</td>\n",
       "        <td style=\"padding-left: 1em; padding-right: 1em; text-align: center; vertical-align: top\">0</td>\n",
       "        <td style=\"padding-left: 1em; padding-right: 1em; text-align: center; vertical-align: top\">0</td>\n",
       "        <td style=\"padding-left: 1em; padding-right: 1em; text-align: center; vertical-align: top\">0</td>\n",
       "        <td style=\"padding-left: 1em; padding-right: 1em; text-align: center; vertical-align: top\">0</td>\n",
       "        <td style=\"padding-left: 1em; padding-right: 1em; text-align: center; vertical-align: top\">0</td>\n",
       "        <td style=\"padding-left: 1em; padding-right: 1em; text-align: center; vertical-align: top\">0</td>\n",
       "        <td style=\"padding-left: 1em; padding-right: 1em; text-align: center; vertical-align: top\">1</td>\n",
       "        <td style=\"padding-left: 1em; padding-right: 1em; text-align: center; vertical-align: top\">0.7865572305</td>\n",
       "    </tr>\n",
       "    <tr>\n",
       "        <td style=\"padding-left: 1em; padding-right: 1em; text-align: center; vertical-align: top\">0</td>\n",
       "        <td style=\"padding-left: 1em; padding-right: 1em; text-align: center; vertical-align: top\">0</td>\n",
       "        <td style=\"padding-left: 1em; padding-right: 1em; text-align: center; vertical-align: top\">0</td>\n",
       "        <td style=\"padding-left: 1em; padding-right: 1em; text-align: center; vertical-align: top\">0</td>\n",
       "        <td style=\"padding-left: 1em; padding-right: 1em; text-align: center; vertical-align: top\">0</td>\n",
       "        <td style=\"padding-left: 1em; padding-right: 1em; text-align: center; vertical-align: top\">0</td>\n",
       "        <td style=\"padding-left: 1em; padding-right: 1em; text-align: center; vertical-align: top\">0</td>\n",
       "        <td style=\"padding-left: 1em; padding-right: 1em; text-align: center; vertical-align: top\">0</td>\n",
       "        <td style=\"padding-left: 1em; padding-right: 1em; text-align: center; vertical-align: top\">1</td>\n",
       "        <td style=\"padding-left: 1em; padding-right: 1em; text-align: center; vertical-align: top\">0.7865572305</td>\n",
       "    </tr>\n",
       "    <tr>\n",
       "        <td style=\"padding-left: 1em; padding-right: 1em; text-align: center; vertical-align: top\">0</td>\n",
       "        <td style=\"padding-left: 1em; padding-right: 1em; text-align: center; vertical-align: top\">2</td>\n",
       "        <td style=\"padding-left: 1em; padding-right: 1em; text-align: center; vertical-align: top\">0</td>\n",
       "        <td style=\"padding-left: 1em; padding-right: 1em; text-align: center; vertical-align: top\">0</td>\n",
       "        <td style=\"padding-left: 1em; padding-right: 1em; text-align: center; vertical-align: top\">0</td>\n",
       "        <td style=\"padding-left: 1em; padding-right: 1em; text-align: center; vertical-align: top\">0</td>\n",
       "        <td style=\"padding-left: 1em; padding-right: 1em; text-align: center; vertical-align: top\">0</td>\n",
       "        <td style=\"padding-left: 1em; padding-right: 1em; text-align: center; vertical-align: top\">0</td>\n",
       "        <td style=\"padding-left: 1em; padding-right: 1em; text-align: center; vertical-align: top\">1</td>\n",
       "        <td style=\"padding-left: 1em; padding-right: 1em; text-align: center; vertical-align: top\">0.976009901813</td>\n",
       "    </tr>\n",
       "</table>\n",
       "[298 rows x 17 columns]<br/>Note: Only the head of the SFrame is printed.<br/>You can use print_rows(num_rows=m, num_columns=n) to print more rows and columns.\n",
       "</div>"
      ],
      "text/plain": [
       "Columns:\n",
       "\tname\tstr\n",
       "\treview\tstr\n",
       "\trating\tfloat\n",
       "\tword_count\tdict\n",
       "\tawesome\tint\n",
       "\tgreat\tint\n",
       "\tfantastic\tint\n",
       "\tamazing\tint\n",
       "\tlove\tint\n",
       "\thorrible\tint\n",
       "\tbad\tint\n",
       "\tterrible\tint\n",
       "\tawful\tint\n",
       "\twow\tint\n",
       "\thate\tint\n",
       "\tsentiment\tint\n",
       "\tpredicted_sentiment\tfloat\n",
       "\n",
       "Rows: 298\n",
       "\n",
       "Data:\n",
       "+-------------------------+-------------------------------+--------+\n",
       "|           name          |             review            | rating |\n",
       "+-------------------------+-------------------------------+--------+\n",
       "| Baby Trend Diaper Champ | Ok - newsflash.  Diapers a... |  4.0   |\n",
       "| Baby Trend Diaper Champ | My husband and I selected ... |  1.0   |\n",
       "| Baby Trend Diaper Champ | Excellent diaper disposal ... |  5.0   |\n",
       "| Baby Trend Diaper Champ | We love our diaper champ. ... |  5.0   |\n",
       "| Baby Trend Diaper Champ | Two girlfriends and two fa... |  5.0   |\n",
       "| Baby Trend Diaper Champ | I waited to review this un... |  4.0   |\n",
       "| Baby Trend Diaper Champ | I have had a diaper genie ... |  1.0   |\n",
       "| Baby Trend Diaper Champ | I originally put this item... |  5.0   |\n",
       "| Baby Trend Diaper Champ | I am so glad I got the Dia... |  5.0   |\n",
       "| Baby Trend Diaper Champ | We had 2 diaper Genie's bo... |  4.0   |\n",
       "+-------------------------+-------------------------------+--------+\n",
       "+-------------------------------+---------+-------+-----------+---------+------+\n",
       "|           word_count          | awesome | great | fantastic | amazing | love |\n",
       "+-------------------------------+---------+-------+-----------+---------+------+\n",
       "| {'great': 0, 'love': 0, 'h... |    0    |   0   |     0     |    0    |  0   |\n",
       "| {'great': 0, 'love': 0, 'h... |    0    |   0   |     0     |    0    |  0   |\n",
       "| {'great': 0, 'love': 0, 'h... |    0    |   0   |     0     |    0    |  0   |\n",
       "| {'great': 0, 'love': 1, 'h... |    0    |   0   |     0     |    0    |  1   |\n",
       "| {'great': 0, 'love': 0, 'h... |    0    |   0   |     0     |    1    |  0   |\n",
       "| {'great': 0, 'love': 0, 'h... |    0    |   0   |     0     |    0    |  0   |\n",
       "| {'great': 0, 'love': 0, 'h... |    0    |   0   |     0     |    0    |  0   |\n",
       "| {'great': 0, 'love': 0, 'h... |    0    |   0   |     0     |    0    |  0   |\n",
       "| {'great': 0, 'love': 0, 'h... |    0    |   0   |     0     |    0    |  0   |\n",
       "| {'great': 0, 'love': 2, 'h... |    0    |   0   |     0     |    0    |  2   |\n",
       "+-------------------------------+---------+-------+-----------+---------+------+\n",
       "+----------+-----+----------+-------+-----+------+-----------+---------------------+\n",
       "| horrible | bad | terrible | awful | wow | hate | sentiment | predicted_sentiment |\n",
       "+----------+-----+----------+-------+-----+------+-----------+---------------------+\n",
       "|    0     |  0  |    0     |   0   |  0  |  0   |     1     |     0.7865572305    |\n",
       "|    0     |  0  |    0     |   0   |  0  |  0   |     0     |     0.7865572305    |\n",
       "|    0     |  0  |    0     |   0   |  0  |  0   |     1     |     0.7865572305    |\n",
       "|    0     |  0  |    0     |   0   |  0  |  0   |     1     |    0.924496074388   |\n",
       "|    1     |  0  |    0     |   0   |  0  |  0   |     1     |    0.554805311627   |\n",
       "|    0     |  1  |    0     |   0   |  0  |  0   |     1     |    0.57381406577    |\n",
       "|    0     |  0  |    0     |   0   |  0  |  0   |     0     |     0.7865572305    |\n",
       "|    0     |  0  |    0     |   0   |  0  |  0   |     1     |     0.7865572305    |\n",
       "|    0     |  0  |    0     |   0   |  0  |  0   |     1     |     0.7865572305    |\n",
       "|    0     |  0  |    0     |   0   |  0  |  0   |     1     |    0.976009901813   |\n",
       "+----------+-----+----------+-------+-----+------+-----------+---------------------+\n",
       "[298 rows x 17 columns]\n",
       "Note: Only the head of the SFrame is printed.\n",
       "You can use print_rows(num_rows=m, num_columns=n) to print more rows and columns."
      ]
     },
     "execution_count": 14,
     "metadata": {},
     "output_type": "execute_result"
    }
   ],
   "source": [
    "baby_diaper = product[product[\"name\"] == \"Baby Trend Diaper Champ\"]\n",
    "baby_diaper['predicted_sentiment'] = selected_words_model.predict(baby_diaper, output_type='probability')\n",
    "baby_diaper"
   ]
  },
  {
   "cell_type": "code",
   "execution_count": 15,
   "metadata": {
    "collapsed": false
   },
   "outputs": [
    {
     "data": {
      "application/javascript": [
       "$(\"head\").append($(\"<link/>\").attr({\n",
       "  rel:  \"stylesheet\",\n",
       "  type: \"text/css\",\n",
       "  href: \"//cdnjs.cloudflare.com/ajax/libs/font-awesome/4.1.0/css/font-awesome.min.css\"\n",
       "}));\n",
       "$(\"head\").append($(\"<link/>\").attr({\n",
       "  rel:  \"stylesheet\",\n",
       "  type: \"text/css\",\n",
       "  href: \"https://static.turi.com/products/graphlab-create/2.1/canvas/css/canvas.css\"\n",
       "}));\n",
       "\n",
       "            (function(){\n",
       "\n",
       "                var e = null;\n",
       "                if (typeof element == 'undefined') {\n",
       "                    var scripts = document.getElementsByTagName('script');\n",
       "                    var thisScriptTag = scripts[scripts.length-1];\n",
       "                    var parentDiv = thisScriptTag.parentNode;\n",
       "                    e = document.createElement('div');\n",
       "                    parentDiv.appendChild(e);\n",
       "                } else {\n",
       "                    e = element[0];\n",
       "                }\n",
       "\n",
       "                if (typeof requirejs !== 'undefined') {\n",
       "                    // disable load timeout; ipython_app.js is large and can take a while to load.\n",
       "                    requirejs.config({waitSeconds: 0});\n",
       "                }\n",
       "\n",
       "                require(['https://static.turi.com/products/graphlab-create/2.1/canvas/js/ipython_app.js'], function(IPythonApp){\n",
       "                    var app = new IPythonApp();\n",
       "                    app.attachView('sarray','Categorical', {\"ipython\": true, \"sketch\": {\"std\": 1.3302353729587986, \"complete\": true, \"min\": 1.0, \"max\": 5.0, \"quantile\": [1.0, 1.0, 1.0, 1.0, 1.0, 1.0, 1.0, 1.0, 1.0, 1.0, 1.0, 2.0, 2.0, 2.0, 2.0, 2.0, 2.0, 4.0, 4.0, 4.0, 4.0, 4.0, 4.0, 4.0, 4.0, 4.0, 4.0, 4.0, 4.0, 4.0, 4.0, 4.0, 4.0, 4.0, 4.0, 4.0, 4.0, 5.0, 5.0, 5.0, 5.0, 5.0, 5.0, 5.0, 5.0, 5.0, 5.0, 5.0, 5.0, 5.0, 5.0, 5.0, 5.0, 5.0, 5.0, 5.0, 5.0, 5.0, 5.0, 5.0, 5.0, 5.0, 5.0, 5.0, 5.0, 5.0, 5.0, 5.0, 5.0, 5.0, 5.0, 5.0, 5.0, 5.0, 5.0, 5.0, 5.0, 5.0, 5.0, 5.0, 5.0, 5.0, 5.0, 5.0, 5.0, 5.0, 5.0, 5.0, 5.0, 5.0, 5.0, 5.0, 5.0, 5.0, 5.0, 5.0, 5.0, 5.0, 5.0, 5.0, 5.0], \"median\": 5.0, \"numeric\": true, \"num_unique\": 4, \"num_undefined\": 0, \"var\": 1.7695261474708341, \"progress\": 1.0, \"size\": 298, \"frequent_items\": {\"1.0\": {\"frequency\": 30, \"value\": 1.0}, \"2.0\": {\"frequency\": 20, \"value\": 2.0}, \"4.0\": {\"frequency\": 59, \"value\": 4.0}, \"5.0\": {\"frequency\": 189, \"value\": 5.0}}, \"mean\": 4.197986577181208}, \"selected_variable\": {\"name\": [\"<SArray>\"], \"dtype\": \"float\", \"view_component\": \"Categorical\", \"view_file\": \"sarray\", \"descriptives\": {\"rows\": 298}, \"type\": \"SArray\", \"view_components\": [\"Numeric\", \"Categorical\"]}, \"histogram\": {\"progress\": 1.0, \"histogram\": {\"max\": 5.0200000000000005, \"bins\": [30, 0, 0, 20, 0, 0, 0, 0, 59, 0, 0, 189], \"min\": 0.988}, \"min\": 1.0, \"complete\": 1, \"max\": 5.0}}, e);\n",
       "                });\n",
       "            })();\n",
       "        "
      ]
     },
     "metadata": {},
     "output_type": "display_data"
    }
   ],
   "source": [
    "baby_diaper['rating'].show(view='Categorical')"
   ]
  },
  {
   "cell_type": "code",
   "execution_count": 16,
   "metadata": {
    "collapsed": false
   },
   "outputs": [
    {
     "data": {
      "text/html": [
       "<div style=\"max-height:1000px;max-width:1500px;overflow:auto;\"><table frame=\"box\" rules=\"cols\">\n",
       "    <tr>\n",
       "        <th style=\"padding-left: 1em; padding-right: 1em; text-align: center\">name</th>\n",
       "        <th style=\"padding-left: 1em; padding-right: 1em; text-align: center\">review</th>\n",
       "        <th style=\"padding-left: 1em; padding-right: 1em; text-align: center\">rating</th>\n",
       "        <th style=\"padding-left: 1em; padding-right: 1em; text-align: center\">word_count</th>\n",
       "        <th style=\"padding-left: 1em; padding-right: 1em; text-align: center\">awesome</th>\n",
       "        <th style=\"padding-left: 1em; padding-right: 1em; text-align: center\">great</th>\n",
       "        <th style=\"padding-left: 1em; padding-right: 1em; text-align: center\">fantastic</th>\n",
       "    </tr>\n",
       "    <tr>\n",
       "        <td style=\"padding-left: 1em; padding-right: 1em; text-align: center; vertical-align: top\">Baby Trend Diaper Champ</td>\n",
       "        <td style=\"padding-left: 1em; padding-right: 1em; text-align: center; vertical-align: top\">Baby Luke can turn a<br>clean diaper to a dirty ...</td>\n",
       "        <td style=\"padding-left: 1em; padding-right: 1em; text-align: center; vertical-align: top\">5.0</td>\n",
       "        <td style=\"padding-left: 1em; padding-right: 1em; text-align: center; vertical-align: top\">{'great': 0, 'love': 1,<br>'hate': 0, 'awesome': 0, ...</td>\n",
       "        <td style=\"padding-left: 1em; padding-right: 1em; text-align: center; vertical-align: top\">0</td>\n",
       "        <td style=\"padding-left: 1em; padding-right: 1em; text-align: center; vertical-align: top\">0</td>\n",
       "        <td style=\"padding-left: 1em; padding-right: 1em; text-align: center; vertical-align: top\">0</td>\n",
       "    </tr>\n",
       "</table>\n",
       "<table frame=\"box\" rules=\"cols\">\n",
       "    <tr>\n",
       "        <th style=\"padding-left: 1em; padding-right: 1em; text-align: center\">amazing</th>\n",
       "        <th style=\"padding-left: 1em; padding-right: 1em; text-align: center\">love</th>\n",
       "        <th style=\"padding-left: 1em; padding-right: 1em; text-align: center\">horrible</th>\n",
       "        <th style=\"padding-left: 1em; padding-right: 1em; text-align: center\">bad</th>\n",
       "        <th style=\"padding-left: 1em; padding-right: 1em; text-align: center\">terrible</th>\n",
       "        <th style=\"padding-left: 1em; padding-right: 1em; text-align: center\">awful</th>\n",
       "        <th style=\"padding-left: 1em; padding-right: 1em; text-align: center\">wow</th>\n",
       "        <th style=\"padding-left: 1em; padding-right: 1em; text-align: center\">hate</th>\n",
       "        <th style=\"padding-left: 1em; padding-right: 1em; text-align: center\">sentiment</th>\n",
       "        <th style=\"padding-left: 1em; padding-right: 1em; text-align: center\">predicted_sentiment</th>\n",
       "    </tr>\n",
       "    <tr>\n",
       "        <td style=\"padding-left: 1em; padding-right: 1em; text-align: center; vertical-align: top\">0</td>\n",
       "        <td style=\"padding-left: 1em; padding-right: 1em; text-align: center; vertical-align: top\">1</td>\n",
       "        <td style=\"padding-left: 1em; padding-right: 1em; text-align: center; vertical-align: top\">0</td>\n",
       "        <td style=\"padding-left: 1em; padding-right: 1em; text-align: center; vertical-align: top\">0</td>\n",
       "        <td style=\"padding-left: 1em; padding-right: 1em; text-align: center; vertical-align: top\">0</td>\n",
       "        <td style=\"padding-left: 1em; padding-right: 1em; text-align: center; vertical-align: top\">0</td>\n",
       "        <td style=\"padding-left: 1em; padding-right: 1em; text-align: center; vertical-align: top\">0</td>\n",
       "        <td style=\"padding-left: 1em; padding-right: 1em; text-align: center; vertical-align: top\">0</td>\n",
       "        <td style=\"padding-left: 1em; padding-right: 1em; text-align: center; vertical-align: top\">1</td>\n",
       "        <td style=\"padding-left: 1em; padding-right: 1em; text-align: center; vertical-align: top\">0.924496074388</td>\n",
       "    </tr>\n",
       "</table>\n",
       "[? rows x 17 columns]<br/>Note: Only the head of the SFrame is printed. This SFrame is lazily evaluated.<br/>You can use sf.materialize() to force materialization.\n",
       "</div>"
      ],
      "text/plain": [
       "Columns:\n",
       "\tname\tstr\n",
       "\treview\tstr\n",
       "\trating\tfloat\n",
       "\tword_count\tdict\n",
       "\tawesome\tint\n",
       "\tgreat\tint\n",
       "\tfantastic\tint\n",
       "\tamazing\tint\n",
       "\tlove\tint\n",
       "\thorrible\tint\n",
       "\tbad\tint\n",
       "\tterrible\tint\n",
       "\tawful\tint\n",
       "\twow\tint\n",
       "\thate\tint\n",
       "\tsentiment\tint\n",
       "\tpredicted_sentiment\tfloat\n",
       "\n",
       "Rows: Unknown\n",
       "\n",
       "Data:\n",
       "+-------------------------+-------------------------------+--------+\n",
       "|           name          |             review            | rating |\n",
       "+-------------------------+-------------------------------+--------+\n",
       "| Baby Trend Diaper Champ | Baby Luke can turn a clean... |  5.0   |\n",
       "+-------------------------+-------------------------------+--------+\n",
       "+-------------------------------+---------+-------+-----------+---------+------+\n",
       "|           word_count          | awesome | great | fantastic | amazing | love |\n",
       "+-------------------------------+---------+-------+-----------+---------+------+\n",
       "| {'great': 0, 'love': 1, 'h... |    0    |   0   |     0     |    0    |  1   |\n",
       "+-------------------------------+---------+-------+-----------+---------+------+\n",
       "+----------+-----+----------+-------+-----+------+-----------+---------------------+\n",
       "| horrible | bad | terrible | awful | wow | hate | sentiment | predicted_sentiment |\n",
       "+----------+-----+----------+-------+-----+------+-----------+---------------------+\n",
       "|    0     |  0  |    0     |   0   |  0  |  0   |     1     |    0.924496074388   |\n",
       "+----------+-----+----------+-------+-----+------+-----------+---------------------+\n",
       "[? rows x 17 columns]\n",
       "Note: Only the head of the SFrame is printed. This SFrame is lazily evaluated.\n",
       "You can use sf.materialize() to force materialization."
      ]
     },
     "execution_count": 16,
     "metadata": {},
     "output_type": "execute_result"
    }
   ],
   "source": [
    "baby_diaper[baby_diaper[\"review\"].contains(\"Baby Luke\")]"
   ]
  }
 ],
 "metadata": {
  "kernelspec": {
   "display_name": "Python 2",
   "language": "python",
   "name": "python2"
  },
  "language_info": {
   "codemirror_mode": {
    "name": "ipython",
    "version": 2
   },
   "file_extension": ".py",
   "mimetype": "text/x-python",
   "name": "python",
   "nbconvert_exporter": "python",
   "pygments_lexer": "ipython2",
   "version": "2.7.13"
  }
 },
 "nbformat": 4,
 "nbformat_minor": 0
}
